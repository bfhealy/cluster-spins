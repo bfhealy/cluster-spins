{
 "cells": [
  {
   "cell_type": "code",
   "execution_count": 1,
   "metadata": {},
   "outputs": [],
   "source": [
    "import emcee\n",
    "from astropy.io import ascii\n",
    "import matplotlib.pyplot as plt\n",
    "import numpy as np\n",
    "from scipy.ndimage import gaussian_filter1d\n",
    "from scipy.signal import find_peaks,argrelmin\n",
    "from scipy.stats import median_absolute_deviation\n",
    "import eleanor\n",
    "import urllib\n",
    "import numpy as np\n",
    "import matplotlib.pyplot as plt\n",
    "import lightkurve as lk\n",
    "from lightkurve import TessTargetPixelFile\n",
    "import eleanor\n",
    "from astropy.io import ascii,fits\n",
    "from astropy.table import Table,join\n",
    "import astropy.units as u\n",
    "import bokeh\n",
    "import sys\n",
    "from scipy.signal import savgol_filter\n",
    "from requests.exceptions import HTTPError\n",
    "import matplotlib.gridspec as gridspec\n",
    "plt.rcParams['font.size']=12\n",
    "import glob\n",
    "from PyPDF2 import PdfFileMerger,PdfFileReader\n",
    "\n",
    "\n",
    "def get_acf_period(lc):\n",
    "    #t = data['time']\n",
    "    #y = (data['flux'] - 1) * 1e3\n",
    "    #yerr = (data['flux_err']) * 1e3\n",
    "\n",
    "    t = lc.time\n",
    "    y = (lc.flux-1) * 1e3\n",
    "    #print(y)\n",
    "    yerr = lc.flux_err * 1e3\n",
    "\n",
    "    delta_t = np.median(np.diff(t))\n",
    "    new_t = np.arange(t.min(), t.max(), delta_t)\n",
    "    y_interp = np.interp(new_t, t, y)\n",
    "    emp_acorr = emcee.autocorr.function_1d(y_interp) #* np.var(y_interp)\n",
    "\n",
    "    #emp_acorr = emcee.autocorr.function_1d(y) * np.var(y)\n",
    "\n",
    "    new_f = np.zeros(len(new_t))\n",
    "\n",
    "    for i in range(len(lc.time)):\n",
    "        t_diffs = np.abs(new_t - t[i])\n",
    "        minindx = np.argmin(t_diffs)\n",
    "        new_f[minindx] = y[i]\n",
    "\n",
    "    #emp_acorr = emcee.autocorr.function_1d(y_interp)\n",
    "    emp_acorr = emcee.autocorr.function_1d(new_f)\n",
    "\n",
    "    #tau = np.arange(len(emp_acorr)) * delta_t\n",
    "\n",
    "    emp_acorr_smooth = gaussian_filter1d(emp_acorr,350*delta_t)\n",
    "    #print(emp_acorr_smooth)\n",
    "    peakinds = find_peaks(emp_acorr_smooth)[0]\n",
    "    peakvals = emp_acorr_smooth[peakinds]\n",
    "    #print(peakinds)\n",
    "    valinds = argrelmin(emp_acorr_smooth)[0]\n",
    "    #print(valinds)\n",
    "\n",
    "    tau = np.arange(len(emp_acorr_smooth)) * delta_t\n",
    "\n",
    "    #emp_acorr_smooth[peakinds[0]] - emp_acorr_smooth[peakinds[1]] > 0\n",
    "    peakheights = np.zeros(len(peakinds)-1)\n",
    "    for i in range(len(peakinds)-1):\n",
    "        peakheights[i] = np.mean((emp_acorr_smooth[peakinds[i]]-emp_acorr_smooth[valinds[i]], emp_acorr_smooth[peakinds[i]]-emp_acorr_smooth[valinds[i+1]]))\n",
    "\n",
    "    #print(peakheights)\n",
    "    #if len(peakheights) == 0:\n",
    "\n",
    "    maxindx = np.argmax(peakheights)\n",
    "    if maxindx == 1:\n",
    "        maxindx = 1\n",
    "        #print('!')\n",
    "\n",
    "    elif maxindx != 1:\n",
    "        maxindx = 0\n",
    "\n",
    "    period=tau[peakinds[maxindx]]\n",
    "    #print(period)\n",
    "    maxheight=peakheights[maxindx]\n",
    "    maxpeakval=peakvals[maxindx]\n",
    "\n",
    "\n",
    "    integerinds = np.array([2,3,4,5],dtype=int)\n",
    "    integermults = [period * n for n in range(2,6)]\n",
    "\n",
    "    tau_prev = period\n",
    "    periodmults = np.array([])\n",
    "    linfit_peakinds = np.array([],dtype=int)\n",
    "    peakdiffs = np.zeros(len(peakinds)-1)\n",
    "    n = 1\n",
    "    #for i in range(len(integermults)):\n",
    "    #    for j in range(len(peakinds)):\n",
    "    #        if (np.abs(integermults[i] - tau[peakinds[j]])/period <= 0.1) & ((tau[peakinds[j]]-tau_prev) > 0.5*period):\n",
    "    #            #print(i,j)\n",
    "    #            periodmults = np.concatenate((periodmults,[tau[peakinds[j]]]))\n",
    "    #            tau_prev = tau[peakinds[j]]\n",
    "    #            linfit_peakinds = np.concatenate((linfit_peakinds,[np.int(j)]))\n",
    "    #            n += 1\n",
    "\n",
    "    for i in range(len(integermults)):\n",
    "        for j in range(len(peakinds)-1):\n",
    "            peakdiffs[j] = np.abs(integermults[i] - tau[peakinds[j]])/period\n",
    "        if np.min(peakdiffs) <= 0.2: # change to 0.2?\n",
    "            jj = np.argmin(peakdiffs)\n",
    "            if peakheights[jj]>= 0.1:\n",
    "                periodmults = np.concatenate((periodmults,[tau[peakinds[jj]]]))\n",
    "            #linfit_peakinds = np.concatenate((linfit_peakinds,[np.int(jj)]))\n",
    "                linfit_peakinds = np.concatenate((linfit_peakinds,[integerinds[i]]))\n",
    "                n += 1\n",
    "            #if (np.abs(integermults[i] - tau[peakinds[j]])/period <= 0.1) & ((tau[peakinds[j]]-tau_prev) > 0.5*period):\n",
    "                #print(i,j)\n",
    "                #periodmults = np.concatenate((periodmults,[tau[peakinds[j]]]))\n",
    "                #tau_prev = tau[peakinds[j]]\n",
    "                #linfit_peakinds = np.concatenate((linfit_peakinds,[np.int(j)]))\n",
    "\n",
    "\n",
    "\n",
    "    tauslice = tau[valinds[maxindx]:valinds[maxindx+1]]\n",
    "    acfslice = emp_acorr_smooth[valinds[maxindx]:valinds[maxindx+1]]\n",
    "    #plt.plot(tauslice,acfslice)\n",
    "    halfheight = maxheight/2\n",
    "    halfheightval = maxpeakval - halfheight\n",
    "    #if maxheight <0:\n",
    "    #    halfmax = maxheight*2\n",
    "    #if maxheight < 0:\n",
    "    #    halfmax = maxheight*2\n",
    "    #print(halfmax)\n",
    "    #print(acfslice)\n",
    "    #absdiffs = np.abs(maxheight/2 - acfslice)\n",
    "    absdiffs = np.abs(halfheightval - acfslice)\n",
    "    #print(absdiffs)\n",
    "    #print(absdiffs)\n",
    "    #print(maxheight)\n",
    "    #print(acfslice)\n",
    "    minval1 = np.argmin(absdiffs)\n",
    "    absdiffs=np.delete(absdiffs,minval1)\n",
    "    minval2 = np.argmin(absdiffs)\n",
    "    #print(minval1,minval2)\n",
    "    #print(tauslice)\n",
    "    #print(tauslice[minval1])\n",
    "    #\n",
    "    sigma_from_fwhm = (np.abs(period - tauslice[minval1]) + np.abs(period - tauslice[minval2]))/2.35482004503\n",
    "    if (minval1 == minval2) | (minval1 == minval2+1) | (minval1 == minval2-1):\n",
    "            #print('!!!')\n",
    "            sigma_from_fwhm = (np.abs(period - tauslice[minval1]) * 2)/2.35482004503\n",
    "            #print(period)\n",
    "            ##print(tauslice[minval1])\n",
    "            #print(sigma_from_fwhm)\n",
    "\n",
    "    #print(sigma_from_fwhm)\n",
    "\n",
    "    linfit_peakinds = np.concatenate(([maxindx],linfit_peakinds))\n",
    "    #linfit_peakinds += 1\n",
    "    linfit_peakinds = np.concatenate(([0],linfit_peakinds))\n",
    "    #if linfit_peakinds[1] == 2:\n",
    "    #    linfit_peakinds = linfit_peakinds / 2\n",
    "    #print(linfit_peakinds)\n",
    "    if linfit_peakinds[1] == 0:\n",
    "        linfit_peakinds[1] = 1\n",
    "\n",
    "    #print(np.str(n))\n",
    "    if (n == 1) | (np.sum(np.diff(np.diff(linfit_peakinds)))) != 0:\n",
    "        #print('X')\n",
    "        periodmults = np.array([0,period])\n",
    "        period_unc = sigma_from_fwhm\n",
    "        finalperiod = period\n",
    "\n",
    "    elif n > 1:\n",
    "        #print('!')\n",
    "        periodmults = np.concatenate(([0,period],periodmults))\n",
    "        period_diffs = np.diff(periodmults)\n",
    "        #print(period_diffs)\n",
    "        #finalperiod = np.median(period_diffs)\n",
    "        finalperiod = np.polyfit(linfit_peakinds,periodmults,1)[0]\n",
    "        #print(linfit_peakinds)\n",
    "        #print(periodmults)\n",
    "\n",
    "\n",
    "        #print(median_absolute_deviation(period_diffs))\n",
    "        #print(np.std(period_diffs))\n",
    "        #print(n)\n",
    "        \n",
    "        period_unc = 1.483* median_absolute_deviation(period_diffs) / np.sqrt(n-1)\n",
    "        if period_unc == 0:\n",
    "            period_unc = np.std(period_diffs) / np.sqrt(n-1)\n",
    "        #period_unc = sigma_from_fwhm\n",
    "\n",
    "\n",
    "    return finalperiod, period_unc, tau, emp_acorr_smooth, peakinds, valinds, maxheight, periodmults\n",
    "#plt.rcParams['font.size']=16"
   ]
  },
  {
   "cell_type": "code",
   "execution_count": 2,
   "metadata": {},
   "outputs": [],
   "source": [
    "def get_acf_period(lc,smth):\n",
    "    #t = data['time']\n",
    "    #y = (data['flux'] - 1) * 1e3\n",
    "    #yerr = (data['flux_err']) * 1e3\n",
    "\n",
    "    t = lc.time\n",
    "    y = (lc.flux-1) * 1e3\n",
    "    #print(y)\n",
    "    yerr = lc.flux_err * 1e3\n",
    "\n",
    "    delta_t = np.median(np.diff(t))\n",
    "    new_t = np.arange(t.min(), t.max(), delta_t)\n",
    "    y_interp = np.interp(new_t, t, y)\n",
    "    emp_acorr = emcee.autocorr.function_1d(y_interp) #* np.var(y_interp)\n",
    "\n",
    "    #emp_acorr = emcee.autocorr.function_1d(y) * np.var(y)\n",
    "\n",
    "    new_f = np.zeros(len(new_t))\n",
    "\n",
    "    for i in range(len(lc.time)):\n",
    "        t_diffs = np.abs(new_t - t[i])\n",
    "        minindx = np.argmin(t_diffs)\n",
    "        new_f[minindx] = y[i]\n",
    "\n",
    "    #emp_acorr = emcee.autocorr.function_1d(y_interp)\n",
    "    emp_acorr = emcee.autocorr.function_1d(new_f)\n",
    "\n",
    "    #tau = np.arange(len(emp_acorr)) * delta_t\n",
    "\n",
    "    emp_acorr_smooth = gaussian_filter1d(emp_acorr, smth*delta_t)\n",
    "    #print(emp_acorr_smooth)\n",
    "    peakinds = find_peaks(emp_acorr_smooth)[0]\n",
    "    peakvals = emp_acorr_smooth[peakinds]\n",
    "    #print(peakinds)\n",
    "    valinds = argrelmin(emp_acorr_smooth)[0]\n",
    "    #print(valinds)\n",
    "\n",
    "    tau = np.arange(len(emp_acorr_smooth)) * delta_t\n",
    "\n",
    "    #emp_acorr_smooth[peakinds[0]] - emp_acorr_smooth[peakinds[1]] > 0\n",
    "    peakheights = np.zeros(len(peakinds)-1)\n",
    "    for i in range(len(peakinds)-1):\n",
    "        peakheights[i] = np.mean((emp_acorr_smooth[peakinds[i]]-emp_acorr_smooth[valinds[i]], emp_acorr_smooth[peakinds[i]]-emp_acorr_smooth[valinds[i+1]]))\n",
    "\n",
    "    #print(peakheights)\n",
    "    #if len(peakheights) == 0:\n",
    "\n",
    "    maxindx = np.argmax(peakheights)\n",
    "    if maxindx == 1:\n",
    "        maxindx = 1\n",
    "        #print('!')\n",
    "\n",
    "    elif maxindx != 1:\n",
    "        maxindx = 0\n",
    "\n",
    "    period=tau[peakinds[maxindx]]\n",
    "    #print(period)\n",
    "    maxheight=peakheights[maxindx]\n",
    "    maxpeakval=peakvals[maxindx]\n",
    "\n",
    "\n",
    "    integerinds = np.array([2,3,4,5],dtype=int)\n",
    "    integermults = [period * n for n in range(2,6)]\n",
    "\n",
    "    tau_prev = period\n",
    "    periodmults = np.array([])\n",
    "    linfit_peakinds = np.array([],dtype=int)\n",
    "    peakdiffs = np.zeros(len(peakinds)-1)\n",
    "    n = 1\n",
    "    #for i in range(len(integermults)):\n",
    "    #    for j in range(len(peakinds)):\n",
    "    #        if (np.abs(integermults[i] - tau[peakinds[j]])/period <= 0.1) & ((tau[peakinds[j]]-tau_prev) > 0.5*period):\n",
    "    #            #print(i,j)\n",
    "    #            periodmults = np.concatenate((periodmults,[tau[peakinds[j]]]))\n",
    "    #            tau_prev = tau[peakinds[j]]\n",
    "    #            linfit_peakinds = np.concatenate((linfit_peakinds,[np.int(j)]))\n",
    "    #            n += 1\n",
    "\n",
    "    for i in range(len(integermults)):\n",
    "        for j in range(len(peakinds)-1):\n",
    "            peakdiffs[j] = np.abs(integermults[i] - tau[peakinds[j]])/period\n",
    "        if np.min(peakdiffs) <= 0.2: # change to 0.2?\n",
    "            jj = np.argmin(peakdiffs)\n",
    "            if (peakheights[jj]>= 0.5 * maxheight) | (peakheights[jj] >= 0.1): #0.1:\n",
    "                periodmults = np.concatenate((periodmults,[tau[peakinds[jj]]]))\n",
    "            #linfit_peakinds = np.concatenate((linfit_peakinds,[np.int(jj)]))\n",
    "                linfit_peakinds = np.concatenate((linfit_peakinds,[integerinds[i]]))\n",
    "                n += 1\n",
    "            #if (np.abs(integermults[i] - tau[peakinds[j]])/period <= 0.1) & ((tau[peakinds[j]]-tau_prev) > 0.5*period):\n",
    "                #print(i,j)\n",
    "                #periodmults = np.concatenate((periodmults,[tau[peakinds[j]]]))\n",
    "                #tau_prev = tau[peakinds[j]]\n",
    "                #linfit_peakinds = np.concatenate((linfit_peakinds,[np.int(j)]))\n",
    "\n",
    "\n",
    "\n",
    "    tauslice = tau[valinds[maxindx]:valinds[maxindx+1]]\n",
    "    acfslice = emp_acorr_smooth[valinds[maxindx]:valinds[maxindx+1]]\n",
    "    #plt.plot(tauslice,acfslice)\n",
    "    halfheight = maxheight/2\n",
    "    halfheightval = maxpeakval - halfheight\n",
    "    #if maxheight <0:\n",
    "    #    halfmax = maxheight*2\n",
    "    #if maxheight < 0:\n",
    "    #    halfmax = maxheight*2\n",
    "    #print(halfmax)\n",
    "    #print(acfslice)\n",
    "    #absdiffs = np.abs(maxheight/2 - acfslice)\n",
    "    absdiffs = np.abs(halfheightval - acfslice)\n",
    "    #print(absdiffs)\n",
    "    #print(absdiffs)\n",
    "    #print(maxheight)\n",
    "    #print(acfslice)\n",
    "    minval1 = np.argmin(absdiffs)\n",
    "    absdiffs=np.delete(absdiffs,minval1)\n",
    "    minval2 = np.argmin(absdiffs)\n",
    "    #print(minval1,minval2)\n",
    "    #print(tauslice)\n",
    "    #print(tauslice[minval1])\n",
    "    #\n",
    "    sigma_from_fwhm = (np.abs(period - tauslice[minval1]) + np.abs(period - tauslice[minval2]))/2.35482004503\n",
    "    if (minval1 == minval2) | (minval1 == minval2+1) | (minval1 == minval2-1):\n",
    "            #print('!!!')\n",
    "            sigma_from_fwhm = (np.abs(period - tauslice[minval1]) * 2)/2.35482004503\n",
    "            #print(period)\n",
    "            ##print(tauslice[minval1])\n",
    "            #print(sigma_from_fwhm)\n",
    "\n",
    "    #print(sigma_from_fwhm)\n",
    "\n",
    "    linfit_peakinds = np.concatenate(([maxindx],linfit_peakinds))\n",
    "    #linfit_peakinds += 1\n",
    "    linfit_peakinds = np.concatenate(([0],linfit_peakinds))\n",
    "    #if linfit_peakinds[1] == 2:\n",
    "    #    linfit_peakinds = linfit_peakinds / 2\n",
    "    #print(linfit_peakinds)\n",
    "    if linfit_peakinds[1] == 0:\n",
    "        linfit_peakinds[1] = 1\n",
    "\n",
    "    #print(np.str(n))\n",
    "    if (n == 1) | (np.sum(np.diff(np.diff(linfit_peakinds)))) != 0:\n",
    "        #print('X')\n",
    "        periodmults = np.array([0,period])\n",
    "        period_unc = sigma_from_fwhm\n",
    "        finalperiod = period\n",
    "\n",
    "    elif n > 1:\n",
    "        #print('!')\n",
    "        periodmults = np.concatenate(([0,period],periodmults))\n",
    "        period_diffs = np.diff(periodmults)\n",
    "        #print(period_diffs)\n",
    "        #finalperiod = np.median(period_diffs)\n",
    "        finalperiod = np.polyfit(linfit_peakinds,periodmults,1)[0]\n",
    "        #print(linfit_peakinds)\n",
    "        #print(periodmults)\n",
    "\n",
    "\n",
    "        #print(median_absolute_deviation(period_diffs))\n",
    "        #print(np.std(period_diffs))\n",
    "        #print(n)\n",
    "        period_unc = 1.483* median_absolute_deviation(period_diffs) / np.sqrt(n-1)\n",
    "        if period_unc == 0:\n",
    "            period_unc = np.std(period_diffs) / np.sqrt(n-1)\n",
    "        \n",
    "        #period_unc = sigma_from_fwhm\n",
    "\n",
    "\n",
    "    return finalperiod, period_unc, tau, emp_acorr_smooth, peakinds, valinds, maxheight, periodmults\n"
   ]
  },
  {
   "cell_type": "code",
   "execution_count": 281,
   "metadata": {},
   "outputs": [],
   "source": [
    "def get_acf_period(lc,smth=350):\n",
    "    #t = data['time']\n",
    "    #y = (data['flux'] - 1) * 1e3\n",
    "    #yerr = (data['flux_err']) * 1e3\n",
    "\n",
    "    t = lc.time\n",
    "    y = (lc.flux-1) * 1e3\n",
    "    #print(y)\n",
    "    yerr = lc.flux_err * 1e3\n",
    "\n",
    "    delta_t = np.median(np.diff(t))\n",
    "    new_t = np.arange(t.min(), t.max(), delta_t)\n",
    "    y_interp = np.interp(new_t, t, y)\n",
    "    emp_acorr = emcee.autocorr.function_1d(y_interp) #* np.var(y_interp)\n",
    "\n",
    "    #emp_acorr = emcee.autocorr.function_1d(y) * np.var(y)\n",
    "\n",
    "    new_f = np.zeros(len(new_t))\n",
    "\n",
    "    for i in range(len(lc.time)):\n",
    "        t_diffs = np.abs(new_t - t[i])\n",
    "        minindx = np.argmin(t_diffs)\n",
    "        new_f[minindx] = y[i]\n",
    "\n",
    "    #emp_acorr = emcee.autocorr.function_1d(y_interp)\n",
    "    emp_acorr = emcee.autocorr.function_1d(new_f)\n",
    "\n",
    "    #tau = np.arange(len(emp_acorr)) * delta_t\n",
    "\n",
    "    #print(smth)\n",
    "\n",
    "    emp_acorr_smooth = gaussian_filter1d(emp_acorr,smth*delta_t)\n",
    "    #emp_acorr_smooth = gaussian_filter1d(emp_acorr,150*delta_t)\n",
    "\n",
    "    #print(emp_acorr_smooth)\n",
    "    peakinds = find_peaks(emp_acorr_smooth)[0]\n",
    "    peakvals = emp_acorr_smooth[peakinds]\n",
    "    #print(peakinds)\n",
    "    valinds = argrelmin(emp_acorr_smooth)[0]\n",
    "    #print(valinds)\n",
    "\n",
    "    tau = np.arange(len(emp_acorr_smooth)) * delta_t\n",
    "\n",
    "    #emp_acorr_smooth[peakinds[0]] - emp_acorr_smooth[peakinds[1]] > 0\n",
    "    peakheights = np.zeros(len(peakinds)-1)\n",
    "    for i in range(len(peakinds)-1):\n",
    "        peakheights[i] = np.mean((emp_acorr_smooth[peakinds[i]]-emp_acorr_smooth[valinds[i]], emp_acorr_smooth[peakinds[i]]-emp_acorr_smooth[valinds[i+1]]))\n",
    "\n",
    "    #print(peakheights)\n",
    "\n",
    "    if len(peakheights) != 0:\n",
    "\n",
    "        maxindx = np.argmax(peakheights)\n",
    "\n",
    "        if maxindx == 1:\n",
    "            maxindx = 1\n",
    "            #print('!')\n",
    "\n",
    "        elif maxindx != 1:\n",
    "            maxindx = 0\n",
    "\n",
    "        period=tau[peakinds[maxindx]]\n",
    "        #print(period)\n",
    "        maxheight=peakheights[maxindx]\n",
    "        maxpeakval=peakvals[maxindx]\n",
    "\n",
    "\n",
    "        integerinds = np.array([2,3,4,5],dtype=int)\n",
    "        integermults = [period * n for n in range(2,6)]\n",
    "\n",
    "        tau_prev = period\n",
    "        periodmults = np.array([])\n",
    "        linfit_peakinds = np.array([],dtype=int)\n",
    "        peakdiffs = np.zeros(len(peakinds)-1)\n",
    "        n = 1\n",
    "        #for i in range(len(integermults)):\n",
    "        #    for j in range(len(peakinds)):\n",
    "        #        if (np.abs(integermults[i] - tau[peakinds[j]])/period <= 0.1) & ((tau[peakinds[j]]-tau_prev) > 0.5*period):\n",
    "        #            #print(i,j)\n",
    "        #            periodmults = np.concatenate((periodmults,[tau[peakinds[j]]]))\n",
    "        #            tau_prev = tau[peakinds[j]]\n",
    "        #            linfit_peakinds = np.concatenate((linfit_peakinds,[np.int(j)]))\n",
    "        #            n += 1\n",
    "\n",
    "        for i in range(len(integermults)):\n",
    "            for j in range(len(peakinds)-1):\n",
    "                peakdiffs[j] = np.abs(integermults[i] - tau[peakinds[j]])/period\n",
    "            if np.min(peakdiffs) <= 0.2: # change to 0.2?\n",
    "                jj = np.argmin(peakdiffs)\n",
    "                #if peakheights[jj]>= 0.5 * maxheight #0.1:\n",
    "                if (peakheights[jj]>= 0.5 * maxheight) | (peakheights[jj] >= 0.1):\n",
    "                    periodmults = np.concatenate((periodmults,[tau[peakinds[jj]]]))\n",
    "                #linfit_peakinds = np.concatenate((linfit_peakinds,[np.int(jj)]))\n",
    "                    linfit_peakinds = np.concatenate((linfit_peakinds,[integerinds[i]]))\n",
    "                    n += 1\n",
    "                #if (np.abs(integermults[i] - tau[peakinds[j]])/period <= 0.1) & ((tau[peakinds[j]]-tau_prev) > 0.5*period):\n",
    "                    #print(i,j)\n",
    "                    #periodmults = np.concatenate((periodmults,[tau[peakinds[j]]]))\n",
    "                    #tau_prev = tau[peakinds[j]]\n",
    "                    #linfit_peakinds = np.concatenate((linfit_peakinds,[np.int(j)]))\n",
    "\n",
    "\n",
    "\n",
    "        tauslice = tau[valinds[maxindx]:valinds[maxindx+1]]\n",
    "        acfslice = emp_acorr_smooth[valinds[maxindx]:valinds[maxindx+1]]\n",
    "        #plt.plot(tauslice,acfslice)\n",
    "        halfheight = maxheight/2\n",
    "        halfheightval = maxpeakval - halfheight\n",
    "        #if maxheight <0:\n",
    "        #    halfmax = maxheight*2\n",
    "        #if maxheight < 0:\n",
    "        #    halfmax = maxheight*2\n",
    "        #print(halfmax)\n",
    "        #print(acfslice)\n",
    "        #absdiffs = np.abs(maxheight/2 - acfslice)\n",
    "        absdiffs = np.abs(halfheightval - acfslice)\n",
    "        #print(absdiffs)\n",
    "        #print(absdiffs)\n",
    "        #print(maxheight)\n",
    "        #print(acfslice)\n",
    "        minval1 = np.argmin(absdiffs)\n",
    "        absdiffs=np.delete(absdiffs,minval1)\n",
    "        minval2 = np.argmin(absdiffs)\n",
    "        #print(minval1,minval2)\n",
    "        #print(tauslice)\n",
    "        #print(tauslice[minval1])\n",
    "        #\n",
    "        #sigma_from_fwhm = (np.abs(period - tauslice[minval1]) + np.abs(period - tauslice[minval2]))/2.35482004503\n",
    "        sigma_from_fwhm = (np.abs(period - tauslice[minval1]) + np.abs(period - tauslice[minval2]))/2\n",
    "\n",
    "        if (minval1 == minval2) | (minval1 == minval2+1) | (minval1 == minval2-1):\n",
    "                #print('!!!')\n",
    "                sigma_from_fwhm = (np.abs(period - tauslice[minval1]) * 2)/2 #2.35482004503\n",
    "                #print(period)\n",
    "                ##print(tauslice[minval1])\n",
    "                #print(sigma_from_fwhm)\n",
    "\n",
    "        #print(sigma_from_fwhm)\n",
    "\n",
    "        linfit_peakinds = np.concatenate(([maxindx],linfit_peakinds))\n",
    "        #linfit_peakinds += 1\n",
    "        linfit_peakinds = np.concatenate(([0],linfit_peakinds))\n",
    "        #if linfit_peakinds[1] == 2:\n",
    "        #    linfit_peakinds = linfit_peakinds / 2\n",
    "        #print(linfit_peakinds)\n",
    "        if linfit_peakinds[1] == 0:\n",
    "            linfit_peakinds[1] = 1\n",
    "\n",
    "        e_period_hwhm = sigma_from_fwhm\n",
    "        #print(np.str(n))\n",
    "        if (n == 1) | (np.sum(np.diff(np.diff(linfit_peakinds)))) != 0:\n",
    "            #print('X')\n",
    "            periodmults = np.array([0,period])\n",
    "            period_unc = e_period_hwhm #sigma_from_fwhm\n",
    "            finalperiod = period\n",
    "            e_period_mad = -1\n",
    "            e_period_std = -1\n",
    "\n",
    "        elif n > 1:\n",
    "            #print('!')\n",
    "            periodmults = np.concatenate(([0,period],periodmults))\n",
    "            period_diffs = np.diff(periodmults)\n",
    "            #print(period_diffs)\n",
    "            #print(period_diffs)\n",
    "            #finalperiod = np.median(period_diffs)\n",
    "            finalperiod = np.polyfit(linfit_peakinds,periodmults,1)[0]\n",
    "            #print(linfit_peakinds)\n",
    "            #print(periodmults)\n",
    "\n",
    "\n",
    "            #print(median_absolute_deviation(period_diffs))\n",
    "            #print(np.std(period_diffs))\n",
    "            #print(n)\n",
    "            e_period_mad = 1.483* median_absolute_deviation(period_diffs) / np.sqrt(n-1)\n",
    "            e_period_std = np.std(period_diffs)\n",
    "\n",
    "            #print(median_absolute_deviation(period_diffs))\n",
    "            #period_unc = 1.483* median_absolute_deviation(period_diffs) / np.sqrt(n-1)\n",
    "\n",
    "            ###period_unc = e_period_mad\n",
    "            period_unc = e_period_std\n",
    "\n",
    "            if period_unc == 0:\n",
    "                #print('Period unc too small')\n",
    "                period_unc = e_period_hwhm #sigma_from_fwhm #np.std(period_diffs) / np.sqrt(n-1)\n",
    "    else:\n",
    "        #print('!')\n",
    "        finalperiod = -1\n",
    "        period_unc = -1\n",
    "        e_period_hwhm = -1\n",
    "        e_period_mad = -1\n",
    "        e_period_std = -1\n",
    "        peakindx = -1\n",
    "        valinds = -1\n",
    "        maxheight = -1\n",
    "        periodmults = [0,0]\n",
    "\n",
    "\n",
    "    return finalperiod, period_unc, e_period_hwhm, e_period_mad, e_period_std, tau, emp_acorr_smooth, peakinds, valinds, maxheight, periodmults\n"
   ]
  },
  {
   "cell_type": "code",
   "execution_count": null,
   "metadata": {},
   "outputs": [],
   "source": []
  },
  {
   "cell_type": "code",
   "execution_count": 4,
   "metadata": {},
   "outputs": [],
   "source": [
    "data = ascii.read('/Users/bhealy/Documents/PhD_Thesis/NGC_2516/cdips_lcgen/NGC_2516_ptbl_cdips_neighbors.dat')"
   ]
  },
  {
   "cell_type": "code",
   "execution_count": 5,
   "metadata": {},
   "outputs": [],
   "source": [
    "mems = ascii.read('/Users/bhealy/Documents/PhD_Thesis/NGC_2516/NGC_2516_allCGmems.dat')"
   ]
  },
  {
   "cell_type": "code",
   "execution_count": 6,
   "metadata": {},
   "outputs": [],
   "source": [
    "highprob = mems['proba'] > 0.5"
   ]
  },
  {
   "cell_type": "code",
   "execution_count": 7,
   "metadata": {},
   "outputs": [
    {
     "data": {
      "text/html": [
       "&lt;Column name=&apos;phot_g_mean_mag&apos; dtype=&apos;float64&apos; length=1&gt;\n",
       "<table>\n",
       "<tr><td>16.859247</td></tr>\n",
       "</table>"
      ],
      "text/plain": [
       "<Column name='phot_g_mean_mag' dtype='float64' length=1>\n",
       "16.859247"
      ]
     },
     "execution_count": 7,
     "metadata": {},
     "output_type": "execute_result"
    }
   ],
   "source": [
    "mems[mems['source_id']==5290615383225611648]['phot_g_mean_mag']"
   ]
  },
  {
   "cell_type": "code",
   "execution_count": 8,
   "metadata": {},
   "outputs": [
    {
     "ename": "NameError",
     "evalue": "name 'timemasks' is not defined",
     "output_type": "error",
     "traceback": [
      "\u001b[0;31m---------------------------------------------------------------------------\u001b[0m",
      "\u001b[0;31mNameError\u001b[0m                                 Traceback (most recent call last)",
      "\u001b[0;32m<ipython-input-8-4de3c2a216e5>\u001b[0m in \u001b[0;36m<module>\u001b[0;34m\u001b[0m\n\u001b[0;32m----> 1\u001b[0;31m \u001b[0mtimemasks\u001b[0m\u001b[0;34m[\u001b[0m\u001b[0;34m's7'\u001b[0m\u001b[0;34m]\u001b[0m\u001b[0;34m\u001b[0m\u001b[0;34m\u001b[0m\u001b[0m\n\u001b[0m",
      "\u001b[0;31mNameError\u001b[0m: name 'timemasks' is not defined"
     ]
    }
   ],
   "source": [
    "timemasks['s7']"
   ]
  },
  {
   "cell_type": "code",
   "execution_count": 147,
   "metadata": {},
   "outputs": [],
   "source": [
    "classifications = ascii.read('/Users/bhealy/Documents/PhD_Thesis/NGC_2516/NGC_2516_lc_classifications_cdips.dat')"
   ]
  },
  {
   "cell_type": "code",
   "execution_count": 148,
   "metadata": {},
   "outputs": [],
   "source": [
    "vindx = classifications['classification'] == 'V'\n",
    "cindx = classifications['classification'] == 'C'\n",
    "xindx = classifications['classification'] == 'X'\n",
    "zindx = classifications['classification'] == 'Z'\n",
    "uindx = classifications['classification'] == 'U'"
   ]
  },
  {
   "cell_type": "code",
   "execution_count": 10,
   "metadata": {},
   "outputs": [],
   "source": [
    "nums = np.zeros(len(classifications[vindx]),dtype=int)\n",
    "for i in range(len(classifications[vindx])):\n",
    "    nums[i] = np.where(classifications['source_id'] == classifications[vindx]['source_id'][i])[0][0]"
   ]
  },
  {
   "cell_type": "code",
   "execution_count": null,
   "metadata": {},
   "outputs": [],
   "source": []
  },
  {
   "cell_type": "code",
   "execution_count": 25,
   "metadata": {},
   "outputs": [],
   "source": [
    "periods = ascii.read('/Users/bhealy/Documents/PhD_Thesis/NGC_2516/cdips_lcgen/NGC_2516_ptbl_cdips_neighbors.dat')\n",
    "#periods = ascii.read('/Users/bhealy/Documents/PhD_Thesis/NGC_2516/vetperiods_corrunc_good.dat')"
   ]
  },
  {
   "cell_type": "code",
   "execution_count": 12,
   "metadata": {},
   "outputs": [],
   "source": [
    "#classifications = ascii.read('/Users/bhealy/Documents/PhD_Thesis/NGC_2516/NGC_2516_lc_classifications.dat')"
   ]
  },
  {
   "cell_type": "code",
   "execution_count": 26,
   "metadata": {},
   "outputs": [],
   "source": [
    "mask = classifications['classification'] == 'C'"
   ]
  },
  {
   "cell_type": "code",
   "execution_count": 14,
   "metadata": {},
   "outputs": [
    {
     "data": {
      "text/html": [
       "<i>Table length=1</i>\n",
       "<table id=\"table4569671440\" class=\"table-striped table-bordered table-condensed\">\n",
       "<thead><tr><th>source_id</th><th>period</th><th>period_unc</th><th>e_period_hwhm</th><th>e_period_mad</th><th>e_period_std</th><th>CDIPS</th></tr></thead>\n",
       "<thead><tr><th>int64</th><th>float64</th><th>float64</th><th>float64</th><th>float64</th><th>float64</th><th>int64</th></tr></thead>\n",
       "<tr><td>5291030448862535808</td><td>1.9261871754058764</td><td>0.010206189771897523</td><td>0.4791658455505967</td><td>0.0</td><td>0.010206189771897523</td><td>1</td></tr>\n",
       "</table>"
      ],
      "text/plain": [
       "<Table length=1>\n",
       "     source_id            period       ...     e_period_std     CDIPS\n",
       "       int64             float64       ...       float64        int64\n",
       "------------------- ------------------ ... -------------------- -----\n",
       "5291030448862535808 1.9261871754058764 ... 0.010206189771897523     1"
      ]
     },
     "execution_count": 14,
     "metadata": {},
     "output_type": "execute_result"
    }
   ],
   "source": [
    "periods[periods['source_id'] == 5291030448862535808]"
   ]
  },
  {
   "cell_type": "code",
   "execution_count": 15,
   "metadata": {},
   "outputs": [],
   "source": [
    "one_num = np.where(classifications['source_id'] == 5291030448862535808)[0][0]"
   ]
  },
  {
   "cell_type": "code",
   "execution_count": 149,
   "metadata": {},
   "outputs": [
    {
     "data": {
      "text/plain": [
       "27"
      ]
     },
     "execution_count": 149,
     "metadata": {},
     "output_type": "execute_result"
    }
   ],
   "source": [
    "np.sum(vindx)"
   ]
  },
  {
   "cell_type": "code",
   "execution_count": 573,
   "metadata": {},
   "outputs": [],
   "source": [
    "#vetperiods = join(periods,classifications)\n",
    "vetperiods=ascii.read('/Users/bhealy/Documents/PhD_Thesis/NGC_2516/NGC_2516_ptbl_cdips_vetted.dat')"
   ]
  },
  {
   "cell_type": "code",
   "execution_count": 574,
   "metadata": {},
   "outputs": [],
   "source": [
    "goodindx = vetperiods['classification'] == 'C'"
   ]
  },
  {
   "cell_type": "code",
   "execution_count": 575,
   "metadata": {},
   "outputs": [],
   "source": [
    "#vetperiods[goodindx].write('/Users/bhealy/Documents/PhD_Thesis/NGC_2516/vetperiods_corrunc_good.dat',format='ascii')"
   ]
  },
  {
   "cell_type": "code",
   "execution_count": 576,
   "metadata": {},
   "outputs": [
    {
     "data": {
      "text/html": [
       "<i>Table length=245</i>\n",
       "<table id=\"table120918683152\" class=\"table-striped table-bordered table-condensed\">\n",
       "<thead><tr><th>source_id</th><th>period</th><th>period_unc</th><th>e_period_hwhm</th><th>e_period_mad</th><th>e_period_std</th><th>CDIPS</th><th>classification</th></tr></thead>\n",
       "<thead><tr><th>int64</th><th>float64</th><th>float64</th><th>float64</th><th>float64</th><th>float64</th><th>int64</th><th>str1</th></tr></thead>\n",
       "<tr><td>5289888228079920640</td><td>0.2482096272254628</td><td>0.01317590962709021</td><td>0.06249882699921727</td><td>0.0</td><td>0.01317590962709021</td><td>1</td><td>C</td></tr>\n",
       "<tr><td>5289890495822656640</td><td>1.9601555138693318</td><td>0.013176402047905867</td><td>0.43750813929364085</td><td>0.0</td><td>0.013176402047905867</td><td>1</td><td>C</td></tr>\n",
       "<tr><td>5289898020605414016</td><td>2.2292090849950905</td><td>0.5520938388071954</td><td>0.5520938388071954</td><td>0.0</td><td>0.0</td><td>1</td><td>C</td></tr>\n",
       "<tr><td>5289930181318610432</td><td>2.010377542115748</td><td>0.025983226185360375</td><td>0.5104268584400415</td><td>0.06611682078975804</td><td>0.05311584717240069</td><td>1</td><td>C</td></tr>\n",
       "<tr><td>5289932277265953280</td><td>2.722673553108324</td><td>0.05204269183479503</td><td>0.6666800130042247</td><td>0.022903539758380224</td><td>0.05204269183479503</td><td>0</td><td>C</td></tr>\n",
       "<tr><td>5289934751163440000</td><td>1.6380631029605859</td><td>0.021245497850816367</td><td>0.20832924637943506</td><td>0.022902631951581452</td><td>0.021245497850816367</td><td>1</td><td>C</td></tr>\n",
       "<tr><td>5289958425026796288</td><td>0.3386972844334585</td><td>0.008333500847220421</td><td>0.06250125635415316</td><td>0.0</td><td>0.008333500847220421</td><td>1</td><td>C</td></tr>\n",
       "<tr><td>5289972031483161600</td><td>2.97862923895674</td><td>0.07839688706630499</td><td>0.708347081206739</td><td>0.06871057731139041</td><td>0.07839688706630499</td><td>1</td><td>C</td></tr>\n",
       "<tr><td>5289978010077507328</td><td>3.6562110451050103</td><td>0.23958078073337674</td><td>0.9687396786175668</td><td>0.5267652563591964</td><td>0.23958078073337674</td><td>1</td><td>C</td></tr>\n",
       "<tr><td>5289982713061723008</td><td>3.759598205770764</td><td>0.30602212278932905</td><td>0.8125160783529282</td><td>0.3435530170975104</td><td>0.30602212278932905</td><td>1</td><td>C</td></tr>\n",
       "<tr><td>...</td><td>...</td><td>...</td><td>...</td><td>...</td><td>...</td><td>...</td><td>...</td></tr>\n",
       "<tr><td>5291030448862535808</td><td>1.9261871754058764</td><td>0.010206189771897523</td><td>0.4791658455505967</td><td>0.0</td><td>0.010206189771897523</td><td>1</td><td>C</td></tr>\n",
       "<tr><td>5291031582733905408</td><td>1.9535469029897023</td><td>0.020412158261080955</td><td>0.46874411520548165</td><td>0.0</td><td>0.020412158261080955</td><td>1</td><td>C</td></tr>\n",
       "<tr><td>5291032132489758208</td><td>1.4208306762389837</td><td>0.047450086155007114</td><td>0.34374935715459287</td><td>0.052892301585985166</td><td>0.047450086155007114</td><td>1</td><td>C</td></tr>\n",
       "<tr><td>5291034194074141568</td><td>4.3187417304608955</td><td>0.21169127624565934</td><td>1.166664432734251</td><td>0.23801534649679779</td><td>0.21169127624565934</td><td>1</td><td>C</td></tr>\n",
       "<tr><td>5291035912061108992</td><td>5.327074085595085</td><td>0.4747009737672705</td><td>1.3437476672697812</td><td>0.3305769292463053</td><td>0.4747009737672705</td><td>1</td><td>C</td></tr>\n",
       "<tr><td>5291040103949259264</td><td>0.5309455609747341</td><td>0.010206076164895855</td><td>0.1041653286665678</td><td>0.0</td><td>0.010206076164895855</td><td>1</td><td>C</td></tr>\n",
       "<tr><td>5291041031662188288</td><td>2.0529721676638077</td><td>0.01020618726250592</td><td>0.5104156665038317</td><td>0.0</td><td>0.01020618726250592</td><td>1</td><td>C</td></tr>\n",
       "<tr><td>5291041547058288896</td><td>3.9583258423954244</td><td>0.2491648015965764</td><td>0.9687481666915119</td><td>0.27483645488546155</td><td>0.2491648015965764</td><td>1</td><td>C</td></tr>\n",
       "<tr><td>5291043917879994880</td><td>5.179261168185621</td><td>0.10661386972095388</td><td>0.6666788309812546</td><td>0.06611670699941996</td><td>0.10661386972095388</td><td>1</td><td>C</td></tr>\n",
       "<tr><td>5291061235188475520</td><td>3.5554248764445733</td><td>0.22166149079361727</td><td>0.9896021860186011</td><td>0.16032462305778333</td><td>0.22166149079361727</td><td>1</td><td>C</td></tr>\n",
       "</table>"
      ],
      "text/plain": [
       "<Table length=245>\n",
       "     source_id            period       ... CDIPS classification\n",
       "       int64             float64       ... int64      str1     \n",
       "------------------- ------------------ ... ----- --------------\n",
       "5289888228079920640 0.2482096272254628 ...     1              C\n",
       "5289890495822656640 1.9601555138693318 ...     1              C\n",
       "5289898020605414016 2.2292090849950905 ...     1              C\n",
       "5289930181318610432  2.010377542115748 ...     1              C\n",
       "5289932277265953280  2.722673553108324 ...     0              C\n",
       "5289934751163440000 1.6380631029605859 ...     1              C\n",
       "5289958425026796288 0.3386972844334585 ...     1              C\n",
       "5289972031483161600   2.97862923895674 ...     1              C\n",
       "5289978010077507328 3.6562110451050103 ...     1              C\n",
       "5289982713061723008  3.759598205770764 ...     1              C\n",
       "                ...                ... ...   ...            ...\n",
       "5291030448862535808 1.9261871754058764 ...     1              C\n",
       "5291031582733905408 1.9535469029897023 ...     1              C\n",
       "5291032132489758208 1.4208306762389837 ...     1              C\n",
       "5291034194074141568 4.3187417304608955 ...     1              C\n",
       "5291035912061108992  5.327074085595085 ...     1              C\n",
       "5291040103949259264 0.5309455609747341 ...     1              C\n",
       "5291041031662188288 2.0529721676638077 ...     1              C\n",
       "5291041547058288896 3.9583258423954244 ...     1              C\n",
       "5291043917879994880  5.179261168185621 ...     1              C\n",
       "5291061235188475520 3.5554248764445733 ...     1              C"
      ]
     },
     "execution_count": 576,
     "metadata": {},
     "output_type": "execute_result"
    }
   ],
   "source": [
    "vetperiods[goodindx]"
   ]
  },
  {
   "cell_type": "code",
   "execution_count": 577,
   "metadata": {},
   "outputs": [],
   "source": [
    "hpjoin=join(vetperiods[goodindx],mems[highprob])"
   ]
  },
  {
   "cell_type": "code",
   "execution_count": 578,
   "metadata": {},
   "outputs": [
    {
     "data": {
      "text/plain": [
       "<Container object of 3 artists>"
      ]
     },
     "execution_count": 578,
     "metadata": {},
     "output_type": "execute_result"
    },
    {
     "data": {
      "image/png": "[encoded data removed]",
      "text/plain": [
       "<matplotlib.figure.Figure at 0x1c2c48a940>"
      ]
     },
     "metadata": {
      "needs_background": "light"
     },
     "output_type": "display_data"
    }
   ],
   "source": [
    "plt.scatter(hpjoin['bp_rp'],hpjoin['period'],s=25)\n",
    "plt.errorbar(hpjoin['bp_rp'],hpjoin['period'],yerr=hpjoin['period_unc'],linestyle='none')"
   ]
  },
  {
   "cell_type": "code",
   "execution_count": 579,
   "metadata": {},
   "outputs": [],
   "source": [
    "#(hpjoin['bp_rp'] > 1) & (hpjoin['bp_rp'] < 1.5) & (hpjoin['period'] < 0.2)"
   ]
  },
  {
   "cell_type": "code",
   "execution_count": 552,
   "metadata": {},
   "outputs": [
    {
     "data": {
      "text/html": [
       "<i>Row index=0</i>\n",
       "<table id=\"table121010267416\">\n",
       "<thead><tr><th>source_id</th><th>period</th><th>period_unc</th><th>e_period_hwhm</th><th>e_period_mad</th><th>e_period_std</th><th>CDIPS</th><th>classification</th><th>ra</th><th>dec</th><th>l</th><th>b</th><th>parallax</th><th>parallax_error</th><th>pmra</th><th>pmra_error</th><th>pmdec</th><th>pmdec_error</th><th>ra_dec_corr</th><th>ra_parallax_corr</th><th>ra_pmra_corr</th><th>ra_pmdec_corr</th><th>dec_parallax_corr</th><th>dec_pmra_corr</th><th>dec_pmdec_corr</th><th>parallax_pmra_corr</th><th>parallax_pmdec_corr</th><th>pmra_pmdec_corr</th><th>phot_g_n_obs</th><th>phot_g_mean_mag</th><th>bp_rp</th><th>proba</th><th>cluster</th></tr></thead>\n",
       "<thead><tr><th>int64</th><th>float64</th><th>float64</th><th>float64</th><th>float64</th><th>float64</th><th>int64</th><th>str1</th><th>float64</th><th>float64</th><th>float64</th><th>float64</th><th>float64</th><th>float64</th><th>float64</th><th>float64</th><th>float64</th><th>float64</th><th>float64</th><th>float64</th><th>float64</th><th>float64</th><th>float64</th><th>float64</th><th>float64</th><th>float64</th><th>float64</th><th>float64</th><th>int64</th><th>float64</th><th>float64</th><th>float64</th><th>str8</th></tr></thead>\n",
       "<tr><td>5289872972356315520</td><td>0.1404735587271196</td><td>0.008333177212625742</td><td>0.020832943031564355</td><td>0.0</td><td>0.008333177212625742</td><td>1</td><td>C</td><td>119.67760602546025</td><td>-61.638058241591146</td><td>274.6692956427792</td><td>-16.196032966608414</td><td>2.401245021539763</td><td>0.017618332072687985</td><td>-4.471179394158836</td><td>0.038342604630081094</td><td>11.718953987469009</td><td>0.03273623461535047</td><td>0.02789749</td><td>0.035600264</td><td>-0.16609408</td><td>0.048069436</td><td>0.18690306</td><td>0.10639049</td><td>-0.07866284</td><td>0.14349449</td><td>-0.20369785</td><td>0.09972408</td><td>414</td><td>14.170816</td><td>1.2062683</td><td>0.800000011920929</td><td>NGC_2516</td></tr>\n",
       "</table>"
      ],
      "text/plain": [
       "<Row index=0>\n",
       "     source_id            period            period_unc         e_period_hwhm     e_period_mad     e_period_std     CDIPS classification         ra                 dec                 l                  b               parallax        parallax_error           pmra             pmra_error            pmdec            pmdec_error     ra_dec_corr ra_parallax_corr ra_pmra_corr ra_pmdec_corr dec_parallax_corr dec_pmra_corr dec_pmdec_corr parallax_pmra_corr parallax_pmdec_corr pmra_pmdec_corr phot_g_n_obs phot_g_mean_mag   bp_rp         proba       cluster \n",
       "       int64             float64             float64              float64          float64          float64        int64      str1           float64             float64            float64            float64            float64            float64             float64             float64             float64             float64         float64       float64        float64       float64         float64         float64       float64          float64             float64           float64        int64         float64      float64       float64        str8  \n",
       "------------------- ------------------ -------------------- -------------------- ------------ -------------------- ----- -------------- ------------------ ------------------- ----------------- ------------------- ----------------- -------------------- ------------------ -------------------- ------------------ ------------------- ----------- ---------------- ------------ ------------- ----------------- ------------- -------------- ------------------ ------------------- --------------- ------------ --------------- --------- ----------------- --------\n",
       "5289872972356315520 0.1404735587271196 0.008333177212625742 0.020832943031564355          0.0 0.008333177212625742     1              C 119.67760602546025 -61.638058241591146 274.6692956427792 -16.196032966608414 2.401245021539763 0.017618332072687985 -4.471179394158836 0.038342604630081094 11.718953987469009 0.03273623461535047  0.02789749      0.035600264  -0.16609408   0.048069436        0.18690306    0.10639049    -0.07866284         0.14349449         -0.20369785      0.09972408          414       14.170816 1.2062683 0.800000011920929 NGC_2516"
      ]
     },
     "execution_count": 552,
     "metadata": {},
     "output_type": "execute_result"
    }
   ],
   "source": [
    "hpjoin[0]"
   ]
  },
  {
   "cell_type": "code",
   "execution_count": 580,
   "metadata": {},
   "outputs": [
    {
     "data": {
      "text/plain": [
       "0.023032590526181878"
      ]
     },
     "execution_count": 580,
     "metadata": {},
     "output_type": "execute_result"
    }
   ],
   "source": [
    "np.median(np.abs(hpjoin['period_unc']/hpjoin['period']))"
   ]
  },
  {
   "cell_type": "code",
   "execution_count": 581,
   "metadata": {},
   "outputs": [
    {
     "data": {
      "text/plain": [
       "(array([47., 34., 41., 29., 18., 25., 29., 13.,  7.,  2.]),\n",
       " array([0.22381208, 0.79871091, 1.37360974, 1.94850857, 2.52340739,\n",
       "        3.09830622, 3.67320505, 4.24810388, 4.82300271, 5.39790153,\n",
       "        5.97280036]),\n",
       " <a list of 10 Patch objects>)"
      ]
     },
     "execution_count": 581,
     "metadata": {},
     "output_type": "execute_result"
    },
    {
     "data": {
      "image/png": "[encoded data removed]",
      "text/plain": [
       "<matplotlib.figure.Figure at 0x1c2750abe0>"
      ]
     },
     "metadata": {
      "needs_background": "light"
     },
     "output_type": "display_data"
    }
   ],
   "source": [
    "plt.hist(hpjoin['period'])"
   ]
  },
  {
   "cell_type": "code",
   "execution_count": 118,
   "metadata": {},
   "outputs": [
    {
     "data": {
      "text/plain": [
       "(array([34., 26., 28., 26., 17., 19., 25.,  9.,  4.,  2.]),\n",
       " array([0.14047356, 0.72370624, 1.30693892, 1.8901716 , 2.47340428,\n",
       "        3.05663696, 3.63986964, 4.22310232, 4.806335  , 5.38956768,\n",
       "        5.97280036]),\n",
       " <a list of 10 Patch objects>)"
      ]
     },
     "execution_count": 118,
     "metadata": {},
     "output_type": "execute_result"
    },
    {
     "data": {
      "image/png": "[encoded data removed]",
      "text/plain": [
       "<matplotlib.figure.Figure at 0x1c2a08b0b8>"
      ]
     },
     "metadata": {
      "needs_background": "light"
     },
     "output_type": "display_data"
    }
   ],
   "source": [
    "plt.hist(vetperiods[goodindx]['period'])"
   ]
  },
  {
   "cell_type": "code",
   "execution_count": 582,
   "metadata": {},
   "outputs": [],
   "source": [
    "#memtbl=ascii.read('/Users/bhealy/Documents/PhD_Thesis/NGC_2516/CGmems_GES_Gaia_table.dat')\n",
    "memtbl=ascii.read('/Users/bhealy/Documents/PhD_Thesis/NGC_2516/NGC_2516_papertbls_singlestars_GESgalah_goodRV.dat')\n",
    "ssmemtbl=ascii.read('/Users/bhealy/Documents/PhD_Thesis/NGC_2516/NGC_2516_papertbls_singlestars.dat')\n",
    "\n",
    "allmems = ascii.read('/Users/bhealy/Documents/PhD_Thesis/NGC_2516/NGC_2516_allCGmems.dat')"
   ]
  },
  {
   "cell_type": "code",
   "execution_count": 583,
   "metadata": {},
   "outputs": [],
   "source": [
    "allmems_periods = join(allmems,vetperiods[goodindx])\n",
    "#highprob = allmems_periods['proba'] > 0.5"
   ]
  },
  {
   "cell_type": "code",
   "execution_count": null,
   "metadata": {},
   "outputs": [],
   "source": []
  },
  {
   "cell_type": "code",
   "execution_count": 584,
   "metadata": {},
   "outputs": [
    {
     "data": {
      "text/html": [
       "<i>Table length=245</i>\n",
       "<table id=\"table112214062864\" class=\"table-striped table-bordered table-condensed\">\n",
       "<thead><tr><th>ra</th><th>dec</th><th>source_id</th><th>l</th><th>b</th><th>parallax</th><th>parallax_error</th><th>pmra</th><th>pmra_error</th><th>pmdec</th><th>pmdec_error</th><th>ra_dec_corr</th><th>ra_parallax_corr</th><th>ra_pmra_corr</th><th>ra_pmdec_corr</th><th>dec_parallax_corr</th><th>dec_pmra_corr</th><th>dec_pmdec_corr</th><th>parallax_pmra_corr</th><th>parallax_pmdec_corr</th><th>pmra_pmdec_corr</th><th>phot_g_n_obs</th><th>phot_g_mean_mag</th><th>bp_rp</th><th>proba</th><th>cluster</th><th>period</th><th>period_unc</th><th>e_period_hwhm</th><th>e_period_mad</th><th>e_period_std</th><th>CDIPS</th><th>classification</th></tr></thead>\n",
       "<thead><tr><th>float64</th><th>float64</th><th>int64</th><th>float64</th><th>float64</th><th>float64</th><th>float64</th><th>float64</th><th>float64</th><th>float64</th><th>float64</th><th>float64</th><th>float64</th><th>float64</th><th>float64</th><th>float64</th><th>float64</th><th>float64</th><th>float64</th><th>float64</th><th>float64</th><th>int64</th><th>float64</th><th>float64</th><th>float64</th><th>str8</th><th>float64</th><th>float64</th><th>float64</th><th>float64</th><th>float64</th><th>int64</th><th>str1</th></tr></thead>\n",
       "<tr><td>119.22520690444166</td><td>-61.566462151161225</td><td>5289888228079920640</td><td>274.5001890671572</td><td>-16.35435854673811</td><td>2.495637682666451</td><td>0.04000012541581146</td><td>-4.439889130493218</td><td>0.08857254683512848</td><td>11.36082243650047</td><td>0.08680214958760665</td><td>-0.1941937</td><td>-0.15609759</td><td>-0.25575122</td><td>0.28566957</td><td>0.12654856</td><td>0.29178885</td><td>-0.2997828</td><td>0.033962857</td><td>-0.14802706</td><td>-0.090075195</td><td>464</td><td>16.441534</td><td>2.3475647</td><td>0.800000011920929</td><td>NGC_2516</td><td>0.2482096272254628</td><td>0.01317590962709021</td><td>0.06249882699921727</td><td>0.0</td><td>0.01317590962709021</td><td>1</td><td>C</td></tr>\n",
       "<tr><td>119.49936785349912</td><td>-61.45191965058128</td><td>5289890495822656640</td><td>274.45652443155785</td><td>-16.18563905846991</td><td>2.3928190531459097</td><td>0.01890695217759307</td><td>-4.393270268704721</td><td>0.039592181423995655</td><td>11.401475527243258</td><td>0.037162114672072595</td><td>0.012834066</td><td>0.034496877</td><td>-0.3020553</td><td>0.030143429</td><td>0.23014058</td><td>0.058823388</td><td>-0.2513722</td><td>0.08350046</td><td>-0.1359186</td><td>-0.007402256</td><td>455</td><td>12.709742</td><td>0.9228382</td><td>0.699999988079071</td><td>NGC_2516</td><td>1.9601555138693318</td><td>0.013176402047905867</td><td>0.43750813929364085</td><td>0.0</td><td>0.013176402047905867</td><td>1</td><td>C</td></tr>\n",
       "<tr><td>119.98416898329307</td><td>-61.32024360559023</td><td>5289898020605414016</td><td>274.4470383089242</td><td>-15.91888146770759</td><td>2.362036220041</td><td>0.022592674318478393</td><td>-4.712546041542891</td><td>0.04576224817146788</td><td>11.733439840450455</td><td>0.04675409759308582</td><td>0.094471</td><td>0.051852487</td><td>-0.053004943</td><td>0.08687148</td><td>0.30354747</td><td>0.10655951</td><td>-0.2859684</td><td>0.06595268</td><td>-0.11679387</td><td>0.16156341</td><td>413</td><td>12.634859</td><td>0.8862591</td><td>0.8999999761581421</td><td>NGC_2516</td><td>2.2292090849950905</td><td>0.5520938388071954</td><td>0.5520938388071954</td><td>0.0</td><td>0.0</td><td>1</td><td>C</td></tr>\n",
       "<tr><td>121.13929660975464</td><td>-61.34479131354677</td><td>5289930181318610432</td><td>274.7422043965664</td><td>-15.442528365609865</td><td>2.3884908308201847</td><td>0.03956593795486762</td><td>-5.996325742897152</td><td>0.07986416562888808</td><td>11.285662861416583</td><td>0.06402113272147258</td><td>-0.09037766</td><td>-0.3883745</td><td>-0.67335325</td><td>0.09366239</td><td>0.36055145</td><td>0.20421809</td><td>-0.3568515</td><td>0.5064942</td><td>-0.19008742</td><td>-0.045431316</td><td>264</td><td>10.764917</td><td>0.4116087</td><td>0.800000011920929</td><td>NGC_2516</td><td>2.010377542115748</td><td>0.025983226185360375</td><td>0.5104268584400415</td><td>0.06611682078975804</td><td>0.05311584717240069</td><td>1</td><td>C</td></tr>\n",
       "<tr><td>120.8427489599831</td><td>-61.36651762040685</td><td>5289932277265953280</td><td>274.69131458647644</td><td>-15.577716599734591</td><td>2.292686353157289</td><td>0.024159550812773656</td><td>-6.055720429422538</td><td>0.06497465559259419</td><td>11.239899937689444</td><td>0.05410653887675045</td><td>0.17009483</td><td>-0.1389264</td><td>-0.6313321</td><td>-0.27126476</td><td>0.14911732</td><td>-0.2399939</td><td>-0.44563702</td><td>0.21363883</td><td>0.025198879</td><td>0.23059875</td><td>334</td><td>12.876329</td><td>0.9284153</td><td>0.699999988079071</td><td>NGC_2516</td><td>2.722673553108324</td><td>0.05204269183479503</td><td>0.6666800130042247</td><td>0.022903539758380224</td><td>0.05204269183479503</td><td>0</td><td>C</td></tr>\n",
       "<tr><td>121.15734269335677</td><td>-61.250432702202865</td><td>5289934751163440000</td><td>274.6607323173441</td><td>-15.389518896548115</td><td>2.4388671345052253</td><td>0.026805866704714697</td><td>-5.4977469463723265</td><td>0.05465186967286327</td><td>11.431481500600079</td><td>0.04818195625532095</td><td>0.12255578</td><td>0.07034077</td><td>-0.07658734</td><td>-0.081400275</td><td>0.2666709</td><td>0.0258292</td><td>-0.31808743</td><td>0.35445124</td><td>-0.11345839</td><td>0.05156331</td><td>204</td><td>11.357195</td><td>0.59317017</td><td>0.800000011920929</td><td>NGC_2516</td><td>1.6380631029605859</td><td>0.021245497850816367</td><td>0.20832924637943506</td><td>0.022902631951581452</td><td>0.021245497850816367</td><td>1</td><td>C</td></tr>\n",
       "<tr><td>121.28565505123679</td><td>-61.18736195636068</td><td>5289958425026796288</td><td>274.6343536109714</td><td>-15.304977045816903</td><td>2.4091882002309433</td><td>0.05364721138081558</td><td>-5.010441469558942</td><td>0.11122766528660019</td><td>11.31696637052315</td><td>0.10035107447776305</td><td>0.05425949</td><td>-0.031743843</td><td>-0.28042758</td><td>-0.047183275</td><td>0.22311863</td><td>0.0013237105</td><td>-0.23248485</td><td>0.20772423</td><td>-0.12612036</td><td>0.10145538</td><td>440</td><td>16.926434</td><td>2.1946259</td><td>0.699999988079071</td><td>NGC_2516</td><td>0.3386972844334585</td><td>0.008333500847220421</td><td>0.06250125635415316</td><td>0.0</td><td>0.008333500847220421</td><td>1</td><td>C</td></tr>\n",
       "<tr><td>120.4673702071265</td><td>-61.448401815032604</td><td>5289972031483161600</td><td>274.6775935440635</td><td>-15.774703138795028</td><td>2.517920407644222</td><td>0.02141521997580132</td><td>-4.400499687065648</td><td>0.04698595190238245</td><td>11.347170910310595</td><td>0.04675137295871833</td><td>-0.024750622</td><td>-0.12834029</td><td>-0.30896422</td><td>-0.0018503856</td><td>0.18850622</td><td>0.029727736</td><td>-0.49012598</td><td>0.03650391</td><td>0.12352677</td><td>-0.02820189</td><td>394</td><td>12.753855</td><td>0.89847565</td><td>0.6000000238418579</td><td>NGC_2516</td><td>2.97862923895674</td><td>0.07839688706630499</td><td>0.708347081206739</td><td>0.06871057731139041</td><td>0.07839688706630499</td><td>1</td><td>C</td></tr>\n",
       "<tr><td>120.60754413916358</td><td>-61.251825720989636</td><td>5289978010077507328</td><td>274.530789427336</td><td>-15.622435916534718</td><td>2.3816840275859468</td><td>0.016162638360208096</td><td>-4.717329565412189</td><td>0.03583035361571449</td><td>10.707286781711897</td><td>0.03737933991775669</td><td>-0.21272682</td><td>0.0297794</td><td>-0.067907624</td><td>0.1427344</td><td>0.12892705</td><td>0.162093</td><td>-0.45627666</td><td>0.095569625</td><td>0.053874746</td><td>-0.23039466</td><td>395</td><td>14.332691</td><td>1.2820253</td><td>0.6000000238418579</td><td>NGC_2516</td><td>3.6562110451050103</td><td>0.23958078073337674</td><td>0.9687396786175668</td><td>0.5267652563591964</td><td>0.23958078073337674</td><td>1</td><td>C</td></tr>\n",
       "<tr><td>120.9091449058326</td><td>-61.202491894163856</td><td>5289982713061723008</td><td>274.5576027083697</td><td>-15.471302280161437</td><td>2.3652509368700576</td><td>0.013387327265594655</td><td>-4.847132336108866</td><td>0.026984672523511888</td><td>10.826460697791378</td><td>0.0301961559776361</td><td>-0.11107961</td><td>-0.038307887</td><td>-0.29679903</td><td>0.13264479</td><td>0.1584229</td><td>0.16519792</td><td>-0.50542235</td><td>0.25189266</td><td>0.011207202</td><td>-0.061761662</td><td>389</td><td>13.048918</td><td>0.9114685</td><td>0.699999988079071</td><td>NGC_2516</td><td>3.759598205770764</td><td>0.30602212278932905</td><td>0.8125160783529282</td><td>0.3435530170975104</td><td>0.30602212278932905</td><td>1</td><td>C</td></tr>\n",
       "<tr><td>...</td><td>...</td><td>...</td><td>...</td><td>...</td><td>...</td><td>...</td><td>...</td><td>...</td><td>...</td><td>...</td><td>...</td><td>...</td><td>...</td><td>...</td><td>...</td><td>...</td><td>...</td><td>...</td><td>...</td><td>...</td><td>...</td><td>...</td><td>...</td><td>...</td><td>...</td><td>...</td><td>...</td><td>...</td><td>...</td><td>...</td><td>...</td><td>...</td></tr>\n",
       "<tr><td>119.23937225765353</td><td>-60.298828098950274</td><td>5291030448862535808</td><td>273.33131325218216</td><td>-15.76677004886915</td><td>2.4079950181013783</td><td>0.020841360597761233</td><td>-4.144574634387727</td><td>0.04176853324190522</td><td>11.068823679953411</td><td>0.037963544036613096</td><td>0.014360002</td><td>0.09923121</td><td>-0.24298535</td><td>0.05994794</td><td>0.4132529</td><td>0.07343005</td><td>-0.31524846</td><td>0.027584342</td><td>0.02949818</td><td>-0.07384287</td><td>400</td><td>12.354486</td><td>0.7990818</td><td>0.699999988079071</td><td>NGC_2516</td><td>1.9261871754058764</td><td>0.010206189771897523</td><td>0.4791658455505967</td><td>0.0</td><td>0.010206189771897523</td><td>1</td><td>C</td></tr>\n",
       "<tr><td>119.16704795584373</td><td>-60.245400137869524</td><td>5291031582733905408</td><td>273.26486717101915</td><td>-15.773969626249995</td><td>2.4382275579922217</td><td>0.023354675733351447</td><td>-4.115654371646839</td><td>0.04614035323908691</td><td>11.239874639572177</td><td>0.04003427127214659</td><td>0.1221169</td><td>0.19972518</td><td>-0.15460552</td><td>0.05034324</td><td>0.46130595</td><td>0.06133701</td><td>-0.3086596</td><td>-0.0025944833</td><td>0.015327351</td><td>-0.028682973</td><td>376</td><td>11.942831</td><td>0.8352108</td><td>1.0</td><td>NGC_2516</td><td>1.9535469029897023</td><td>0.020412158261080955</td><td>0.46874411520548165</td><td>0.0</td><td>0.020412158261080955</td><td>1</td><td>C</td></tr>\n",
       "<tr><td>119.25403743603239</td><td>-60.19601543927814</td><td>5291032132489758208</td><td>273.24004545442506</td><td>-15.712857493971539</td><td>2.4390068944474965</td><td>0.024173984841310215</td><td>-5.02019002568929</td><td>0.04536179207930788</td><td>11.428193733686378</td><td>0.04725156372832551</td><td>0.08792979</td><td>0.1366672</td><td>-0.23994237</td><td>0.039596293</td><td>0.37428448</td><td>0.07448113</td><td>-0.35812396</td><td>0.08775715</td><td>0.044957932</td><td>-0.014748268</td><td>323</td><td>11.298716</td><td>0.57847404</td><td>0.8999999761581421</td><td>NGC_2516</td><td>1.4208306762389837</td><td>0.047450086155007114</td><td>0.34374935715459287</td><td>0.052892301585985166</td><td>0.047450086155007114</td><td>1</td><td>C</td></tr>\n",
       "<tr><td>119.39598933406903</td><td>-60.1163724564806</td><td>5291034194074141568</td><td>273.2006880019659</td><td>-15.613373923837422</td><td>2.4187654507054615</td><td>0.022099878856512805</td><td>-4.841142581014534</td><td>0.043215882707304185</td><td>11.119118448404711</td><td>0.03799941373684435</td><td>0.096415155</td><td>0.16177705</td><td>-0.18579096</td><td>0.024794849</td><td>0.41481555</td><td>0.081401765</td><td>-0.25980043</td><td>0.11638238</td><td>-0.006172941</td><td>-0.08014154</td><td>359</td><td>14.822936</td><td>1.3598042</td><td>0.800000011920929</td><td>NGC_2516</td><td>4.3187417304608955</td><td>0.21169127624565934</td><td>1.166664432734251</td><td>0.23801534649679779</td><td>0.21169127624565934</td><td>1</td><td>C</td></tr>\n",
       "<tr><td>119.62697416831926</td><td>-60.157774012693494</td><td>5291035912061108992</td><td>273.2942856692931</td><td>-15.530833072507773</td><td>2.4639899821123183</td><td>0.014111069307526723</td><td>-4.264981624140917</td><td>0.025961867364566106</td><td>11.219823556808812</td><td>0.02469121751048669</td><td>0.15057509</td><td>0.21337631</td><td>-0.11002295</td><td>0.048209216</td><td>0.43015143</td><td>0.1597502</td><td>-0.15826276</td><td>0.17675382</td><td>-0.16442062</td><td>0.042197313</td><td>371</td><td>13.123116</td><td>0.918684</td><td>0.800000011920929</td><td>NGC_2516</td><td>5.327074085595085</td><td>0.4747009737672705</td><td>1.3437476672697812</td><td>0.3305769292463053</td><td>0.4747009737672705</td><td>1</td><td>C</td></tr>\n",
       "<tr><td>119.65314123565898</td><td>-60.03608363317619</td><td>5291040103949259264</td><td>273.1889458042436</td><td>-15.462463668823272</td><td>2.414360981425432</td><td>0.02117916687234018</td><td>-4.618061728805636</td><td>0.043180264462521954</td><td>11.006738978457383</td><td>0.03977392918857888</td><td>0.08727703</td><td>0.12785408</td><td>-0.22856426</td><td>0.04489557</td><td>0.3180592</td><td>0.1015451</td><td>-0.159765</td><td>0.12712862</td><td>-0.13952814</td><td>-0.0045530507</td><td>343</td><td>11.702247</td><td>0.6786299</td><td>0.699999988079071</td><td>NGC_2516</td><td>0.5309455609747341</td><td>0.010206076164895855</td><td>0.1041653286665678</td><td>0.0</td><td>0.010206076164895855</td><td>1</td><td>C</td></tr>\n",
       "<tr><td>119.58748798560315</td><td>-60.01077111578304</td><td>5291041031662188288</td><td>273.1498248685192</td><td>-15.479646164083821</td><td>2.4088078206020027</td><td>0.0331953092534022</td><td>-4.583751175457459</td><td>0.07283918631122101</td><td>10.58189896886482</td><td>0.06292987406273014</td><td>0.17144904</td><td>0.12077461</td><td>-0.025826428</td><td>0.11654623</td><td>0.28206447</td><td>0.182303</td><td>-0.08571565</td><td>0.08687905</td><td>-0.20193389</td><td>0.1354529</td><td>342</td><td>15.859838</td><td>1.739502</td><td>0.6000000238418579</td><td>NGC_2516</td><td>2.0529721676638077</td><td>0.01020618726250592</td><td>0.5104156665038317</td><td>0.0</td><td>0.01020618726250592</td><td>1</td><td>C</td></tr>\n",
       "<tr><td>119.69235773707965</td><td>-60.02099349085033</td><td>5291041547058288896</td><td>273.1846142605714</td><td>-15.438089462502184</td><td>2.444826653100309</td><td>0.019068089406006232</td><td>-5.141701722457468</td><td>0.042608424431924155</td><td>11.124008626195028</td><td>0.037020642226717124</td><td>0.1420614</td><td>0.08036604</td><td>-0.042827647</td><td>0.08665718</td><td>0.31098804</td><td>0.10760259</td><td>-0.03643421</td><td>0.026582168</td><td>-0.11999822</td><td>0.03533242</td><td>349</td><td>14.591464</td><td>1.29772</td><td>0.8999999761581421</td><td>NGC_2516</td><td>3.9583258423954244</td><td>0.2491648015965764</td><td>0.9687481666915119</td><td>0.27483645488546155</td><td>0.2491648015965764</td><td>1</td><td>C</td></tr>\n",
       "<tr><td>119.1273398371943</td><td>-60.17093400484393</td><td>5291043917879994880</td><td>273.1867423821741</td><td>-15.757190872697262</td><td>2.4199514837612868</td><td>0.020038925280222983</td><td>-4.811087148985674</td><td>0.03726641772087662</td><td>11.248110121038913</td><td>0.03422512682017178</td><td>0.070562884</td><td>0.091215804</td><td>-0.21626234</td><td>0.01598055</td><td>0.48359722</td><td>-0.0005181291</td><td>-0.17044298</td><td>-0.025259536</td><td>0.15060274</td><td>-0.15072751</td><td>350</td><td>14.254346</td><td>1.1942215</td><td>0.699999988079071</td><td>NGC_2516</td><td>5.179261168185621</td><td>0.10661386972095388</td><td>0.6666788309812546</td><td>0.06611670699941996</td><td>0.10661386972095388</td><td>1</td><td>C</td></tr>\n",
       "<tr><td>120.06660913859132</td><td>-60.0071478066477</td><td>5291061235188475520</td><td>273.26316864570356</td><td>-15.266509734444385</td><td>2.409055517062841</td><td>0.02172645377309131</td><td>-4.911630395869338</td><td>0.04557270491321197</td><td>11.32203757978358</td><td>0.042218316746266395</td><td>0.16019619</td><td>0.23172972</td><td>-0.373212</td><td>-0.046402846</td><td>0.24612778</td><td>-0.01933662</td><td>-0.43521374</td><td>-0.03962051</td><td>-0.12631173</td><td>0.13758384</td><td>352</td><td>14.575683</td><td>1.2991238</td><td>0.6000000238418579</td><td>NGC_2516</td><td>3.5554248764445733</td><td>0.22166149079361727</td><td>0.9896021860186011</td><td>0.16032462305778333</td><td>0.22166149079361727</td><td>1</td><td>C</td></tr>\n",
       "</table>"
      ],
      "text/plain": [
       "<Table length=245>\n",
       "        ra                 dec         ... CDIPS classification\n",
       "     float64             float64       ... int64      str1     \n",
       "------------------ ------------------- ... ----- --------------\n",
       "119.22520690444166 -61.566462151161225 ...     1              C\n",
       "119.49936785349912  -61.45191965058128 ...     1              C\n",
       "119.98416898329307  -61.32024360559023 ...     1              C\n",
       "121.13929660975464  -61.34479131354677 ...     1              C\n",
       " 120.8427489599831  -61.36651762040685 ...     0              C\n",
       "121.15734269335677 -61.250432702202865 ...     1              C\n",
       "121.28565505123679  -61.18736195636068 ...     1              C\n",
       " 120.4673702071265 -61.448401815032604 ...     1              C\n",
       "120.60754413916358 -61.251825720989636 ...     1              C\n",
       " 120.9091449058326 -61.202491894163856 ...     1              C\n",
       "               ...                 ... ...   ...            ...\n",
       "119.23937225765353 -60.298828098950274 ...     1              C\n",
       "119.16704795584373 -60.245400137869524 ...     1              C\n",
       "119.25403743603239  -60.19601543927814 ...     1              C\n",
       "119.39598933406903   -60.1163724564806 ...     1              C\n",
       "119.62697416831926 -60.157774012693494 ...     1              C\n",
       "119.65314123565898  -60.03608363317619 ...     1              C\n",
       "119.58748798560315  -60.01077111578304 ...     1              C\n",
       "119.69235773707965  -60.02099349085033 ...     1              C\n",
       " 119.1273398371943  -60.17093400484393 ...     1              C\n",
       "120.06660913859132   -60.0071478066477 ...     1              C"
      ]
     },
     "execution_count": 584,
     "metadata": {},
     "output_type": "execute_result"
    }
   ],
   "source": [
    "allmems_periods#[highprob]"
   ]
  },
  {
   "cell_type": "code",
   "execution_count": 586,
   "metadata": {},
   "outputs": [
    {
     "data": {
      "text/plain": [
       "(array([47., 34., 41., 29., 18., 25., 29., 13.,  7.,  2.]),\n",
       " array([0.22381208, 0.79871091, 1.37360974, 1.94850857, 2.52340739,\n",
       "        3.09830622, 3.67320505, 4.24810388, 4.82300271, 5.39790153,\n",
       "        5.97280036]),\n",
       " <a list of 10 Patch objects>)"
      ]
     },
     "execution_count": 586,
     "metadata": {},
     "output_type": "execute_result"
    },
    {
     "data": {
      "image/png": "[encoded data removed]",
      "text/plain": [
       "<matplotlib.figure.Figure at 0x1c2e8b2518>"
      ]
     },
     "metadata": {
      "needs_background": "light"
     },
     "output_type": "display_data"
    }
   ],
   "source": [
    "plt.hist(allmems_periods['period'])"
   ]
  },
  {
   "cell_type": "code",
   "execution_count": 587,
   "metadata": {},
   "outputs": [
    {
     "data": {
      "text/html": [
       "<i>Table length=194</i>\n",
       "<table id=\"table121018199512\" class=\"table-striped table-bordered table-condensed\">\n",
       "<thead><tr><th>ra</th><th>dec</th><th>source_id</th><th>l</th><th>b</th><th>parallax</th><th>parallax_error</th><th>pmra</th><th>pmra_error</th><th>pmdec</th><th>pmdec_error</th><th>ra_dec_corr</th><th>ra_parallax_corr</th><th>ra_pmra_corr</th><th>ra_pmdec_corr</th><th>dec_parallax_corr</th><th>dec_pmra_corr</th><th>dec_pmdec_corr</th><th>parallax_pmra_corr</th><th>parallax_pmdec_corr</th><th>pmra_pmdec_corr</th><th>phot_g_n_obs</th><th>phot_g_mean_mag</th><th>bp_rp</th><th>proba</th><th>cluster</th><th>astrometric_gof_al</th><th>astrometric_chi2_al</th><th>astrometric_excess_noise</th><th>astrometric_excess_noise_sig</th><th>period</th><th>period_unc</th><th>e_period_hwhm</th><th>e_period_mad</th><th>e_period_std</th><th>CDIPS</th><th>classification</th></tr></thead>\n",
       "<thead><tr><th>float64</th><th>float64</th><th>int64</th><th>float64</th><th>float64</th><th>float64</th><th>float64</th><th>float64</th><th>float64</th><th>float64</th><th>float64</th><th>float64</th><th>float64</th><th>float64</th><th>float64</th><th>float64</th><th>float64</th><th>float64</th><th>float64</th><th>float64</th><th>float64</th><th>int64</th><th>float64</th><th>float64</th><th>float64</th><th>str8</th><th>float64</th><th>float64</th><th>float64</th><th>float64</th><th>float64</th><th>float64</th><th>float64</th><th>float64</th><th>float64</th><th>int64</th><th>str1</th></tr></thead>\n",
       "<tr><td>119.49936785349912</td><td>-61.45191965058128</td><td>5289890495822656640</td><td>274.45652443155785</td><td>-16.18563905846991</td><td>2.3928190531459097</td><td>0.01890695217759307</td><td>-4.393270268704721</td><td>0.039592181423995655</td><td>11.401475527243258</td><td>0.037162114672072595</td><td>0.012834066</td><td>0.034496877</td><td>-0.3020553</td><td>0.030143429</td><td>0.23014058</td><td>0.058823388</td><td>-0.2513722</td><td>0.08350046</td><td>-0.1359186</td><td>-0.007402256</td><td>455</td><td>12.709742</td><td>0.9228382</td><td>0.699999988079071</td><td>NGC_2516</td><td>3.1241972000000002</td><td>297.19097999999997</td><td>0.0</td><td>0.0</td><td>1.9601555138693318</td><td>0.013176402047905867</td><td>0.43750813929364085</td><td>0.0</td><td>0.013176402047905867</td><td>1</td><td>C</td></tr>\n",
       "<tr><td>119.98416898329307</td><td>-61.32024360559023</td><td>5289898020605414016</td><td>274.4470383089242</td><td>-15.91888146770759</td><td>2.362036220041</td><td>0.022592674318478393</td><td>-4.712546041542891</td><td>0.04576224817146788</td><td>11.733439840450455</td><td>0.04675409759308582</td><td>0.094471</td><td>0.051852487</td><td>-0.053004943</td><td>0.08687148</td><td>0.30354747</td><td>0.10655951</td><td>-0.2859684</td><td>0.06595268</td><td>-0.11679387</td><td>0.16156341</td><td>413</td><td>12.634859</td><td>0.8862591</td><td>0.8999999761581421</td><td>NGC_2516</td><td>7.240514</td><td>376.11475</td><td>0.0</td><td>0.0</td><td>2.2292090849950905</td><td>0.5520938388071954</td><td>0.5520938388071954</td><td>0.0</td><td>0.0</td><td>1</td><td>C</td></tr>\n",
       "<tr><td>121.13929660975464</td><td>-61.34479131354677</td><td>5289930181318610432</td><td>274.7422043965664</td><td>-15.442528365609865</td><td>2.3884908308201847</td><td>0.03956593795486762</td><td>-5.996325742897152</td><td>0.07986416562888808</td><td>11.285662861416583</td><td>0.06402113272147258</td><td>-0.09037766</td><td>-0.3883745</td><td>-0.67335325</td><td>0.09366239</td><td>0.36055145</td><td>0.20421809</td><td>-0.3568515</td><td>0.5064942</td><td>-0.19008742</td><td>-0.045431316</td><td>264</td><td>10.764917</td><td>0.4116087</td><td>0.800000011920929</td><td>NGC_2516</td><td>8.342107</td><td>304.49652000000003</td><td>0.0</td><td>1.2560739669470197e-15</td><td>2.010377542115748</td><td>0.025983226185360375</td><td>0.5104268584400415</td><td>0.06611682078975804</td><td>0.05311584717240069</td><td>1</td><td>C</td></tr>\n",
       "<tr><td>121.15734269335677</td><td>-61.250432702202865</td><td>5289934751163440000</td><td>274.6607323173441</td><td>-15.389518896548115</td><td>2.4388671345052253</td><td>0.026805866704714697</td><td>-5.4977469463723265</td><td>0.05465186967286327</td><td>11.431481500600079</td><td>0.04818195625532095</td><td>0.12255578</td><td>0.07034077</td><td>-0.07658734</td><td>-0.081400275</td><td>0.2666709</td><td>0.0258292</td><td>-0.31808743</td><td>0.35445124</td><td>-0.11345839</td><td>0.05156331</td><td>204</td><td>11.357195</td><td>0.59317017</td><td>0.800000011920929</td><td>NGC_2516</td><td>9.478527</td><td>401.3126</td><td>0.0</td><td>0.0</td><td>1.6380631029605859</td><td>0.021245497850816367</td><td>0.20832924637943506</td><td>0.022902631951581452</td><td>0.021245497850816367</td><td>1</td><td>C</td></tr>\n",
       "<tr><td>121.28565505123679</td><td>-61.18736195636068</td><td>5289958425026796288</td><td>274.6343536109714</td><td>-15.304977045816903</td><td>2.4091882002309433</td><td>0.05364721138081558</td><td>-5.010441469558942</td><td>0.11122766528660019</td><td>11.31696637052315</td><td>0.10035107447776305</td><td>0.05425949</td><td>-0.031743843</td><td>-0.28042758</td><td>-0.047183275</td><td>0.22311863</td><td>0.0013237105</td><td>-0.23248485</td><td>0.20772423</td><td>-0.12612036</td><td>0.10145538</td><td>440</td><td>16.926434</td><td>2.1946259</td><td>0.699999988079071</td><td>NGC_2516</td><td>0.79059106</td><td>238.37921</td><td>0.0</td><td>0.0</td><td>0.3386972844334585</td><td>0.008333500847220421</td><td>0.06250125635415316</td><td>0.0</td><td>0.008333500847220421</td><td>1</td><td>C</td></tr>\n",
       "<tr><td>120.4673702071265</td><td>-61.448401815032604</td><td>5289972031483161600</td><td>274.6775935440635</td><td>-15.774703138795028</td><td>2.517920407644222</td><td>0.02141521997580132</td><td>-4.400499687065648</td><td>0.04698595190238245</td><td>11.347170910310595</td><td>0.04675137295871833</td><td>-0.024750622</td><td>-0.12834029</td><td>-0.30896422</td><td>-0.0018503856</td><td>0.18850622</td><td>0.029727736</td><td>-0.49012598</td><td>0.03650391</td><td>0.12352677</td><td>-0.02820189</td><td>394</td><td>12.753855</td><td>0.89847565</td><td>0.6000000238418579</td><td>NGC_2516</td><td>4.271561599999999</td><td>291.2335</td><td>0.0</td><td>0.0</td><td>2.97862923895674</td><td>0.07839688706630499</td><td>0.708347081206739</td><td>0.06871057731139041</td><td>0.07839688706630499</td><td>1</td><td>C</td></tr>\n",
       "<tr><td>120.60754413916358</td><td>-61.251825720989636</td><td>5289978010077507328</td><td>274.530789427336</td><td>-15.622435916534718</td><td>2.3816840275859468</td><td>0.016162638360208096</td><td>-4.717329565412189</td><td>0.03583035361571449</td><td>10.707286781711897</td><td>0.03737933991775669</td><td>-0.21272682</td><td>0.0297794</td><td>-0.067907624</td><td>0.1427344</td><td>0.12892705</td><td>0.162093</td><td>-0.45627666</td><td>0.095569625</td><td>0.053874746</td><td>-0.23039466</td><td>395</td><td>14.332691</td><td>1.2820253</td><td>0.6000000238418579</td><td>NGC_2516</td><td>-4.977814700000001</td><td>119.35813</td><td>0.0</td><td>7.018240897946197e-16</td><td>3.6562110451050103</td><td>0.23958078073337674</td><td>0.9687396786175668</td><td>0.5267652563591964</td><td>0.23958078073337674</td><td>1</td><td>C</td></tr>\n",
       "<tr><td>120.9091449058326</td><td>-61.202491894163856</td><td>5289982713061723008</td><td>274.5576027083697</td><td>-15.471302280161437</td><td>2.3652509368700576</td><td>0.013387327265594655</td><td>-4.847132336108866</td><td>0.026984672523511888</td><td>10.826460697791378</td><td>0.0301961559776361</td><td>-0.11107961</td><td>-0.038307887</td><td>-0.29679903</td><td>0.13264479</td><td>0.1584229</td><td>0.16519792</td><td>-0.50542235</td><td>0.25189266</td><td>0.011207202</td><td>-0.061761662</td><td>389</td><td>13.048918</td><td>0.9114685</td><td>0.699999988079071</td><td>NGC_2516</td><td>0.88803303</td><td>211.31667000000002</td><td>0.0</td><td>0.0</td><td>3.759598205770764</td><td>0.30602212278932905</td><td>0.8125160783529282</td><td>0.3435530170975104</td><td>0.30602212278932905</td><td>1</td><td>C</td></tr>\n",
       "<tr><td>120.95399042748102</td><td>-61.15497567238345</td><td>5289982957879844608</td><td>274.5250730773378</td><td>-15.429563819376163</td><td>2.4215117122485434</td><td>0.013273977197465599</td><td>-4.612695587009818</td><td>0.02488479006652107</td><td>10.79502182356432</td><td>0.02680956889639087</td><td>-0.028584726</td><td>0.077906296</td><td>-0.058069587</td><td>0.09345624</td><td>0.22673078</td><td>0.15957066</td><td>-0.40213543</td><td>0.32491997</td><td>-0.048253108</td><td>-0.02386397</td><td>414</td><td>13.190689</td><td>0.989871</td><td>0.6000000238418579</td><td>NGC_2516</td><td>-2.7953806</td><td>153.76076</td><td>0.0</td><td>0.0</td><td>2.540526576872382</td><td>0.03584373283663502</td><td>0.5937617761082947</td><td>0.022903535497014876</td><td>0.03584373283663502</td><td>1</td><td>C</td></tr>\n",
       "<tr><td>121.0151174118653</td><td>-61.120031234540335</td><td>5289983473275924096</td><td>274.50795711570225</td><td>-15.38690851273474</td><td>2.3887156950201125</td><td>0.06180122749778777</td><td>-5.128803247088203</td><td>0.11772741968042169</td><td>11.046727818269435</td><td>0.12434257837563709</td><td>-0.15652533</td><td>0.17764065</td><td>-0.057622932</td><td>0.22929953</td><td>0.21452959</td><td>0.27442795</td><td>-0.41190368</td><td>0.30394462</td><td>-0.06758694</td><td>-0.10689768</td><td>411</td><td>16.928602</td><td>2.1995792</td><td>0.800000011920929</td><td>NGC_2516</td><td>0.9247113000000001</td><td>216.26962000000003</td><td>0.12402696266345012</td><td>0.4614854996099616</td><td>1.9417052634060379</td><td>0.08462708224460536</td><td>0.45834244415163994</td><td>0.0925635408300003</td><td>0.08462708224460536</td><td>1</td><td>C</td></tr>\n",
       "<tr><td>...</td><td>...</td><td>...</td><td>...</td><td>...</td><td>...</td><td>...</td><td>...</td><td>...</td><td>...</td><td>...</td><td>...</td><td>...</td><td>...</td><td>...</td><td>...</td><td>...</td><td>...</td><td>...</td><td>...</td><td>...</td><td>...</td><td>...</td><td>...</td><td>...</td><td>...</td><td>...</td><td>...</td><td>...</td><td>...</td><td>...</td><td>...</td><td>...</td><td>...</td><td>...</td><td>...</td><td>...</td></tr>\n",
       "<tr><td>119.23937225765353</td><td>-60.298828098950274</td><td>5291030448862535808</td><td>273.33131325218216</td><td>-15.76677004886915</td><td>2.4079950181013783</td><td>0.020841360597761233</td><td>-4.144574634387727</td><td>0.04176853324190522</td><td>11.068823679953411</td><td>0.037963544036613096</td><td>0.014360002</td><td>0.09923121</td><td>-0.24298535</td><td>0.05994794</td><td>0.4132529</td><td>0.07343005</td><td>-0.31524846</td><td>0.027584342</td><td>0.02949818</td><td>-0.07384287</td><td>400</td><td>12.354486</td><td>0.7990818</td><td>0.699999988079071</td><td>NGC_2516</td><td>2.487176</td><td>278.98315</td><td>0.0</td><td>0.0</td><td>1.9261871754058764</td><td>0.010206189771897523</td><td>0.4791658455505967</td><td>0.0</td><td>0.010206189771897523</td><td>1</td><td>C</td></tr>\n",
       "<tr><td>119.16704795584373</td><td>-60.245400137869524</td><td>5291031582733905408</td><td>273.26486717101915</td><td>-15.773969626249995</td><td>2.4382275579922217</td><td>0.023354675733351447</td><td>-4.115654371646839</td><td>0.04614035323908691</td><td>11.239874639572177</td><td>0.04003427127214659</td><td>0.1221169</td><td>0.19972518</td><td>-0.15460552</td><td>0.05034324</td><td>0.46130595</td><td>0.06133701</td><td>-0.3086596</td><td>-0.0025944833</td><td>0.015327351</td><td>-0.028682973</td><td>376</td><td>11.942831</td><td>0.8352108</td><td>1.0</td><td>NGC_2516</td><td>0.7157774</td><td>216.03326</td><td>0.0</td><td>0.0</td><td>1.9535469029897023</td><td>0.020412158261080955</td><td>0.46874411520548165</td><td>0.0</td><td>0.020412158261080955</td><td>1</td><td>C</td></tr>\n",
       "<tr><td>119.25403743603239</td><td>-60.19601543927814</td><td>5291032132489758208</td><td>273.24004545442506</td><td>-15.712857493971539</td><td>2.4390068944474965</td><td>0.024173984841310215</td><td>-5.02019002568929</td><td>0.04536179207930788</td><td>11.428193733686378</td><td>0.04725156372832551</td><td>0.08792979</td><td>0.1366672</td><td>-0.23994237</td><td>0.039596293</td><td>0.37428448</td><td>0.07448113</td><td>-0.35812396</td><td>0.08775715</td><td>0.044957932</td><td>-0.014748268</td><td>323</td><td>11.298716</td><td>0.57847404</td><td>0.8999999761581421</td><td>NGC_2516</td><td>9.71767</td><td>434.79526</td><td>0.0</td><td>0.0</td><td>1.4208306762389837</td><td>0.047450086155007114</td><td>0.34374935715459287</td><td>0.052892301585985166</td><td>0.047450086155007114</td><td>1</td><td>C</td></tr>\n",
       "<tr><td>119.39598933406903</td><td>-60.1163724564806</td><td>5291034194074141568</td><td>273.2006880019659</td><td>-15.613373923837422</td><td>2.4187654507054615</td><td>0.022099878856512805</td><td>-4.841142581014534</td><td>0.043215882707304185</td><td>11.119118448404711</td><td>0.03799941373684435</td><td>0.096415155</td><td>0.16177705</td><td>-0.18579096</td><td>0.024794849</td><td>0.41481555</td><td>0.081401765</td><td>-0.25980043</td><td>0.11638238</td><td>-0.006172941</td><td>-0.08014154</td><td>359</td><td>14.822936</td><td>1.3598042</td><td>0.800000011920929</td><td>NGC_2516</td><td>-2.9091953999999998</td><td>144.17056000000002</td><td>0.0</td><td>0.0</td><td>4.3187417304608955</td><td>0.21169127624565934</td><td>1.166664432734251</td><td>0.23801534649679779</td><td>0.21169127624565934</td><td>1</td><td>C</td></tr>\n",
       "<tr><td>119.62697416831926</td><td>-60.157774012693494</td><td>5291035912061108992</td><td>273.2942856692931</td><td>-15.530833072507773</td><td>2.4639899821123183</td><td>0.014111069307526723</td><td>-4.264981624140917</td><td>0.025961867364566106</td><td>11.219823556808812</td><td>0.02469121751048669</td><td>0.15057509</td><td>0.21337631</td><td>-0.11002295</td><td>0.048209216</td><td>0.43015143</td><td>0.1597502</td><td>-0.15826276</td><td>0.17675382</td><td>-0.16442062</td><td>0.042197313</td><td>371</td><td>13.123116</td><td>0.918684</td><td>0.800000011920929</td><td>NGC_2516</td><td>-5.3761725</td><td>116.03495</td><td>0.0</td><td>0.0</td><td>5.327074085595085</td><td>0.4747009737672705</td><td>1.3437476672697812</td><td>0.3305769292463053</td><td>0.4747009737672705</td><td>1</td><td>C</td></tr>\n",
       "<tr><td>119.65314123565898</td><td>-60.03608363317619</td><td>5291040103949259264</td><td>273.1889458042436</td><td>-15.462463668823272</td><td>2.414360981425432</td><td>0.02117916687234018</td><td>-4.618061728805636</td><td>0.043180264462521954</td><td>11.006738978457383</td><td>0.03977392918857888</td><td>0.08727703</td><td>0.12785408</td><td>-0.22856426</td><td>0.04489557</td><td>0.3180592</td><td>0.1015451</td><td>-0.159765</td><td>0.12712862</td><td>-0.13952814</td><td>-0.0045530507</td><td>343</td><td>11.702247</td><td>0.6786299</td><td>0.699999988079071</td><td>NGC_2516</td><td>7.262993300000001</td><td>389.01223999999996</td><td>0.0</td><td>0.0</td><td>0.5309455609747341</td><td>0.010206076164895855</td><td>0.1041653286665678</td><td>0.0</td><td>0.010206076164895855</td><td>1</td><td>C</td></tr>\n",
       "<tr><td>119.58748798560315</td><td>-60.01077111578304</td><td>5291041031662188288</td><td>273.1498248685192</td><td>-15.479646164083821</td><td>2.4088078206020027</td><td>0.0331953092534022</td><td>-4.583751175457459</td><td>0.07283918631122101</td><td>10.58189896886482</td><td>0.06292987406273014</td><td>0.17144904</td><td>0.12077461</td><td>-0.025826428</td><td>0.11654623</td><td>0.28206447</td><td>0.182303</td><td>-0.08571565</td><td>0.08687905</td><td>-0.20193389</td><td>0.1354529</td><td>342</td><td>15.859838</td><td>1.739502</td><td>0.6000000238418579</td><td>NGC_2516</td><td>0.49914327</td><td>208.43655</td><td>0.0</td><td>0.0</td><td>2.0529721676638077</td><td>0.01020618726250592</td><td>0.5104156665038317</td><td>0.0</td><td>0.01020618726250592</td><td>1</td><td>C</td></tr>\n",
       "<tr><td>119.69235773707965</td><td>-60.02099349085033</td><td>5291041547058288896</td><td>273.1846142605714</td><td>-15.438089462502184</td><td>2.444826653100309</td><td>0.019068089406006232</td><td>-5.141701722457468</td><td>0.042608424431924155</td><td>11.124008626195028</td><td>0.037020642226717124</td><td>0.1420614</td><td>0.08036604</td><td>-0.042827647</td><td>0.08665718</td><td>0.31098804</td><td>0.10760259</td><td>-0.03643421</td><td>0.026582168</td><td>-0.11999822</td><td>0.03533242</td><td>349</td><td>14.591464</td><td>1.29772</td><td>0.8999999761581421</td><td>NGC_2516</td><td>-4.0897483999999995</td><td>125.17091</td><td>0.0</td><td>0.0</td><td>3.9583258423954244</td><td>0.2491648015965764</td><td>0.9687481666915119</td><td>0.27483645488546155</td><td>0.2491648015965764</td><td>1</td><td>C</td></tr>\n",
       "<tr><td>119.1273398371943</td><td>-60.17093400484393</td><td>5291043917879994880</td><td>273.1867423821741</td><td>-15.757190872697262</td><td>2.4199514837612868</td><td>0.020038925280222983</td><td>-4.811087148985674</td><td>0.03726641772087662</td><td>11.248110121038913</td><td>0.03422512682017178</td><td>0.070562884</td><td>0.091215804</td><td>-0.21626234</td><td>0.01598055</td><td>0.48359722</td><td>-0.0005181291</td><td>-0.17044298</td><td>-0.025259536</td><td>0.15060274</td><td>-0.15072751</td><td>350</td><td>14.254346</td><td>1.1942215</td><td>0.699999988079071</td><td>NGC_2516</td><td>-3.1145492000000004</td><td>137.51543</td><td>0.0</td><td>0.0</td><td>5.179261168185621</td><td>0.10661386972095388</td><td>0.6666788309812546</td><td>0.06611670699941996</td><td>0.10661386972095388</td><td>1</td><td>C</td></tr>\n",
       "<tr><td>120.06660913859132</td><td>-60.0071478066477</td><td>5291061235188475520</td><td>273.26316864570356</td><td>-15.266509734444385</td><td>2.409055517062841</td><td>0.02172645377309131</td><td>-4.911630395869338</td><td>0.04557270491321197</td><td>11.32203757978358</td><td>0.042218316746266395</td><td>0.16019619</td><td>0.23172972</td><td>-0.373212</td><td>-0.046402846</td><td>0.24612778</td><td>-0.01933662</td><td>-0.43521374</td><td>-0.03962051</td><td>-0.12631173</td><td>0.13758384</td><td>352</td><td>14.575683</td><td>1.2991238</td><td>0.6000000238418579</td><td>NGC_2516</td><td>-2.4321713</td><td>136.2556</td><td>0.0</td><td>0.0</td><td>3.5554248764445733</td><td>0.22166149079361727</td><td>0.9896021860186011</td><td>0.16032462305778333</td><td>0.22166149079361727</td><td>1</td><td>C</td></tr>\n",
       "</table>"
      ],
      "text/plain": [
       "<Table length=194>\n",
       "        ra                 dec         ... CDIPS classification\n",
       "     float64             float64       ... int64      str1     \n",
       "------------------ ------------------- ... ----- --------------\n",
       "119.49936785349912  -61.45191965058128 ...     1              C\n",
       "119.98416898329307  -61.32024360559023 ...     1              C\n",
       "121.13929660975464  -61.34479131354677 ...     1              C\n",
       "121.15734269335677 -61.250432702202865 ...     1              C\n",
       "121.28565505123679  -61.18736195636068 ...     1              C\n",
       " 120.4673702071265 -61.448401815032604 ...     1              C\n",
       "120.60754413916358 -61.251825720989636 ...     1              C\n",
       " 120.9091449058326 -61.202491894163856 ...     1              C\n",
       "120.95399042748102  -61.15497567238345 ...     1              C\n",
       " 121.0151174118653 -61.120031234540335 ...     1              C\n",
       "               ...                 ... ...   ...            ...\n",
       "119.23937225765353 -60.298828098950274 ...     1              C\n",
       "119.16704795584373 -60.245400137869524 ...     1              C\n",
       "119.25403743603239  -60.19601543927814 ...     1              C\n",
       "119.39598933406903   -60.1163724564806 ...     1              C\n",
       "119.62697416831926 -60.157774012693494 ...     1              C\n",
       "119.65314123565898  -60.03608363317619 ...     1              C\n",
       "119.58748798560315  -60.01077111578304 ...     1              C\n",
       "119.69235773707965  -60.02099349085033 ...     1              C\n",
       " 119.1273398371943  -60.17093400484393 ...     1              C\n",
       "120.06660913859132   -60.0071478066477 ...     1              C"
      ]
     },
     "execution_count": 587,
     "metadata": {},
     "output_type": "execute_result"
    }
   ],
   "source": [
    "ssmems_periods = join(ssmemtbl,vetperiods[goodindx])\n",
    "\n",
    "ssmems_periods"
   ]
  },
  {
   "cell_type": "code",
   "execution_count": null,
   "metadata": {},
   "outputs": [],
   "source": []
  },
  {
   "cell_type": "code",
   "execution_count": 588,
   "metadata": {},
   "outputs": [
    {
     "data": {
      "text/plain": [
       "(19, 5)"
      ]
     },
     "execution_count": 588,
     "metadata": {},
     "output_type": "execute_result"
    },
    {
     "data": {
      "image/png": "[encoded data removed]",
      "text/plain": [
       "<matplotlib.figure.Figure at 0x1c2e8b2320>"
      ]
     },
     "metadata": {
      "needs_background": "light"
     },
     "output_type": "display_data"
    }
   ],
   "source": [
    "plt.figure(figsize=(10,10))\n",
    "plt.scatter(mems[highprob]['bp_rp'],mems[highprob]['phot_g_mean_mag'],color='navy')\n",
    "plt.scatter(ssmems_periods['bp_rp'],ssmems_periods['phot_g_mean_mag'],color='coral')\n",
    "plt.ylim(19,5)"
   ]
  },
  {
   "cell_type": "code",
   "execution_count": 589,
   "metadata": {},
   "outputs": [
    {
     "data": {
      "text/plain": [
       "(array([32., 22., 34., 23., 15., 25., 24., 11.,  7.,  1.]),\n",
       " array([0.22440884, 0.79924799, 1.37408715, 1.9489263 , 2.52376545,\n",
       "        3.0986046 , 3.67344375, 4.24828291, 4.82312206, 5.39796121,\n",
       "        5.97280036]),\n",
       " <a list of 10 Patch objects>)"
      ]
     },
     "execution_count": 589,
     "metadata": {},
     "output_type": "execute_result"
    },
    {
     "data": {
      "image/png": "[encoded data removed]",
      "text/plain": [
       "<matplotlib.figure.Figure at 0x1c2c8c73c8>"
      ]
     },
     "metadata": {
      "needs_background": "light"
     },
     "output_type": "display_data"
    }
   ],
   "source": [
    "plt.hist(ssmems_periods['period'])"
   ]
  },
  {
   "cell_type": "code",
   "execution_count": 590,
   "metadata": {},
   "outputs": [
    {
     "data": {
      "text/plain": [
       "<matplotlib.collections.PathCollection at 0x1c26cc0828>"
      ]
     },
     "execution_count": 590,
     "metadata": {},
     "output_type": "execute_result"
    },
    {
     "data": {
      "image/png": "[encoded data removed]",
      "text/plain": [
       "<matplotlib.figure.Figure at 0x1c2c01f198>"
      ]
     },
     "metadata": {
      "needs_background": "light"
     },
     "output_type": "display_data"
    }
   ],
   "source": [
    "plt.scatter(ssmems_periods['bp_rp'],ssmems_periods['period'])"
   ]
  },
  {
   "cell_type": "code",
   "execution_count": null,
   "metadata": {},
   "outputs": [],
   "source": []
  },
  {
   "cell_type": "code",
   "execution_count": 591,
   "metadata": {},
   "outputs": [
    {
     "data": {
      "text/plain": [
       "110"
      ]
     },
     "execution_count": 591,
     "metadata": {},
     "output_type": "execute_result"
    }
   ],
   "source": [
    "np.sum((memtbl['vsini'] > 5) & (memtbl['proba'] > 0.5))"
   ]
  },
  {
   "cell_type": "code",
   "execution_count": 592,
   "metadata": {},
   "outputs": [
    {
     "data": {
      "text/html": [
       "<i>Table length=87</i>\n",
       "<table id=\"table112214331912\" class=\"table-striped table-bordered table-condensed\">\n",
       "<thead><tr><th>ra</th><th>dec</th><th>source_id</th><th>l</th><th>b</th><th>parallax</th><th>parallax_error</th><th>pmra</th><th>pmra_error</th><th>pmdec</th><th>pmdec_error</th><th>ra_dec_corr</th><th>ra_parallax_corr</th><th>ra_pmra_corr</th><th>ra_pmdec_corr</th><th>dec_parallax_corr</th><th>dec_pmra_corr</th><th>dec_pmdec_corr</th><th>parallax_pmra_corr</th><th>parallax_pmdec_corr</th><th>pmra_pmdec_corr</th><th>phot_g_n_obs</th><th>phot_g_mean_mag</th><th>bp_rp</th><th>proba</th><th>Cluster</th><th>Object</th><th>Icmag</th><th>Jmag</th><th>Hmag</th><th>Kmag</th><th>S/N</th><th>RV</th><th>vsini</th><th>logTeff</th><th>Nsp</th><th>pRV</th><th>pvsini</th><th>gaia_r</th><th>parallax_err</th><th>cluster</th><th>astrometric_gof_al</th><th>astrometric_chi2_al</th><th>astrometric_excess_noise</th><th>astrometric_excess_noise_sig</th><th>Survey</th><th>star_id</th><th>sobject_id</th><th>ndfclass</th><th>field_id</th><th>raj2000</th><th>dej2000</th><th>jmag</th><th>hmag</th><th>kmag</th><th>vmag_jk</th><th>e_jmag</th><th>e_hmag</th><th>e_kmag</th><th>snr_c1</th><th>snr_c2</th><th>snr_c3</th><th>snr_c4</th><th>rv_synt</th><th>e_rv_synt</th><th>rv_obst</th><th>e_rv_obst</th><th>rv_nogr_obst</th><th>e_rv_nogr_obst</th><th>chi2_cannon</th><th>sp_label_distance</th><th>flag_cannon</th><th>teff</th><th>e_teff</th><th>logg</th><th>e_logg</th><th>fe_h</th><th>e_fe_h</th><th>vmic</th><th>e_vmic</th><th>e_vsini</th><th>alpha_fe</th><th>e_alpha_fe</th><th>li_fe</th><th>e_li_fe</th><th>flag_li_fe</th><th>c_fe</th><th>e_c_fe</th><th>flag_c_fe</th><th>o_fe</th><th>e_o_fe</th><th>flag_o_fe</th><th>na_fe</th><th>e_na_fe</th><th>flag_na_fe</th><th>mg_fe</th><th>e_mg_fe</th><th>flag_mg_fe</th><th>al_fe</th><th>e_al_fe</th><th>flag_al_fe</th><th>si_fe</th><th>e_si_fe</th><th>flag_si_fe</th><th>k_fe</th><th>e_k_fe</th><th>flag_k_fe</th><th>ca_fe</th><th>e_ca_fe</th><th>flag_ca_fe</th><th>sc_fe</th><th>e_sc_fe</th><th>flag_sc_fe</th><th>ti_fe</th><th>e_ti_fe</th><th>flag_ti_fe</th><th>v_fe</th><th>e_v_fe</th><th>flag_v_fe</th><th>cr_fe</th><th>e_cr_fe</th><th>flag_cr_fe</th><th>mn_fe</th><th>e_mn_fe</th><th>flag_mn_fe</th><th>co_fe</th><th>e_co_fe</th><th>flag_co_fe</th><th>ni_fe</th><th>e_ni_fe</th><th>flag_ni_fe</th><th>cu_fe</th><th>e_cu_fe</th><th>flag_cu_fe</th><th>zn_fe</th><th>e_zn_fe</th><th>flag_zn_fe</th><th>y_fe</th><th>e_y_fe</th><th>flag_y_fe</th><th>ba_fe</th><th>e_ba_fe</th><th>flag_ba_fe</th><th>la_fe</th><th>e_la_fe</th><th>flag_la_fe</th><th>eu_fe</th><th>e_eu_fe</th><th>flag_eu_fe</th><th>period</th><th>period_unc</th><th>e_period_hwhm</th><th>e_period_mad</th><th>e_period_std</th><th>CDIPS</th><th>classification</th></tr></thead>\n",
       "<thead><tr><th>float64</th><th>float64</th><th>int64</th><th>float64</th><th>float64</th><th>float64</th><th>float64</th><th>float64</th><th>float64</th><th>float64</th><th>float64</th><th>float64</th><th>float64</th><th>float64</th><th>float64</th><th>float64</th><th>float64</th><th>float64</th><th>float64</th><th>float64</th><th>float64</th><th>int64</th><th>float64</th><th>float64</th><th>float64</th><th>str7</th><th>str16</th><th>float64</th><th>float64</th><th>float64</th><th>float64</th><th>float64</th><th>float64</th><th>float64</th><th>float64</th><th>int64</th><th>float64</th><th>float64</th><th>float64</th><th>float64</th><th>str8</th><th>float64</th><th>float64</th><th>float64</th><th>float64</th><th>str5</th><th>str16</th><th>int64</th><th>str8</th><th>int64</th><th>float64</th><th>float64</th><th>float64</th><th>float64</th><th>float64</th><th>float64</th><th>float64</th><th>float64</th><th>float64</th><th>float64</th><th>float64</th><th>float64</th><th>float64</th><th>float64</th><th>float64</th><th>float64</th><th>float64</th><th>float64</th><th>float64</th><th>float64</th><th>float64</th><th>int64</th><th>float64</th><th>float64</th><th>float64</th><th>float64</th><th>float64</th><th>float64</th><th>float64</th><th>float64</th><th>float64</th><th>float64</th><th>float64</th><th>float64</th><th>float64</th><th>int64</th><th>float64</th><th>float64</th><th>int64</th><th>float64</th><th>float64</th><th>int64</th><th>float64</th><th>float64</th><th>int64</th><th>float64</th><th>float64</th><th>int64</th><th>float64</th><th>float64</th><th>int64</th><th>float64</th><th>float64</th><th>int64</th><th>float64</th><th>float64</th><th>int64</th><th>float64</th><th>float64</th><th>int64</th><th>float64</th><th>float64</th><th>int64</th><th>float64</th><th>float64</th><th>int64</th><th>float64</th><th>float64</th><th>int64</th><th>float64</th><th>float64</th><th>int64</th><th>float64</th><th>float64</th><th>int64</th><th>float64</th><th>float64</th><th>int64</th><th>float64</th><th>float64</th><th>int64</th><th>float64</th><th>float64</th><th>int64</th><th>float64</th><th>float64</th><th>int64</th><th>float64</th><th>float64</th><th>int64</th><th>float64</th><th>float64</th><th>int64</th><th>float64</th><th>float64</th><th>int64</th><th>float64</th><th>float64</th><th>int64</th><th>float64</th><th>float64</th><th>float64</th><th>float64</th><th>float64</th><th>int64</th><th>str1</th></tr></thead>\n",
       "<tr><td>118.96738202201645</td><td>-60.900954075464966</td><td>5290717156769863296</td><td>273.8242496955609</td><td>-16.161456456113402</td><td>2.4058211084230536</td><td>0.061830053756787566</td><td>-3.772999705554593</td><td>0.14194758551742004</td><td>11.19573449580076</td><td>0.1170119332730182</td><td>0.014870356</td><td>-0.013793658</td><td>-0.18844959</td><td>0.028962325</td><td>0.29360867</td><td>0.060972344</td><td>-0.35829064</td><td>0.11112154</td><td>-0.040346175</td><td>0.076971464</td><td>386</td><td>16.925892</td><td>2.2192764</td><td>0.800000011920929</td><td>NGC2516</td><td>07555219-6054036</td><td>0.0</td><td>14.34</td><td>13.57</td><td>13.38</td><td>27.29</td><td>26.19</td><td>79.2</td><td>3.551</td><td>2</td><td>1.54</td><td>0.06</td><td>0.5966528058052063</td><td>0.061830053756787566</td><td>NGC_2516</td><td>2.3773413</td><td>265.15982</td><td>0.23110363065781456</td><td>1.5535992224973016</td><td>GES</td><td>--</td><td>--</td><td>--</td><td>--</td><td>--</td><td>--</td><td>--</td><td>--</td><td>--</td><td>--</td><td>--</td><td>--</td><td>--</td><td>--</td><td>--</td><td>--</td><td>--</td><td>--</td><td>--</td><td>--</td><td>--</td><td>--</td><td>--</td><td>--</td><td>--</td><td>--</td><td>3556.3131856898544</td><td>130.31561691791333</td><td>--</td><td>--</td><td>--</td><td>--</td><td>--</td><td>--</td><td>4.752</td><td>--</td><td>--</td><td>--</td><td>--</td><td>--</td><td>--</td><td>--</td><td>--</td><td>--</td><td>--</td><td>--</td><td>--</td><td>--</td><td>--</td><td>--</td><td>--</td><td>--</td><td>--</td><td>--</td><td>--</td><td>--</td><td>--</td><td>--</td><td>--</td><td>--</td><td>--</td><td>--</td><td>--</td><td>--</td><td>--</td><td>--</td><td>--</td><td>--</td><td>--</td><td>--</td><td>--</td><td>--</td><td>--</td><td>--</td><td>--</td><td>--</td><td>--</td><td>--</td><td>--</td><td>--</td><td>--</td><td>--</td><td>--</td><td>--</td><td>--</td><td>--</td><td>--</td><td>--</td><td>--</td><td>--</td><td>--</td><td>--</td><td>--</td><td>--</td><td>--</td><td>--</td><td>--</td><td>--</td><td>--</td><td>--</td><td>--</td><td>--</td><td>--</td><td>0.3124964190647005</td><td>0.052082736510783434</td><td>0.052082736510783434</td><td>0.0</td><td>0.0</td><td>1</td><td>C</td></tr>\n",
       "<tr><td>119.23477768044064</td><td>-61.01592919157621</td><td>5290665204845694336</td><td>273.9924563522617</td><td>-16.098536078476037</td><td>2.458022835975593</td><td>0.02839492201904915</td><td>-4.225825531395757</td><td>0.056428388851406046</td><td>10.899937613299397</td><td>0.05724240426432102</td><td>-0.05445077</td><td>-0.10038883</td><td>-0.1786884</td><td>0.15465733</td><td>0.20828745</td><td>0.18859716</td><td>-0.20497853</td><td>0.15496665</td><td>-0.08978485</td><td>-0.010322434</td><td>400</td><td>15.778953</td><td>1.7705164</td><td>0.6000000238418579</td><td>NGC2516</td><td>07565636-6100575</td><td>0.0</td><td>13.7</td><td>12.95</td><td>12.73</td><td>42.55</td><td>24.38</td><td>105.5</td><td>3.556</td><td>2</td><td>1.66</td><td>0.06</td><td>0.5982584953308105</td><td>0.02839492201904915</td><td>NGC_2516</td><td>0.5835014000000001</td><td>237.94316</td><td>0.0</td><td>0.0</td><td>GES</td><td>--</td><td>--</td><td>--</td><td>--</td><td>--</td><td>--</td><td>--</td><td>--</td><td>--</td><td>--</td><td>--</td><td>--</td><td>--</td><td>--</td><td>--</td><td>--</td><td>--</td><td>--</td><td>--</td><td>--</td><td>--</td><td>--</td><td>--</td><td>--</td><td>--</td><td>--</td><td>3597.4933515574235</td><td>84.54743481921089</td><td>--</td><td>--</td><td>--</td><td>--</td><td>--</td><td>--</td><td>6.33</td><td>--</td><td>--</td><td>--</td><td>--</td><td>--</td><td>--</td><td>--</td><td>--</td><td>--</td><td>--</td><td>--</td><td>--</td><td>--</td><td>--</td><td>--</td><td>--</td><td>--</td><td>--</td><td>--</td><td>--</td><td>--</td><td>--</td><td>--</td><td>--</td><td>--</td><td>--</td><td>--</td><td>--</td><td>--</td><td>--</td><td>--</td><td>--</td><td>--</td><td>--</td><td>--</td><td>--</td><td>--</td><td>--</td><td>--</td><td>--</td><td>--</td><td>--</td><td>--</td><td>--</td><td>--</td><td>--</td><td>--</td><td>--</td><td>--</td><td>--</td><td>--</td><td>--</td><td>--</td><td>--</td><td>--</td><td>--</td><td>--</td><td>--</td><td>--</td><td>--</td><td>--</td><td>--</td><td>--</td><td>--</td><td>--</td><td>--</td><td>--</td><td>--</td><td>0.22917088400572533</td><td>0.05208429181948304</td><td>0.05208429181948304</td><td>0.0</td><td>0.0</td><td>1</td><td>C</td></tr>\n",
       "<tr><td>118.68415052128388</td><td>-60.82975927955728</td><td>5290731862737611648</td><td>273.69300808758317</td><td>-16.25201644250455</td><td>2.4593808624121216</td><td>0.05331913729467228</td><td>-4.196659381993007</td><td>0.12288707873677139</td><td>11.612695593961494</td><td>0.10996890859513135</td><td>-0.024289252</td><td>-0.12357945</td><td>-0.25949946</td><td>0.06293481</td><td>0.24059461</td><td>0.08541924</td><td>-0.42044944</td><td>0.11436328</td><td>-0.03459871</td><td>0.05503604</td><td>403</td><td>16.911356</td><td>2.197322</td><td>0.800000011920929</td><td>NGC2516</td><td>07544421-6049473</td><td>0.0</td><td>14.38</td><td>13.62</td><td>13.55</td><td>24.05</td><td>23.29</td><td>1.2</td><td>3.595</td><td>2</td><td>0.3</td><td>3.48</td><td>nan</td><td>0.05331913729467228</td><td>NGC_2516</td><td>1.7251066000000002</td><td>262.87466</td><td>0.08693876709419268</td><td>0.2564828242021018</td><td>GES</td><td>--</td><td>--</td><td>--</td><td>--</td><td>--</td><td>--</td><td>--</td><td>--</td><td>--</td><td>--</td><td>--</td><td>--</td><td>--</td><td>--</td><td>--</td><td>--</td><td>--</td><td>--</td><td>--</td><td>--</td><td>--</td><td>--</td><td>--</td><td>--</td><td>--</td><td>--</td><td>3935.5007545577764</td><td>163.63828501279735</td><td>--</td><td>--</td><td>--</td><td>--</td><td>--</td><td>--</td><td>4.176</td><td>--</td><td>--</td><td>--</td><td>--</td><td>--</td><td>--</td><td>--</td><td>--</td><td>--</td><td>--</td><td>--</td><td>--</td><td>--</td><td>--</td><td>--</td><td>--</td><td>--</td><td>--</td><td>--</td><td>--</td><td>--</td><td>--</td><td>--</td><td>--</td><td>--</td><td>--</td><td>--</td><td>--</td><td>--</td><td>--</td><td>--</td><td>--</td><td>--</td><td>--</td><td>--</td><td>--</td><td>--</td><td>--</td><td>--</td><td>--</td><td>--</td><td>--</td><td>--</td><td>--</td><td>--</td><td>--</td><td>--</td><td>--</td><td>--</td><td>--</td><td>--</td><td>--</td><td>--</td><td>--</td><td>--</td><td>--</td><td>--</td><td>--</td><td>--</td><td>--</td><td>--</td><td>--</td><td>--</td><td>--</td><td>--</td><td>--</td><td>--</td><td>--</td><td>3.583397595211864</td><td>0.020833706948906183</td><td>0.7812640105839819</td><td>0.04580698396699084</td><td>0.020833706948906183</td><td>1</td><td>C</td></tr>\n",
       "<tr><td>118.74796896100209</td><td>-61.07296666629273</td><td>5290713686436348800</td><td>273.93360910755223</td><td>-16.334342631976718</td><td>2.4241829945202964</td><td>0.05983180258367182</td><td>-4.740110023627283</td><td>0.1282424206759866</td><td>12.500841799381256</td><td>0.12322516043906842</td><td>0.022887345</td><td>-0.04534524</td><td>-0.20608518</td><td>0.07193375</td><td>0.16714025</td><td>0.12553652</td><td>-0.3642227</td><td>0.2281712</td><td>0.017840926</td><td>-0.00812995</td><td>409</td><td>17.089138</td><td>2.408452</td><td>0.800000011920929</td><td>NGC2516</td><td>07545954-6104227</td><td>0.0</td><td>14.34</td><td>13.58</td><td>13.32</td><td>19.97</td><td>25.57</td><td>1.2</td><td>3.599</td><td>2</td><td>0.32</td><td>1.46</td><td>nan</td><td>0.05983180258367182</td><td>NGC_2516</td><td>1.9111947</td><td>284.6959</td><td>0.2162379983036597</td><td>1.296136159338365</td><td>GES</td><td>--</td><td>--</td><td>--</td><td>--</td><td>--</td><td>--</td><td>--</td><td>--</td><td>--</td><td>--</td><td>--</td><td>--</td><td>--</td><td>--</td><td>--</td><td>--</td><td>--</td><td>--</td><td>--</td><td>--</td><td>--</td><td>--</td><td>--</td><td>--</td><td>--</td><td>--</td><td>3971.915494694405</td><td>198.89411590858313</td><td>--</td><td>--</td><td>--</td><td>--</td><td>--</td><td>--</td><td>1.752</td><td>--</td><td>--</td><td>--</td><td>--</td><td>--</td><td>--</td><td>--</td><td>--</td><td>--</td><td>--</td><td>--</td><td>--</td><td>--</td><td>--</td><td>--</td><td>--</td><td>--</td><td>--</td><td>--</td><td>--</td><td>--</td><td>--</td><td>--</td><td>--</td><td>--</td><td>--</td><td>--</td><td>--</td><td>--</td><td>--</td><td>--</td><td>--</td><td>--</td><td>--</td><td>--</td><td>--</td><td>--</td><td>--</td><td>--</td><td>--</td><td>--</td><td>--</td><td>--</td><td>--</td><td>--</td><td>--</td><td>--</td><td>--</td><td>--</td><td>--</td><td>--</td><td>--</td><td>--</td><td>--</td><td>--</td><td>--</td><td>--</td><td>--</td><td>--</td><td>--</td><td>--</td><td>--</td><td>--</td><td>--</td><td>--</td><td>--</td><td>--</td><td>--</td><td>0.8428723147937228</td><td>0.02124629707923884</td><td>0.20833708345890045</td><td>0.022903493519266696</td><td>0.02124629707923884</td><td>1</td><td>C</td></tr>\n",
       "<tr><td>118.88633000457749</td><td>-60.61865252762589</td><td>5290741449104650112</td><td>273.543892110522</td><td>-16.068093047168475</td><td>2.379267444053882</td><td>0.05507487186627681</td><td>-4.49957634822867</td><td>0.10337215899566655</td><td>11.512073465567443</td><td>0.09553137516102614</td><td>-0.17934994</td><td>-0.15225042</td><td>-0.25453132</td><td>0.079554126</td><td>0.45525783</td><td>0.14158715</td><td>-0.32900396</td><td>0.21887049</td><td>-0.19230112</td><td>-0.04543246</td><td>405</td><td>16.515684</td><td>2.0785131</td><td>0.8999999761581421</td><td>NGC2516</td><td>07553274-6037074</td><td>0.0</td><td>14.07</td><td>13.4</td><td>13.17</td><td>28.46</td><td>21.23</td><td>50.8</td><td>3.601</td><td>2</td><td>0.88</td><td>0.06</td><td>0.5460766553878784</td><td>0.05507487186627681</td><td>NGC_2516</td><td>2.532571</td><td>278.97766</td><td>0.2472445224166545</td><td>2.8089158862584505</td><td>GES</td><td>--</td><td>--</td><td>--</td><td>--</td><td>--</td><td>--</td><td>--</td><td>--</td><td>--</td><td>--</td><td>--</td><td>--</td><td>--</td><td>--</td><td>--</td><td>--</td><td>--</td><td>--</td><td>--</td><td>--</td><td>--</td><td>--</td><td>--</td><td>--</td><td>--</td><td>--</td><td>3990.2490236214207</td><td>140.20551734439286</td><td>--</td><td>--</td><td>--</td><td>--</td><td>--</td><td>--</td><td>3.0479999999999996</td><td>--</td><td>--</td><td>--</td><td>--</td><td>--</td><td>--</td><td>--</td><td>--</td><td>--</td><td>--</td><td>--</td><td>--</td><td>--</td><td>--</td><td>--</td><td>--</td><td>--</td><td>--</td><td>--</td><td>--</td><td>--</td><td>--</td><td>--</td><td>--</td><td>--</td><td>--</td><td>--</td><td>--</td><td>--</td><td>--</td><td>--</td><td>--</td><td>--</td><td>--</td><td>--</td><td>--</td><td>--</td><td>--</td><td>--</td><td>--</td><td>--</td><td>--</td><td>--</td><td>--</td><td>--</td><td>--</td><td>--</td><td>--</td><td>--</td><td>--</td><td>--</td><td>--</td><td>--</td><td>--</td><td>--</td><td>--</td><td>--</td><td>--</td><td>--</td><td>--</td><td>--</td><td>--</td><td>--</td><td>--</td><td>--</td><td>--</td><td>--</td><td>--</td><td>0.2553617622703313</td><td>0.008333484083414078</td><td>0.052084275521337986</td><td>0.0</td><td>0.01020639189198483</td><td>1</td><td>C</td></tr>\n",
       "<tr><td>120.08160142748102</td><td>-60.75560401468805</td><td>5290766256836800896</td><td>273.95160822703076</td><td>-15.612754628867037</td><td>2.4075789224392916</td><td>0.05347489844852873</td><td>-4.778608558774864</td><td>0.12802514090894704</td><td>10.657183310441514</td><td>0.11023755873602105</td><td>0.03614509</td><td>-0.080228634</td><td>0.14417386</td><td>0.058950607</td><td>0.16244793</td><td>0.049373835</td><td>-0.15017985</td><td>0.06468676</td><td>-0.14847012</td><td>0.10116213</td><td>372</td><td>16.592422</td><td>2.052392</td><td>1.0</td><td>NGC2516</td><td>08001959-6045204</td><td>0.0</td><td>14.23</td><td>13.43</td><td>13.26</td><td>31.01</td><td>26.56</td><td>49.1</td><td>3.601</td><td>2</td><td>0.78</td><td>0.06</td><td>0.59382563829422</td><td>0.05347489844852873</td><td>NGC_2516</td><td>1.2847277</td><td>190.8671</td><td>0.1045323431588779</td><td>0.3883298418116107</td><td>GES</td><td>--</td><td>--</td><td>--</td><td>--</td><td>--</td><td>--</td><td>--</td><td>--</td><td>--</td><td>--</td><td>--</td><td>--</td><td>--</td><td>--</td><td>--</td><td>--</td><td>--</td><td>--</td><td>--</td><td>--</td><td>--</td><td>--</td><td>--</td><td>--</td><td>--</td><td>--</td><td>3990.2490236214207</td><td>128.67620198714675</td><td>--</td><td>--</td><td>--</td><td>--</td><td>--</td><td>--</td><td>2.946</td><td>--</td><td>--</td><td>--</td><td>--</td><td>--</td><td>--</td><td>--</td><td>--</td><td>--</td><td>--</td><td>--</td><td>--</td><td>--</td><td>--</td><td>--</td><td>--</td><td>--</td><td>--</td><td>--</td><td>--</td><td>--</td><td>--</td><td>--</td><td>--</td><td>--</td><td>--</td><td>--</td><td>--</td><td>--</td><td>--</td><td>--</td><td>--</td><td>--</td><td>--</td><td>--</td><td>--</td><td>--</td><td>--</td><td>--</td><td>--</td><td>--</td><td>--</td><td>--</td><td>--</td><td>--</td><td>--</td><td>--</td><td>--</td><td>--</td><td>--</td><td>--</td><td>--</td><td>--</td><td>--</td><td>--</td><td>--</td><td>--</td><td>--</td><td>--</td><td>--</td><td>--</td><td>--</td><td>--</td><td>--</td><td>--</td><td>--</td><td>--</td><td>--</td><td>0.4571375727653502</td><td>0.0155900588950074</td><td>0.1041654625441879</td><td>0.022902816500096325</td><td>0.0155900588950074</td><td>1</td><td>C</td></tr>\n",
       "<tr><td>119.87081758061746</td><td>-60.66154951640272</td><td>5290817212328531072</td><td>273.8151281667631</td><td>-15.659740000326625</td><td>2.4428402085346916</td><td>0.060982685192413774</td><td>-4.24202014032291</td><td>0.14022216642495422</td><td>11.403361044437947</td><td>0.11718587294606186</td><td>0.028103054</td><td>-0.077069566</td><td>-0.062218517</td><td>-0.10782438</td><td>0.29826143</td><td>-0.1203614</td><td>0.12512742</td><td>0.15014581</td><td>-0.0012410679</td><td>-0.12329462</td><td>377</td><td>16.676176</td><td>2.0760937</td><td>0.8999999761581421</td><td>NGC2516</td><td>07592900-6039417</td><td>0.0</td><td>14.22</td><td>13.53</td><td>13.3</td><td>29.12</td><td>22.27</td><td>62.8</td><td>3.606</td><td>2</td><td>1.12</td><td>0.06</td><td>0.5437974333763123</td><td>0.060982685192413774</td><td>NGC_2516</td><td>1.4348531</td><td>189.56548999999998</td><td>0.16347142333845854</td><td>0.914656713637061</td><td>GES</td><td>--</td><td>--</td><td>--</td><td>--</td><td>--</td><td>--</td><td>--</td><td>--</td><td>--</td><td>--</td><td>--</td><td>--</td><td>--</td><td>--</td><td>--</td><td>--</td><td>--</td><td>--</td><td>--</td><td>--</td><td>--</td><td>--</td><td>--</td><td>--</td><td>--</td><td>--</td><td>4036.4539296760486</td><td>138.6144893432709</td><td>--</td><td>--</td><td>--</td><td>--</td><td>--</td><td>--</td><td>3.768</td><td>--</td><td>--</td><td>--</td><td>--</td><td>--</td><td>--</td><td>--</td><td>--</td><td>--</td><td>--</td><td>--</td><td>--</td><td>--</td><td>--</td><td>--</td><td>--</td><td>--</td><td>--</td><td>--</td><td>--</td><td>--</td><td>--</td><td>--</td><td>--</td><td>--</td><td>--</td><td>--</td><td>--</td><td>--</td><td>--</td><td>--</td><td>--</td><td>--</td><td>--</td><td>--</td><td>--</td><td>--</td><td>--</td><td>--</td><td>--</td><td>--</td><td>--</td><td>--</td><td>--</td><td>--</td><td>--</td><td>--</td><td>--</td><td>--</td><td>--</td><td>--</td><td>--</td><td>--</td><td>--</td><td>--</td><td>--</td><td>--</td><td>--</td><td>--</td><td>--</td><td>--</td><td>--</td><td>--</td><td>--</td><td>--</td><td>--</td><td>--</td><td>--</td><td>0.33332941681146616</td><td>0.07291580992750823</td><td>0.07291580992750823</td><td>0.0</td><td>0.0</td><td>1</td><td>C</td></tr>\n",
       "<tr><td>119.62997956802782</td><td>-61.08969061592808</td><td>5290655687198404864</td><td>274.1522684188541</td><td>-15.962756765003558</td><td>2.4652637482422928</td><td>0.06032916823415625</td><td>-4.695146958604306</td><td>0.12255809954780116</td><td>11.236194643186431</td><td>0.10766447681122257</td><td>0.022072649</td><td>0.11788812</td><td>-0.12629795</td><td>0.030659784</td><td>0.2522723</td><td>0.09911209</td><td>-0.09510061</td><td>0.1812259</td><td>-0.19569308</td><td>-0.0646742</td><td>420</td><td>16.89682</td><td>2.127181</td><td>0.800000011920929</td><td>NGC2516</td><td>07583121-6105232</td><td>0.0</td><td>14.38</td><td>13.66</td><td>13.42</td><td>25.33</td><td>23.34</td><td>26.2</td><td>3.606</td><td>2</td><td>0.49</td><td>0.06</td><td>0.5419772863388062</td><td>0.06032916823415625</td><td>NGC_2516</td><td>1.2813251</td><td>231.33142</td><td>0.08804707724432517</td><td>0.23308458536138574</td><td>GES</td><td>--</td><td>--</td><td>--</td><td>--</td><td>--</td><td>--</td><td>--</td><td>--</td><td>--</td><td>--</td><td>--</td><td>--</td><td>--</td><td>--</td><td>--</td><td>--</td><td>--</td><td>--</td><td>--</td><td>--</td><td>--</td><td>--</td><td>--</td><td>--</td><td>--</td><td>--</td><td>4036.4539296760486</td><td>159.35467547082703</td><td>--</td><td>--</td><td>--</td><td>--</td><td>--</td><td>--</td><td>1.5719999999999998</td><td>--</td><td>--</td><td>--</td><td>--</td><td>--</td><td>--</td><td>--</td><td>--</td><td>--</td><td>--</td><td>--</td><td>--</td><td>--</td><td>--</td><td>--</td><td>--</td><td>--</td><td>--</td><td>--</td><td>--</td><td>--</td><td>--</td><td>--</td><td>--</td><td>--</td><td>--</td><td>--</td><td>--</td><td>--</td><td>--</td><td>--</td><td>--</td><td>--</td><td>--</td><td>--</td><td>--</td><td>--</td><td>--</td><td>--</td><td>--</td><td>--</td><td>--</td><td>--</td><td>--</td><td>--</td><td>--</td><td>--</td><td>--</td><td>--</td><td>--</td><td>--</td><td>--</td><td>--</td><td>--</td><td>--</td><td>--</td><td>--</td><td>--</td><td>--</td><td>--</td><td>--</td><td>--</td><td>--</td><td>--</td><td>--</td><td>--</td><td>--</td><td>--</td><td>0.9922725579701362</td><td>0.010206316838363245</td><td>0.22916912706568837</td><td>0.0</td><td>0.010206316838363245</td><td>1</td><td>C</td></tr>\n",
       "<tr><td>118.82244990533124</td><td>-60.64201044286442</td><td>5290923212119724672</td><td>273.55069599349434</td><td>-16.106620858628908</td><td>2.4284975062125667</td><td>0.05227360868478155</td><td>-4.0109321210585644</td><td>0.10007785462791306</td><td>10.849543519663412</td><td>0.0965383072677277</td><td>0.0054104533</td><td>0.22913297</td><td>-0.1555128</td><td>0.04875636</td><td>0.2625113</td><td>0.12055425</td><td>-0.33792153</td><td>0.18076015</td><td>-0.10796561</td><td>-0.080015555</td><td>387</td><td>16.480293</td><td>2.0128756</td><td>0.6000000238418579</td><td>NGC2516</td><td>07551741-6038315</td><td>0.0</td><td>14.16</td><td>13.45</td><td>13.29</td><td>20.99</td><td>23.01</td><td>1.2</td><td>3.606</td><td>2</td><td>0.31</td><td>3.75</td><td>0.52442467212677</td><td>0.05227360868478155</td><td>NGC_2516</td><td>2.7052607999999996</td><td>254.93211000000002</td><td>0.14298823902217345</td><td>0.8979161836550452</td><td>GES</td><td>--</td><td>--</td><td>--</td><td>--</td><td>--</td><td>--</td><td>--</td><td>--</td><td>--</td><td>--</td><td>--</td><td>--</td><td>--</td><td>--</td><td>--</td><td>--</td><td>--</td><td>--</td><td>--</td><td>--</td><td>--</td><td>--</td><td>--</td><td>--</td><td>--</td><td>--</td><td>4036.4539296760486</td><td>192.30366506317526</td><td>--</td><td>--</td><td>--</td><td>--</td><td>--</td><td>--</td><td>4.5</td><td>--</td><td>--</td><td>--</td><td>--</td><td>--</td><td>--</td><td>--</td><td>--</td><td>--</td><td>--</td><td>--</td><td>--</td><td>--</td><td>--</td><td>--</td><td>--</td><td>--</td><td>--</td><td>--</td><td>--</td><td>--</td><td>--</td><td>--</td><td>--</td><td>--</td><td>--</td><td>--</td><td>--</td><td>--</td><td>--</td><td>--</td><td>--</td><td>--</td><td>--</td><td>--</td><td>--</td><td>--</td><td>--</td><td>--</td><td>--</td><td>--</td><td>--</td><td>--</td><td>--</td><td>--</td><td>--</td><td>--</td><td>--</td><td>--</td><td>--</td><td>--</td><td>--</td><td>--</td><td>--</td><td>--</td><td>--</td><td>--</td><td>--</td><td>--</td><td>--</td><td>--</td><td>--</td><td>--</td><td>--</td><td>--</td><td>--</td><td>--</td><td>--</td><td>0.23452803633574926</td><td>0.008333483524620532</td><td>0.041666606441140175</td><td>0.013223081012123368</td><td>0.010416651610285044</td><td>1</td><td>C</td></tr>\n",
       "<tr><td>119.55207431338823</td><td>-60.6349200237026</td><td>5290820442143654656</td><td>273.7150399042929</td><td>-15.785587030262691</td><td>2.404477707056378</td><td>0.05148296747789556</td><td>-4.498718646967456</td><td>0.12305424029565752</td><td>10.913160875685078</td><td>0.11190377355760935</td><td>-0.027026618</td><td>-0.084714346</td><td>-0.0005146742</td><td>-0.09056645</td><td>0.18080017</td><td>-0.09544526</td><td>0.018747471</td><td>0.08702825</td><td>-0.10915642</td><td>-0.10935328</td><td>386</td><td>16.548601</td><td>1.9699764</td><td>0.6000000238418579</td><td>NGC2516</td><td>07581251-6038058</td><td>0.0</td><td>14.25</td><td>13.58</td><td>13.34</td><td>28.75</td><td>22.59</td><td>7.4</td><td>3.606</td><td>2</td><td>0.3</td><td>0.11</td><td>0.5498371720314026</td><td>0.05148296747789556</td><td>NGC_2516</td><td>2.1126928</td><td>222.36638</td><td>0.17979527199055498</td><td>1.3545282305852857</td><td>GES</td><td>--</td><td>--</td><td>--</td><td>--</td><td>--</td><td>--</td><td>--</td><td>--</td><td>--</td><td>--</td><td>--</td><td>--</td><td>--</td><td>--</td><td>--</td><td>--</td><td>--</td><td>--</td><td>--</td><td>--</td><td>--</td><td>--</td><td>--</td><td>--</td><td>--</td><td>--</td><td>4036.4539296760486</td><td>140.3983975539495</td><td>--</td><td>--</td><td>--</td><td>--</td><td>--</td><td>--</td><td>0.8140000000000001</td><td>--</td><td>--</td><td>--</td><td>--</td><td>--</td><td>--</td><td>--</td><td>--</td><td>--</td><td>--</td><td>--</td><td>--</td><td>--</td><td>--</td><td>--</td><td>--</td><td>--</td><td>--</td><td>--</td><td>--</td><td>--</td><td>--</td><td>--</td><td>--</td><td>--</td><td>--</td><td>--</td><td>--</td><td>--</td><td>--</td><td>--</td><td>--</td><td>--</td><td>--</td><td>--</td><td>--</td><td>--</td><td>--</td><td>--</td><td>--</td><td>--</td><td>--</td><td>--</td><td>--</td><td>--</td><td>--</td><td>--</td><td>--</td><td>--</td><td>--</td><td>--</td><td>--</td><td>--</td><td>--</td><td>--</td><td>--</td><td>--</td><td>--</td><td>--</td><td>--</td><td>--</td><td>--</td><td>--</td><td>--</td><td>--</td><td>--</td><td>--</td><td>--</td><td>1.45356984739857</td><td>0.015590222152733467</td><td>0.33333297073841095</td><td>0.022903056336377094</td><td>0.015590222152733467</td><td>1</td><td>C</td></tr>\n",
       "<tr><td>...</td><td>...</td><td>...</td><td>...</td><td>...</td><td>...</td><td>...</td><td>...</td><td>...</td><td>...</td><td>...</td><td>...</td><td>...</td><td>...</td><td>...</td><td>...</td><td>...</td><td>...</td><td>...</td><td>...</td><td>...</td><td>...</td><td>...</td><td>...</td><td>...</td><td>...</td><td>...</td><td>...</td><td>...</td><td>...</td><td>...</td><td>...</td><td>...</td><td>...</td><td>...</td><td>...</td><td>...</td><td>...</td><td>...</td><td>...</td><td>...</td><td>...</td><td>...</td><td>...</td><td>...</td><td>...</td><td>...</td><td>...</td><td>...</td><td>...</td><td>...</td><td>...</td><td>...</td><td>...</td><td>...</td><td>...</td><td>...</td><td>...</td><td>...</td><td>...</td><td>...</td><td>...</td><td>...</td><td>...</td><td>...</td><td>...</td><td>...</td><td>...</td><td>...</td><td>...</td><td>...</td><td>...</td><td>...</td><td>...</td><td>...</td><td>...</td><td>...</td><td>...</td><td>...</td><td>...</td><td>...</td><td>...</td><td>...</td><td>...</td><td>...</td><td>...</td><td>...</td><td>...</td><td>...</td><td>...</td><td>...</td><td>...</td><td>...</td><td>...</td><td>...</td><td>...</td><td>...</td><td>...</td><td>...</td><td>...</td><td>...</td><td>...</td><td>...</td><td>...</td><td>...</td><td>...</td><td>...</td><td>...</td><td>...</td><td>...</td><td>...</td><td>...</td><td>...</td><td>...</td><td>...</td><td>...</td><td>...</td><td>...</td><td>...</td><td>...</td><td>...</td><td>...</td><td>...</td><td>...</td><td>...</td><td>...</td><td>...</td><td>...</td><td>...</td><td>...</td><td>...</td><td>...</td><td>...</td><td>...</td><td>...</td><td>...</td><td>...</td><td>...</td><td>...</td><td>...</td><td>...</td><td>...</td><td>...</td><td>...</td><td>...</td><td>...</td><td>...</td><td>...</td><td>...</td><td>...</td><td>...</td><td>...</td><td>...</td><td>...</td><td>...</td><td>...</td></tr>\n",
       "<tr><td>119.28904318367995</td><td>-60.80071348518938</td><td>5290723204083832448</td><td>273.806135417528</td><td>-15.976273995940431</td><td>2.421822630693856</td><td>0.027175981504080855</td><td>-4.840525594893502</td><td>0.06582004619451799</td><td>12.145949878134852</td><td>0.04812349589825568</td><td>-0.04758486</td><td>-0.17589252</td><td>-0.15385053</td><td>0.07642262</td><td>0.3078291</td><td>0.08431381</td><td>-0.19382568</td><td>0.023880538</td><td>-0.091645874</td><td>0.13997105</td><td>357</td><td>12.311568</td><td>0.8312769</td><td>0.8999999761581421</td><td>NGC2516</td><td>07570938-6048027</td><td>0.0</td><td>11.23</td><td>10.95</td><td>10.94</td><td>170.48</td><td>24.29</td><td>32.8</td><td>3.798</td><td>2</td><td>0.3</td><td>0.05</td><td>1.231762170791626</td><td>0.027175981504080855</td><td>NGC_2516</td><td>2.3771887</td><td>193.12566999999999</td><td>0.0</td><td>0.0</td><td>GES</td><td>--</td><td>--</td><td>--</td><td>--</td><td>--</td><td>--</td><td>--</td><td>--</td><td>--</td><td>--</td><td>--</td><td>--</td><td>--</td><td>--</td><td>--</td><td>--</td><td>--</td><td>--</td><td>--</td><td>--</td><td>--</td><td>--</td><td>--</td><td>--</td><td>--</td><td>--</td><td>6280.58358813318</td><td>36.84058885577886</td><td>--</td><td>--</td><td>--</td><td>--</td><td>--</td><td>--</td><td>1.64</td><td>--</td><td>--</td><td>--</td><td>--</td><td>--</td><td>--</td><td>--</td><td>--</td><td>--</td><td>--</td><td>--</td><td>--</td><td>--</td><td>--</td><td>--</td><td>--</td><td>--</td><td>--</td><td>--</td><td>--</td><td>--</td><td>--</td><td>--</td><td>--</td><td>--</td><td>--</td><td>--</td><td>--</td><td>--</td><td>--</td><td>--</td><td>--</td><td>--</td><td>--</td><td>--</td><td>--</td><td>--</td><td>--</td><td>--</td><td>--</td><td>--</td><td>--</td><td>--</td><td>--</td><td>--</td><td>--</td><td>--</td><td>--</td><td>--</td><td>--</td><td>--</td><td>--</td><td>--</td><td>--</td><td>--</td><td>--</td><td>--</td><td>--</td><td>--</td><td>--</td><td>--</td><td>--</td><td>--</td><td>--</td><td>--</td><td>--</td><td>--</td><td>--</td><td>1.5833150129765272</td><td>0.041666184552013874</td><td>0.3541595684364438</td><td>0.022902622225030044</td><td>0.021245488828035605</td><td>1</td><td>C</td></tr>\n",
       "<tr><td>119.13311338979422</td><td>-60.46808812731028</td><td>5290931561536172416</td><td>273.46237443018174</td><td>-15.89129904900678</td><td>2.431971731199214</td><td>0.02240670395661029</td><td>-4.547503922676944</td><td>0.041067141671852075</td><td>11.689066253189399</td><td>0.04025915079856418</td><td>-0.10416152</td><td>-0.05322741</td><td>-0.04602847</td><td>-0.058171928</td><td>0.47606394</td><td>0.013990265</td><td>-0.12711781</td><td>0.11464665</td><td>0.08213199</td><td>-0.20905219</td><td>375</td><td>12.140182</td><td>0.76933765</td><td>1.0</td><td>NGC2516</td><td>07563195-6028054</td><td>0.0</td><td>11.11</td><td>10.9</td><td>10.85</td><td>215.6</td><td>23.47</td><td>19.5</td><td>3.798</td><td>4</td><td>0.19</td><td>0.03</td><td>1.2649272680282593</td><td>0.02240670395661029</td><td>NGC_2516</td><td>1.4728113</td><td>246.27924</td><td>0.0</td><td>0.0</td><td>GES</td><td>--</td><td>--</td><td>--</td><td>--</td><td>--</td><td>--</td><td>--</td><td>--</td><td>--</td><td>--</td><td>--</td><td>--</td><td>--</td><td>--</td><td>--</td><td>--</td><td>--</td><td>--</td><td>--</td><td>--</td><td>--</td><td>--</td><td>--</td><td>--</td><td>--</td><td>--</td><td>6280.58358813318</td><td>29.130721651823652</td><td>--</td><td>--</td><td>--</td><td>--</td><td>--</td><td>--</td><td>0.585</td><td>--</td><td>--</td><td>--</td><td>--</td><td>--</td><td>--</td><td>--</td><td>--</td><td>--</td><td>--</td><td>--</td><td>--</td><td>--</td><td>--</td><td>--</td><td>--</td><td>--</td><td>--</td><td>--</td><td>--</td><td>--</td><td>--</td><td>--</td><td>--</td><td>--</td><td>--</td><td>--</td><td>--</td><td>--</td><td>--</td><td>--</td><td>--</td><td>--</td><td>--</td><td>--</td><td>--</td><td>--</td><td>--</td><td>--</td><td>--</td><td>--</td><td>--</td><td>--</td><td>--</td><td>--</td><td>--</td><td>--</td><td>--</td><td>--</td><td>--</td><td>--</td><td>--</td><td>--</td><td>--</td><td>--</td><td>--</td><td>--</td><td>--</td><td>--</td><td>--</td><td>--</td><td>--</td><td>--</td><td>--</td><td>--</td><td>--</td><td>--</td><td>--</td><td>1.5327194353033387</td><td>0.04564299078287792</td><td>0.36457889480516315</td><td>0.04580560484438594</td><td>0.04564299078287792</td><td>1</td><td>C</td></tr>\n",
       "<tr><td>120.35195969813897</td><td>-60.58772334905382</td><td>5290777522534884864</td><td>273.8628822281947</td><td>-15.416766996670582</td><td>2.472482465136764</td><td>0.02148435440047484</td><td>-4.757403679147385</td><td>0.044592772304600944</td><td>11.714942307494805</td><td>0.048801301207108065</td><td>-0.024858266</td><td>-0.05185423</td><td>-0.12545335</td><td>0.15289474</td><td>0.15467829</td><td>0.18090898</td><td>-0.31664026</td><td>0.19770338</td><td>-0.00945094</td><td>0.015035911</td><td>365</td><td>12.078058</td><td>0.77945423</td><td>0.8999999761581421</td><td>NGC2516</td><td>08012448-6035158</td><td>0.0</td><td>11.03</td><td>10.79</td><td>10.7</td><td>141.78</td><td>23.75</td><td>43.1</td><td>3.799</td><td>2</td><td>0.38</td><td>0.05</td><td>1.3155916929244995</td><td>0.02148435440047484</td><td>NGC_2516</td><td>3.6113827000000005</td><td>273.34622</td><td>0.0</td><td>0.0</td><td>GES</td><td>--</td><td>--</td><td>--</td><td>--</td><td>--</td><td>--</td><td>--</td><td>--</td><td>--</td><td>--</td><td>--</td><td>--</td><td>--</td><td>--</td><td>--</td><td>--</td><td>--</td><td>--</td><td>--</td><td>--</td><td>--</td><td>--</td><td>--</td><td>--</td><td>--</td><td>--</td><td>6295.061828571975</td><td>44.40021038631665</td><td>--</td><td>--</td><td>--</td><td>--</td><td>--</td><td>--</td><td>2.1550000000000002</td><td>--</td><td>--</td><td>--</td><td>--</td><td>--</td><td>--</td><td>--</td><td>--</td><td>--</td><td>--</td><td>--</td><td>--</td><td>--</td><td>--</td><td>--</td><td>--</td><td>--</td><td>--</td><td>--</td><td>--</td><td>--</td><td>--</td><td>--</td><td>--</td><td>--</td><td>--</td><td>--</td><td>--</td><td>--</td><td>--</td><td>--</td><td>--</td><td>--</td><td>--</td><td>--</td><td>--</td><td>--</td><td>--</td><td>--</td><td>--</td><td>--</td><td>--</td><td>--</td><td>--</td><td>--</td><td>--</td><td>--</td><td>--</td><td>--</td><td>--</td><td>--</td><td>--</td><td>--</td><td>--</td><td>--</td><td>--</td><td>--</td><td>--</td><td>--</td><td>--</td><td>--</td><td>--</td><td>--</td><td>--</td><td>--</td><td>--</td><td>--</td><td>--</td><td>1.4154751253181266</td><td>0.02041239916267485</td><td>0.3437497413251549</td><td>0.0</td><td>0.02041239916267485</td><td>1</td><td>C</td></tr>\n",
       "<tr><td>120.25893515927606</td><td>-60.75072932871493</td><td>5290771032840440832</td><td>273.98952007508257</td><td>-15.534036017351786</td><td>2.4662221628645216</td><td>0.020416175295220315</td><td>-5.115683429868101</td><td>0.041852473215627954</td><td>11.132330909965663</td><td>0.040928679431844577</td><td>0.015085931</td><td>-0.015708545</td><td>0.07467157</td><td>0.12687433</td><td>0.25768724</td><td>0.16105711</td><td>-0.16129729</td><td>0.17618361</td><td>-0.14788006</td><td>0.07549393</td><td>397</td><td>12.01669</td><td>0.74466133</td><td>0.800000011920929</td><td>NGC2516</td><td>08010217-6045027</td><td>0.0</td><td>11.05</td><td>10.84</td><td>10.76</td><td>179.78</td><td>24.7</td><td>38.1</td><td>3.801</td><td>2</td><td>0.32</td><td>0.05</td><td>1.2512835264205933</td><td>0.020416175295220315</td><td>NGC_2516</td><td>3.8543856</td><td>305.5833</td><td>0.0</td><td>0.0</td><td>GES</td><td>--</td><td>--</td><td>--</td><td>--</td><td>--</td><td>--</td><td>--</td><td>--</td><td>--</td><td>--</td><td>--</td><td>--</td><td>--</td><td>--</td><td>--</td><td>--</td><td>--</td><td>--</td><td>--</td><td>--</td><td>--</td><td>--</td><td>--</td><td>--</td><td>--</td><td>--</td><td>6324.118513762197</td><td>35.176985836924004</td><td>--</td><td>--</td><td>--</td><td>--</td><td>--</td><td>--</td><td>1.9050000000000002</td><td>--</td><td>--</td><td>--</td><td>--</td><td>--</td><td>--</td><td>--</td><td>--</td><td>--</td><td>--</td><td>--</td><td>--</td><td>--</td><td>--</td><td>--</td><td>--</td><td>--</td><td>--</td><td>--</td><td>--</td><td>--</td><td>--</td><td>--</td><td>--</td><td>--</td><td>--</td><td>--</td><td>--</td><td>--</td><td>--</td><td>--</td><td>--</td><td>--</td><td>--</td><td>--</td><td>--</td><td>--</td><td>--</td><td>--</td><td>--</td><td>--</td><td>--</td><td>--</td><td>--</td><td>--</td><td>--</td><td>--</td><td>--</td><td>--</td><td>--</td><td>--</td><td>--</td><td>--</td><td>--</td><td>--</td><td>--</td><td>--</td><td>--</td><td>--</td><td>--</td><td>--</td><td>--</td><td>--</td><td>--</td><td>--</td><td>--</td><td>--</td><td>--</td><td>1.5101355644741223</td><td>0.025000273436307906</td><td>0.2916698567569256</td><td>0.022903331751359068</td><td>0.025000273436307906</td><td>1</td><td>C</td></tr>\n",
       "<tr><td>119.54578810711885</td><td>-60.41739304924166</td><td>5290838962037067648</td><td>273.51338327597443</td><td>-15.687335446119027</td><td>2.4199624895324763</td><td>0.019298476016863773</td><td>-4.604390498606601</td><td>0.03982930893400109</td><td>11.22469364826085</td><td>0.03996636838479827</td><td>-0.02823933</td><td>-0.03777135</td><td>-0.27856323</td><td>0.09361738</td><td>0.31243515</td><td>0.08763942</td><td>-0.07207478</td><td>-0.040561214</td><td>-0.10064966</td><td>0.003535313</td><td>403</td><td>12.003408</td><td>0.73031425</td><td>1.0</td><td>NGC2516</td><td>07581100-6025028</td><td>0.0</td><td>11.07</td><td>10.83</td><td>10.78</td><td>152.66</td><td>24.89</td><td>68.0</td><td>3.805</td><td>2</td><td>0.59</td><td>0.05</td><td>1.116557002067566</td><td>0.019298476016863773</td><td>NGC_2516</td><td>1.2884243</td><td>249.54908999999998</td><td>0.0</td><td>0.0</td><td>GES</td><td>--</td><td>--</td><td>--</td><td>--</td><td>--</td><td>--</td><td>--</td><td>--</td><td>--</td><td>--</td><td>--</td><td>--</td><td>--</td><td>--</td><td>--</td><td>--</td><td>--</td><td>--</td><td>--</td><td>--</td><td>--</td><td>--</td><td>--</td><td>--</td><td>--</td><td>--</td><td>6382.634861905489</td><td>41.809477675261945</td><td>--</td><td>--</td><td>--</td><td>--</td><td>--</td><td>--</td><td>3.4000000000000004</td><td>--</td><td>--</td><td>--</td><td>--</td><td>--</td><td>--</td><td>--</td><td>--</td><td>--</td><td>--</td><td>--</td><td>--</td><td>--</td><td>--</td><td>--</td><td>--</td><td>--</td><td>--</td><td>--</td><td>--</td><td>--</td><td>--</td><td>--</td><td>--</td><td>--</td><td>--</td><td>--</td><td>--</td><td>--</td><td>--</td><td>--</td><td>--</td><td>--</td><td>--</td><td>--</td><td>--</td><td>--</td><td>--</td><td>--</td><td>--</td><td>--</td><td>--</td><td>--</td><td>--</td><td>--</td><td>--</td><td>--</td><td>--</td><td>--</td><td>--</td><td>--</td><td>--</td><td>--</td><td>--</td><td>--</td><td>--</td><td>--</td><td>--</td><td>--</td><td>--</td><td>--</td><td>--</td><td>--</td><td>--</td><td>--</td><td>--</td><td>--</td><td>--</td><td>0.8124900721013544</td><td>0.19791424833238125</td><td>0.19791424833238125</td><td>0.0</td><td>0.0</td><td>1</td><td>C</td></tr>\n",
       "<tr><td>119.96923296451449</td><td>-60.68772763255449</td><td>5290770345645486976</td><td>273.862589846785</td><td>-15.62941168110264</td><td>2.337955779461838</td><td>0.024440254996249255</td><td>-4.440228991405206</td><td>0.061710178854373895</td><td>11.662129696442745</td><td>0.05591529009821347</td><td>0.23341537</td><td>-0.14573386</td><td>-0.4084874</td><td>-0.29154855</td><td>0.11637668</td><td>-0.29722536</td><td>-0.5744383</td><td>0.20322515</td><td>0.050234403</td><td>0.3158545</td><td>373</td><td>12.430677</td><td>0.8407097</td><td>0.8999999761581421</td><td>NGC2516</td><td>07595262-6041159</td><td>0.0</td><td>11.39</td><td>11.1</td><td>11.01</td><td>99.25</td><td>24.52</td><td>21.9</td><td>3.806</td><td>2</td><td>0.32</td><td>0.05</td><td>1.193946361541748</td><td>0.024440254996249255</td><td>NGC_2516</td><td>0.4977442</td><td>170.43503</td><td>0.0</td><td>0.0</td><td>GES</td><td>--</td><td>--</td><td>--</td><td>--</td><td>--</td><td>--</td><td>--</td><td>--</td><td>--</td><td>--</td><td>--</td><td>--</td><td>--</td><td>--</td><td>--</td><td>--</td><td>--</td><td>--</td><td>--</td><td>--</td><td>--</td><td>--</td><td>--</td><td>--</td><td>--</td><td>--</td><td>6397.348354826482</td><td>64.45691037608546</td><td>--</td><td>--</td><td>--</td><td>--</td><td>--</td><td>--</td><td>1.095</td><td>--</td><td>--</td><td>--</td><td>--</td><td>--</td><td>--</td><td>--</td><td>--</td><td>--</td><td>--</td><td>--</td><td>--</td><td>--</td><td>--</td><td>--</td><td>--</td><td>--</td><td>--</td><td>--</td><td>--</td><td>--</td><td>--</td><td>--</td><td>--</td><td>--</td><td>--</td><td>--</td><td>--</td><td>--</td><td>--</td><td>--</td><td>--</td><td>--</td><td>--</td><td>--</td><td>--</td><td>--</td><td>--</td><td>--</td><td>--</td><td>--</td><td>--</td><td>--</td><td>--</td><td>--</td><td>--</td><td>--</td><td>--</td><td>--</td><td>--</td><td>--</td><td>--</td><td>--</td><td>--</td><td>--</td><td>--</td><td>--</td><td>--</td><td>--</td><td>--</td><td>--</td><td>--</td><td>--</td><td>--</td><td>--</td><td>--</td><td>--</td><td>--</td><td>2.3523790244545246</td><td>0.03584299257036532</td><td>0.5520828808657825</td><td>0.022903062479462194</td><td>0.03584299257036532</td><td>1</td><td>C</td></tr>\n",
       "<tr><td>119.25998129356094</td><td>-61.03465617585395</td><td>5290664929967787264</td><td>274.0156045458683</td><td>-16.096273101399444</td><td>2.423858840447574</td><td>0.02465442465699191</td><td>-4.249929974106201</td><td>0.04965415719118762</td><td>11.316085418448882</td><td>0.043708430181997646</td><td>-0.1828444</td><td>-0.11409408</td><td>-0.44087377</td><td>0.19312134</td><td>0.33971387</td><td>0.27938685</td><td>-0.2737395</td><td>0.29234594</td><td>-0.10523812</td><td>-0.1598389</td><td>319</td><td>11.817455</td><td>0.7374668</td><td>1.0</td><td>NGC2516</td><td>07570240-6102049</td><td>0.0</td><td>10.86</td><td>10.64</td><td>10.53</td><td>183.42</td><td>25.16</td><td>50.0</td><td>3.808</td><td>2</td><td>0.38</td><td>0.05</td><td>1.3395180702209473</td><td>0.02465442465699191</td><td>NGC_2516</td><td>3.2343655</td><td>238.40315</td><td>0.0</td><td>0.0</td><td>GES</td><td>--</td><td>--</td><td>--</td><td>--</td><td>--</td><td>--</td><td>--</td><td>--</td><td>--</td><td>--</td><td>--</td><td>--</td><td>--</td><td>--</td><td>--</td><td>--</td><td>--</td><td>--</td><td>--</td><td>--</td><td>--</td><td>--</td><td>--</td><td>--</td><td>--</td><td>--</td><td>6426.877173170194</td><td>35.039129719606336</td><td>--</td><td>--</td><td>--</td><td>--</td><td>--</td><td>--</td><td>2.5</td><td>--</td><td>--</td><td>--</td><td>--</td><td>--</td><td>--</td><td>--</td><td>--</td><td>--</td><td>--</td><td>--</td><td>--</td><td>--</td><td>--</td><td>--</td><td>--</td><td>--</td><td>--</td><td>--</td><td>--</td><td>--</td><td>--</td><td>--</td><td>--</td><td>--</td><td>--</td><td>--</td><td>--</td><td>--</td><td>--</td><td>--</td><td>--</td><td>--</td><td>--</td><td>--</td><td>--</td><td>--</td><td>--</td><td>--</td><td>--</td><td>--</td><td>--</td><td>--</td><td>--</td><td>--</td><td>--</td><td>--</td><td>--</td><td>--</td><td>--</td><td>--</td><td>--</td><td>--</td><td>--</td><td>--</td><td>--</td><td>--</td><td>--</td><td>--</td><td>--</td><td>--</td><td>--</td><td>--</td><td>--</td><td>--</td><td>--</td><td>--</td><td>--</td><td>1.485445629572496</td><td>0.06874783304611898</td><td>0.37500690948218107</td><td>0.0264466875287171</td><td>0.05387641159076604</td><td>1</td><td>C</td></tr>\n",
       "<tr><td>119.69352745414736</td><td>-61.09960558716263</td><td>5290655549759621888</td><td>274.17621247051227</td><td>-15.94013354298016</td><td>2.3932237789778608</td><td>0.021543104952755715</td><td>-4.921997949523925</td><td>0.042265569501532395</td><td>11.274009614653238</td><td>0.037165337260972486</td><td>0.0023310764</td><td>0.024917921</td><td>-0.31841588</td><td>0.042953096</td><td>0.349475</td><td>0.10386909</td><td>-0.23403125</td><td>0.14964245</td><td>-0.1313811</td><td>0.00976462</td><td>366</td><td>11.652856</td><td>0.6925583</td><td>0.6000000238418579</td><td>NGC2516</td><td>07584646-6105588</td><td>0.0</td><td>10.73</td><td>10.51</td><td>10.44</td><td>198.83</td><td>26.75</td><td>57.6</td><td>3.818</td><td>2</td><td>0.43</td><td>0.05</td><td>1.3733460903167725</td><td>0.021543104952755715</td><td>NGC_2516</td><td>6.092789</td><td>352.51437000000004</td><td>0.0</td><td>0.0</td><td>GES</td><td>--</td><td>--</td><td>--</td><td>--</td><td>--</td><td>--</td><td>--</td><td>--</td><td>--</td><td>--</td><td>--</td><td>--</td><td>--</td><td>--</td><td>--</td><td>--</td><td>--</td><td>--</td><td>--</td><td>--</td><td>--</td><td>--</td><td>--</td><td>--</td><td>--</td><td>--</td><td>6576.578373554205</td><td>33.0763887419112</td><td>--</td><td>--</td><td>--</td><td>--</td><td>--</td><td>--</td><td>2.8800000000000003</td><td>--</td><td>--</td><td>--</td><td>--</td><td>--</td><td>--</td><td>--</td><td>--</td><td>--</td><td>--</td><td>--</td><td>--</td><td>--</td><td>--</td><td>--</td><td>--</td><td>--</td><td>--</td><td>--</td><td>--</td><td>--</td><td>--</td><td>--</td><td>--</td><td>--</td><td>--</td><td>--</td><td>--</td><td>--</td><td>--</td><td>--</td><td>--</td><td>--</td><td>--</td><td>--</td><td>--</td><td>--</td><td>--</td><td>--</td><td>--</td><td>--</td><td>--</td><td>--</td><td>--</td><td>--</td><td>--</td><td>--</td><td>--</td><td>--</td><td>--</td><td>--</td><td>--</td><td>--</td><td>--</td><td>--</td><td>--</td><td>--</td><td>--</td><td>--</td><td>--</td><td>--</td><td>--</td><td>--</td><td>--</td><td>--</td><td>--</td><td>--</td><td>--</td><td>1.5728992930380625</td><td>0.010416551609523594</td><td>1.3125246525742114</td><td>-1.0</td><td>-1.0</td><td>1</td><td>C</td></tr>\n",
       "<tr><td>119.77089232461998</td><td>-60.94330916803846</td><td>5290763095740848128</td><td>274.05042264198937</td><td>-15.834321918756146</td><td>2.37753123787824</td><td>0.02181132997540413</td><td>-4.56520598186897</td><td>0.044032149717705235</td><td>11.500296647027684</td><td>0.041343954641615686</td><td>-0.16743238</td><td>-0.018094007</td><td>-0.22839683</td><td>0.07504956</td><td>0.20673</td><td>0.11141032</td><td>-0.18408903</td><td>0.20346251</td><td>-0.14122093</td><td>-0.21059737</td><td>346</td><td>11.420208</td><td>0.63585186</td><td>0.800000011920929</td><td>NGC2516</td><td>07590501-6056361</td><td>0.0</td><td>10.6</td><td>10.38</td><td>10.37</td><td>255.3</td><td>26.58</td><td>65.6</td><td>3.836</td><td>4</td><td>0.41</td><td>0.04</td><td>1.5186032056808472</td><td>0.02181132997540413</td><td>NGC_2516</td><td>6.173854</td><td>337.88552999999996</td><td>0.0</td><td>0.0</td><td>GES</td><td>--</td><td>--</td><td>--</td><td>--</td><td>--</td><td>--</td><td>--</td><td>--</td><td>--</td><td>--</td><td>--</td><td>--</td><td>--</td><td>--</td><td>--</td><td>--</td><td>--</td><td>--</td><td>--</td><td>--</td><td>--</td><td>--</td><td>--</td><td>--</td><td>--</td><td>--</td><td>6854.882264526614</td><td>26.85030264209406</td><td>--</td><td>--</td><td>--</td><td>--</td><td>--</td><td>--</td><td>2.6239999999999997</td><td>--</td><td>--</td><td>--</td><td>--</td><td>--</td><td>--</td><td>--</td><td>--</td><td>--</td><td>--</td><td>--</td><td>--</td><td>--</td><td>--</td><td>--</td><td>--</td><td>--</td><td>--</td><td>--</td><td>--</td><td>--</td><td>--</td><td>--</td><td>--</td><td>--</td><td>--</td><td>--</td><td>--</td><td>--</td><td>--</td><td>--</td><td>--</td><td>--</td><td>--</td><td>--</td><td>--</td><td>--</td><td>--</td><td>--</td><td>--</td><td>--</td><td>--</td><td>--</td><td>--</td><td>--</td><td>--</td><td>--</td><td>--</td><td>--</td><td>--</td><td>--</td><td>--</td><td>--</td><td>--</td><td>--</td><td>--</td><td>--</td><td>--</td><td>--</td><td>--</td><td>--</td><td>--</td><td>--</td><td>--</td><td>--</td><td>--</td><td>--</td><td>--</td><td>1.1196639623759046</td><td>0.040398093633591065</td><td>0.1770852345507592</td><td>0.022903327144045242</td><td>0.04639853449953471</td><td>1</td><td>C</td></tr>\n",
       "<tr><td>119.4210732231115</td><td>-60.72733767006693</td><td>5290725437466835840</td><td>273.7693273991123</td><td>-15.885227361356785</td><td>2.3418129024844907</td><td>0.03573035066742482</td><td>-4.745448478563206</td><td>0.0734111116755055</td><td>11.091164329721098</td><td>0.058270352727962514</td><td>0.03365354</td><td>-0.07222143</td><td>-0.2167577</td><td>-0.081093125</td><td>0.40076265</td><td>0.0397274</td><td>-0.049689263</td><td>0.30627486</td><td>-0.10630009</td><td>0.047738142</td><td>357</td><td>10.158401</td><td>0.22376633</td><td>0.699999988079071</td><td>--</td><td>--</td><td>--</td><td>--</td><td>--</td><td>--</td><td>--</td><td>22.1185199842</td><td>18.2539333928765</td><td>--</td><td>--</td><td>0.3151433443785066</td><td>--</td><td>--</td><td>--</td><td>NGC_2516</td><td>13.907967999999999</td><td>560.2023</td><td>0.08141194484387276</td><td>2.4990136097204503</td><td>Galah</td><td>07574106-6043385</td><td>151231003701025</td><td>MFOBJECT</td><td>2673</td><td>119.421104</td><td>-60.727383</td><td>9.863</td><td>9.803</td><td>9.763</td><td>10.555755147675788</td><td>0.024</td><td>0.024</td><td>0.019</td><td>119.765574846</td><td>134.923573024</td><td>153.34461009</td><td>169.038572661</td><td>22.1185199842</td><td>0.3151433443785066</td><td>nan</td><td>nan</td><td>nan</td><td>nan</td><td>9.70440430149197</td><td>138.02352497405147</td><td>3</td><td>7706.163094788561</td><td>40.988327478690934</td><td>4.55880111200125</td><td>0.12042966606459678</td><td>-0.34660977912877167</td><td>0.04385747707236938</td><td>2.427366170400455</td><td>0.027002294143943287</td><td>0.6990652229668504</td><td>nan</td><td>nan</td><td>2.1690845144809616</td><td>0.3260338774513051</td><td>9</td><td>0.21850987368437527</td><td>0.0189332840982169</td><td>5</td><td>0.20192345521580587</td><td>0.06860044112287235</td><td>5</td><td>-0.31373784981697345</td><td>0.03260127259307927</td><td>7</td><td>0.18785324215809127</td><td>0.05439795973022158</td><td>9</td><td>-0.2868076486919733</td><td>0.029793145946017598</td><td>7</td><td>nan</td><td>nan</td><td>7</td><td>-0.21909517695387842</td><td>0.06626284511743893</td><td>3</td><td>-0.2874660152769295</td><td>0.0350783194582785</td><td>9</td><td>0.1589401679125848</td><td>0.028987048051935596</td><td>7</td><td>0.2745672791981767</td><td>0.023340347986079736</td><td>5</td><td>0.002282686057998723</td><td>0.03528521776145812</td><td>5</td><td>-0.02968232275762917</td><td>0.034044379312314965</td><td>3</td><td>-0.19659012341952092</td><td>0.038654152874344434</td><td>9</td><td>-0.38985042173684126</td><td>0.15408474294850522</td><td>7</td><td>0.1955858082220307</td><td>0.043057165189817885</td><td>3</td><td>-0.21330401256196127</td><td>0.042339748326336614</td><td>7</td><td>-0.20683687744637766</td><td>0.048924463509762955</td><td>9</td><td>0.4401238649522646</td><td>0.05230700343067659</td><td>5</td><td>-2.1997735281329343</td><td>0.13470982061912148</td><td>7</td><td>0.5666567233888662</td><td>0.03324815384364571</td><td>9</td><td>0.326278680438909</td><td>0.18686674817108304</td><td>7</td><td>2.14579001464881</td><td>0.45832408079877496</td><td>0.45832408079877496</td><td>-1.0</td><td>-1.0</td><td>1</td><td>C</td></tr>\n",
       "</table>"
      ],
      "text/plain": [
       "<Table length=87>\n",
       "        ra                 dec         ... CDIPS classification\n",
       "     float64             float64       ... int64      str1     \n",
       "------------------ ------------------- ... ----- --------------\n",
       "118.96738202201645 -60.900954075464966 ...     1              C\n",
       "119.23477768044064  -61.01592919157621 ...     1              C\n",
       "118.68415052128388  -60.82975927955728 ...     1              C\n",
       "118.74796896100209  -61.07296666629273 ...     1              C\n",
       "118.88633000457749  -60.61865252762589 ...     1              C\n",
       "120.08160142748102  -60.75560401468805 ...     1              C\n",
       "119.87081758061746  -60.66154951640272 ...     1              C\n",
       "119.62997956802782  -61.08969061592808 ...     1              C\n",
       "118.82244990533124  -60.64201044286442 ...     1              C\n",
       "119.55207431338823   -60.6349200237026 ...     1              C\n",
       "               ...                 ... ...   ...            ...\n",
       "119.28904318367995  -60.80071348518938 ...     1              C\n",
       "119.13311338979422  -60.46808812731028 ...     1              C\n",
       "120.35195969813897  -60.58772334905382 ...     1              C\n",
       "120.25893515927606  -60.75072932871493 ...     1              C\n",
       "119.54578810711885  -60.41739304924166 ...     1              C\n",
       "119.96923296451449  -60.68772763255449 ...     1              C\n",
       "119.25998129356094  -61.03465617585395 ...     1              C\n",
       "119.69352745414736  -61.09960558716263 ...     1              C\n",
       "119.77089232461998  -60.94330916803846 ...     1              C\n",
       " 119.4210732231115  -60.72733767006693 ...     1              C"
      ]
     },
     "execution_count": 592,
     "metadata": {},
     "output_type": "execute_result"
    }
   ],
   "source": [
    "mems_periods = join(memtbl,vetperiods[goodindx])\n",
    "mems_periods.sort('logTeff')\n",
    "\n",
    "mems_periods"
   ]
  },
  {
   "cell_type": "code",
   "execution_count": 593,
   "metadata": {},
   "outputs": [
    {
     "data": {
      "text/plain": [
       "(8000, 3000)"
      ]
     },
     "execution_count": 593,
     "metadata": {},
     "output_type": "execute_result"
    },
    {
     "data": {
      "image/png": "[encoded data removed]",
      "text/plain": [
       "<matplotlib.figure.Figure at 0x1c2e8f0d30>"
      ]
     },
     "metadata": {
      "needs_background": "light"
     },
     "output_type": "display_data"
    }
   ],
   "source": [
    "plt.scatter(mems_periods['teff'],mems_periods['period'])\n",
    "plt.xlim(8000,3000)"
   ]
  },
  {
   "cell_type": "code",
   "execution_count": 595,
   "metadata": {},
   "outputs": [
    {
     "data": {
      "text/plain": [
       "<matplotlib.collections.PathCollection at 0x1c2f301eb8>"
      ]
     },
     "execution_count": 595,
     "metadata": {},
     "output_type": "execute_result"
    },
    {
     "data": {
      "image/png": "[encoded data removed]",
      "text/plain": [
       "<matplotlib.figure.Figure at 0x1c2eda0fd0>"
      ]
     },
     "metadata": {
      "needs_background": "light"
     },
     "output_type": "display_data"
    }
   ],
   "source": [
    "plt.scatter(mems_periods['vsini'],mems_periods['period'])"
   ]
  },
  {
   "cell_type": "code",
   "execution_count": 601,
   "metadata": {},
   "outputs": [
    {
     "data": {
      "text/html": [
       "<i>Table length=55</i>\n",
       "<table id=\"table120998436992\" class=\"table-striped table-bordered table-condensed\">\n",
       "<thead><tr><th>ra</th><th>dec</th><th>source_id</th><th>l</th><th>b</th><th>parallax</th><th>parallax_error</th><th>pmra</th><th>pmra_error</th><th>pmdec</th><th>pmdec_error</th><th>ra_dec_corr</th><th>ra_parallax_corr</th><th>ra_pmra_corr</th><th>ra_pmdec_corr</th><th>dec_parallax_corr</th><th>dec_pmra_corr</th><th>dec_pmdec_corr</th><th>parallax_pmra_corr</th><th>parallax_pmdec_corr</th><th>pmra_pmdec_corr</th><th>phot_g_n_obs</th><th>phot_g_mean_mag</th><th>bp_rp</th><th>proba</th><th>Cluster</th><th>Object</th><th>Icmag</th><th>Jmag</th><th>Hmag</th><th>Kmag</th><th>S/N</th><th>RV</th><th>vsini</th><th>logTeff</th><th>Nsp</th><th>pRV</th><th>pvsini</th><th>gaia_r</th><th>parallax_err</th><th>cluster</th><th>astrometric_gof_al</th><th>astrometric_chi2_al</th><th>astrometric_excess_noise</th><th>astrometric_excess_noise_sig</th><th>Survey</th><th>star_id</th><th>sobject_id</th><th>ndfclass</th><th>field_id</th><th>raj2000</th><th>dej2000</th><th>jmag</th><th>hmag</th><th>kmag</th><th>vmag_jk</th><th>e_jmag</th><th>e_hmag</th><th>e_kmag</th><th>snr_c1</th><th>snr_c2</th><th>snr_c3</th><th>snr_c4</th><th>rv_synt</th><th>e_rv_synt</th><th>rv_obst</th><th>e_rv_obst</th><th>rv_nogr_obst</th><th>e_rv_nogr_obst</th><th>chi2_cannon</th><th>sp_label_distance</th><th>flag_cannon</th><th>teff</th><th>e_teff</th><th>logg</th><th>e_logg</th><th>fe_h</th><th>e_fe_h</th><th>vmic</th><th>e_vmic</th><th>e_vsini</th><th>alpha_fe</th><th>e_alpha_fe</th><th>li_fe</th><th>e_li_fe</th><th>flag_li_fe</th><th>c_fe</th><th>e_c_fe</th><th>flag_c_fe</th><th>o_fe</th><th>e_o_fe</th><th>flag_o_fe</th><th>na_fe</th><th>e_na_fe</th><th>flag_na_fe</th><th>mg_fe</th><th>e_mg_fe</th><th>flag_mg_fe</th><th>al_fe</th><th>e_al_fe</th><th>flag_al_fe</th><th>si_fe</th><th>e_si_fe</th><th>flag_si_fe</th><th>k_fe</th><th>e_k_fe</th><th>flag_k_fe</th><th>ca_fe</th><th>e_ca_fe</th><th>flag_ca_fe</th><th>sc_fe</th><th>e_sc_fe</th><th>flag_sc_fe</th><th>ti_fe</th><th>e_ti_fe</th><th>flag_ti_fe</th><th>v_fe</th><th>e_v_fe</th><th>flag_v_fe</th><th>cr_fe</th><th>e_cr_fe</th><th>flag_cr_fe</th><th>mn_fe</th><th>e_mn_fe</th><th>flag_mn_fe</th><th>co_fe</th><th>e_co_fe</th><th>flag_co_fe</th><th>ni_fe</th><th>e_ni_fe</th><th>flag_ni_fe</th><th>cu_fe</th><th>e_cu_fe</th><th>flag_cu_fe</th><th>zn_fe</th><th>e_zn_fe</th><th>flag_zn_fe</th><th>y_fe</th><th>e_y_fe</th><th>flag_y_fe</th><th>ba_fe</th><th>e_ba_fe</th><th>flag_ba_fe</th><th>la_fe</th><th>e_la_fe</th><th>flag_la_fe</th><th>eu_fe</th><th>e_eu_fe</th><th>flag_eu_fe</th><th>period</th><th>period_unc</th><th>e_period_hwhm</th><th>e_period_mad</th><th>e_period_std</th><th>CDIPS</th><th>classification</th></tr></thead>\n",
       "<thead><tr><th>float64</th><th>float64</th><th>int64</th><th>float64</th><th>float64</th><th>float64</th><th>float64</th><th>float64</th><th>float64</th><th>float64</th><th>float64</th><th>float64</th><th>float64</th><th>float64</th><th>float64</th><th>float64</th><th>float64</th><th>float64</th><th>float64</th><th>float64</th><th>float64</th><th>int64</th><th>float64</th><th>float64</th><th>float64</th><th>str7</th><th>str16</th><th>float64</th><th>float64</th><th>float64</th><th>float64</th><th>float64</th><th>float64</th><th>float64</th><th>float64</th><th>int64</th><th>float64</th><th>float64</th><th>float64</th><th>float64</th><th>str8</th><th>float64</th><th>float64</th><th>float64</th><th>float64</th><th>str5</th><th>str16</th><th>int64</th><th>str8</th><th>int64</th><th>float64</th><th>float64</th><th>float64</th><th>float64</th><th>float64</th><th>float64</th><th>float64</th><th>float64</th><th>float64</th><th>float64</th><th>float64</th><th>float64</th><th>float64</th><th>float64</th><th>float64</th><th>float64</th><th>float64</th><th>float64</th><th>float64</th><th>float64</th><th>float64</th><th>int64</th><th>float64</th><th>float64</th><th>float64</th><th>float64</th><th>float64</th><th>float64</th><th>float64</th><th>float64</th><th>float64</th><th>float64</th><th>float64</th><th>float64</th><th>float64</th><th>int64</th><th>float64</th><th>float64</th><th>int64</th><th>float64</th><th>float64</th><th>int64</th><th>float64</th><th>float64</th><th>int64</th><th>float64</th><th>float64</th><th>int64</th><th>float64</th><th>float64</th><th>int64</th><th>float64</th><th>float64</th><th>int64</th><th>float64</th><th>float64</th><th>int64</th><th>float64</th><th>float64</th><th>int64</th><th>float64</th><th>float64</th><th>int64</th><th>float64</th><th>float64</th><th>int64</th><th>float64</th><th>float64</th><th>int64</th><th>float64</th><th>float64</th><th>int64</th><th>float64</th><th>float64</th><th>int64</th><th>float64</th><th>float64</th><th>int64</th><th>float64</th><th>float64</th><th>int64</th><th>float64</th><th>float64</th><th>int64</th><th>float64</th><th>float64</th><th>int64</th><th>float64</th><th>float64</th><th>int64</th><th>float64</th><th>float64</th><th>int64</th><th>float64</th><th>float64</th><th>int64</th><th>float64</th><th>float64</th><th>int64</th><th>float64</th><th>float64</th><th>float64</th><th>float64</th><th>float64</th><th>int64</th><th>str1</th></tr></thead>\n",
       "<tr><td>119.87081758061746</td><td>-60.66154951640272</td><td>5290817212328531072</td><td>273.8151281667631</td><td>-15.659740000326625</td><td>2.4428402085346916</td><td>0.060982685192413774</td><td>-4.24202014032291</td><td>0.14022216642495422</td><td>11.403361044437947</td><td>0.11718587294606186</td><td>0.028103054</td><td>-0.077069566</td><td>-0.062218517</td><td>-0.10782438</td><td>0.29826143</td><td>-0.1203614</td><td>0.12512742</td><td>0.15014581</td><td>-0.0012410679</td><td>-0.12329462</td><td>377</td><td>16.676176</td><td>2.0760937</td><td>0.8999999761581421</td><td>NGC2516</td><td>07592900-6039417</td><td>0.0</td><td>14.22</td><td>13.53</td><td>13.3</td><td>29.12</td><td>22.27</td><td>62.8</td><td>3.606</td><td>2</td><td>1.12</td><td>0.06</td><td>0.5437974333763123</td><td>0.060982685192413774</td><td>NGC_2516</td><td>1.4348531</td><td>189.56548999999998</td><td>0.16347142333845854</td><td>0.914656713637061</td><td>GES</td><td>--</td><td>--</td><td>--</td><td>--</td><td>--</td><td>--</td><td>--</td><td>--</td><td>--</td><td>--</td><td>--</td><td>--</td><td>--</td><td>--</td><td>--</td><td>--</td><td>--</td><td>--</td><td>--</td><td>--</td><td>--</td><td>--</td><td>--</td><td>--</td><td>--</td><td>--</td><td>4036.4539296760486</td><td>138.6144893432709</td><td>--</td><td>--</td><td>--</td><td>--</td><td>--</td><td>--</td><td>3.768</td><td>--</td><td>--</td><td>--</td><td>--</td><td>--</td><td>--</td><td>--</td><td>--</td><td>--</td><td>--</td><td>--</td><td>--</td><td>--</td><td>--</td><td>--</td><td>--</td><td>--</td><td>--</td><td>--</td><td>--</td><td>--</td><td>--</td><td>--</td><td>--</td><td>--</td><td>--</td><td>--</td><td>--</td><td>--</td><td>--</td><td>--</td><td>--</td><td>--</td><td>--</td><td>--</td><td>--</td><td>--</td><td>--</td><td>--</td><td>--</td><td>--</td><td>--</td><td>--</td><td>--</td><td>--</td><td>--</td><td>--</td><td>--</td><td>--</td><td>--</td><td>--</td><td>--</td><td>--</td><td>--</td><td>--</td><td>--</td><td>--</td><td>--</td><td>--</td><td>--</td><td>--</td><td>--</td><td>--</td><td>--</td><td>--</td><td>--</td><td>--</td><td>--</td><td>0.33332941681146616</td><td>0.07291580992750823</td><td>0.07291580992750823</td><td>0.0</td><td>0.0</td><td>1</td><td>C</td></tr>\n",
       "<tr><td>119.62997956802782</td><td>-61.08969061592808</td><td>5290655687198404864</td><td>274.1522684188541</td><td>-15.962756765003558</td><td>2.4652637482422928</td><td>0.06032916823415625</td><td>-4.695146958604306</td><td>0.12255809954780116</td><td>11.236194643186431</td><td>0.10766447681122257</td><td>0.022072649</td><td>0.11788812</td><td>-0.12629795</td><td>0.030659784</td><td>0.2522723</td><td>0.09911209</td><td>-0.09510061</td><td>0.1812259</td><td>-0.19569308</td><td>-0.0646742</td><td>420</td><td>16.89682</td><td>2.127181</td><td>0.800000011920929</td><td>NGC2516</td><td>07583121-6105232</td><td>0.0</td><td>14.38</td><td>13.66</td><td>13.42</td><td>25.33</td><td>23.34</td><td>26.2</td><td>3.606</td><td>2</td><td>0.49</td><td>0.06</td><td>0.5419772863388062</td><td>0.06032916823415625</td><td>NGC_2516</td><td>1.2813251</td><td>231.33142</td><td>0.08804707724432517</td><td>0.23308458536138574</td><td>GES</td><td>--</td><td>--</td><td>--</td><td>--</td><td>--</td><td>--</td><td>--</td><td>--</td><td>--</td><td>--</td><td>--</td><td>--</td><td>--</td><td>--</td><td>--</td><td>--</td><td>--</td><td>--</td><td>--</td><td>--</td><td>--</td><td>--</td><td>--</td><td>--</td><td>--</td><td>--</td><td>4036.4539296760486</td><td>159.35467547082703</td><td>--</td><td>--</td><td>--</td><td>--</td><td>--</td><td>--</td><td>1.5719999999999998</td><td>--</td><td>--</td><td>--</td><td>--</td><td>--</td><td>--</td><td>--</td><td>--</td><td>--</td><td>--</td><td>--</td><td>--</td><td>--</td><td>--</td><td>--</td><td>--</td><td>--</td><td>--</td><td>--</td><td>--</td><td>--</td><td>--</td><td>--</td><td>--</td><td>--</td><td>--</td><td>--</td><td>--</td><td>--</td><td>--</td><td>--</td><td>--</td><td>--</td><td>--</td><td>--</td><td>--</td><td>--</td><td>--</td><td>--</td><td>--</td><td>--</td><td>--</td><td>--</td><td>--</td><td>--</td><td>--</td><td>--</td><td>--</td><td>--</td><td>--</td><td>--</td><td>--</td><td>--</td><td>--</td><td>--</td><td>--</td><td>--</td><td>--</td><td>--</td><td>--</td><td>--</td><td>--</td><td>--</td><td>--</td><td>--</td><td>--</td><td>--</td><td>--</td><td>0.9922725579701362</td><td>0.010206316838363245</td><td>0.22916912706568837</td><td>0.0</td><td>0.010206316838363245</td><td>1</td><td>C</td></tr>\n",
       "<tr><td>119.55207431338823</td><td>-60.6349200237026</td><td>5290820442143654656</td><td>273.7150399042929</td><td>-15.785587030262691</td><td>2.404477707056378</td><td>0.05148296747789556</td><td>-4.498718646967456</td><td>0.12305424029565752</td><td>10.913160875685078</td><td>0.11190377355760935</td><td>-0.027026618</td><td>-0.084714346</td><td>-0.0005146742</td><td>-0.09056645</td><td>0.18080017</td><td>-0.09544526</td><td>0.018747471</td><td>0.08702825</td><td>-0.10915642</td><td>-0.10935328</td><td>386</td><td>16.548601</td><td>1.9699764</td><td>0.6000000238418579</td><td>NGC2516</td><td>07581251-6038058</td><td>0.0</td><td>14.25</td><td>13.58</td><td>13.34</td><td>28.75</td><td>22.59</td><td>7.4</td><td>3.606</td><td>2</td><td>0.3</td><td>0.11</td><td>0.5498371720314026</td><td>0.05148296747789556</td><td>NGC_2516</td><td>2.1126928</td><td>222.36638</td><td>0.17979527199055498</td><td>1.3545282305852857</td><td>GES</td><td>--</td><td>--</td><td>--</td><td>--</td><td>--</td><td>--</td><td>--</td><td>--</td><td>--</td><td>--</td><td>--</td><td>--</td><td>--</td><td>--</td><td>--</td><td>--</td><td>--</td><td>--</td><td>--</td><td>--</td><td>--</td><td>--</td><td>--</td><td>--</td><td>--</td><td>--</td><td>4036.4539296760486</td><td>140.3983975539495</td><td>--</td><td>--</td><td>--</td><td>--</td><td>--</td><td>--</td><td>0.8140000000000001</td><td>--</td><td>--</td><td>--</td><td>--</td><td>--</td><td>--</td><td>--</td><td>--</td><td>--</td><td>--</td><td>--</td><td>--</td><td>--</td><td>--</td><td>--</td><td>--</td><td>--</td><td>--</td><td>--</td><td>--</td><td>--</td><td>--</td><td>--</td><td>--</td><td>--</td><td>--</td><td>--</td><td>--</td><td>--</td><td>--</td><td>--</td><td>--</td><td>--</td><td>--</td><td>--</td><td>--</td><td>--</td><td>--</td><td>--</td><td>--</td><td>--</td><td>--</td><td>--</td><td>--</td><td>--</td><td>--</td><td>--</td><td>--</td><td>--</td><td>--</td><td>--</td><td>--</td><td>--</td><td>--</td><td>--</td><td>--</td><td>--</td><td>--</td><td>--</td><td>--</td><td>--</td><td>--</td><td>--</td><td>--</td><td>--</td><td>--</td><td>--</td><td>--</td><td>1.45356984739857</td><td>0.015590222152733467</td><td>0.33333297073841095</td><td>0.022903056336377094</td><td>0.015590222152733467</td><td>1</td><td>C</td></tr>\n",
       "<tr><td>118.86533058171912</td><td>-60.80378781179854</td><td>5290730350909320704</td><td>273.7106174408008</td><td>-16.161499792343744</td><td>2.436121530443564</td><td>0.049993327038348905</td><td>-4.355287472371368</td><td>0.11186795059223716</td><td>10.629033958771448</td><td>0.09762830551260264</td><td>-0.003551075</td><td>-0.051533453</td><td>-0.25000754</td><td>0.031425793</td><td>0.29463235</td><td>0.06483921</td><td>-0.40097603</td><td>0.12721089</td><td>-0.03826029</td><td>0.06632795</td><td>371</td><td>16.667467</td><td>2.11736</td><td>0.800000011920929</td><td>NGC2516</td><td>07552770-6048138</td><td>0.0</td><td>14.22</td><td>13.57</td><td>13.35</td><td>30.02</td><td>23.67</td><td>7.3</td><td>3.607</td><td>2</td><td>0.29</td><td>0.13</td><td>nan</td><td>0.049993327038348905</td><td>NGC_2516</td><td>0.45703065</td><td>212.68533</td><td>0.048557684548025316</td><td>0.0934461841763559</td><td>GES</td><td>--</td><td>--</td><td>--</td><td>--</td><td>--</td><td>--</td><td>--</td><td>--</td><td>--</td><td>--</td><td>--</td><td>--</td><td>--</td><td>--</td><td>--</td><td>--</td><td>--</td><td>--</td><td>--</td><td>--</td><td>--</td><td>--</td><td>--</td><td>--</td><td>--</td><td>--</td><td>4045.7589169744288</td><td>134.7687847093414</td><td>--</td><td>--</td><td>--</td><td>--</td><td>--</td><td>--</td><td>0.949</td><td>--</td><td>--</td><td>--</td><td>--</td><td>--</td><td>--</td><td>--</td><td>--</td><td>--</td><td>--</td><td>--</td><td>--</td><td>--</td><td>--</td><td>--</td><td>--</td><td>--</td><td>--</td><td>--</td><td>--</td><td>--</td><td>--</td><td>--</td><td>--</td><td>--</td><td>--</td><td>--</td><td>--</td><td>--</td><td>--</td><td>--</td><td>--</td><td>--</td><td>--</td><td>--</td><td>--</td><td>--</td><td>--</td><td>--</td><td>--</td><td>--</td><td>--</td><td>--</td><td>--</td><td>--</td><td>--</td><td>--</td><td>--</td><td>--</td><td>--</td><td>--</td><td>--</td><td>--</td><td>--</td><td>--</td><td>--</td><td>--</td><td>--</td><td>--</td><td>--</td><td>--</td><td>--</td><td>--</td><td>--</td><td>--</td><td>--</td><td>--</td><td>--</td><td>3.2927914416151376</td><td>0.11257488783818737</td><td>0.6874862825497985</td><td>0.04580524854545016</td><td>0.11257488783818737</td><td>1</td><td>C</td></tr>\n",
       "<tr><td>119.06029229768161</td><td>-60.908680837889335</td><td>5290716675733528960</td><td>273.85285932723286</td><td>-16.124774254967544</td><td>2.443548232541065</td><td>0.04569606423978441</td><td>-4.522382595932077</td><td>0.09965638542296765</td><td>11.766174469920943</td><td>0.09078864866982836</td><td>-0.041688923</td><td>-0.10637869</td><td>-0.065935105</td><td>0.14337984</td><td>0.23973419</td><td>0.17801228</td><td>-0.259635</td><td>0.14721724</td><td>-0.03216208</td><td>0.043366533</td><td>402</td><td>16.537327</td><td>2.2165823</td><td>0.8999999761581421</td><td>NGC2516</td><td>07561448-6054314</td><td>0.0</td><td>13.88</td><td>13.12</td><td>12.92</td><td>34.9</td><td>21.74</td><td>42.2</td><td>3.615</td><td>2</td><td>0.6</td><td>0.05</td><td>nan</td><td>0.04569606423978441</td><td>NGC_2516</td><td>1.1419854</td><td>238.84497000000002</td><td>0.0</td><td>1.3706165366625445e-15</td><td>GES</td><td>--</td><td>--</td><td>--</td><td>--</td><td>--</td><td>--</td><td>--</td><td>--</td><td>--</td><td>--</td><td>--</td><td>--</td><td>--</td><td>--</td><td>--</td><td>--</td><td>--</td><td>--</td><td>--</td><td>--</td><td>--</td><td>--</td><td>--</td><td>--</td><td>--</td><td>--</td><td>4120.975190973304</td><td>118.07951836599726</td><td>--</td><td>--</td><td>--</td><td>--</td><td>--</td><td>--</td><td>2.1100000000000003</td><td>--</td><td>--</td><td>--</td><td>--</td><td>--</td><td>--</td><td>--</td><td>--</td><td>--</td><td>--</td><td>--</td><td>--</td><td>--</td><td>--</td><td>--</td><td>--</td><td>--</td><td>--</td><td>--</td><td>--</td><td>--</td><td>--</td><td>--</td><td>--</td><td>--</td><td>--</td><td>--</td><td>--</td><td>--</td><td>--</td><td>--</td><td>--</td><td>--</td><td>--</td><td>--</td><td>--</td><td>--</td><td>--</td><td>--</td><td>--</td><td>--</td><td>--</td><td>--</td><td>--</td><td>--</td><td>--</td><td>--</td><td>--</td><td>--</td><td>--</td><td>--</td><td>--</td><td>--</td><td>--</td><td>--</td><td>--</td><td>--</td><td>--</td><td>--</td><td>--</td><td>--</td><td>--</td><td>--</td><td>--</td><td>--</td><td>--</td><td>--</td><td>--</td><td>0.35893512060865757</td><td>0.008333485387265683</td><td>0.07291799713857472</td><td>0.0</td><td>0.008333485387265683</td><td>1</td><td>C</td></tr>\n",
       "<tr><td>119.62662452597256</td><td>-61.168576005207235</td><td>5290653075858442752</td><td>274.22422386291186</td><td>-16.00070990601393</td><td>2.4852013772353576</td><td>0.024379217565162793</td><td>-4.110094823056237</td><td>0.04852623351704215</td><td>10.788076314657793</td><td>0.040559134161769386</td><td>0.17108783</td><td>0.22939928</td><td>-0.18688472</td><td>0.03279104</td><td>0.34856045</td><td>0.12190557</td><td>-0.2079526</td><td>0.19214812</td><td>-0.09254736</td><td>0.06974314</td><td>386</td><td>15.026208</td><td>1.4376688</td><td>0.800000011920929</td><td>NGC2516</td><td>07583040-6110071</td><td>0.0</td><td>13.21</td><td>12.62</td><td>12.5</td><td>10.67</td><td>26.57</td><td>75.0</td><td>3.619</td><td>2</td><td>4.03</td><td>0.12</td><td>0.6558167338371277</td><td>0.024379217565162793</td><td>NGC_2516</td><td>-1.0376973</td><td>175.54398999999998</td><td>0.0</td><td>0.0</td><td>GES</td><td>--</td><td>--</td><td>--</td><td>--</td><td>--</td><td>--</td><td>--</td><td>--</td><td>--</td><td>--</td><td>--</td><td>--</td><td>--</td><td>--</td><td>--</td><td>--</td><td>--</td><td>--</td><td>--</td><td>--</td><td>--</td><td>--</td><td>--</td><td>--</td><td>--</td><td>--</td><td>4159.106104940223</td><td>389.79438659233585</td><td>--</td><td>--</td><td>--</td><td>--</td><td>--</td><td>--</td><td>9.0</td><td>--</td><td>--</td><td>--</td><td>--</td><td>--</td><td>--</td><td>--</td><td>--</td><td>--</td><td>--</td><td>--</td><td>--</td><td>--</td><td>--</td><td>--</td><td>--</td><td>--</td><td>--</td><td>--</td><td>--</td><td>--</td><td>--</td><td>--</td><td>--</td><td>--</td><td>--</td><td>--</td><td>--</td><td>--</td><td>--</td><td>--</td><td>--</td><td>--</td><td>--</td><td>--</td><td>--</td><td>--</td><td>--</td><td>--</td><td>--</td><td>--</td><td>--</td><td>--</td><td>--</td><td>--</td><td>--</td><td>--</td><td>--</td><td>--</td><td>--</td><td>--</td><td>--</td><td>--</td><td>--</td><td>--</td><td>--</td><td>--</td><td>--</td><td>--</td><td>--</td><td>--</td><td>--</td><td>--</td><td>--</td><td>--</td><td>--</td><td>--</td><td>--</td><td>0.47441365140091085</td><td>0.00833348948508501</td><td>0.10416861856356263</td><td>0.0</td><td>0.00833348948508501</td><td>1</td><td>C</td></tr>\n",
       "<tr><td>119.7312581599858</td><td>-60.93315783860372</td><td>5290669534172838528</td><td>274.0317721865354</td><td>-15.846641852298372</td><td>2.3357603550367685</td><td>0.050705792829313305</td><td>-5.3722526317612695</td><td>0.10603379395012034</td><td>11.07143723892656</td><td>0.1003512154404392</td><td>-0.12299248</td><td>-0.035588033</td><td>0.004854103</td><td>0.08018505</td><td>0.20795003</td><td>0.11832665</td><td>-0.10033162</td><td>0.13491087</td><td>-0.0815121</td><td>-0.20632799</td><td>376</td><td>16.551819</td><td>2.0510798</td><td>0.699999988079071</td><td>NGC2516</td><td>07585551-6055595</td><td>0.0</td><td>14.14</td><td>13.41</td><td>13.24</td><td>33.42</td><td>23.5</td><td>23.5</td><td>3.619</td><td>4</td><td>0.33</td><td>0.05</td><td>0.5058836936950684</td><td>0.050705792829313305</td><td>NGC_2516</td><td>-1.0696712</td><td>161.72829</td><td>0.0</td><td>0.0</td><td>GES</td><td>--</td><td>--</td><td>--</td><td>--</td><td>--</td><td>--</td><td>--</td><td>--</td><td>--</td><td>--</td><td>--</td><td>--</td><td>--</td><td>--</td><td>--</td><td>--</td><td>--</td><td>--</td><td>--</td><td>--</td><td>--</td><td>--</td><td>--</td><td>--</td><td>--</td><td>--</td><td>4159.106104940223</td><td>124.44961415141302</td><td>--</td><td>--</td><td>--</td><td>--</td><td>--</td><td>--</td><td>1.175</td><td>--</td><td>--</td><td>--</td><td>--</td><td>--</td><td>--</td><td>--</td><td>--</td><td>--</td><td>--</td><td>--</td><td>--</td><td>--</td><td>--</td><td>--</td><td>--</td><td>--</td><td>--</td><td>--</td><td>--</td><td>--</td><td>--</td><td>--</td><td>--</td><td>--</td><td>--</td><td>--</td><td>--</td><td>--</td><td>--</td><td>--</td><td>--</td><td>--</td><td>--</td><td>--</td><td>--</td><td>--</td><td>--</td><td>--</td><td>--</td><td>--</td><td>--</td><td>--</td><td>--</td><td>--</td><td>--</td><td>--</td><td>--</td><td>--</td><td>--</td><td>--</td><td>--</td><td>--</td><td>--</td><td>--</td><td>--</td><td>--</td><td>--</td><td>--</td><td>--</td><td>--</td><td>--</td><td>--</td><td>--</td><td>--</td><td>--</td><td>--</td><td>--</td><td>1.0410507029720713</td><td>0.013175894607077292</td><td>0.24999502301216125</td><td>0.0</td><td>0.013175894607077292</td><td>1</td><td>C</td></tr>\n",
       "<tr><td>120.11979893793894</td><td>-61.12912072833813</td><td>5290744983857413376</td><td>274.3032037254728</td><td>-15.771760621365607</td><td>2.4520025949793425</td><td>0.05055250625261468</td><td>-4.625452837657277</td><td>0.09057476494013679</td><td>11.71321280932652</td><td>0.11725095701634271</td><td>-0.202988</td><td>0.13636205</td><td>-0.176157</td><td>0.2574262</td><td>0.31581786</td><td>0.28662765</td><td>-0.4751487</td><td>0.17471577</td><td>-0.036030896</td><td>-0.20438142</td><td>351</td><td>16.216322</td><td>1.9169703</td><td>0.800000011920929</td><td>NGC2516</td><td>08002876-6107450</td><td>0.0</td><td>13.93</td><td>13.23</td><td>13.16</td><td>36.5</td><td>23.56</td><td>68.4</td><td>3.622</td><td>2</td><td>1.04</td><td>0.06</td><td>nan</td><td>0.05055250625261468</td><td>NGC_2516</td><td>0.06552752</td><td>142.43806</td><td>0.0</td><td>0.0</td><td>GES</td><td>--</td><td>--</td><td>--</td><td>--</td><td>--</td><td>--</td><td>--</td><td>--</td><td>--</td><td>--</td><td>--</td><td>--</td><td>--</td><td>--</td><td>--</td><td>--</td><td>--</td><td>--</td><td>--</td><td>--</td><td>--</td><td>--</td><td>--</td><td>--</td><td>--</td><td>--</td><td>4187.935651179182</td><td>114.73796304600499</td><td>--</td><td>--</td><td>--</td><td>--</td><td>--</td><td>--</td><td>4.104</td><td>--</td><td>--</td><td>--</td><td>--</td><td>--</td><td>--</td><td>--</td><td>--</td><td>--</td><td>--</td><td>--</td><td>--</td><td>--</td><td>--</td><td>--</td><td>--</td><td>--</td><td>--</td><td>--</td><td>--</td><td>--</td><td>--</td><td>--</td><td>--</td><td>--</td><td>--</td><td>--</td><td>--</td><td>--</td><td>--</td><td>--</td><td>--</td><td>--</td><td>--</td><td>--</td><td>--</td><td>--</td><td>--</td><td>--</td><td>--</td><td>--</td><td>--</td><td>--</td><td>--</td><td>--</td><td>--</td><td>--</td><td>--</td><td>--</td><td>--</td><td>--</td><td>--</td><td>--</td><td>--</td><td>--</td><td>--</td><td>--</td><td>--</td><td>--</td><td>--</td><td>--</td><td>--</td><td>--</td><td>--</td><td>--</td><td>--</td><td>--</td><td>--</td><td>0.486895188343312</td><td>0.024295155192457778</td><td>0.10416461853310466</td><td>0.022902630927733935</td><td>0.024295155192457778</td><td>1</td><td>C</td></tr>\n",
       "<tr><td>119.3006304143167</td><td>-60.55244766708006</td><td>5290739937276199168</td><td>273.57969309826</td><td>-15.856907716932549</td><td>2.3240196088962195</td><td>0.020478406837300747</td><td>-4.894071191135896</td><td>0.039022696600599927</td><td>10.64883259578083</td><td>0.044790693397845416</td><td>0.026691169</td><td>-0.081695</td><td>-0.19686648</td><td>-0.09615798</td><td>0.34532517</td><td>-0.068477355</td><td>-0.073668525</td><td>0.10146824</td><td>0.07876566</td><td>-0.09459209</td><td>379</td><td>14.352622</td><td>1.2207375</td><td>0.699999988079071</td><td>NGC2516</td><td>07571215-6033090</td><td>0.0</td><td>12.78</td><td>12.26</td><td>12.17</td><td>63.93</td><td>23.11</td><td>35.2</td><td>3.626</td><td>2</td><td>0.35</td><td>0.05</td><td>0.7590082883834839</td><td>0.020478406837300747</td><td>NGC_2516</td><td>-2.2641616</td><td>124.00848</td><td>0.0</td><td>0.0</td><td>GES</td><td>--</td><td>--</td><td>--</td><td>--</td><td>--</td><td>--</td><td>--</td><td>--</td><td>--</td><td>--</td><td>--</td><td>--</td><td>--</td><td>--</td><td>--</td><td>--</td><td>--</td><td>--</td><td>--</td><td>--</td><td>--</td><td>--</td><td>--</td><td>--</td><td>--</td><td>--</td><td>4226.686142656029</td><td>66.11428347655293</td><td>--</td><td>--</td><td>--</td><td>--</td><td>--</td><td>--</td><td>1.7600000000000002</td><td>--</td><td>--</td><td>--</td><td>--</td><td>--</td><td>--</td><td>--</td><td>--</td><td>--</td><td>--</td><td>--</td><td>--</td><td>--</td><td>--</td><td>--</td><td>--</td><td>--</td><td>--</td><td>--</td><td>--</td><td>--</td><td>--</td><td>--</td><td>--</td><td>--</td><td>--</td><td>--</td><td>--</td><td>--</td><td>--</td><td>--</td><td>--</td><td>--</td><td>--</td><td>--</td><td>--</td><td>--</td><td>--</td><td>--</td><td>--</td><td>--</td><td>--</td><td>--</td><td>--</td><td>--</td><td>--</td><td>--</td><td>--</td><td>--</td><td>--</td><td>--</td><td>--</td><td>--</td><td>--</td><td>--</td><td>--</td><td>--</td><td>--</td><td>--</td><td>--</td><td>--</td><td>--</td><td>--</td><td>--</td><td>--</td><td>--</td><td>--</td><td>--</td><td>0.9791653607971965</td><td>0.23958301381208003</td><td>0.23958301381208003</td><td>0.0</td><td>0.0</td><td>1</td><td>C</td></tr>\n",
       "<tr><td>118.96634354343598</td><td>-61.22241062296897</td><td>5290661253475851392</td><td>274.12217865054896</td><td>-16.308121839152403</td><td>2.4832361524458095</td><td>0.039177785969094936</td><td>-4.611514434681197</td><td>0.07868155530837903</td><td>11.122983975650616</td><td>0.07115486807405726</td><td>0.02633926</td><td>0.12131561</td><td>-0.23278712</td><td>0.10520601</td><td>0.34654778</td><td>0.19562532</td><td>-0.32207304</td><td>0.21450739</td><td>-0.13173309</td><td>0.0008911976</td><td>372</td><td>16.072489</td><td>1.8440399</td><td>0.800000011920929</td><td>NGC2516</td><td>07555194-6113208</td><td>0.0</td><td>13.93</td><td>13.19</td><td>13.01</td><td>27.02</td><td>23.23</td><td>24.5</td><td>3.631</td><td>2</td><td>0.45</td><td>0.06</td><td>0.5961343050003052</td><td>0.039177785969094936</td><td>NGC_2516</td><td>-0.5541614</td><td>176.81711</td><td>0.0</td><td>0.0</td><td>GES</td><td>--</td><td>--</td><td>--</td><td>--</td><td>--</td><td>--</td><td>--</td><td>--</td><td>--</td><td>--</td><td>--</td><td>--</td><td>--</td><td>--</td><td>--</td><td>--</td><td>--</td><td>--</td><td>--</td><td>--</td><td>--</td><td>--</td><td>--</td><td>--</td><td>--</td><td>--</td><td>4275.62886151586</td><td>158.23941012271874</td><td>--</td><td>--</td><td>--</td><td>--</td><td>--</td><td>--</td><td>1.47</td><td>--</td><td>--</td><td>--</td><td>--</td><td>--</td><td>--</td><td>--</td><td>--</td><td>--</td><td>--</td><td>--</td><td>--</td><td>--</td><td>--</td><td>--</td><td>--</td><td>--</td><td>--</td><td>--</td><td>--</td><td>--</td><td>--</td><td>--</td><td>--</td><td>--</td><td>--</td><td>--</td><td>--</td><td>--</td><td>--</td><td>--</td><td>--</td><td>--</td><td>--</td><td>--</td><td>--</td><td>--</td><td>--</td><td>--</td><td>--</td><td>--</td><td>--</td><td>--</td><td>--</td><td>--</td><td>--</td><td>--</td><td>--</td><td>--</td><td>--</td><td>--</td><td>--</td><td>--</td><td>--</td><td>--</td><td>--</td><td>--</td><td>--</td><td>--</td><td>--</td><td>--</td><td>--</td><td>--</td><td>--</td><td>--</td><td>--</td><td>--</td><td>--</td><td>1.2095231426613668</td><td>0.02282176064675782</td><td>0.24999986216425896</td><td>0.022903068622547297</td><td>0.02282176064675782</td><td>1</td><td>C</td></tr>\n",
       "<tr><td>...</td><td>...</td><td>...</td><td>...</td><td>...</td><td>...</td><td>...</td><td>...</td><td>...</td><td>...</td><td>...</td><td>...</td><td>...</td><td>...</td><td>...</td><td>...</td><td>...</td><td>...</td><td>...</td><td>...</td><td>...</td><td>...</td><td>...</td><td>...</td><td>...</td><td>...</td><td>...</td><td>...</td><td>...</td><td>...</td><td>...</td><td>...</td><td>...</td><td>...</td><td>...</td><td>...</td><td>...</td><td>...</td><td>...</td><td>...</td><td>...</td><td>...</td><td>...</td><td>...</td><td>...</td><td>...</td><td>...</td><td>...</td><td>...</td><td>...</td><td>...</td><td>...</td><td>...</td><td>...</td><td>...</td><td>...</td><td>...</td><td>...</td><td>...</td><td>...</td><td>...</td><td>...</td><td>...</td><td>...</td><td>...</td><td>...</td><td>...</td><td>...</td><td>...</td><td>...</td><td>...</td><td>...</td><td>...</td><td>...</td><td>...</td><td>...</td><td>...</td><td>...</td><td>...</td><td>...</td><td>...</td><td>...</td><td>...</td><td>...</td><td>...</td><td>...</td><td>...</td><td>...</td><td>...</td><td>...</td><td>...</td><td>...</td><td>...</td><td>...</td><td>...</td><td>...</td><td>...</td><td>...</td><td>...</td><td>...</td><td>...</td><td>...</td><td>...</td><td>...</td><td>...</td><td>...</td><td>...</td><td>...</td><td>...</td><td>...</td><td>...</td><td>...</td><td>...</td><td>...</td><td>...</td><td>...</td><td>...</td><td>...</td><td>...</td><td>...</td><td>...</td><td>...</td><td>...</td><td>...</td><td>...</td><td>...</td><td>...</td><td>...</td><td>...</td><td>...</td><td>...</td><td>...</td><td>...</td><td>...</td><td>...</td><td>...</td><td>...</td><td>...</td><td>...</td><td>...</td><td>...</td><td>...</td><td>...</td><td>...</td><td>...</td><td>...</td><td>...</td><td>...</td><td>...</td><td>...</td><td>...</td><td>...</td><td>...</td><td>...</td><td>...</td><td>...</td></tr>\n",
       "<tr><td>119.28904318367995</td><td>-60.80071348518938</td><td>5290723204083832448</td><td>273.806135417528</td><td>-15.976273995940431</td><td>2.421822630693856</td><td>0.027175981504080855</td><td>-4.840525594893502</td><td>0.06582004619451799</td><td>12.145949878134852</td><td>0.04812349589825568</td><td>-0.04758486</td><td>-0.17589252</td><td>-0.15385053</td><td>0.07642262</td><td>0.3078291</td><td>0.08431381</td><td>-0.19382568</td><td>0.023880538</td><td>-0.091645874</td><td>0.13997105</td><td>357</td><td>12.311568</td><td>0.8312769</td><td>0.8999999761581421</td><td>NGC2516</td><td>07570938-6048027</td><td>0.0</td><td>11.23</td><td>10.95</td><td>10.94</td><td>170.48</td><td>24.29</td><td>32.8</td><td>3.798</td><td>2</td><td>0.3</td><td>0.05</td><td>1.231762170791626</td><td>0.027175981504080855</td><td>NGC_2516</td><td>2.3771887</td><td>193.12566999999999</td><td>0.0</td><td>0.0</td><td>GES</td><td>--</td><td>--</td><td>--</td><td>--</td><td>--</td><td>--</td><td>--</td><td>--</td><td>--</td><td>--</td><td>--</td><td>--</td><td>--</td><td>--</td><td>--</td><td>--</td><td>--</td><td>--</td><td>--</td><td>--</td><td>--</td><td>--</td><td>--</td><td>--</td><td>--</td><td>--</td><td>6280.58358813318</td><td>36.84058885577886</td><td>--</td><td>--</td><td>--</td><td>--</td><td>--</td><td>--</td><td>1.64</td><td>--</td><td>--</td><td>--</td><td>--</td><td>--</td><td>--</td><td>--</td><td>--</td><td>--</td><td>--</td><td>--</td><td>--</td><td>--</td><td>--</td><td>--</td><td>--</td><td>--</td><td>--</td><td>--</td><td>--</td><td>--</td><td>--</td><td>--</td><td>--</td><td>--</td><td>--</td><td>--</td><td>--</td><td>--</td><td>--</td><td>--</td><td>--</td><td>--</td><td>--</td><td>--</td><td>--</td><td>--</td><td>--</td><td>--</td><td>--</td><td>--</td><td>--</td><td>--</td><td>--</td><td>--</td><td>--</td><td>--</td><td>--</td><td>--</td><td>--</td><td>--</td><td>--</td><td>--</td><td>--</td><td>--</td><td>--</td><td>--</td><td>--</td><td>--</td><td>--</td><td>--</td><td>--</td><td>--</td><td>--</td><td>--</td><td>--</td><td>--</td><td>--</td><td>1.5833150129765272</td><td>0.041666184552013874</td><td>0.3541595684364438</td><td>0.022902622225030044</td><td>0.021245488828035605</td><td>1</td><td>C</td></tr>\n",
       "<tr><td>119.13311338979422</td><td>-60.46808812731028</td><td>5290931561536172416</td><td>273.46237443018174</td><td>-15.89129904900678</td><td>2.431971731199214</td><td>0.02240670395661029</td><td>-4.547503922676944</td><td>0.041067141671852075</td><td>11.689066253189399</td><td>0.04025915079856418</td><td>-0.10416152</td><td>-0.05322741</td><td>-0.04602847</td><td>-0.058171928</td><td>0.47606394</td><td>0.013990265</td><td>-0.12711781</td><td>0.11464665</td><td>0.08213199</td><td>-0.20905219</td><td>375</td><td>12.140182</td><td>0.76933765</td><td>1.0</td><td>NGC2516</td><td>07563195-6028054</td><td>0.0</td><td>11.11</td><td>10.9</td><td>10.85</td><td>215.6</td><td>23.47</td><td>19.5</td><td>3.798</td><td>4</td><td>0.19</td><td>0.03</td><td>1.2649272680282593</td><td>0.02240670395661029</td><td>NGC_2516</td><td>1.4728113</td><td>246.27924</td><td>0.0</td><td>0.0</td><td>GES</td><td>--</td><td>--</td><td>--</td><td>--</td><td>--</td><td>--</td><td>--</td><td>--</td><td>--</td><td>--</td><td>--</td><td>--</td><td>--</td><td>--</td><td>--</td><td>--</td><td>--</td><td>--</td><td>--</td><td>--</td><td>--</td><td>--</td><td>--</td><td>--</td><td>--</td><td>--</td><td>6280.58358813318</td><td>29.130721651823652</td><td>--</td><td>--</td><td>--</td><td>--</td><td>--</td><td>--</td><td>0.585</td><td>--</td><td>--</td><td>--</td><td>--</td><td>--</td><td>--</td><td>--</td><td>--</td><td>--</td><td>--</td><td>--</td><td>--</td><td>--</td><td>--</td><td>--</td><td>--</td><td>--</td><td>--</td><td>--</td><td>--</td><td>--</td><td>--</td><td>--</td><td>--</td><td>--</td><td>--</td><td>--</td><td>--</td><td>--</td><td>--</td><td>--</td><td>--</td><td>--</td><td>--</td><td>--</td><td>--</td><td>--</td><td>--</td><td>--</td><td>--</td><td>--</td><td>--</td><td>--</td><td>--</td><td>--</td><td>--</td><td>--</td><td>--</td><td>--</td><td>--</td><td>--</td><td>--</td><td>--</td><td>--</td><td>--</td><td>--</td><td>--</td><td>--</td><td>--</td><td>--</td><td>--</td><td>--</td><td>--</td><td>--</td><td>--</td><td>--</td><td>--</td><td>--</td><td>1.5327194353033387</td><td>0.04564299078287792</td><td>0.36457889480516315</td><td>0.04580560484438594</td><td>0.04564299078287792</td><td>1</td><td>C</td></tr>\n",
       "<tr><td>120.35195969813897</td><td>-60.58772334905382</td><td>5290777522534884864</td><td>273.8628822281947</td><td>-15.416766996670582</td><td>2.472482465136764</td><td>0.02148435440047484</td><td>-4.757403679147385</td><td>0.044592772304600944</td><td>11.714942307494805</td><td>0.048801301207108065</td><td>-0.024858266</td><td>-0.05185423</td><td>-0.12545335</td><td>0.15289474</td><td>0.15467829</td><td>0.18090898</td><td>-0.31664026</td><td>0.19770338</td><td>-0.00945094</td><td>0.015035911</td><td>365</td><td>12.078058</td><td>0.77945423</td><td>0.8999999761581421</td><td>NGC2516</td><td>08012448-6035158</td><td>0.0</td><td>11.03</td><td>10.79</td><td>10.7</td><td>141.78</td><td>23.75</td><td>43.1</td><td>3.799</td><td>2</td><td>0.38</td><td>0.05</td><td>1.3155916929244995</td><td>0.02148435440047484</td><td>NGC_2516</td><td>3.6113827000000005</td><td>273.34622</td><td>0.0</td><td>0.0</td><td>GES</td><td>--</td><td>--</td><td>--</td><td>--</td><td>--</td><td>--</td><td>--</td><td>--</td><td>--</td><td>--</td><td>--</td><td>--</td><td>--</td><td>--</td><td>--</td><td>--</td><td>--</td><td>--</td><td>--</td><td>--</td><td>--</td><td>--</td><td>--</td><td>--</td><td>--</td><td>--</td><td>6295.061828571975</td><td>44.40021038631665</td><td>--</td><td>--</td><td>--</td><td>--</td><td>--</td><td>--</td><td>2.1550000000000002</td><td>--</td><td>--</td><td>--</td><td>--</td><td>--</td><td>--</td><td>--</td><td>--</td><td>--</td><td>--</td><td>--</td><td>--</td><td>--</td><td>--</td><td>--</td><td>--</td><td>--</td><td>--</td><td>--</td><td>--</td><td>--</td><td>--</td><td>--</td><td>--</td><td>--</td><td>--</td><td>--</td><td>--</td><td>--</td><td>--</td><td>--</td><td>--</td><td>--</td><td>--</td><td>--</td><td>--</td><td>--</td><td>--</td><td>--</td><td>--</td><td>--</td><td>--</td><td>--</td><td>--</td><td>--</td><td>--</td><td>--</td><td>--</td><td>--</td><td>--</td><td>--</td><td>--</td><td>--</td><td>--</td><td>--</td><td>--</td><td>--</td><td>--</td><td>--</td><td>--</td><td>--</td><td>--</td><td>--</td><td>--</td><td>--</td><td>--</td><td>--</td><td>--</td><td>1.4154751253181266</td><td>0.02041239916267485</td><td>0.3437497413251549</td><td>0.0</td><td>0.02041239916267485</td><td>1</td><td>C</td></tr>\n",
       "<tr><td>120.25893515927606</td><td>-60.75072932871493</td><td>5290771032840440832</td><td>273.98952007508257</td><td>-15.534036017351786</td><td>2.4662221628645216</td><td>0.020416175295220315</td><td>-5.115683429868101</td><td>0.041852473215627954</td><td>11.132330909965663</td><td>0.040928679431844577</td><td>0.015085931</td><td>-0.015708545</td><td>0.07467157</td><td>0.12687433</td><td>0.25768724</td><td>0.16105711</td><td>-0.16129729</td><td>0.17618361</td><td>-0.14788006</td><td>0.07549393</td><td>397</td><td>12.01669</td><td>0.74466133</td><td>0.800000011920929</td><td>NGC2516</td><td>08010217-6045027</td><td>0.0</td><td>11.05</td><td>10.84</td><td>10.76</td><td>179.78</td><td>24.7</td><td>38.1</td><td>3.801</td><td>2</td><td>0.32</td><td>0.05</td><td>1.2512835264205933</td><td>0.020416175295220315</td><td>NGC_2516</td><td>3.8543856</td><td>305.5833</td><td>0.0</td><td>0.0</td><td>GES</td><td>--</td><td>--</td><td>--</td><td>--</td><td>--</td><td>--</td><td>--</td><td>--</td><td>--</td><td>--</td><td>--</td><td>--</td><td>--</td><td>--</td><td>--</td><td>--</td><td>--</td><td>--</td><td>--</td><td>--</td><td>--</td><td>--</td><td>--</td><td>--</td><td>--</td><td>--</td><td>6324.118513762197</td><td>35.176985836924004</td><td>--</td><td>--</td><td>--</td><td>--</td><td>--</td><td>--</td><td>1.9050000000000002</td><td>--</td><td>--</td><td>--</td><td>--</td><td>--</td><td>--</td><td>--</td><td>--</td><td>--</td><td>--</td><td>--</td><td>--</td><td>--</td><td>--</td><td>--</td><td>--</td><td>--</td><td>--</td><td>--</td><td>--</td><td>--</td><td>--</td><td>--</td><td>--</td><td>--</td><td>--</td><td>--</td><td>--</td><td>--</td><td>--</td><td>--</td><td>--</td><td>--</td><td>--</td><td>--</td><td>--</td><td>--</td><td>--</td><td>--</td><td>--</td><td>--</td><td>--</td><td>--</td><td>--</td><td>--</td><td>--</td><td>--</td><td>--</td><td>--</td><td>--</td><td>--</td><td>--</td><td>--</td><td>--</td><td>--</td><td>--</td><td>--</td><td>--</td><td>--</td><td>--</td><td>--</td><td>--</td><td>--</td><td>--</td><td>--</td><td>--</td><td>--</td><td>--</td><td>1.5101355644741223</td><td>0.025000273436307906</td><td>0.2916698567569256</td><td>0.022903331751359068</td><td>0.025000273436307906</td><td>1</td><td>C</td></tr>\n",
       "<tr><td>119.54578810711885</td><td>-60.41739304924166</td><td>5290838962037067648</td><td>273.51338327597443</td><td>-15.687335446119027</td><td>2.4199624895324763</td><td>0.019298476016863773</td><td>-4.604390498606601</td><td>0.03982930893400109</td><td>11.22469364826085</td><td>0.03996636838479827</td><td>-0.02823933</td><td>-0.03777135</td><td>-0.27856323</td><td>0.09361738</td><td>0.31243515</td><td>0.08763942</td><td>-0.07207478</td><td>-0.040561214</td><td>-0.10064966</td><td>0.003535313</td><td>403</td><td>12.003408</td><td>0.73031425</td><td>1.0</td><td>NGC2516</td><td>07581100-6025028</td><td>0.0</td><td>11.07</td><td>10.83</td><td>10.78</td><td>152.66</td><td>24.89</td><td>68.0</td><td>3.805</td><td>2</td><td>0.59</td><td>0.05</td><td>1.116557002067566</td><td>0.019298476016863773</td><td>NGC_2516</td><td>1.2884243</td><td>249.54908999999998</td><td>0.0</td><td>0.0</td><td>GES</td><td>--</td><td>--</td><td>--</td><td>--</td><td>--</td><td>--</td><td>--</td><td>--</td><td>--</td><td>--</td><td>--</td><td>--</td><td>--</td><td>--</td><td>--</td><td>--</td><td>--</td><td>--</td><td>--</td><td>--</td><td>--</td><td>--</td><td>--</td><td>--</td><td>--</td><td>--</td><td>6382.634861905489</td><td>41.809477675261945</td><td>--</td><td>--</td><td>--</td><td>--</td><td>--</td><td>--</td><td>3.4000000000000004</td><td>--</td><td>--</td><td>--</td><td>--</td><td>--</td><td>--</td><td>--</td><td>--</td><td>--</td><td>--</td><td>--</td><td>--</td><td>--</td><td>--</td><td>--</td><td>--</td><td>--</td><td>--</td><td>--</td><td>--</td><td>--</td><td>--</td><td>--</td><td>--</td><td>--</td><td>--</td><td>--</td><td>--</td><td>--</td><td>--</td><td>--</td><td>--</td><td>--</td><td>--</td><td>--</td><td>--</td><td>--</td><td>--</td><td>--</td><td>--</td><td>--</td><td>--</td><td>--</td><td>--</td><td>--</td><td>--</td><td>--</td><td>--</td><td>--</td><td>--</td><td>--</td><td>--</td><td>--</td><td>--</td><td>--</td><td>--</td><td>--</td><td>--</td><td>--</td><td>--</td><td>--</td><td>--</td><td>--</td><td>--</td><td>--</td><td>--</td><td>--</td><td>--</td><td>0.8124900721013544</td><td>0.19791424833238125</td><td>0.19791424833238125</td><td>0.0</td><td>0.0</td><td>1</td><td>C</td></tr>\n",
       "<tr><td>119.96923296451449</td><td>-60.68772763255449</td><td>5290770345645486976</td><td>273.862589846785</td><td>-15.62941168110264</td><td>2.337955779461838</td><td>0.024440254996249255</td><td>-4.440228991405206</td><td>0.061710178854373895</td><td>11.662129696442745</td><td>0.05591529009821347</td><td>0.23341537</td><td>-0.14573386</td><td>-0.4084874</td><td>-0.29154855</td><td>0.11637668</td><td>-0.29722536</td><td>-0.5744383</td><td>0.20322515</td><td>0.050234403</td><td>0.3158545</td><td>373</td><td>12.430677</td><td>0.8407097</td><td>0.8999999761581421</td><td>NGC2516</td><td>07595262-6041159</td><td>0.0</td><td>11.39</td><td>11.1</td><td>11.01</td><td>99.25</td><td>24.52</td><td>21.9</td><td>3.806</td><td>2</td><td>0.32</td><td>0.05</td><td>1.193946361541748</td><td>0.024440254996249255</td><td>NGC_2516</td><td>0.4977442</td><td>170.43503</td><td>0.0</td><td>0.0</td><td>GES</td><td>--</td><td>--</td><td>--</td><td>--</td><td>--</td><td>--</td><td>--</td><td>--</td><td>--</td><td>--</td><td>--</td><td>--</td><td>--</td><td>--</td><td>--</td><td>--</td><td>--</td><td>--</td><td>--</td><td>--</td><td>--</td><td>--</td><td>--</td><td>--</td><td>--</td><td>--</td><td>6397.348354826482</td><td>64.45691037608546</td><td>--</td><td>--</td><td>--</td><td>--</td><td>--</td><td>--</td><td>1.095</td><td>--</td><td>--</td><td>--</td><td>--</td><td>--</td><td>--</td><td>--</td><td>--</td><td>--</td><td>--</td><td>--</td><td>--</td><td>--</td><td>--</td><td>--</td><td>--</td><td>--</td><td>--</td><td>--</td><td>--</td><td>--</td><td>--</td><td>--</td><td>--</td><td>--</td><td>--</td><td>--</td><td>--</td><td>--</td><td>--</td><td>--</td><td>--</td><td>--</td><td>--</td><td>--</td><td>--</td><td>--</td><td>--</td><td>--</td><td>--</td><td>--</td><td>--</td><td>--</td><td>--</td><td>--</td><td>--</td><td>--</td><td>--</td><td>--</td><td>--</td><td>--</td><td>--</td><td>--</td><td>--</td><td>--</td><td>--</td><td>--</td><td>--</td><td>--</td><td>--</td><td>--</td><td>--</td><td>--</td><td>--</td><td>--</td><td>--</td><td>--</td><td>--</td><td>2.3523790244545246</td><td>0.03584299257036532</td><td>0.5520828808657825</td><td>0.022903062479462194</td><td>0.03584299257036532</td><td>1</td><td>C</td></tr>\n",
       "<tr><td>119.25998129356094</td><td>-61.03465617585395</td><td>5290664929967787264</td><td>274.0156045458683</td><td>-16.096273101399444</td><td>2.423858840447574</td><td>0.02465442465699191</td><td>-4.249929974106201</td><td>0.04965415719118762</td><td>11.316085418448882</td><td>0.043708430181997646</td><td>-0.1828444</td><td>-0.11409408</td><td>-0.44087377</td><td>0.19312134</td><td>0.33971387</td><td>0.27938685</td><td>-0.2737395</td><td>0.29234594</td><td>-0.10523812</td><td>-0.1598389</td><td>319</td><td>11.817455</td><td>0.7374668</td><td>1.0</td><td>NGC2516</td><td>07570240-6102049</td><td>0.0</td><td>10.86</td><td>10.64</td><td>10.53</td><td>183.42</td><td>25.16</td><td>50.0</td><td>3.808</td><td>2</td><td>0.38</td><td>0.05</td><td>1.3395180702209473</td><td>0.02465442465699191</td><td>NGC_2516</td><td>3.2343655</td><td>238.40315</td><td>0.0</td><td>0.0</td><td>GES</td><td>--</td><td>--</td><td>--</td><td>--</td><td>--</td><td>--</td><td>--</td><td>--</td><td>--</td><td>--</td><td>--</td><td>--</td><td>--</td><td>--</td><td>--</td><td>--</td><td>--</td><td>--</td><td>--</td><td>--</td><td>--</td><td>--</td><td>--</td><td>--</td><td>--</td><td>--</td><td>6426.877173170194</td><td>35.039129719606336</td><td>--</td><td>--</td><td>--</td><td>--</td><td>--</td><td>--</td><td>2.5</td><td>--</td><td>--</td><td>--</td><td>--</td><td>--</td><td>--</td><td>--</td><td>--</td><td>--</td><td>--</td><td>--</td><td>--</td><td>--</td><td>--</td><td>--</td><td>--</td><td>--</td><td>--</td><td>--</td><td>--</td><td>--</td><td>--</td><td>--</td><td>--</td><td>--</td><td>--</td><td>--</td><td>--</td><td>--</td><td>--</td><td>--</td><td>--</td><td>--</td><td>--</td><td>--</td><td>--</td><td>--</td><td>--</td><td>--</td><td>--</td><td>--</td><td>--</td><td>--</td><td>--</td><td>--</td><td>--</td><td>--</td><td>--</td><td>--</td><td>--</td><td>--</td><td>--</td><td>--</td><td>--</td><td>--</td><td>--</td><td>--</td><td>--</td><td>--</td><td>--</td><td>--</td><td>--</td><td>--</td><td>--</td><td>--</td><td>--</td><td>--</td><td>--</td><td>1.485445629572496</td><td>0.06874783304611898</td><td>0.37500690948218107</td><td>0.0264466875287171</td><td>0.05387641159076604</td><td>1</td><td>C</td></tr>\n",
       "<tr><td>119.69352745414736</td><td>-61.09960558716263</td><td>5290655549759621888</td><td>274.17621247051227</td><td>-15.94013354298016</td><td>2.3932237789778608</td><td>0.021543104952755715</td><td>-4.921997949523925</td><td>0.042265569501532395</td><td>11.274009614653238</td><td>0.037165337260972486</td><td>0.0023310764</td><td>0.024917921</td><td>-0.31841588</td><td>0.042953096</td><td>0.349475</td><td>0.10386909</td><td>-0.23403125</td><td>0.14964245</td><td>-0.1313811</td><td>0.00976462</td><td>366</td><td>11.652856</td><td>0.6925583</td><td>0.6000000238418579</td><td>NGC2516</td><td>07584646-6105588</td><td>0.0</td><td>10.73</td><td>10.51</td><td>10.44</td><td>198.83</td><td>26.75</td><td>57.6</td><td>3.818</td><td>2</td><td>0.43</td><td>0.05</td><td>1.3733460903167725</td><td>0.021543104952755715</td><td>NGC_2516</td><td>6.092789</td><td>352.51437000000004</td><td>0.0</td><td>0.0</td><td>GES</td><td>--</td><td>--</td><td>--</td><td>--</td><td>--</td><td>--</td><td>--</td><td>--</td><td>--</td><td>--</td><td>--</td><td>--</td><td>--</td><td>--</td><td>--</td><td>--</td><td>--</td><td>--</td><td>--</td><td>--</td><td>--</td><td>--</td><td>--</td><td>--</td><td>--</td><td>--</td><td>6576.578373554205</td><td>33.0763887419112</td><td>--</td><td>--</td><td>--</td><td>--</td><td>--</td><td>--</td><td>2.8800000000000003</td><td>--</td><td>--</td><td>--</td><td>--</td><td>--</td><td>--</td><td>--</td><td>--</td><td>--</td><td>--</td><td>--</td><td>--</td><td>--</td><td>--</td><td>--</td><td>--</td><td>--</td><td>--</td><td>--</td><td>--</td><td>--</td><td>--</td><td>--</td><td>--</td><td>--</td><td>--</td><td>--</td><td>--</td><td>--</td><td>--</td><td>--</td><td>--</td><td>--</td><td>--</td><td>--</td><td>--</td><td>--</td><td>--</td><td>--</td><td>--</td><td>--</td><td>--</td><td>--</td><td>--</td><td>--</td><td>--</td><td>--</td><td>--</td><td>--</td><td>--</td><td>--</td><td>--</td><td>--</td><td>--</td><td>--</td><td>--</td><td>--</td><td>--</td><td>--</td><td>--</td><td>--</td><td>--</td><td>--</td><td>--</td><td>--</td><td>--</td><td>--</td><td>--</td><td>1.5728992930380625</td><td>0.010416551609523594</td><td>1.3125246525742114</td><td>-1.0</td><td>-1.0</td><td>1</td><td>C</td></tr>\n",
       "<tr><td>119.77089232461998</td><td>-60.94330916803846</td><td>5290763095740848128</td><td>274.05042264198937</td><td>-15.834321918756146</td><td>2.37753123787824</td><td>0.02181132997540413</td><td>-4.56520598186897</td><td>0.044032149717705235</td><td>11.500296647027684</td><td>0.041343954641615686</td><td>-0.16743238</td><td>-0.018094007</td><td>-0.22839683</td><td>0.07504956</td><td>0.20673</td><td>0.11141032</td><td>-0.18408903</td><td>0.20346251</td><td>-0.14122093</td><td>-0.21059737</td><td>346</td><td>11.420208</td><td>0.63585186</td><td>0.800000011920929</td><td>NGC2516</td><td>07590501-6056361</td><td>0.0</td><td>10.6</td><td>10.38</td><td>10.37</td><td>255.3</td><td>26.58</td><td>65.6</td><td>3.836</td><td>4</td><td>0.41</td><td>0.04</td><td>1.5186032056808472</td><td>0.02181132997540413</td><td>NGC_2516</td><td>6.173854</td><td>337.88552999999996</td><td>0.0</td><td>0.0</td><td>GES</td><td>--</td><td>--</td><td>--</td><td>--</td><td>--</td><td>--</td><td>--</td><td>--</td><td>--</td><td>--</td><td>--</td><td>--</td><td>--</td><td>--</td><td>--</td><td>--</td><td>--</td><td>--</td><td>--</td><td>--</td><td>--</td><td>--</td><td>--</td><td>--</td><td>--</td><td>--</td><td>6854.882264526614</td><td>26.85030264209406</td><td>--</td><td>--</td><td>--</td><td>--</td><td>--</td><td>--</td><td>2.6239999999999997</td><td>--</td><td>--</td><td>--</td><td>--</td><td>--</td><td>--</td><td>--</td><td>--</td><td>--</td><td>--</td><td>--</td><td>--</td><td>--</td><td>--</td><td>--</td><td>--</td><td>--</td><td>--</td><td>--</td><td>--</td><td>--</td><td>--</td><td>--</td><td>--</td><td>--</td><td>--</td><td>--</td><td>--</td><td>--</td><td>--</td><td>--</td><td>--</td><td>--</td><td>--</td><td>--</td><td>--</td><td>--</td><td>--</td><td>--</td><td>--</td><td>--</td><td>--</td><td>--</td><td>--</td><td>--</td><td>--</td><td>--</td><td>--</td><td>--</td><td>--</td><td>--</td><td>--</td><td>--</td><td>--</td><td>--</td><td>--</td><td>--</td><td>--</td><td>--</td><td>--</td><td>--</td><td>--</td><td>--</td><td>--</td><td>--</td><td>--</td><td>--</td><td>--</td><td>1.1196639623759046</td><td>0.040398093633591065</td><td>0.1770852345507592</td><td>0.022903327144045242</td><td>0.04639853449953471</td><td>1</td><td>C</td></tr>\n",
       "<tr><td>119.4210732231115</td><td>-60.72733767006693</td><td>5290725437466835840</td><td>273.7693273991123</td><td>-15.885227361356785</td><td>2.3418129024844907</td><td>0.03573035066742482</td><td>-4.745448478563206</td><td>0.0734111116755055</td><td>11.091164329721098</td><td>0.058270352727962514</td><td>0.03365354</td><td>-0.07222143</td><td>-0.2167577</td><td>-0.081093125</td><td>0.40076265</td><td>0.0397274</td><td>-0.049689263</td><td>0.30627486</td><td>-0.10630009</td><td>0.047738142</td><td>357</td><td>10.158401</td><td>0.22376633</td><td>0.699999988079071</td><td>--</td><td>--</td><td>--</td><td>--</td><td>--</td><td>--</td><td>--</td><td>22.1185199842</td><td>18.2539333928765</td><td>--</td><td>--</td><td>0.3151433443785066</td><td>--</td><td>--</td><td>--</td><td>NGC_2516</td><td>13.907967999999999</td><td>560.2023</td><td>0.08141194484387276</td><td>2.4990136097204503</td><td>Galah</td><td>07574106-6043385</td><td>151231003701025</td><td>MFOBJECT</td><td>2673</td><td>119.421104</td><td>-60.727383</td><td>9.863</td><td>9.803</td><td>9.763</td><td>10.555755147675788</td><td>0.024</td><td>0.024</td><td>0.019</td><td>119.765574846</td><td>134.923573024</td><td>153.34461009</td><td>169.038572661</td><td>22.1185199842</td><td>0.3151433443785066</td><td>nan</td><td>nan</td><td>nan</td><td>nan</td><td>9.70440430149197</td><td>138.02352497405147</td><td>3</td><td>7706.163094788561</td><td>40.988327478690934</td><td>4.55880111200125</td><td>0.12042966606459678</td><td>-0.34660977912877167</td><td>0.04385747707236938</td><td>2.427366170400455</td><td>0.027002294143943287</td><td>0.6990652229668504</td><td>nan</td><td>nan</td><td>2.1690845144809616</td><td>0.3260338774513051</td><td>9</td><td>0.21850987368437527</td><td>0.0189332840982169</td><td>5</td><td>0.20192345521580587</td><td>0.06860044112287235</td><td>5</td><td>-0.31373784981697345</td><td>0.03260127259307927</td><td>7</td><td>0.18785324215809127</td><td>0.05439795973022158</td><td>9</td><td>-0.2868076486919733</td><td>0.029793145946017598</td><td>7</td><td>nan</td><td>nan</td><td>7</td><td>-0.21909517695387842</td><td>0.06626284511743893</td><td>3</td><td>-0.2874660152769295</td><td>0.0350783194582785</td><td>9</td><td>0.1589401679125848</td><td>0.028987048051935596</td><td>7</td><td>0.2745672791981767</td><td>0.023340347986079736</td><td>5</td><td>0.002282686057998723</td><td>0.03528521776145812</td><td>5</td><td>-0.02968232275762917</td><td>0.034044379312314965</td><td>3</td><td>-0.19659012341952092</td><td>0.038654152874344434</td><td>9</td><td>-0.38985042173684126</td><td>0.15408474294850522</td><td>7</td><td>0.1955858082220307</td><td>0.043057165189817885</td><td>3</td><td>-0.21330401256196127</td><td>0.042339748326336614</td><td>7</td><td>-0.20683687744637766</td><td>0.048924463509762955</td><td>9</td><td>0.4401238649522646</td><td>0.05230700343067659</td><td>5</td><td>-2.1997735281329343</td><td>0.13470982061912148</td><td>7</td><td>0.5666567233888662</td><td>0.03324815384364571</td><td>9</td><td>0.326278680438909</td><td>0.18686674817108304</td><td>7</td><td>2.14579001464881</td><td>0.45832408079877496</td><td>0.45832408079877496</td><td>-1.0</td><td>-1.0</td><td>1</td><td>C</td></tr>\n",
       "</table>"
      ],
      "text/plain": [
       "<Table length=55>\n",
       "        ra                 dec         ... CDIPS classification\n",
       "     float64             float64       ... int64      str1     \n",
       "------------------ ------------------- ... ----- --------------\n",
       "119.87081758061746  -60.66154951640272 ...     1              C\n",
       "119.62997956802782  -61.08969061592808 ...     1              C\n",
       "119.55207431338823   -60.6349200237026 ...     1              C\n",
       "118.86533058171912  -60.80378781179854 ...     1              C\n",
       "119.06029229768161 -60.908680837889335 ...     1              C\n",
       "119.62662452597256 -61.168576005207235 ...     1              C\n",
       " 119.7312581599858  -60.93315783860372 ...     1              C\n",
       "120.11979893793894  -61.12912072833813 ...     1              C\n",
       " 119.3006304143167  -60.55244766708006 ...     1              C\n",
       "118.96634354343598  -61.22241062296897 ...     1              C\n",
       "               ...                 ... ...   ...            ...\n",
       "119.28904318367995  -60.80071348518938 ...     1              C\n",
       "119.13311338979422  -60.46808812731028 ...     1              C\n",
       "120.35195969813897  -60.58772334905382 ...     1              C\n",
       "120.25893515927606  -60.75072932871493 ...     1              C\n",
       "119.54578810711885  -60.41739304924166 ...     1              C\n",
       "119.96923296451449  -60.68772763255449 ...     1              C\n",
       "119.25998129356094  -61.03465617585395 ...     1              C\n",
       "119.69352745414736  -61.09960558716263 ...     1              C\n",
       "119.77089232461998  -60.94330916803846 ...     1              C\n",
       " 119.4210732231115  -60.72733767006693 ...     1              C"
      ]
     },
     "execution_count": 601,
     "metadata": {},
     "output_type": "execute_result"
    }
   ],
   "source": [
    "mems_periods[(mems_periods['vsini']>5) & (mems_periods['teff'] > 4000) & (mems_periods['teff'] < 10000)]"
   ]
  },
  {
   "cell_type": "code",
   "execution_count": 594,
   "metadata": {},
   "outputs": [
    {
     "ename": "NameError",
     "evalue": "name 'deltaM' is not defined",
     "output_type": "error",
     "traceback": [
      "\u001b[0;31m---------------------------------------------------------------------------\u001b[0m",
      "\u001b[0;31mNameError\u001b[0m                                 Traceback (most recent call last)",
      "\u001b[0;32m<ipython-input-594-c4028ffe9997>\u001b[0m in \u001b[0;36m<module>\u001b[0;34m\u001b[0m\n\u001b[1;32m      5\u001b[0m \u001b[0max\u001b[0m\u001b[0;34m[\u001b[0m\u001b[0;36m0\u001b[0m\u001b[0;34m]\u001b[0m\u001b[0;34m.\u001b[0m\u001b[0mlegend\u001b[0m\u001b[0;34m(\u001b[0m\u001b[0mloc\u001b[0m\u001b[0;34m=\u001b[0m\u001b[0;36m2\u001b[0m\u001b[0;34m)\u001b[0m\u001b[0;34m\u001b[0m\u001b[0;34m\u001b[0m\u001b[0m\n\u001b[1;32m      6\u001b[0m \u001b[0;34m\u001b[0m\u001b[0m\n\u001b[0;32m----> 7\u001b[0;31m \u001b[0max\u001b[0m\u001b[0;34m[\u001b[0m\u001b[0;36m0\u001b[0m\u001b[0;34m]\u001b[0m\u001b[0;34m.\u001b[0m\u001b[0merrorbar\u001b[0m\u001b[0;34m(\u001b[0m\u001b[0mssmems_periods\u001b[0m\u001b[0;34m[\u001b[0m\u001b[0;34m'bp_rp'\u001b[0m\u001b[0;34m]\u001b[0m\u001b[0;34m,\u001b[0m\u001b[0mssmems_periods\u001b[0m\u001b[0;34m[\u001b[0m\u001b[0;34m'period'\u001b[0m\u001b[0;34m]\u001b[0m\u001b[0;34m,\u001b[0m\u001b[0mxerr\u001b[0m\u001b[0;34m=\u001b[0m\u001b[0mdeltaM\u001b[0m\u001b[0;34m,\u001b[0m\u001b[0myerr\u001b[0m\u001b[0;34m=\u001b[0m\u001b[0mssmems_periods\u001b[0m\u001b[0;34m[\u001b[0m\u001b[0;34m'period_unc'\u001b[0m\u001b[0;34m]\u001b[0m\u001b[0;34m,\u001b[0m\u001b[0mlinestyle\u001b[0m\u001b[0;34m=\u001b[0m\u001b[0;34m'none'\u001b[0m\u001b[0;34m,\u001b[0m\u001b[0mcolor\u001b[0m\u001b[0;34m=\u001b[0m\u001b[0;34m'navy'\u001b[0m\u001b[0;34m)\u001b[0m\u001b[0;34m\u001b[0m\u001b[0;34m\u001b[0m\u001b[0m\n\u001b[0m\u001b[1;32m      8\u001b[0m \u001b[0;31m#plt.xlim(3500,8000)\u001b[0m\u001b[0;34m\u001b[0m\u001b[0;34m\u001b[0m\u001b[0;34m\u001b[0m\u001b[0m\n\u001b[1;32m      9\u001b[0m \u001b[0max\u001b[0m\u001b[0;34m[\u001b[0m\u001b[0;36m0\u001b[0m\u001b[0;34m]\u001b[0m\u001b[0;34m.\u001b[0m\u001b[0mset_ylim\u001b[0m\u001b[0;34m(\u001b[0m\u001b[0;34m-\u001b[0m\u001b[0;36m0.1\u001b[0m\u001b[0;34m,\u001b[0m\u001b[0;36m7.1\u001b[0m\u001b[0;34m)\u001b[0m\u001b[0;34m\u001b[0m\u001b[0;34m\u001b[0m\u001b[0m\n",
      "\u001b[0;31mNameError\u001b[0m: name 'deltaM' is not defined"
     ]
    },
    {
     "data": {
      "image/png": "[encoded data removed]",
      "text/plain": [
       "<matplotlib.figure.Figure at 0x1c2d203278>"
      ]
     },
     "metadata": {
      "needs_background": "light"
     },
     "output_type": "display_data"
    }
   ],
   "source": [
    "#gvsini = joinperiods['vsini']>5\n",
    "#bright = joinallperiods['phot_g_mean_mag'] <= 20\n",
    "rfig,ax = plt.subplots(2,1,figsize=(12,12))\n",
    "ax[0].scatter(ssmems_periods['bp_rp'],ssmems_periods['period'],color='navy',s=50,label='All periods (n=261)')\n",
    "ax[0].legend(loc=2)\n",
    "\n",
    "ax[0].errorbar(ssmems_periods['bp_rp'],ssmems_periods['period'],xerr=deltaM,yerr=ssmems_periods['period_unc'],linestyle='none',color='navy')\n",
    "#plt.xlim(3500,8000)\n",
    "ax[0].set_ylim(-0.1,7.1)\n",
    "\n",
    "#ax[0].set_xlabel('$B_{p} - R_{p}$ color')\n",
    "ax[0].set_xlabel(r'$G_{\\rm BP} - G_{\\rm RP}$ color')\n",
    "ax[0].set_ylabel('Period [d]')\n",
    "\n",
    "gvsini = mems_periods['vsini']>0\n",
    "ax[1].scatter(mems_periods['teff'],mems_periods['period'],color='tomato',s=50,label=r'Single stars w/meas. T$_{\\rm eff}$ (n=75)')\n",
    "ax[1].legend(loc=2)\n",
    "\n",
    "ax[1].errorbar(mems_periods['teff'],mems_periods['period'],yerr=mems_periods['period_unc'],xerr=mems_periods['e_teff'],linestyle='none',color='tomato')\n",
    "ax[1].set_xlim(7200,3300)\n",
    "ax[1].set_ylim(-0.1,7.1)\n",
    "ax[1].set_xlabel(r'T$_{\\rm eff}$ [K]')\n",
    "ax[1].set_ylabel('Period [d]')\n",
    "\n",
    "#rfig.savefig('/Users/bhealy/Documents/PhD_Thesis/NGC_2516/paperfigs/rotperiods_bprp.pdf',bbox_inches='tight')\n"
   ]
  },
  {
   "cell_type": "code",
   "execution_count": null,
   "metadata": {},
   "outputs": [],
   "source": []
  },
  {
   "cell_type": "code",
   "execution_count": 2804,
   "metadata": {},
   "outputs": [
    {
     "data": {
      "text/plain": [
       "False"
      ]
     },
     "execution_count": 2804,
     "metadata": {},
     "output_type": "execute_result"
    }
   ],
   "source": [
    "5290840233352691968 in mems_periods[vsini_indx]['source_id']"
   ]
  },
  {
   "cell_type": "code",
   "execution_count": null,
   "metadata": {},
   "outputs": [],
   "source": []
  },
  {
   "cell_type": "code",
   "execution_count": 32,
   "metadata": {},
   "outputs": [
    {
     "data": {
      "text/plain": [
       "93"
      ]
     },
     "execution_count": 32,
     "metadata": {},
     "output_type": "execute_result"
    }
   ],
   "source": [
    "vsini_indx = mems_periods['vsini'] > 5\n",
    "np.sum(vsini_indx)"
   ]
  },
  {
   "cell_type": "code",
   "execution_count": 2801,
   "metadata": {},
   "outputs": [],
   "source": [
    "mems_periods[vsini_indx].write('/Users/bhealy/Documents/PhD_Thesis/NGC_2516/mems_periods_vsini5.dat',format='ascii')"
   ]
  },
  {
   "cell_type": "code",
   "execution_count": null,
   "metadata": {},
   "outputs": [],
   "source": []
  },
  {
   "cell_type": "code",
   "execution_count": 2800,
   "metadata": {},
   "outputs": [],
   "source": [
    "mems_periods.write('/Users/bhealy/Documents/PhD_Thesis/NGC_2516/mems_periods_allvsini.dat',format='ascii')"
   ]
  },
  {
   "cell_type": "code",
   "execution_count": 2610,
   "metadata": {},
   "outputs": [
    {
     "ename": "KeyError",
     "evalue": "'Column objname does not exist'",
     "output_type": "error",
     "traceback": [
      "\u001b[0;31m---------------------------------------------------------------------------\u001b[0m",
      "\u001b[0;31mKeyError\u001b[0m                                  Traceback (most recent call last)",
      "\u001b[0;32m<ipython-input-2610-159db54ef03a>\u001b[0m in \u001b[0;36m<module>\u001b[0;34m\u001b[0m\n\u001b[0;32m----> 1\u001b[0;31m \u001b[0mextinctbl\u001b[0m\u001b[0;34m.\u001b[0m\u001b[0mrename_column\u001b[0m\u001b[0;34m(\u001b[0m\u001b[0;34m'objname'\u001b[0m\u001b[0;34m,\u001b[0m\u001b[0;34m'source_id'\u001b[0m\u001b[0;34m)\u001b[0m\u001b[0;34m\u001b[0m\u001b[0;34m\u001b[0m\u001b[0m\n\u001b[0m",
      "\u001b[0;32m/anaconda3/envs/astroconda/lib/python3.6/site-packages/astropy/table/table.py\u001b[0m in \u001b[0;36mrename_column\u001b[0;34m(self, name, new_name)\u001b[0m\n\u001b[1;32m   2534\u001b[0m \u001b[0;34m\u001b[0m\u001b[0m\n\u001b[1;32m   2535\u001b[0m         \u001b[0;32mif\u001b[0m \u001b[0mname\u001b[0m \u001b[0;32mnot\u001b[0m \u001b[0;32min\u001b[0m \u001b[0mself\u001b[0m\u001b[0;34m.\u001b[0m\u001b[0mkeys\u001b[0m\u001b[0;34m(\u001b[0m\u001b[0;34m)\u001b[0m\u001b[0;34m:\u001b[0m\u001b[0;34m\u001b[0m\u001b[0;34m\u001b[0m\u001b[0m\n\u001b[0;32m-> 2536\u001b[0;31m             \u001b[0;32mraise\u001b[0m \u001b[0mKeyError\u001b[0m\u001b[0;34m(\u001b[0m\u001b[0;34mf\"Column {name} does not exist\"\u001b[0m\u001b[0;34m)\u001b[0m\u001b[0;34m\u001b[0m\u001b[0;34m\u001b[0m\u001b[0m\n\u001b[0m\u001b[1;32m   2537\u001b[0m \u001b[0;34m\u001b[0m\u001b[0m\n\u001b[1;32m   2538\u001b[0m         \u001b[0mself\u001b[0m\u001b[0;34m.\u001b[0m\u001b[0mcolumns\u001b[0m\u001b[0;34m[\u001b[0m\u001b[0mname\u001b[0m\u001b[0;34m]\u001b[0m\u001b[0;34m.\u001b[0m\u001b[0minfo\u001b[0m\u001b[0;34m.\u001b[0m\u001b[0mname\u001b[0m \u001b[0;34m=\u001b[0m \u001b[0mnew_name\u001b[0m\u001b[0;34m\u001b[0m\u001b[0;34m\u001b[0m\u001b[0m\n",
      "\u001b[0;31mKeyError\u001b[0m: 'Column objname does not exist'"
     ]
    }
   ],
   "source": [
    "extinctbl.rename_column('objname','source_id')\n"
   ]
  },
  {
   "cell_type": "code",
   "execution_count": 2622,
   "metadata": {},
   "outputs": [],
   "source": [
    "from astropy.table import Column\n",
    "extinctbl.replace_column('source_id',Column(data=extinctbl['source_id'],name='source_id',dtype=np.int))"
   ]
  },
  {
   "cell_type": "code",
   "execution_count": 2623,
   "metadata": {},
   "outputs": [
    {
     "data": {
      "text/html": [
       "<i>Table length=0</i>\n",
       "<table id=\"table121640743320\" class=\"table-striped table-bordered table-condensed\">\n",
       "<thead><tr><th>ra</th><th>dec</th><th>source_id</th><th>l</th><th>b</th><th>parallax</th><th>parallax_error</th><th>pmra</th><th>pmra_error</th><th>pmdec</th><th>pmdec_error</th><th>ra_dec_corr</th><th>ra_parallax_corr</th><th>ra_pmra_corr</th><th>ra_pmdec_corr</th><th>dec_parallax_corr</th><th>dec_pmra_corr</th><th>dec_pmdec_corr</th><th>parallax_pmra_corr</th><th>parallax_pmdec_corr</th><th>pmra_pmdec_corr</th><th>phot_g_n_obs</th><th>phot_g_mean_mag</th><th>bp_rp</th><th>proba</th><th>cluster</th><th>Cluster</th><th>Object</th><th>Icmag</th><th>Jmag</th><th>Hmag</th><th>Kmag</th><th>S/N</th><th>RV</th><th>vsini</th><th>logTeff</th><th>Nsp</th><th>pRV</th><th>pvsini</th><th>gaia_r</th><th>parallax_err</th><th>period</th><th>period_unc</th><th>classification</th><th>cutout_size</th><th>E_B_V_SandF</th><th>mean_E_B_V_SandF</th><th>stdev_E_B_V_SandF</th><th>max_E_B_V_SandF</th><th>min_E_B_V_SandF</th><th>AV_SandF</th><th>E_B_V_SFD</th><th>mean_E_B_V_SFD</th><th>stdev_E_B_V_SFD</th><th>max_E_B_V_SFD</th><th>min_E_B_V_SFD</th><th>AV_SFD</th><th>errmsg</th></tr></thead>\n",
       "<thead><tr><th>deg</th><th>deg</th><th></th><th></th><th></th><th></th><th></th><th></th><th></th><th></th><th></th><th></th><th></th><th></th><th></th><th></th><th></th><th></th><th></th><th></th><th></th><th></th><th></th><th></th><th></th><th></th><th></th><th></th><th></th><th></th><th></th><th></th><th></th><th></th><th></th><th></th><th></th><th></th><th></th><th></th><th></th><th></th><th></th><th></th><th>deg</th><th>mags</th><th>mags</th><th>mags</th><th>mags</th><th>mags</th><th>mags</th><th>mags</th><th>mags</th><th>mags</th><th>mags</th><th>mags</th><th>mags</th><th></th></tr></thead>\n",
       "<thead><tr><th>float64</th><th>float64</th><th>int64</th><th>float64</th><th>float64</th><th>float64</th><th>float64</th><th>float64</th><th>float64</th><th>float64</th><th>float64</th><th>float64</th><th>float64</th><th>float64</th><th>float64</th><th>float64</th><th>float64</th><th>float64</th><th>float64</th><th>float64</th><th>float64</th><th>int64</th><th>float64</th><th>float64</th><th>float64</th><th>str8</th><th>str7</th><th>str16</th><th>float64</th><th>float64</th><th>float64</th><th>float64</th><th>float64</th><th>float64</th><th>float64</th><th>float64</th><th>int64</th><th>float64</th><th>float64</th><th>float64</th><th>float64</th><th>float64</th><th>float64</th><th>str1</th><th>float64</th><th>float64</th><th>float64</th><th>float64</th><th>float64</th><th>float64</th><th>float64</th><th>float64</th><th>float64</th><th>float64</th><th>float64</th><th>float64</th><th>float64</th><th>str1</th></tr></thead>\n",
       "</table>"
      ],
      "text/plain": [
       "<Table length=0>\n",
       "   ra     dec   source_id    l    ... max_E_B_V_SFD min_E_B_V_SFD  AV_SFD errmsg\n",
       "  deg     deg                     ...      mags          mags       mags        \n",
       "float64 float64   int64   float64 ...    float64       float64    float64  str1 \n",
       "------- ------- --------- ------- ... ------------- ------------- ------- ------"
      ]
     },
     "execution_count": 2623,
     "metadata": {},
     "output_type": "execute_result"
    }
   ],
   "source": [
    "join(mems_periods,extinctbl)"
   ]
  },
  {
   "cell_type": "code",
   "execution_count": 2626,
   "metadata": {},
   "outputs": [
    {
     "data": {
      "text/html": [
       "<i>Table length=1106</i>\n",
       "<table id=\"table121791983512\" class=\"table-striped table-bordered table-condensed\">\n",
       "<thead><tr><th>source_id</th><th>ra</th><th>dec</th><th>cutout_size</th><th>E_B_V_SandF</th><th>mean_E_B_V_SandF</th><th>stdev_E_B_V_SandF</th><th>max_E_B_V_SandF</th><th>min_E_B_V_SandF</th><th>AV_SandF</th><th>E_B_V_SFD</th><th>mean_E_B_V_SFD</th><th>stdev_E_B_V_SFD</th><th>max_E_B_V_SFD</th><th>min_E_B_V_SFD</th><th>AV_SFD</th><th>errmsg</th></tr></thead>\n",
       "<thead><tr><th></th><th>deg</th><th>deg</th><th>deg</th><th>mags</th><th>mags</th><th>mags</th><th>mags</th><th>mags</th><th>mags</th><th>mags</th><th>mags</th><th>mags</th><th>mags</th><th>mags</th><th>mags</th><th></th></tr></thead>\n",
       "<thead><tr><th>int64</th><th>float64</th><th>float64</th><th>float64</th><th>float64</th><th>float64</th><th>float64</th><th>float64</th><th>float64</th><th>float64</th><th>float64</th><th>float64</th><th>float64</th><th>float64</th><th>float64</th><th>float64</th><th>str1</th></tr></thead>\n",
       "<tr><td>5289889946066884608</td><td>119.64283</td><td>-61.45219</td><td>5.0</td><td>0.1969</td><td>0.1938</td><td>0.0032</td><td>0.1995</td><td>0.1848</td><td>0.6103</td><td>0.2289</td><td>0.2254</td><td>0.0038</td><td>0.232</td><td>0.2149</td><td>0.7096</td><td>--</td></tr>\n",
       "<tr><td>5289864726018908160</td><td>119.1935</td><td>-61.58236</td><td>5.0</td><td>0.2031</td><td>0.2021</td><td>0.004</td><td>0.2101</td><td>0.1951</td><td>0.6297</td><td>0.2362</td><td>0.235</td><td>0.0047</td><td>0.2443</td><td>0.2269</td><td>0.7322</td><td>--</td></tr>\n",
       "<tr><td>5289891423535761408</td><td>119.86336</td><td>-61.51637</td><td>5.0</td><td>0.1866</td><td>0.1863</td><td>0.0039</td><td>0.1938</td><td>0.1798</td><td>0.5785</td><td>0.217</td><td>0.2166</td><td>0.0045</td><td>0.2254</td><td>0.2091</td><td>0.6727</td><td>--</td></tr>\n",
       "<tr><td>5289894515912156160</td><td>119.98138</td><td>-61.40386</td><td>5.0</td><td>0.182</td><td>0.1836</td><td>0.0049</td><td>0.191</td><td>0.1724</td><td>0.5641</td><td>0.2116</td><td>0.2135</td><td>0.0057</td><td>0.2221</td><td>0.2005</td><td>0.6559</td><td>--</td></tr>\n",
       "<tr><td>5289881768449288192</td><td>120.05924</td><td>-61.45287</td><td>5.0</td><td>0.1768</td><td>0.1788</td><td>0.0043</td><td>0.1861</td><td>0.1713</td><td>0.5479</td><td>0.2055</td><td>0.2079</td><td>0.005</td><td>0.2164</td><td>0.1991</td><td>0.6371</td><td>--</td></tr>\n",
       "<tr><td>5289893004083665920</td><td>119.94307</td><td>-61.42872</td><td>5.0</td><td>0.1857</td><td>0.1844</td><td>0.0045</td><td>0.1915</td><td>0.1759</td><td>0.5758</td><td>0.216</td><td>0.2144</td><td>0.0052</td><td>0.2227</td><td>0.2045</td><td>0.6695</td><td>--</td></tr>\n",
       "<tr><td>5289873315953700864</td><td>119.72948</td><td>-61.62893</td><td>5.0</td><td>0.1909</td><td>0.1892</td><td>0.0027</td><td>0.1949</td><td>0.183</td><td>0.5919</td><td>0.222</td><td>0.2201</td><td>0.0031</td><td>0.2266</td><td>0.2128</td><td>0.6882</td><td>--</td></tr>\n",
       "<tr><td>5289872972356315136</td><td>119.67761</td><td>-61.63806</td><td>5.0</td><td>0.1915</td><td>0.1906</td><td>0.0026</td><td>0.1962</td><td>0.1862</td><td>0.5937</td><td>0.2227</td><td>0.2216</td><td>0.0031</td><td>0.2282</td><td>0.2165</td><td>0.6903</td><td>--</td></tr>\n",
       "<tr><td>5289877576561348608</td><td>120.29485</td><td>-61.52424</td><td>5.0</td><td>0.1756</td><td>0.1748</td><td>0.0026</td><td>0.179</td><td>0.1701</td><td>0.5443</td><td>0.2042</td><td>0.2033</td><td>0.0031</td><td>0.2081</td><td>0.1978</td><td>0.6329</td><td>--</td></tr>\n",
       "<tr><td>...</td><td>...</td><td>...</td><td>...</td><td>...</td><td>...</td><td>...</td><td>...</td><td>...</td><td>...</td><td>...</td><td>...</td><td>...</td><td>...</td><td>...</td><td>...</td><td>...</td></tr>\n",
       "<tr><td>5291066762809525248</td><td>119.9048</td><td>-59.85712</td><td>5.0</td><td>0.164</td><td>0.1644</td><td>0.0023</td><td>0.1725</td><td>0.1616</td><td>0.5085</td><td>0.1907</td><td>0.1911</td><td>0.0027</td><td>0.2006</td><td>0.1879</td><td>0.5913</td><td>--</td></tr>\n",
       "<tr><td>5291052610893964288</td><td>119.41804</td><td>-60.01315</td><td>5.0</td><td>0.1518</td><td>0.1528</td><td>0.001</td><td>0.1561</td><td>0.1511</td><td>0.4707</td><td>0.1766</td><td>0.1777</td><td>0.0012</td><td>0.1815</td><td>0.1758</td><td>0.5474</td><td>--</td></tr>\n",
       "<tr><td>5291028043680883712</td><td>119.32822</td><td>-60.25816</td><td>5.0</td><td>0.1477</td><td>0.1487</td><td>0.0031</td><td>0.1542</td><td>0.1426</td><td>0.4579</td><td>0.1717</td><td>0.1729</td><td>0.0036</td><td>0.1793</td><td>0.1658</td><td>0.5324</td><td>--</td></tr>\n",
       "<tr><td>5291052610893963264</td><td>119.40781</td><td>-60.00824</td><td>5.0</td><td>0.1518</td><td>0.1527</td><td>0.001</td><td>0.1561</td><td>0.1511</td><td>0.4707</td><td>0.1766</td><td>0.1776</td><td>0.0012</td><td>0.1815</td><td>0.1758</td><td>0.5474</td><td>--</td></tr>\n",
       "<tr><td>5291062472139045888</td><td>119.95969</td><td>-59.96701</td><td>5.0</td><td>0.164</td><td>0.1633</td><td>0.002</td><td>0.1681</td><td>0.1591</td><td>0.5085</td><td>0.1907</td><td>0.1899</td><td>0.0023</td><td>0.1954</td><td>0.185</td><td>0.5913</td><td>--</td></tr>\n",
       "<tr><td>5291043333764767744</td><td>119.80516</td><td>-59.89524</td><td>5.0</td><td>0.1634</td><td>0.162</td><td>0.0022</td><td>0.1648</td><td>0.1565</td><td>0.5067</td><td>0.19</td><td>0.1883</td><td>0.0025</td><td>0.1916</td><td>0.182</td><td>0.5891</td><td>--</td></tr>\n",
       "<tr><td>5291028009321138176</td><td>119.31422</td><td>-60.2677</td><td>5.0</td><td>0.1477</td><td>0.149</td><td>0.0033</td><td>0.1547</td><td>0.1426</td><td>0.4579</td><td>0.1717</td><td>0.1733</td><td>0.0038</td><td>0.1798</td><td>0.1658</td><td>0.5324</td><td>--</td></tr>\n",
       "<tr><td>5291035912061109248</td><td>119.62697</td><td>-60.15777</td><td>5.0</td><td>0.1586</td><td>0.1589</td><td>0.0033</td><td>0.1655</td><td>0.1535</td><td>0.4917</td><td>0.1844</td><td>0.1847</td><td>0.0038</td><td>0.1925</td><td>0.1785</td><td>0.5718</td><td>--</td></tr>\n",
       "<tr><td>5291032613526129664</td><td>119.39433</td><td>-60.2067</td><td>5.0</td><td>0.151</td><td>0.1499</td><td>0.0032</td><td>0.1563</td><td>0.1441</td><td>0.4681</td><td>0.1756</td><td>0.1743</td><td>0.0037</td><td>0.1817</td><td>0.1675</td><td>0.5443</td><td>--</td></tr>\n",
       "<tr><td>5291034537671548928</td><td>119.42484</td><td>-60.0879</td><td>5.0</td><td>0.1531</td><td>0.1523</td><td>0.0019</td><td>0.1559</td><td>0.1479</td><td>0.4748</td><td>0.1781</td><td>0.1771</td><td>0.0022</td><td>0.1812</td><td>0.172</td><td>0.552</td><td>--</td></tr>\n",
       "</table>"
      ],
      "text/plain": [
       "<Table length=1106>\n",
       "     source_id          ra       dec    ... min_E_B_V_SFD  AV_SFD errmsg\n",
       "                       deg       deg    ...      mags       mags        \n",
       "       int64         float64   float64  ...    float64    float64  str1 \n",
       "------------------- --------- --------- ... ------------- ------- ------\n",
       "5289889946066884608 119.64283 -61.45219 ...        0.2149  0.7096     --\n",
       "5289864726018908160  119.1935 -61.58236 ...        0.2269  0.7322     --\n",
       "5289891423535761408 119.86336 -61.51637 ...        0.2091  0.6727     --\n",
       "5289894515912156160 119.98138 -61.40386 ...        0.2005  0.6559     --\n",
       "5289881768449288192 120.05924 -61.45287 ...        0.1991  0.6371     --\n",
       "5289893004083665920 119.94307 -61.42872 ...        0.2045  0.6695     --\n",
       "5289873315953700864 119.72948 -61.62893 ...        0.2128  0.6882     --\n",
       "5289872972356315136 119.67761 -61.63806 ...        0.2165  0.6903     --\n",
       "5289877576561348608 120.29485 -61.52424 ...        0.1978  0.6329     --\n",
       "                ...       ...       ... ...           ...     ...    ...\n",
       "5291066762809525248  119.9048 -59.85712 ...        0.1879  0.5913     --\n",
       "5291052610893964288 119.41804 -60.01315 ...        0.1758  0.5474     --\n",
       "5291028043680883712 119.32822 -60.25816 ...        0.1658  0.5324     --\n",
       "5291052610893963264 119.40781 -60.00824 ...        0.1758  0.5474     --\n",
       "5291062472139045888 119.95969 -59.96701 ...         0.185  0.5913     --\n",
       "5291043333764767744 119.80516 -59.89524 ...         0.182  0.5891     --\n",
       "5291028009321138176 119.31422  -60.2677 ...        0.1658  0.5324     --\n",
       "5291035912061109248 119.62697 -60.15777 ...        0.1785  0.5718     --\n",
       "5291032613526129664 119.39433  -60.2067 ...        0.1675  0.5443     --\n",
       "5291034537671548928 119.42484  -60.0879 ...         0.172   0.552     --"
      ]
     },
     "execution_count": 2626,
     "metadata": {},
     "output_type": "execute_result"
    }
   ],
   "source": [
    "extinctbl"
   ]
  },
  {
   "cell_type": "code",
   "execution_count": 2565,
   "metadata": {},
   "outputs": [],
   "source": [
    "radius_names = mems_periods['source_id']\n"
   ]
  },
  {
   "cell_type": "code",
   "execution_count": 2566,
   "metadata": {},
   "outputs": [],
   "source": [
    "import glob\n",
    "sedfiles = []\n",
    "for i in range(len(radius_names)):\n",
    "    dummy = glob.glob('/Users/bhealy/Documents/PhD_Thesis/NGC_2516/SEDfiles/*'+np.str(radius_names[i])+'*')\n",
    "    sedfiles += dummy"
   ]
  },
  {
   "cell_type": "code",
   "execution_count": 2567,
   "metadata": {},
   "outputs": [],
   "source": [
    "for i in range(len(sedfiles)):\n",
    "    sedfiles[i] = 'cp ' + sedfiles[i] + ' /Users/bhealy/Documents/PhD_Thesis/NGC_2516/SEDfiles_EC2/.\\n'\n"
   ]
  },
  {
   "cell_type": "code",
   "execution_count": 2781,
   "metadata": {},
   "outputs": [],
   "source": [
    "for i in range(len(radius_names)):\n",
    "    #print('/Users/bhealy/Documents/PhD_Thesis/NGC_2516/argfiles/gaia_dr2_'+np.str(radius_names[i])+'.args')\n",
    "    file = open('/Users/bhealy/Documents/PhD_Thesis/NGC_2516/argfiles_nomist/gaia_dr2_'+np.str(radius_names[i])+'.args',mode='w+')\n",
    "    pfline = 'priorfile=$EXOFAST_PATH/ngc2516/priorfiles/gaia_dr2_'+np.str(radius_names[i])+'.priors\\n'\n",
    "    file.write(pfline)\n",
    "    pfxline = 'prefix=$EXOFAST_PATH/ngc2516/fitresults/gaia_dr2_'+np.str(radius_names[i])+'.\\n'\n",
    "    file.write(pfxline)\n",
    "    flxline = 'fluxfile=$EXOFAST_PATH/ngc2516/SEDfiles/*_'+np.str(radius_names[i])+'.sed\\n'\n",
    "    file.write(flxline)\n",
    "    file.write('nplanets=0\\n')\n",
    "    file.write('maxsteps=75000\\n')\n",
    "    file.write('nthin=1\\n')\n",
    "    file.write('/nomist')\n",
    "    file.close()\n",
    "    "
   ]
  },
  {
   "cell_type": "code",
   "execution_count": 2592,
   "metadata": {},
   "outputs": [],
   "source": [
    "from astroquery.mast import Catalogs"
   ]
  },
  {
   "cell_type": "code",
   "execution_count": 2601,
   "metadata": {},
   "outputs": [
    {
     "data": {
      "text/html": [
       "<i>Row index=0 masked=True</i>\n",
       "<table id=\"table121508063384\">\n",
       "<thead><tr><th>ID</th><th>ra</th><th>dec</th><th>pmRA</th><th>pmDEC</th><th>Tmag</th><th>objType</th><th>typeSrc</th><th>version</th><th>HIP</th><th>TYC</th><th>UCAC</th><th>TWOMASS</th><th>SDSS</th><th>ALLWISE</th><th>GAIA</th><th>APASS</th><th>KIC</th><th>POSflag</th><th>e_pmRA</th><th>e_pmDEC</th><th>PMflag</th><th>plx</th><th>e_plx</th><th>PARflag</th><th>gallong</th><th>gallat</th><th>eclong</th><th>eclat</th><th>Bmag</th><th>e_Bmag</th><th>Vmag</th><th>e_Vmag</th><th>umag</th><th>e_umag</th><th>gmag</th><th>e_gmag</th><th>rmag</th><th>e_rmag</th><th>imag</th><th>e_imag</th><th>zmag</th><th>e_zmag</th><th>Jmag</th><th>e_Jmag</th><th>Hmag</th><th>e_Hmag</th><th>Kmag</th><th>e_Kmag</th><th>TWOMflag</th><th>prox</th><th>w1mag</th><th>e_w1mag</th><th>w2mag</th><th>e_w2mag</th><th>w3mag</th><th>e_w3mag</th><th>w4mag</th><th>e_w4mag</th><th>GAIAmag</th><th>e_GAIAmag</th><th>e_Tmag</th><th>TESSflag</th><th>SPFlag</th><th>Teff</th><th>e_Teff</th><th>logg</th><th>e_logg</th><th>MH</th><th>e_MH</th><th>rad</th><th>e_rad</th><th>mass</th><th>e_mass</th><th>rho</th><th>e_rho</th><th>lumclass</th><th>lum</th><th>e_lum</th><th>d</th><th>e_d</th><th>ebv</th><th>e_ebv</th><th>numcont</th><th>contratio</th><th>disposition</th><th>duplicate_id</th><th>priority</th><th>eneg_EBV</th><th>epos_EBV</th><th>EBVflag</th><th>eneg_Mass</th><th>epos_Mass</th><th>eneg_Rad</th><th>epos_Rad</th><th>eneg_rho</th><th>epos_rho</th><th>eneg_logg</th><th>epos_logg</th><th>eneg_lum</th><th>epos_lum</th><th>eneg_dist</th><th>epos_dist</th><th>distflag</th><th>eneg_Teff</th><th>epos_Teff</th><th>TeffFlag</th><th>gaiabp</th><th>e_gaiabp</th><th>gaiarp</th><th>e_gaiarp</th><th>gaiaqflag</th><th>starchareFlag</th><th>VmagFlag</th><th>BmagFlag</th><th>splists</th><th>e_RA</th><th>e_Dec</th><th>RA_orig</th><th>Dec_orig</th><th>e_RA_orig</th><th>e_Dec_orig</th><th>raddflag</th><th>wdflag</th><th>dstArcSec</th></tr></thead>\n",
       "<thead><tr><th>str11</th><th>float64</th><th>float64</th><th>float64</th><th>float64</th><th>float64</th><th>str8</th><th>str7</th><th>str8</th><th>str5</th><th>str12</th><th>str10</th><th>str16</th><th>str1</th><th>str19</th><th>str19</th><th>str8</th><th>str1</th><th>str8</th><th>float64</th><th>float64</th><th>str5</th><th>float64</th><th>float64</th><th>str5</th><th>float64</th><th>float64</th><th>float64</th><th>float64</th><th>float64</th><th>float64</th><th>float64</th><th>float64</th><th>float64</th><th>float64</th><th>float64</th><th>float64</th><th>float64</th><th>float64</th><th>float64</th><th>float64</th><th>float64</th><th>float64</th><th>float64</th><th>float64</th><th>float64</th><th>float64</th><th>float64</th><th>float64</th><th>str19</th><th>float64</th><th>float64</th><th>float64</th><th>float64</th><th>float64</th><th>float64</th><th>float64</th><th>float64</th><th>float64</th><th>float64</th><th>float64</th><th>float64</th><th>str5</th><th>str5</th><th>float64</th><th>float64</th><th>float64</th><th>float64</th><th>float64</th><th>float64</th><th>float64</th><th>float64</th><th>float64</th><th>float64</th><th>float64</th><th>float64</th><th>str5</th><th>float64</th><th>float64</th><th>float64</th><th>float64</th><th>float64</th><th>float64</th><th>int64</th><th>float64</th><th>str5</th><th>str9</th><th>float64</th><th>float64</th><th>float64</th><th>str8</th><th>float64</th><th>float64</th><th>float64</th><th>float64</th><th>float64</th><th>float64</th><th>float64</th><th>float64</th><th>float64</th><th>float64</th><th>float64</th><th>float64</th><th>str6</th><th>float64</th><th>float64</th><th>str5</th><th>float64</th><th>float64</th><th>float64</th><th>float64</th><th>int64</th><th>str1</th><th>str8</th><th>str8</th><th>str13</th><th>float64</th><th>float64</th><th>float64</th><th>float64</th><th>float64</th><th>float64</th><th>int64</th><th>int64</th><th>float64</th></tr></thead>\n",
       "<tr><td>358464734</td><td>118.989483062111</td><td>-60.6954926670871</td><td>-3.99164</td><td>10.6838</td><td>16.3309</td><td>STAR</td><td>tmgaia2</td><td>20190415</td><td>--</td><td>--</td><td>--</td><td>07555748-6041437</td><td>--</td><td>J075557.43-604143.5</td><td>5290740040355375360</td><td>--</td><td>--</td><td>tmgaia2</td><td>0.260789</td><td>0.208356</td><td>gaia2</td><td>2.31666</td><td>0.113119</td><td>gaia2</td><td>273.639050178367</td><td>-16.0581581274191</td><td>169.042878115825</td><td>-76.0180124118511</td><td>19.411</td><td>0.181</td><td>18.5491</td><td>0.0502</td><td>nan</td><td>nan</td><td>nan</td><td>nan</td><td>nan</td><td>nan</td><td>nan</td><td>nan</td><td>nan</td><td>nan</td><td>14.845</td><td>0.032</td><td>14.173</td><td>0.022</td><td>13.945</td><td>0.054</td><td>AAA-222-111-000-0-0</td><td>nan</td><td>13.71</td><td>0.025</td><td>13.572</td><td>0.027</td><td>12.758</td><td>nan</td><td>8.985</td><td>nan</td><td>17.5136</td><td>0.001425</td><td>0.0088931</td><td>cdwrf</td><td>cdwrf</td><td>3486.0</td><td>157.0</td><td>4.75779</td><td>0.0171966</td><td>nan</td><td>nan</td><td>0.476794</td><td>0.0234798</td><td>0.474658</td><td>0.0279598</td><td>4.37914</td><td>0.39048</td><td>DWARF</td><td>0.03024585</td><td>0.008488247</td><td>427.774</td><td>21.268</td><td>0.109415</td><td>0.003235555</td><td>--</td><td>nan</td><td>--</td><td>--</td><td>nan</td><td>0.0031548</td><td>0.00331631</td><td>schlegel</td><td>nan</td><td>nan</td><td>nan</td><td>nan</td><td>nan</td><td>nan</td><td>nan</td><td>nan</td><td>nan</td><td>nan</td><td>20.231</td><td>22.305</td><td>bj2018</td><td>nan</td><td>nan</td><td>cdwrf</td><td>18.783</td><td>0.023557</td><td>16.3785</td><td>0.005306</td><td>1</td><td>--</td><td>gaia2</td><td>bpbj</td><td>cooldwarfs_v8</td><td>4.68544752609765</td><td>3.23159153902647</td><td>118.989447948839</td><td>-60.6954466673969</td><td>0.113779269919265</td><td>0.115746977426794</td><td>1</td><td>0</td><td>7.6119079134014e-07</td></tr>\n",
       "</table>"
      ],
      "text/plain": [
       "<Row index=0 masked=True>\n",
       "    ID           ra               dec          pmRA    pmDEC    Tmag  objType typeSrc version  HIP   TYC   UCAC     TWOMASS      SDSS       ALLWISE               GAIA        APASS KIC  POSflag  e_pmRA  e_pmDEC  PMflag   plx    e_plx   PARflag     gallong            gallat           eclong            eclat         Bmag   e_Bmag   Vmag   e_Vmag   umag   e_umag   gmag   e_gmag   rmag   e_rmag   imag   e_imag   zmag   e_zmag   Jmag   e_Jmag   Hmag   e_Hmag   Kmag   e_Kmag       TWOMflag        prox   w1mag  e_w1mag  w2mag  e_w2mag  w3mag  e_w3mag  w4mag  e_w4mag GAIAmag e_GAIAmag   e_Tmag  TESSflag SPFlag   Teff   e_Teff   logg    e_logg     MH     e_MH    rad      e_rad     mass     e_mass    rho    e_rho  lumclass    lum        e_lum       d      e_d     ebv       e_ebv    numcont contratio disposition duplicate_id priority  eneg_EBV  epos_EBV  EBVflag  eneg_Mass epos_Mass eneg_Rad epos_Rad eneg_rho epos_rho eneg_logg epos_logg eneg_lum epos_lum eneg_dist epos_dist distflag eneg_Teff epos_Teff TeffFlag  gaiabp e_gaiabp  gaiarp e_gaiarp gaiaqflag starchareFlag VmagFlag BmagFlag    splists          e_RA            e_Dec           RA_orig           Dec_orig         e_RA_orig         e_Dec_orig    raddflag wdflag      dstArcSec     \n",
       "  str11       float64           float64      float64  float64 float64   str8    str7    str8   str5 str12 str10      str16       str1        str19               str19         str8 str1   str8  float64  float64   str5  float64 float64    str5      float64           float64          float64           float64      float64 float64 float64 float64 float64 float64 float64 float64 float64 float64 float64 float64 float64 float64 float64 float64 float64 float64 float64 float64        str19        float64 float64 float64 float64 float64 float64 float64 float64 float64 float64  float64   float64    str5    str5  float64 float64 float64  float64  float64 float64 float64   float64  float64   float64  float64 float64   str5    float64     float64   float64 float64 float64    float64    int64   float64      str5        str9     float64   float64   float64     str8    float64   float64  float64  float64  float64  float64   float64   float64  float64  float64   float64   float64    str6    float64   float64    str5   float64 float64  float64 float64    int64        str1       str8     str8       str13         float64          float64          float64           float64           float64           float64       int64   int64        float64      \n",
       "--------- ---------------- ----------------- -------- ------- ------- ------- ------- -------- ---- ----- ----- ---------------- ---- ------------------- ------------------- ----- ---- ------- -------- -------- ------ ------- -------- ------- ---------------- ----------------- ---------------- ----------------- ------- ------- ------- ------- ------- ------- ------- ------- ------- ------- ------- ------- ------- ------- ------- ------- ------- ------- ------- ------- ------------------- ------- ------- ------- ------- ------- ------- ------- ------- ------- ------- --------- --------- -------- ------ ------- ------- ------- --------- ------- ------- -------- --------- -------- --------- ------- ------- -------- ---------- ----------- ------- ------- -------- ----------- ------- --------- ----------- ------------ -------- --------- ---------- -------- --------- --------- -------- -------- -------- -------- --------- --------- -------- -------- --------- --------- -------- --------- --------- -------- ------- -------- ------- -------- --------- ------------- -------- -------- ------------- ---------------- ---------------- ---------------- ----------------- ----------------- ----------------- -------- ------ -------------------\n",
       "358464734 118.989483062111 -60.6954926670871 -3.99164 10.6838 16.3309    STAR tmgaia2 20190415   --    --    -- 07555748-6041437   -- J075557.43-604143.5 5290740040355375360    --   -- tmgaia2 0.260789 0.208356  gaia2 2.31666 0.113119   gaia2 273.639050178367 -16.0581581274191 169.042878115825 -76.0180124118511  19.411   0.181 18.5491  0.0502     nan     nan     nan     nan     nan     nan     nan     nan     nan     nan  14.845   0.032  14.173   0.022  13.945   0.054 AAA-222-111-000-0-0     nan   13.71   0.025  13.572   0.027  12.758     nan   8.985     nan 17.5136  0.001425 0.0088931    cdwrf  cdwrf  3486.0   157.0 4.75779 0.0171966     nan     nan 0.476794 0.0234798 0.474658 0.0279598 4.37914 0.39048    DWARF 0.03024585 0.008488247 427.774  21.268 0.109415 0.003235555      --       nan          --           --      nan 0.0031548 0.00331631 schlegel       nan       nan      nan      nan      nan      nan       nan       nan      nan      nan    20.231    22.305   bj2018       nan       nan    cdwrf  18.783 0.023557 16.3785 0.005306         1            --    gaia2     bpbj cooldwarfs_v8 4.68544752609765 3.23159153902647 118.989447948839 -60.6954466673969 0.113779269919265 0.115746977426794        1      0 7.6119079134014e-07"
      ]
     },
     "execution_count": 2601,
     "metadata": {},
     "output_type": "execute_result"
    }
   ],
   "source": [
    "qry = Catalogs.query_object('Gaia DR2 '+np.str(mems_periods['source_id'][0]),catalog='TIC')\n",
    "qry[0]"
   ]
  },
  {
   "cell_type": "code",
   "execution_count": 2603,
   "metadata": {},
   "outputs": [
    {
     "data": {
      "text/plain": [
       "0.476794"
      ]
     },
     "execution_count": 2603,
     "metadata": {},
     "output_type": "execute_result"
    }
   ],
   "source": [
    "qry[0]['rad']"
   ]
  },
  {
   "cell_type": "code",
   "execution_count": 2627,
   "metadata": {},
   "outputs": [],
   "source": [
    "extinctbl = ascii.read('/Users/bhealy/Documents/PhD_Thesis/NGC_2516/extinction.dat')\n"
   ]
  },
  {
   "cell_type": "code",
   "execution_count": 2779,
   "metadata": {},
   "outputs": [
    {
     "name": "stdout",
     "output_type": "stream",
     "text": [
      "3655.9479161312506 576.1935250009851 15.760441292356187\n",
      "0.53289 0.03162 5.9336823734729505\n",
      "2.3166589904364097 0.1295148993502695 5.590589719286722\n",
      "\n",
      "3854.783576657717 391.5473414583765 10.157440325038088\n",
      "0.62186 0.07502 12.06380857427717\n",
      "2.5459269293995757 0.0897341318737758 3.524615370439498\n",
      "\n",
      "3881.5036599064824 388.73346618993315 10.015022533800702\n",
      "0.5093300000000001 0.03286 6.451612903225806\n",
      "2.343589368965242 0.07380192531805177 3.1490979731930304\n",
      "\n",
      "4036.4539296760486 318.70935094165407 7.895775759968417\n",
      "0.55304 0.01984 3.587443946188341\n",
      "2.4652637482422928 0.07806560959124081 3.166623029560256\n",
      "\n",
      "4073.802778041126 282.3148148330649 6.93000693000693\n",
      "0.58497 0.0403 6.889242183359831\n",
      "2.5482974051877796 0.06942553725415276 2.724389120077486\n",
      "\n",
      "4083.1938633269233 252.82934138247205 6.191950464396285\n",
      "0.6559600000000001 0.0589 8.979206049149337\n",
      "2.4494445115613983 0.07435304913384759 3.0355065723228507\n",
      "\n",
      "4159.106104940223 779.5887731846717 18.744142455482663\n",
      "0.5592400000000001 0.02356 4.212860310421285\n",
      "2.4852013772353576 0.05042068489160021 2.028836992988081\n",
      "\n",
      "4168.693834703355 457.0936222262451 10.964912280701755\n",
      "0.56854 0.042159999999999996 7.415485278080697\n",
      "2.4860945719349026 0.06556408606268894 2.6372321794524924\n",
      "\n",
      "4178.303666466218 171.59357973167218 4.1067761806981515\n",
      "0.5285500000000001 0.013640000000000001 2.5806451612903225\n",
      "2.4792565412745615 0.05604219125133567 2.2604434159332674\n",
      "\n",
      "4207.266283844442 100.32827671025258 2.3846428997257663\n",
      "0.61473 0.037820000000000006 6.152294503277863\n",
      "2.389709313562543 0.04846785172863582 2.0281902678941597\n",
      "\n",
      "4216.965034285822 175.45101037178375 4.1605991262741835\n",
      "0.67425 0.04278 6.344827586206896\n",
      "2.3971445544912213 0.06101109956731165 2.5451572977942862\n",
      "\n",
      "4335.108783875289 123.86025096786541 2.857142857142857\n",
      "0.51584 0.02046 3.9663461538461537\n",
      "2.4039077945853697 0.0514856939898 2.1417499500508232\n",
      "\n",
      "4405.548635065535 109.86405573729512 2.4937655860349124\n",
      "0.5549 0.0217 3.9106145251396653\n",
      "2.4752523349345026 0.04729080714256453 1.910544895771844\n",
      "\n",
      "4415.704473533126 203.67640560577146 4.612546125461255\n",
      "0.52824 0.02666 5.046948356807511\n",
      "2.440707953357357 0.059079971006860826 2.420607960308909\n",
      "\n",
      "4446.312674691088 136.8938631370409 3.0788177339901477\n",
      "0.61349 0.03224 5.255179383527034\n",
      "2.4108705194182583 0.050847127223414106 2.109077481095231\n",
      "\n",
      "4446.312674691088 174.1603084485346 3.916960438699569\n",
      "0.54467 0.031000000000000003 5.691519635742744\n",
      "2.3976052156724648 0.05334719873134404 2.2250201318644347\n",
      "\n",
      "4446.312674691088 103.70408570708078 2.3323615160349855\n",
      "0.57288 0.022940000000000002 4.004329004329005\n",
      "2.3965913175620455 0.04793495607522008 2.000130590641643\n",
      "\n",
      "4655.860935229591 166.96650296681335 3.586157432311278\n",
      "0.52762 0.012400000000000001 2.350176263219742\n",
      "2.3960136235705587 0.047175406327845455 1.9689122742776515\n",
      "\n",
      "4698.941086052156 126.16300405563582 2.6849241508927375\n",
      "0.53413 0.04836 9.053975623911782\n",
      "2.411200715016178 0.04743483555721967 1.9672703007182628\n",
      "\n",
      "4808.393484497285 135.96475284878508 2.8276544606249114\n",
      "0.66929 0.03844 5.743399722093562\n",
      "2.4119433503574004 0.04623690082651868 1.9169977943166585\n",
      "\n",
      "4920.395356814511 161.2715620063753 3.277613897082923\n",
      "0.50778 0.031000000000000003 6.1050061050061055\n",
      "2.3783022452043183 0.04839723465914991 2.034948869797335\n",
      "\n",
      "5023.4258952238715 96.56720290703328 1.9223375624759707\n",
      "0.53909 0.01798 3.3352501437607827\n",
      "2.381881693370329 0.045424187889085046 1.9070715399307034\n",
      "\n",
      "5058.246620031143 144.2328662683531 2.8514399771884804\n",
      "0.50716 0.024800000000000003 4.88997555012225\n",
      "2.3376425085559913 0.04786990214707421 2.047785406530976\n",
      "\n",
      "5116.818355403078 81.75137171118514 1.5976993129892954\n",
      "0.66712 0.042159999999999996 6.319702602230483\n",
      "2.450099224009718 0.04555097415496261 1.8591481401482188\n",
      "\n",
      "5116.818355403078 137.78964199281214 2.6928773394371888\n",
      "0.54281 0.01426 2.627070245573958\n",
      "2.41270222174086 0.04581480163573771 1.8988999646496167\n",
      "\n",
      "5308.8444423098845 172.08571936174664 3.2414910858995136\n",
      "0.54591 0.02418 4.429301533219761\n",
      "2.383564681376893 0.04717975057559046 1.9793778177790644\n",
      "\n",
      "5533.501092157366 107.91811003719874 1.9502681618722575\n",
      "0.59148 0.02046 3.459119496855346\n",
      "2.4338469871027866 0.04782924278461289 1.965170490916854\n",
      "\n",
      "5584.701947368307 117.00611664295636 2.0951183741881416\n",
      "0.5239 0.01302 2.485207100591716\n",
      "2.391289540727778 0.04581674601114131 1.915984878903338\n",
      "\n",
      "5610.479760324706 102.1108337487434 1.8200018200018202\n",
      "0.72044 0.024800000000000003 3.4423407917383826\n",
      "2.3929285270063527 0.045682990227735316 1.9090829380051115\n",
      "\n",
      "5623.413251903491 91.54925929024813 1.6280016280016283\n",
      "0.53847 0.01798 3.3390903857225096\n",
      "2.4567337669624036 0.046783137869933246 1.9042819575756327\n",
      "\n",
      "5623.413251903491 84.07585036859521 1.4951035359198623\n",
      "0.5527299999999999 0.04154 7.515423443634325\n",
      "2.394744691161095 0.04650830920488665 1.9420988540676976\n",
      "\n",
      "5675.446054085472 90.40933578790079 1.5929908403026685\n",
      "0.5579999999999999 0.02046 3.6666666666666665\n",
      "2.411701442952924 0.04569743272944855 1.894821303979315\n",
      "\n",
      "5675.446054085472 132.8988655680944 2.3416461772626156\n",
      "0.5192500000000001 0.01674 3.223880597014925\n",
      "2.4292642432677845 0.04579438915609882 1.8851135393363947\n",
      "\n",
      "5675.446054085472 137.55322477182432 2.423654871546292\n",
      "0.62868 0.037200000000000004 5.9171597633136095\n",
      "2.551557238673126 0.05693905112325629 2.231541203945949\n",
      "\n",
      "5727.960309858292 113.42495663085727 1.9801980198019802\n",
      "0.51367 0.06076 11.828605914302958\n",
      "2.430527354934583 0.04740938620868644 1.9505802357020767\n",
      "\n",
      "5741.164622073275 96.287876261187 1.6771488469601679\n",
      "0.58342 0.029759999999999998 5.100956429330498\n",
      "2.365492323736881 0.046789646154104886 1.9780087926977101\n",
      "\n",
      "5767.664633922509 78.48764555926392 1.3608219364496157\n",
      "0.58621 0.01984 3.384452670544685\n",
      "2.3424766978214793 0.034389964032723555 1.4681027164413833\n",
      "\n",
      "5794.286964268809 89.50087989293806 1.5446400988569664\n",
      "0.5704 0.04712 8.26086956521739\n",
      "2.4533959376636973 0.04657116430162883 1.8982327143647793\n",
      "\n",
      "5807.644175213118 105.75697305313881 1.8209960848584177\n",
      "0.68541 0.01736 2.5327905924920855\n",
      "2.4158203903023416 0.04503466279256244 1.864156084340621\n",
      "\n",
      "5861.3816451402845 67.80867243336748 1.1568718186024989\n",
      "0.50282 0.01612 3.205918618988902\n",
      "2.447852038140226 0.02963682758931602 1.2107279005242828\n",
      "\n",
      "5874.893525297769 99.91315519213893 1.7006802721088436\n",
      "0.55769 0.02852 5.1139521956642575\n",
      "2.4404976867204726 0.02894303762489572 1.1859481687847537\n",
      "\n",
      "5902.010801718442 74.69481493030996 1.2655824843384167\n",
      "0.54529 0.018600000000000002 3.411028993746447\n",
      "2.4375955409516146 0.02727923542842388 1.119104255407947\n",
      "\n",
      "5929.2532458 72.00501846863804 1.2144028174145365\n",
      "0.52576 0.021079999999999998 4.009433962264151\n",
      "2.397537843829173 0.031965347234688433 1.3332572546023176\n",
      "\n",
      "5929.2532458 99.7015847620649 1.6815200941651252\n",
      "0.50251 0.01674 3.3312769895126464\n",
      "2.414207998706856 0.037367010069873696 1.5477958025940153\n",
      "\n",
      "5929.2532458 71.84361136314067 1.211680600993578\n",
      "0.53971 0.022940000000000002 4.2504307869040785\n",
      "2.4645951315398413 0.028465148692861375 1.154962465379731\n",
      "\n",
      "5942.921586155727 60.10236231953608 1.011326860841424\n",
      "0.55304 0.013640000000000001 2.4663677130044843\n",
      "2.441314707052798 0.03978668635873219 1.6297237813621925\n",
      "\n",
      "5956.621435290103 89.37166444546291 1.5003750937734432\n",
      "0.52762 0.013640000000000001 2.5851938895417157\n",
      "2.4397310226806868 0.03315309974795132 1.358883394921294\n",
      "\n",
      "5956.621435290103 146.55237877451353 2.460327223520728\n",
      "0.64046 0.03038 4.743465634075508\n",
      "2.439514225865054 0.0306282245818268 1.255505061503218\n",
      "\n",
      "5997.910762555094 110.75451505041259 1.8465515649524513\n",
      "0.6271300000000001 0.0651 10.380622837370241\n",
      "2.3752586835062957 0.03150925354919012 1.3265609244159027\n",
      "\n",
      "5997.910762555094 73.92962852896702 1.2325896708985578\n",
      "0.5797 0.045880000000000004 7.914438502673797\n",
      "2.465582237002258 0.03456488350298294 1.4018953813119672\n",
      "\n",
      "5997.910762555094 86.28225221254542 1.4385384449399412\n",
      "0.51336 0.018600000000000002 3.6231884057971016\n",
      "2.478609081703966 0.031439455992417355 1.2684314047136354\n",
      "\n",
      "6011.737374832779 67.75315423005499 1.1270145384875465\n",
      "0.5434300000000001 0.02604 4.7917855105533365\n",
      "2.402029118509474 0.02899305167016422 1.2070233223548605\n",
      "\n",
      "6053.408747539136 94.85128090785234 1.5669069257286117\n",
      "0.58776 0.024800000000000003 4.219409282700423\n",
      "2.416202108593776 0.03160835151677823 1.308183260181584\n",
      "\n",
      "6053.408747539136 98.91190763952837 1.6339869281045754\n",
      "0.52886 0.02046 3.8686987104337627\n",
      "2.403403640588384 0.03231888353460704 1.3447130972429984\n",
      "\n",
      "6067.363295885053 310.19239754013563 5.112474437627812\n",
      "0.68231 0.029140000000000003 4.270786006360746\n",
      "2.4108614838163476 0.026156214895121665 1.0849322978820366\n",
      "\n",
      "6123.503917247734 98.98171691986961 1.616422856219187\n",
      "0.46592999999999996 0.02542 5.45575515635396\n",
      "2.4079950181013783 0.030783765205225997 1.2783982098724582\n",
      "\n",
      "6194.410750767812 85.4991131921023 1.3802622498274673\n",
      "0.5611 0.015500000000000002 2.7624309392265194\n",
      "2.4302841359525136 0.03390462743882983 1.3950890324822625\n",
      "\n",
      "6194.410750767812 70.06459394602209 1.1310937676733401\n",
      "0.5115000000000001 0.03596 7.030303030303029\n",
      "2.346550316282336 0.032285409804156576 1.3758669302820101\n",
      "\n",
      "6208.690342300638 78.93573634607638 1.2713749920539064\n",
      "0.54467 0.02232 4.097894137734776\n",
      "2.460985735740822 0.03196136407109932 1.298722036740213\n",
      "\n",
      "6251.726927756856 64.71432045708664 1.0351431085347549\n",
      "0.66991 0.04092 6.108283202221194\n",
      "2.543040487060517 0.03094834798913298 1.2169821183187675\n",
      "\n",
      "6266.138646723356 92.02053963908298 1.4685366032748366\n",
      "0.53041 0.010539999999999999 1.9871420222092337\n",
      "2.445946862849247 0.029825118247750023 1.2193690182217283\n",
      "\n",
      "6280.58358813318 58.261443303647305 0.927643784786642\n",
      "0.52824 0.021079999999999998 3.990610328638497\n",
      "2.431971731199214 0.03204064964692692 1.317476236910351\n",
      "\n",
      "6295.061828571975 88.8004207726333 1.4106361969248131\n",
      "0.5294800000000001 0.024800000000000003 4.68384074941452\n",
      "2.472482465136764 0.031295111077349905 1.26573642153692\n",
      "\n",
      "6324.118513762197 73.72915784042199 1.1658408627222383\n",
      "0.66061 0.03534 5.349601126231816\n",
      "2.4552706009197593 0.03153447890214892 1.284358591282603\n",
      "\n",
      "6324.118513762197 70.35397167384801 1.112470797641562\n",
      "0.52266 0.009300000000000001 1.7793594306049825\n",
      "2.4662221628645216 0.030449615715840747 1.2346663724923088\n",
      "\n",
      "6382.634861905489 83.61895535052389 1.3101008777675882\n",
      "0.51739 0.021079999999999998 4.0742959856201315\n",
      "2.4199624895324763 0.029587222315643136 1.2226314434055228\n",
      "\n",
      "6397.348354826482 128.91382075217092 2.0151133501259446\n",
      "0.5552100000000001 0.01674 3.015075376884422\n",
      "2.337955779461838 0.03373012187019429 1.44271855637742\n",
      "\n",
      "6397.348354826482 59.551764997221156 0.9308820107051432\n",
      "0.5859 0.018600000000000002 3.1746031746031753\n",
      "2.4385219247713477 0.032503500649055585 1.3329181221982793\n",
      "\n"
     ]
    }
   ],
   "source": [
    "k = 1.08\n",
    "\n",
    "for i in range(len(mems_periods)):\n",
    "    #if mems_periods['source_id'][i] == 5290721142499618816:\n",
    "    #print('/Users/bhealy/Documents/PhD_Thesis/NGC_2516/argfiles/gaia_dr2_'+np.str(radius_names[i])+'.args')\n",
    "    \n",
    "    pfile = open('/Users/bhealy/Documents/PhD_Thesis/NGC_2516/priorfiles_new/gaia_dr2_'+np.str(radius_names[i])+'.priors',mode='w+')\n",
    "    teff = 10**mems_periods[i]['logTeff']\n",
    "    teff_unc = 2*(teff / mems_periods[i]['S/N'])\n",
    "    print(teff,teff_unc,teff_unc/teff*100)\n",
    "\n",
    "    pfile.write('teff '+np.str(teff)+' '+np.str(teff_unc)+'\\n')\n",
    "\n",
    "        #qry = Catalogs.query_object('Gaia DR2 '+np.str(mems_periods['source_id'][i]),catalog='TIC')\n",
    "    #qry = Catalogs.query_region(np.str(mems_periods['ra'][i])+', '+np.str(mems_periods['dec'][i]),catalog='TIC')\n",
    "    #if np.isnan(mems_periods['gaia_r'][i]):\n",
    "    #    rad = qry[0]['rad']\n",
    "    #else:\n",
    "    #    rad = mems_periods[i]['gaia_r']\n",
    "    #print(qry[0]['GAIA'] == np.str(mems_periods['source_id'][i]))\n",
    "\n",
    "        \n",
    "    #mass = qry[0]['mass']\n",
    "\n",
    "    #pfile.write('mstar ' + np.str(mass) +'\\n')\n",
    "\n",
    "    #pfile.write('rstar '+np.str(rad)+'\\n')\n",
    "\n",
    "    pfile.write('age ' + np.str(0.135) + ' ' + np.str(0.015)+'\\n')\n",
    "\n",
    "    extindx = extinctbl['objname'] == np.str(mems_periods['source_id'][i])\n",
    "    av = extinctbl[extindx]['E_B_V_SandF'].data[0] * 3.1\n",
    "    #av_err = np.mean((extinctbl[extindx]['max_E_B_V_SandF'].data *3.1 - av, av - extinctbl[extindx]['min_E_B_V_SandF'].data *3.1))*2\n",
    "    av_err = extinctbl[extindx]['stdev_E_B_V_SandF'].data[0] * 3.1 * 2\n",
    "    print(av,av_err,av_err/av*100)\n",
    "\n",
    "    pfile.write('av ' + np.str(av) + ' ' + np.str(av_err)+'\\n')\n",
    "\n",
    "    plx = mems_periods['parallax'][i]\n",
    "    plx_err = mems_periods['parallax_error'][i]\n",
    "    if mems_periods['phot_g_mean_mag'][i] <= 13:\n",
    "        sig = 0.021\n",
    "    else:\n",
    "        sig = 0.043\n",
    "    plx_err = np.sqrt(k**2*plx_err**2 + sig**2)\n",
    "\n",
    "    pfile.write('parallax ' + np.str(plx) + ' ' + np.str(plx_err) + '\\n')\n",
    "\n",
    "    print(plx,plx_err,plx_err/plx*100)\n",
    "    print()\n",
    "\n",
    "    pfile.write('feh -0.05 0.1')\n",
    "\n",
    "\n",
    "    pfile.close()\n",
    "\n",
    "\n",
    "    \n",
    "    \n",
    "    \n",
    "    \n",
    "    \n",
    "    "
   ]
  },
  {
   "cell_type": "code",
   "execution_count": null,
   "metadata": {},
   "outputs": [],
   "source": [
    "#idl -arg $EXOFAST_PATH/ngc2516/argfiles/gaia_dr2_5291030448862535808.args -vm=$EXOFAST_PATH/exofastv2.sav"
   ]
  },
  {
   "cell_type": "code",
   "execution_count": 2701,
   "metadata": {},
   "outputs": [
    {
     "name": "stdout",
     "output_type": "stream",
     "text": [
      "0 5290740040355375360\n",
      "1 5290897751553047552\n",
      "2 5290932386169704320\n",
      "3 5290655687198404864\n",
      "4 5290718084482964992\n",
      "5 5290894727896572160\n",
      "6 5290653075858442752\n",
      "7 5290642046382523008\n",
      "8 5290829650553566208\n",
      "9 5290717843964557056\n",
      "10 5290703069277036928\n",
      "11 5290755193001408128\n",
      "12 5290673348103622272\n",
      "13 5290934997509679232\n",
      "14 5290717672165866496\n",
      "15 5290933863638628096\n",
      "16 5290815734859774080\n",
      "17 5290758933911651584\n",
      "18 5290819342632176512\n",
      "19 5290732721731067136\n",
      "20 5290840233352691968\n",
      "21 5290769314853433600\n",
      "22 5290837755153683840\n",
      "23 5290710903297629824\n",
      "24 5290653350736340736\n",
      "25 5290769039975605760\n",
      "26 5290721726615163648\n",
      "27 5290772029272852864\n",
      "28 5290703687752332544\n",
      "29 5290762752143565184\n",
      "30 5290816731292063872\n",
      "31 5290817281048004736\n",
      "32 5290742411177350144\n",
      "33 5290713445918199168\n",
      "34 5290745881512256000\n",
      "35 5290719836829549056\n",
      "36 5290721864054120320\n",
      "37 5290725781064133760\n",
      "38 5290713652076611200\n",
      "39 5290820785740950656\n",
      "40 5290664861248309760\n",
      "41 5290667713106775040\n",
      "42 5290737669533445248\n",
      "43 5290747977456314880\n",
      "44 5290667541308087168\n",
      "45 5290672179872595840\n",
      "46 5290826558177392640\n",
      "47 5290715954179096320\n",
      "48 5290728834785867264\n",
      "49 5290735779747993088\n",
      "50 5290742857853957504\n",
      "51 5290933829278574208\n",
      "52 5290720042987976576\n",
      "53 5290741208586484352\n",
      "54 5290710800218328192\n",
      "55 5291030448862535808\n",
      "56 5290824320493640576\n",
      "57 5290820064186534144\n",
      "58 5290826936134381440\n",
      "59 5290709357109480704\n",
      "60 5290830097230075904\n",
      "61 5290931561536172416\n",
      "62 5290777522534884864\n",
      "63 5290715507502414592\n",
      "64 5290771032840440832\n",
      "65 5290838962037067648\n",
      "66 5290770345645486976\n",
      "67 5290721142499618816\n"
     ]
    }
   ],
   "source": [
    "nmax = 7\n",
    "count = 0\n",
    "ind = 1\n",
    "maxind = 9\n",
    "\n",
    "sfile = open('/Users/bhealy/Documents/PhD_Thesis/NGC_2516/shellfiles/group_fit_'+np.str(ind)+'.sh',mode='w')\n",
    "\n",
    "for i in range(len(mems_periods)):\n",
    "    if (len(mems_periods) - i) < 7:\n",
    "        #ind += 1\n",
    "        #count=0\n",
    "        #ind = maxind\n",
    "        #if count == 0:\n",
    "        sfile = open('/Users/bhealy/Documents/PhD_Thesis/NGmerger = PdfFileMerger()\n",
    "num = 200\n",
    "fcount = 0\n",
    "indx = 0\n",
    "bins = np.int(np.ceil(len(sortfiles)/num))\n",
    "for i in range(len(sortfiles)):\n",
    "        merger.append(PdfFileReader(sortfiles[i],'rb'))\n",
    "        fcount += 1\n",
    "        if (fcount == 200) or ((len(sortfiles)-i) == 1):\n",
    "            merger.write('/Users/bhealy/Documents/PhD_Thesis/NGC_2516/NGC_2516_newf_merged_DVRs_'+np.str(indx)+'.pdf')\n",
    "            indx += 1\n",
    "            fcount = 0\n",
    "            merger = PdfFileMerger()C_2516/shellfiles/group_fit_'+np.str(ind)+'.sh',mode='a+')\n",
    "        #else:\n",
    "        #    sfile = open('/Users/bhealy/Documents/PhD_Thesis/NGC_2516/shellfiles/group_fit_'+np.str(ind)+'.sh',mode='a')\n",
    "        sfile.write('idl -arg $EXOFAST_PATH/ngc2516/argfiles/gaia_dr2_'+np.str(mems_periods['source_id'][i])+'.args -vm=$EXOFAST_PATH/exofastv2.sav\\n')\n",
    "        #count += 1\n",
    "        print(i, mems_periods['source_id'][i])\n",
    "        #break\n",
    "    elif count < nmax:\n",
    "        #if count == 0:\n",
    "        sfile = open('/Users/bhealy/Documents/PhD_Thesis/NGC_2516/shellfiles/group_fit_'+np.str(ind)+'.sh',mode='a+')\n",
    "        #else:\n",
    "        #    sfile = open('/Users/bhealy/Documents/PhD_Thesis/NGC_2516/shellfiles/group_fit_'+np.str(ind)+'.sh',mode='a')\n",
    "        sfile.write('idl -arg $EXOFAST_PATH/ngc2516/argfiles/gaia_dr2_'+np.str(mems_periods['source_id'][i])+'.args -vm=$EXOFAST_PATH/exofastv2.sav\\n')\n",
    "        count += 1\n",
    "        print(i, mems_periods['source_id'][i])\n",
    "        #sfile.close()\n",
    "    else:\n",
    "        ind += 1\n",
    "        sfile = open('/Users/bhealy/Documents/PhD_Thesis/NGC_2516/shellfiles/group_fit_'+np.str(ind)+'.sh',mode='a+')\n",
    "        sfile.write('idl -arg $EXOFAST_PATH/ngc2516/argfiles/gaia_dr2_'+np.str(mems_periods['source_id'][i])+'.args -vm=$EXOFAST_PATH/exofastv2.sav\\n')\n",
    "        #sfile.close()\n",
    "        #ind += 1\n",
    "        count = 0\n",
    "        print(i, mems_periods['source_id'][i])\n",
    "\n",
    "        \n",
    "sfile.close()\n",
    "        "
   ]
  },
  {
   "cell_type": "code",
   "execution_count": 2702,
   "metadata": {},
   "outputs": [
    {
     "data": {
      "text/plain": [
       "\"\\nmerger = PdfFileMerger()\\nnum = 200\\nfcount = 0\\nindx = 0\\nbins = np.int(np.ceil(len(sortfiles)/num))\\nfor i in range(len(sortfiles)):\\n        merger.append(PdfFileReader(sortfiles[i],'rb'))\\n        fcount += 1\\n        if (fcount == 200) or ((len(sortfiles)-i) == 1):\\n            merger.write('/Users/bhealy/Documents/PhD_Thesis/NGC_2516/NGC_2516_newf_merged_DVRs_'+np.str(indx)+'.pdf')\\n            indx += 1\\n            fcount = 0\\n            merger = PdfFileMerger()\\n\""
      ]
     },
     "execution_count": 2702,
     "metadata": {},
     "output_type": "execute_result"
    }
   ],
   "source": [
    "'''\n",
    "merger = PdfFileMerger()\n",
    "num = 200\n",
    "fcount = 0\n",
    "indx = 0\n",
    "bins = np.int(np.ceil(len(sortfiles)/num))\n",
    "for i in range(len(sortfiles)):\n",
    "        merger.append(PdfFileReader(sortfiles[i],'rb'))\n",
    "        fcount += 1\n",
    "        if (fcount == 200) or ((len(sortfiles)-i) == 1):\n",
    "            merger.write('/Users/bhealy/Documents/PhD_Thesis/NGC_2516/NGC_2516_newf_merged_DVRs_'+np.str(indx)+'.pdf')\n",
    "            indx += 1\n",
    "            fcount = 0\n",
    "            merger = PdfFileMerger()\n",
    "'''"
   ]
  },
  {
   "cell_type": "code",
   "execution_count": 2726,
   "metadata": {},
   "outputs": [
    {
     "name": "stdout",
     "output_type": "stream",
     "text": [
      "0 5290740040355375360\n",
      "1 5290897751553047552\n",
      "2 5290932386169704320\n",
      "3 5290655687198404864\n",
      "4 5290718084482964992\n",
      "5 5290894727896572160\n",
      "6 5290653075858442752\n",
      "7 5290642046382523008\n",
      "8 5290829650553566208\n",
      "9 5290717843964557056\n",
      "10 5290703069277036928\n",
      "11 5290755193001408128\n",
      "12 5290673348103622272\n",
      "13 5290934997509679232\n",
      "14 5290717672165866496\n",
      "15 5290933863638628096\n",
      "16 5290815734859774080\n",
      "17 5290758933911651584\n",
      "18 5290819342632176512\n",
      "19 5290732721731067136\n",
      "20 5290840233352691968\n",
      "21 5290769314853433600\n",
      "22 5290837755153683840\n",
      "23 5290710903297629824\n",
      "24 5290653350736340736\n",
      "25 5290769039975605760\n",
      "26 5290721726615163648\n",
      "27 5290772029272852864\n",
      "28 5290703687752332544\n",
      "29 5290762752143565184\n",
      "30 5290816731292063872\n",
      "31 5290817281048004736\n",
      "32 5290742411177350144\n",
      "33 5290713445918199168\n",
      "34 5290745881512256000\n",
      "35 5290719836829549056\n",
      "36 5290721864054120320\n",
      "37 5290725781064133760\n",
      "38 5290713652076611200\n",
      "39 5290820785740950656\n",
      "40 5290664861248309760\n",
      "41 5290667713106775040\n",
      "42 5290737669533445248\n",
      "43 5290747977456314880\n",
      "44 5290667541308087168\n",
      "45 5290672179872595840\n",
      "46 5290826558177392640\n",
      "47 5290715954179096320\n",
      "48 5290728834785867264\n",
      "49 5290735779747993088\n",
      "50 5290742857853957504\n",
      "51 5290933829278574208\n",
      "52 5290720042987976576\n",
      "53 5290741208586484352\n",
      "54 5290710800218328192\n",
      "55 5291030448862535808\n",
      "56 5290824320493640576\n",
      "57 5290820064186534144\n",
      "58 5290826936134381440\n",
      "59 5290709357109480704\n",
      "60 5290830097230075904\n",
      "61 5290931561536172416\n",
      "62 5290777522534884864\n",
      "63 5290715507502414592\n",
      "64 5290771032840440832\n",
      "65 5290838962037067648\n",
      "66 5290770345645486976\n",
      "67 5290721142499618816\n"
     ]
    }
   ],
   "source": [
    "nmax = 3\n",
    "count = 0\n",
    "ind = 1\n",
    "imax = np.int(np.ceil(len(mems_periods)/nmax))\n",
    "\n",
    "sfile = open('/Users/bhealy/Documents/PhD_Thesis/NGC_2516/shellfiles_2/group_fit_'+np.str(ind)+'.sh',mode='a+')\n",
    "for i in range(len(mems_periods)):\n",
    "    sfile.write('idl -arg $EXOFAST_PATH/ngc2516/argfiles/gaia_dr2_'+np.str(mems_periods['source_id'][i])+'.args -vm=$EXOFAST_PATH/exofastv2.sav\\n')\n",
    "    count += 1\n",
    "    print(i, mems_periods['source_id'][i])\n",
    "    if (count == nmax) or ((len(mems_periods) - i) == 1):\n",
    "        sfile.close()\n",
    "        ind += 1\n",
    "        count = 0\n",
    "        if ind <= imax:\n",
    "            sfile = open('/Users/bhealy/Documents/PhD_Thesis/NGC_2516/shellfiles_2/group_fit_'+np.str(ind)+'.sh',mode='a+')\n",
    "        #sfile.write('idl -arg $EXOFAST_PATH/ngc2516/argfiles/gaia_dr2_'+np.str(mems_periods['source_id'][i])+'.args -vm=$EXOFAST_PATH/exofastv2.sav\\n')\n",
    "\n",
    "sfile.close()\n",
    "    "
   ]
  },
  {
   "cell_type": "code",
   "execution_count": 2732,
   "metadata": {},
   "outputs": [],
   "source": [
    "files = glob.glob('/Users/bhealy/Documents/PhD_Thesis/NGC_2516/fitresults/logs/*.log')"
   ]
  },
  {
   "cell_type": "code",
   "execution_count": 2752,
   "metadata": {},
   "outputs": [],
   "source": [
    "incompl = np.zeros(len(files),)\n",
    "for i in range(len(files)):\n",
    "    o = open(files[i])\n",
    "    rd = o.read()\n",
    "    incompl[i] = ('0.00%' in rd) & ('100.00%' in rd)"
   ]
  },
  {
   "cell_type": "code",
   "execution_count": 2754,
   "metadata": {},
   "outputs": [
    {
     "data": {
      "text/plain": [
       "0.4444444444444444"
      ]
     },
     "execution_count": 2754,
     "metadata": {},
     "output_type": "execute_result"
    }
   ],
   "source": [
    "np.sum(incompl)/len(incompl)"
   ]
  },
  {
   "cell_type": "code",
   "execution_count": 2768,
   "metadata": {},
   "outputs": [],
   "source": [
    "compl = np.where(incompl == False)"
   ]
  },
  {
   "cell_type": "code",
   "execution_count": 2775,
   "metadata": {},
   "outputs": [
    {
     "data": {
      "text/plain": [
       "array([ 0,  3,  7,  9, 10, 11, 15, 18, 19, 21, 23, 24, 25, 26, 27, 28, 30,\n",
       "       32, 34, 35])"
      ]
     },
     "execution_count": 2775,
     "metadata": {},
     "output_type": "execute_result"
    }
   ],
   "source": [
    "compl[0]\n"
   ]
  },
  {
   "cell_type": "code",
   "execution_count": 2778,
   "metadata": {},
   "outputs": [
    {
     "ename": "TypeError",
     "evalue": "only integer scalar arrays can be converted to a scalar index",
     "output_type": "error",
     "traceback": [
      "\u001b[0;31m---------------------------------------------------------------------------\u001b[0m",
      "\u001b[0;31mTypeError\u001b[0m                                 Traceback (most recent call last)",
      "\u001b[0;32m<ipython-input-2778-b78c968002c5>\u001b[0m in \u001b[0;36m<module>\u001b[0;34m\u001b[0m\n\u001b[0;32m----> 1\u001b[0;31m \u001b[0mfiles\u001b[0m\u001b[0;34m[\u001b[0m\u001b[0mcompl\u001b[0m\u001b[0;34m[\u001b[0m\u001b[0;36m0\u001b[0m\u001b[0;34m]\u001b[0m\u001b[0;34m]\u001b[0m\u001b[0;34m\u001b[0m\u001b[0;34m\u001b[0m\u001b[0m\n\u001b[0m",
      "\u001b[0;31mTypeError\u001b[0m: only integer scalar arrays can be converted to a scalar index"
     ]
    }
   ],
   "source": [
    "files[compl[0]]"
   ]
  },
  {
   "cell_type": "code",
   "execution_count": null,
   "metadata": {},
   "outputs": [],
   "source": []
  },
  {
   "cell_type": "code",
   "execution_count": null,
   "metadata": {},
   "outputs": [],
   "source": []
  },
  {
   "cell_type": "code",
   "execution_count": 2774,
   "metadata": {},
   "outputs": [],
   "source": [
    "file1 = open('/Users/bhealy/Documents/PhD_Thesis/NGC_2516/sedcp.sh',mode='w+')"
   ]
  },
  {
   "cell_type": "code",
   "execution_count": 2570,
   "metadata": {},
   "outputs": [],
   "source": [
    "file1.writelines(sedfiles)"
   ]
  },
  {
   "cell_type": "code",
   "execution_count": 2571,
   "metadata": {},
   "outputs": [],
   "source": [
    "file1.close()"
   ]
  },
  {
   "cell_type": "code",
   "execution_count": 2515,
   "metadata": {},
   "outputs": [],
   "source": [
    "tgtindx = (mems_periods['vsini'] >= 5) #& (mems_periods['proba'] >= 0.6)"
   ]
  },
  {
   "cell_type": "code",
   "execution_count": 2517,
   "metadata": {},
   "outputs": [
    {
     "data": {
      "text/html": [
       "<i>Table length=52</i>\n",
       "<table id=\"table121599784720\" class=\"table-striped table-bordered table-condensed\">\n",
       "<thead><tr><th>ra</th><th>dec</th><th>source_id</th><th>l</th><th>b</th><th>parallax</th><th>parallax_error</th><th>pmra</th><th>pmra_error</th><th>pmdec</th><th>pmdec_error</th><th>ra_dec_corr</th><th>ra_parallax_corr</th><th>ra_pmra_corr</th><th>ra_pmdec_corr</th><th>dec_parallax_corr</th><th>dec_pmra_corr</th><th>dec_pmdec_corr</th><th>parallax_pmra_corr</th><th>parallax_pmdec_corr</th><th>pmra_pmdec_corr</th><th>phot_g_n_obs</th><th>phot_g_mean_mag</th><th>bp_rp</th><th>proba</th><th>cluster</th><th>Cluster</th><th>Object</th><th>Icmag</th><th>Jmag</th><th>Hmag</th><th>Kmag</th><th>S/N</th><th>RV</th><th>vsini</th><th>logTeff</th><th>Nsp</th><th>pRV</th><th>pvsini</th><th>gaia_r</th><th>parallax_err</th><th>period</th><th>period_unc</th><th>classification</th></tr></thead>\n",
       "<thead><tr><th>float64</th><th>float64</th><th>int64</th><th>float64</th><th>float64</th><th>float64</th><th>float64</th><th>float64</th><th>float64</th><th>float64</th><th>float64</th><th>float64</th><th>float64</th><th>float64</th><th>float64</th><th>float64</th><th>float64</th><th>float64</th><th>float64</th><th>float64</th><th>float64</th><th>int64</th><th>float64</th><th>float64</th><th>float64</th><th>str8</th><th>str7</th><th>str16</th><th>float64</th><th>float64</th><th>float64</th><th>float64</th><th>float64</th><th>float64</th><th>float64</th><th>float64</th><th>int64</th><th>float64</th><th>float64</th><th>float64</th><th>float64</th><th>float64</th><th>float64</th><th>str1</th></tr></thead>\n",
       "<tr><td>118.29291337270324</td><td>-60.77773686876484</td><td>5290897751553047552</td><td>273.5551310285064</td><td>-16.39905579041275</td><td>2.5459269293995757</td><td>0.07292637750234145</td><td>-3.332661556140025</td><td>0.17287438196253657</td><td>12.159811515842165</td><td>0.18574672874681414</td><td>0.14400537</td><td>-0.032819834</td><td>-0.23229983</td><td>-0.014304838</td><td>0.022327749</td><td>-0.014297867</td><td>-0.5166578</td><td>0.118219</td><td>0.014029905</td><td>0.2058887</td><td>373</td><td>17.448193</td><td>2.4136353</td><td>0.10000000149011612</td><td>NGC_2516</td><td>NGC2516</td><td>07531031-6046400</td><td>0.0</td><td>14.69</td><td>13.99</td><td>13.72</td><td>19.69</td><td>23.4</td><td>7.8</td><td>3.586</td><td>2</td><td>0.34</td><td>0.14</td><td>nan</td><td>0.07292637750234145</td><td>2.1083551159696077</td><td>0.032390182765597075</td><td>C</td></tr>\n",
       "<tr><td>119.19190680309721</td><td>-60.40359453677332</td><td>5290932386169704320</td><td>273.4167013744141</td><td>-15.835884643939078</td><td>2.343589368965242</td><td>0.05553799244490907</td><td>-4.36855600530728</td><td>0.11703791392683219</td><td>10.9239594669587</td><td>0.11757499691338812</td><td>-0.13186802</td><td>-0.010063716</td><td>-0.1066572</td><td>-0.0028674707</td><td>0.25411776</td><td>0.0363327</td><td>-0.19039418</td><td>0.10563692</td><td>0.12614341</td><td>-0.27248386</td><td>405</td><td>16.695633</td><td>2.0964289</td><td>0.4000000059604645</td><td>NGC_2516</td><td>NGC2516</td><td>07564607-6024132</td><td>0.0</td><td>14.36</td><td>13.63</td><td>13.33</td><td>19.97</td><td>24.05</td><td>10.0</td><td>3.589</td><td>4</td><td>0.33</td><td>0.11</td><td>0.6332019567489624</td><td>0.05553799244490907</td><td>1.4678843714299934</td><td>0.008333487915660952</td><td>C</td></tr>\n",
       "<tr><td>119.62997956802782</td><td>-61.08969061592808</td><td>5290655687198404864</td><td>274.1522684188541</td><td>-15.962756765003558</td><td>2.4652637482422928</td><td>0.06032916823415625</td><td>-4.695146958604306</td><td>0.12255809954780116</td><td>11.236194643186431</td><td>0.10766447681122257</td><td>0.022072649</td><td>0.11788812</td><td>-0.12629795</td><td>0.030659784</td><td>0.2522723</td><td>0.09911209</td><td>-0.09510061</td><td>0.1812259</td><td>-0.19569308</td><td>-0.0646742</td><td>420</td><td>16.89682</td><td>2.127181</td><td>0.800000011920929</td><td>NGC_2516</td><td>NGC2516</td><td>07583121-6105232</td><td>0.0</td><td>14.38</td><td>13.66</td><td>13.42</td><td>25.33</td><td>23.34</td><td>26.2</td><td>3.606</td><td>2</td><td>0.49</td><td>0.06</td><td>0.5419772863388062</td><td>0.06032916823415625</td><td>0.9970427529463318</td><td>0.004166745833208552</td><td>C</td></tr>\n",
       "<tr><td>119.22997168702376</td><td>-60.969919354916634</td><td>5290718084482964992</td><td>273.94878829388</td><td>-16.07951268415351</td><td>2.5482974051877796</td><td>0.05046852860089166</td><td>-4.65115274607963</td><td>0.11021781745939102</td><td>11.359942945121878</td><td>0.10958906103226444</td><td>0.010520145</td><td>-0.20693088</td><td>-0.15710565</td><td>0.11838374</td><td>0.20013113</td><td>0.10771258</td><td>-0.018842787</td><td>-0.04159204</td><td>-0.14066505</td><td>0.13409315</td><td>359</td><td>16.549444</td><td>2.0585766</td><td>0.6000000238418579</td><td>NGC_2516</td><td>NGC2516</td><td>07565520-6058118</td><td>0.0</td><td>14.23</td><td>13.4</td><td>13.24</td><td>28.86</td><td>21.59</td><td>5.0</td><td>3.61</td><td>2</td><td>0.29</td><td>0.21</td><td>0.5526226162910461</td><td>0.05046852860089166</td><td>2.3405197936718776</td><td>0.04580701587123928</td><td>C</td></tr>\n",
       "<tr><td>118.24967790974463</td><td>-60.89129975872747</td><td>5290894727896572160</td><td>273.65122347243886</td><td>-16.468667317112573</td><td>2.4494445115613983</td><td>0.05616468469458247</td><td>-4.120028123141467</td><td>0.13381741510028874</td><td>11.40888475496453</td><td>0.13625526170732263</td><td>0.09358867</td><td>-0.22009508</td><td>-0.035087362</td><td>0.011308457</td><td>0.026438922</td><td>0.044463042</td><td>-0.47496992</td><td>-0.04324555</td><td>0.0888596</td><td>0.09825305</td><td>340</td><td>16.717352</td><td>2.130371</td><td>0.800000011920929</td><td>NGC_2516</td><td>NGC2516</td><td>07525994-6053288</td><td>0.0</td><td>14.26</td><td>13.51</td><td>13.29</td><td>32.3</td><td>23.24</td><td>5.2</td><td>3.611</td><td>2</td><td>0.28</td><td>0.19</td><td>nan</td><td>0.05616468469458247</td><td>5.641767229976541</td><td>0.0647808509527586</td><td>C</td></tr>\n",
       "<tr><td>119.62662452597256</td><td>-61.168576005207235</td><td>5290653075858442752</td><td>274.22422386291186</td><td>-16.00070990601393</td><td>2.4852013772353576</td><td>0.024379217565162793</td><td>-4.110094823056237</td><td>0.04852623351704215</td><td>10.788076314657793</td><td>0.040559134161769386</td><td>0.17108783</td><td>0.22939928</td><td>-0.18688472</td><td>0.03279104</td><td>0.34856045</td><td>0.12190557</td><td>-0.2079526</td><td>0.19214812</td><td>-0.09254736</td><td>0.06974314</td><td>386</td><td>15.026208</td><td>1.4376688</td><td>0.800000011920929</td><td>NGC_2516</td><td>NGC2516</td><td>07583040-6110071</td><td>0.0</td><td>13.21</td><td>12.62</td><td>12.5</td><td>10.67</td><td>26.57</td><td>75.0</td><td>3.619</td><td>2</td><td>4.03</td><td>0.12</td><td>0.6558167338371277</td><td>0.024379217565162793</td><td>0.4738185278931008</td><td>0.0041667458483061635</td><td>C</td></tr>\n",
       "<tr><td>119.57602414533608</td><td>-61.35245976984503</td><td>5290642046382523008</td><td>274.3822208822476</td><td>-16.107251967585785</td><td>2.4860945719349026</td><td>0.04582771552959621</td><td>-4.8573482899438725</td><td>0.10212185312434705</td><td>11.79851110617278</td><td>0.08839103820685787</td><td>0.014721498</td><td>0.15467384</td><td>-0.2697907</td><td>0.1161343</td><td>0.16976419</td><td>0.14994168</td><td>-0.1521961</td><td>0.04346159</td><td>-0.13105486</td><td>-0.06469182</td><td>438</td><td>16.637846</td><td>2.0804758</td><td>0.800000011920929</td><td>NGC_2516</td><td>NGC2516</td><td>07581825-6121091</td><td>0.0</td><td>14.23</td><td>13.61</td><td>13.4</td><td>18.24</td><td>24.04</td><td>1.7</td><td>3.62</td><td>2</td><td>0.34</td><td>0.97</td><td>0.567362904548645</td><td>0.04582771552959621</td><td>4.385499815496984</td><td>0.07934010503369385</td><td>C</td></tr>\n",
       "<tr><td>119.9932097995018</td><td>-60.40471153272062</td><td>5290829650553566208</td><td>273.60895979691816</td><td>-15.486106078007214</td><td>2.4792565412745615</td><td>0.033278339411923215</td><td>-4.954042711584381</td><td>0.07101726214765271</td><td>11.76231826656451</td><td>0.06902162747291132</td><td>0.0030656569</td><td>-0.08365877</td><td>-0.3615683</td><td>0.041493792</td><td>0.11741031</td><td>0.066635355</td><td>-0.34994054</td><td>0.15681878</td><td>-0.057572935</td><td>0.01838127</td><td>395</td><td>15.557322</td><td>1.8155537</td><td>0.6000000238418579</td><td>NGC_2516</td><td>NGC2516</td><td>07595837-6024173</td><td>0.0</td><td>13.38</td><td>12.68</td><td>12.44</td><td>48.7</td><td>27.47</td><td>69.2</td><td>3.621</td><td>2</td><td>0.82</td><td>0.05</td><td>0.7514190077781677</td><td>0.033278339411923215</td><td>1.010404645009771</td><td>0.022902808755499743</td><td>C</td></tr>\n",
       "<tr><td>120.39132695347004</td><td>-60.860565590323546</td><td>5290755193001408128</td><td>274.1216623309289</td><td>-15.529073005218235</td><td>2.4039077945853697</td><td>0.02621820508325254</td><td>-4.934486130120085</td><td>0.05331899962202447</td><td>11.444833079069078</td><td>0.05289995851614345</td><td>-0.0071468716</td><td>-0.016713606</td><td>-0.12393947</td><td>0.03654791</td><td>0.30569413</td><td>0.060472954</td><td>-0.4869865</td><td>0.17053154</td><td>-0.12402705</td><td>0.058077615</td><td>407</td><td>15.3566</td><td>1.5564537</td><td>0.699999988079071</td><td>NGC_2516</td><td>NGC2516</td><td>08013392-6051381</td><td>0.0</td><td>13.48</td><td>12.83</td><td>12.72</td><td>70.0</td><td>23.48</td><td>1.2</td><td>3.637</td><td>2</td><td>0.26</td><td>1.24</td><td>0.648181676864624</td><td>0.02621820508325254</td><td>4.7605099247844</td><td>0.19835038754716236</td><td>C</td></tr>\n",
       "<tr><td>119.49029455268763</td><td>-60.89410066215391</td><td>5290673348103622272</td><td>273.93933422408287</td><td>-15.932331481082137</td><td>2.4752523349345026</td><td>0.0182249988520652</td><td>-3.84254080894842</td><td>0.039725570778257564</td><td>11.088923225168001</td><td>0.03381015253005771</td><td>-0.20033628</td><td>-0.14258723</td><td>-0.07127594</td><td>0.068054244</td><td>0.22253336</td><td>0.10853533</td><td>-0.2775959</td><td>0.230736</td><td>-0.041983057</td><td>-0.16615593</td><td>381</td><td>14.249156</td><td>1.2342949</td><td>0.8999999761581421</td><td>NGC_2516</td><td>NGC2516</td><td>07575767-6053390</td><td>0.0</td><td>12.59</td><td>12.12</td><td>12.0</td><td>80.2</td><td>24.13</td><td>17.2</td><td>3.644</td><td>6</td><td>0.18</td><td>0.03</td><td>0.7346648573875427</td><td>0.0182249988520652</td><td>2.400027231432613</td><td>0.1603233878274983</td><td>C</td></tr>\n",
       "<tr><td>...</td><td>...</td><td>...</td><td>...</td><td>...</td><td>...</td><td>...</td><td>...</td><td>...</td><td>...</td><td>...</td><td>...</td><td>...</td><td>...</td><td>...</td><td>...</td><td>...</td><td>...</td><td>...</td><td>...</td><td>...</td><td>...</td><td>...</td><td>...</td><td>...</td><td>...</td><td>...</td><td>...</td><td>...</td><td>...</td><td>...</td><td>...</td><td>...</td><td>...</td><td>...</td><td>...</td><td>...</td><td>...</td><td>...</td><td>...</td><td>...</td><td>...</td><td>...</td><td>...</td></tr>\n",
       "<tr><td>119.23937225765353</td><td>-60.298828098950274</td><td>5291030448862535808</td><td>273.33131325218216</td><td>-15.76677004886915</td><td>2.4079950181013783</td><td>0.020841360597761233</td><td>-4.144574634387727</td><td>0.04176853324190522</td><td>11.068823679953411</td><td>0.037963544036613096</td><td>0.014360002</td><td>0.09923121</td><td>-0.24298535</td><td>0.05994794</td><td>0.4132529</td><td>0.07343005</td><td>-0.31524846</td><td>0.027584342</td><td>0.02949818</td><td>-0.07384287</td><td>400</td><td>12.354486</td><td>0.7990818</td><td>0.699999988079071</td><td>NGC_2516</td><td>NGC2516</td><td>07565746-6017559</td><td>0.0</td><td>11.33</td><td>11.13</td><td>11.03</td><td>123.73</td><td>25.77</td><td>27.9</td><td>3.787</td><td>2</td><td>0.31</td><td>0.05</td><td>1.1655031442642212</td><td>0.020841360597761233</td><td>1.9893227634293644</td><td>0.005103198672761402</td><td>C</td></tr>\n",
       "<tr><td>120.13826831046497</td><td>-60.52314393476707</td><td>5290824320493640576</td><td>273.75231544107305</td><td>-15.478796083905758</td><td>2.4302841359525136</td><td>0.02464639783149087</td><td>-4.710804702574993</td><td>0.05326427791925886</td><td>11.115321801295064</td><td>0.049951264976873</td><td>0.14481927</td><td>-0.1365576</td><td>-0.44033515</td><td>-0.04189716</td><td>0.08773709</td><td>-0.009421442</td><td>-0.31779146</td><td>0.30291897</td><td>-0.04850668</td><td>0.15212809</td><td>357</td><td>12.365512</td><td>0.82779217</td><td>0.800000011920929</td><td>NGC_2516</td><td>NGC2516</td><td>08003318-6031235</td><td>0.0</td><td>11.29</td><td>11.04</td><td>10.97</td><td>144.9</td><td>25.61</td><td>46.9</td><td>3.792</td><td>2</td><td>0.39</td><td>0.05</td><td>1.17204749584198</td><td>0.02464639783149087</td><td>1.304787221327569</td><td>0.005103202647375712</td><td>C</td></tr>\n",
       "<tr><td>120.12958796129628</td><td>-60.463474414749854</td><td>5290826936134381440</td><td>273.69563098543335</td><td>-15.454421740692753</td><td>2.460985735740822</td><td>0.022309412156901114</td><td>-4.156879711644977</td><td>0.05141267966135601</td><td>10.888839081593016</td><td>0.0484820052179004</td><td>0.11560559</td><td>0.09419608</td><td>-0.43436536</td><td>-0.12470245</td><td>0.14252</td><td>-0.0947026</td><td>-0.41317376</td><td>0.08817704</td><td>-0.1269541</td><td>0.19139421</td><td>362</td><td>12.300817</td><td>0.804162</td><td>0.800000011920929</td><td>NGC_2516</td><td>NGC2516</td><td>08003110-6027487</td><td>0.0</td><td>11.26</td><td>11.01</td><td>10.93</td><td>157.31</td><td>24.09</td><td>37.6</td><td>3.793</td><td>2</td><td>0.33</td><td>0.05</td><td>1.248341679573059</td><td>0.022309412156901114</td><td>1.6690279097148435</td><td>0.006588000661844052</td><td>C</td></tr>\n",
       "<tr><td>119.9654316150975</td><td>-60.36926980260596</td><td>5290830097230075904</td><td>273.5698048938381</td><td>-15.481557783442398</td><td>2.445946862849247</td><td>0.019609914944727948</td><td>-4.399085816125629</td><td>0.04305364533165151</td><td>11.27683097896694</td><td>0.04596657995404322</td><td>-0.15363576</td><td>0.06808113</td><td>-0.3698712</td><td>0.18679768</td><td>0.058535933</td><td>0.21449514</td><td>-0.3220169</td><td>-0.045005847</td><td>-0.12081077</td><td>-0.07806038</td><td>391</td><td>12.144784</td><td>0.7625532</td><td>0.8999999761581421</td><td>NGC_2516</td><td>NGC2516</td><td>07595171-6022095</td><td>0.0</td><td>11.17</td><td>10.93</td><td>10.83</td><td>136.19</td><td>24.73</td><td>12.8</td><td>3.797</td><td>2</td><td>0.26</td><td>0.05</td><td>1.2253071069717407</td><td>0.019609914944727948</td><td>1.8547606827304919</td><td>0.06870919848011713</td><td>C</td></tr>\n",
       "<tr><td>119.13311338979422</td><td>-60.46808812731028</td><td>5290931561536172416</td><td>273.46237443018174</td><td>-15.89129904900678</td><td>2.431971731199214</td><td>0.02240670395661029</td><td>-4.547503922676944</td><td>0.041067141671852075</td><td>11.689066253189399</td><td>0.04025915079856418</td><td>-0.10416152</td><td>-0.05322741</td><td>-0.04602847</td><td>-0.058171928</td><td>0.47606394</td><td>0.013990265</td><td>-0.12711781</td><td>0.11464665</td><td>0.08213199</td><td>-0.20905219</td><td>375</td><td>12.140182</td><td>0.76933765</td><td>1.0</td><td>NGC_2516</td><td>NGC2516</td><td>07563195-6028054</td><td>0.0</td><td>11.11</td><td>10.9</td><td>10.85</td><td>215.6</td><td>23.47</td><td>19.5</td><td>3.798</td><td>4</td><td>0.19</td><td>0.03</td><td>1.2649272680282593</td><td>0.02240670395661029</td><td>1.5024087832353346</td><td>0.02290350551810469</td><td>C</td></tr>\n",
       "<tr><td>120.35195969813897</td><td>-60.58772334905382</td><td>5290777522534884864</td><td>273.8628822281947</td><td>-15.416766996670582</td><td>2.472482465136764</td><td>0.02148435440047484</td><td>-4.757403679147385</td><td>0.044592772304600944</td><td>11.714942307494805</td><td>0.048801301207108065</td><td>-0.024858266</td><td>-0.05185423</td><td>-0.12545335</td><td>0.15289474</td><td>0.15467829</td><td>0.18090898</td><td>-0.31664026</td><td>0.19770338</td><td>-0.00945094</td><td>0.015035911</td><td>365</td><td>12.078058</td><td>0.77945423</td><td>0.8999999761581421</td><td>NGC_2516</td><td>NGC2516</td><td>08012448-6035158</td><td>0.0</td><td>11.03</td><td>10.79</td><td>10.7</td><td>141.78</td><td>23.75</td><td>43.1</td><td>3.799</td><td>2</td><td>0.38</td><td>0.05</td><td>1.3155916929244995</td><td>0.02148435440047484</td><td>1.4130949766027694</td><td>0.02290307701179787</td><td>C</td></tr>\n",
       "<tr><td>118.87994908178464</td><td>-60.94737541568965</td><td>5290715507502414592</td><td>273.8471725213402</td><td>-16.22041149633897</td><td>2.4552706009197593</td><td>0.021782362825751904</td><td>-4.740724391062366</td><td>0.048742976584306166</td><td>10.874206858934393</td><td>0.040008343909402604</td><td>0.07425702</td><td>0.047650907</td><td>-0.19047834</td><td>0.025705667</td><td>0.33988893</td><td>0.07969528</td><td>-0.34396905</td><td>0.11682531</td><td>-0.06835261</td><td>0.04783785</td><td>366</td><td>12.120079</td><td>0.79981804</td><td>0.5</td><td>NGC_2516</td><td>NGC2516</td><td>07553120-6056508</td><td>0.0</td><td>11.08</td><td>10.84</td><td>10.8</td><td>171.55</td><td>24.04</td><td>7.4</td><td>3.801</td><td>2</td><td>0.26</td><td>0.06</td><td>1.281783103942871</td><td>0.021782362825751904</td><td>1.6291965834808704</td><td>0.026446685888420602</td><td>C</td></tr>\n",
       "<tr><td>120.25893515927606</td><td>-60.75072932871493</td><td>5290771032840440832</td><td>273.98952007508257</td><td>-15.534036017351786</td><td>2.4662221628645216</td><td>0.020416175295220315</td><td>-5.115683429868101</td><td>0.041852473215627954</td><td>11.132330909965663</td><td>0.040928679431844577</td><td>0.015085931</td><td>-0.015708545</td><td>0.07467157</td><td>0.12687433</td><td>0.25768724</td><td>0.16105711</td><td>-0.16129729</td><td>0.17618361</td><td>-0.14788006</td><td>0.07549393</td><td>397</td><td>12.01669</td><td>0.74466133</td><td>0.800000011920929</td><td>NGC_2516</td><td>NGC2516</td><td>08010217-6045027</td><td>0.0</td><td>11.05</td><td>10.84</td><td>10.76</td><td>179.78</td><td>24.7</td><td>38.1</td><td>3.801</td><td>2</td><td>0.32</td><td>0.05</td><td>1.2512835264205933</td><td>0.020416175295220315</td><td>1.5190655356649063</td><td>0.02290335138356021</td><td>C</td></tr>\n",
       "<tr><td>119.96923296451449</td><td>-60.68772763255449</td><td>5290770345645486976</td><td>273.862589846785</td><td>-15.62941168110264</td><td>2.337955779461838</td><td>0.024440254996249255</td><td>-4.440228991405206</td><td>0.061710178854373895</td><td>11.662129696442745</td><td>0.05591529009821347</td><td>0.23341537</td><td>-0.14573386</td><td>-0.4084874</td><td>-0.29154855</td><td>0.11637668</td><td>-0.29722536</td><td>-0.5744383</td><td>0.20322515</td><td>0.050234403</td><td>0.3158545</td><td>373</td><td>12.430677</td><td>0.8407097</td><td>0.8999999761581421</td><td>NGC_2516</td><td>NGC2516</td><td>07595262-6041159</td><td>0.0</td><td>11.39</td><td>11.1</td><td>11.01</td><td>99.25</td><td>24.52</td><td>21.9</td><td>3.806</td><td>2</td><td>0.32</td><td>0.05</td><td>1.193946361541748</td><td>0.024440254996249255</td><td>2.3958327520290363</td><td>0.022903075692994282</td><td>C</td></tr>\n",
       "<tr><td>119.52183700587412</td><td>-60.79447557489121</td><td>5290721142499618816</td><td>273.8548796924101</td><td>-15.872630366367058</td><td>2.4385219247713477</td><td>0.022971129716418445</td><td>-4.544306300875735</td><td>0.05432729078920977</td><td>11.386953393964266</td><td>0.03918368048993284</td><td>0.014565639</td><td>0.063541576</td><td>0.2835546</td><td>-0.026654894</td><td>0.28773248</td><td>0.06917734</td><td>-0.18966345</td><td>0.25000873</td><td>-0.11631957</td><td>-0.07207507</td><td>327</td><td>11.83512</td><td>0.74609184</td><td>0.8999999761581421</td><td>NGC_2516</td><td>NGC2516</td><td>07580525-6047403</td><td>0.0</td><td>10.87</td><td>10.67</td><td>10.59</td><td>214.85</td><td>25.46</td><td>39.2</td><td>3.806</td><td>2</td><td>0.3</td><td>0.05</td><td>1.310366153717041</td><td>0.022971129716418445</td><td>1.8017851286779556</td><td>0.022903073806150292</td><td>C</td></tr>\n",
       "</table>"
      ],
      "text/plain": [
       "<Table length=52>\n",
       "        ra                 dec         ...       period_unc      classification\n",
       "     float64             float64       ...        float64             str1     \n",
       "------------------ ------------------- ... --------------------- --------------\n",
       "118.29291337270324  -60.77773686876484 ...  0.032390182765597075              C\n",
       "119.19190680309721  -60.40359453677332 ...  0.008333487915660952              C\n",
       "119.62997956802782  -61.08969061592808 ...  0.004166745833208552              C\n",
       "119.22997168702376 -60.969919354916634 ...   0.04580701587123928              C\n",
       "118.24967790974463  -60.89129975872747 ...    0.0647808509527586              C\n",
       "119.62662452597256 -61.168576005207235 ... 0.0041667458483061635              C\n",
       "119.57602414533608  -61.35245976984503 ...   0.07934010503369385              C\n",
       " 119.9932097995018  -60.40471153272062 ...  0.022902808755499743              C\n",
       "120.39132695347004 -60.860565590323546 ...   0.19835038754716236              C\n",
       "119.49029455268763  -60.89410066215391 ...    0.1603233878274983              C\n",
       "               ...                 ... ...                   ...            ...\n",
       "119.23937225765353 -60.298828098950274 ...  0.005103198672761402              C\n",
       "120.13826831046497  -60.52314393476707 ...  0.005103202647375712              C\n",
       "120.12958796129628 -60.463474414749854 ...  0.006588000661844052              C\n",
       " 119.9654316150975  -60.36926980260596 ...   0.06870919848011713              C\n",
       "119.13311338979422  -60.46808812731028 ...   0.02290350551810469              C\n",
       "120.35195969813897  -60.58772334905382 ...   0.02290307701179787              C\n",
       "118.87994908178464  -60.94737541568965 ...  0.026446685888420602              C\n",
       "120.25893515927606  -60.75072932871493 ...   0.02290335138356021              C\n",
       "119.96923296451449  -60.68772763255449 ...  0.022903075692994282              C\n",
       "119.52183700587412  -60.79447557489121 ...  0.022903073806150292              C"
      ]
     },
     "execution_count": 2517,
     "metadata": {},
     "output_type": "execute_result"
    }
   ],
   "source": [
    "mems_periods[tgtindx]"
   ]
  },
  {
   "cell_type": "code",
   "execution_count": 2477,
   "metadata": {},
   "outputs": [],
   "source": [
    "oneindx = mems_periods[tgtindx]['source_id'] == 5291030448862535808"
   ]
  },
  {
   "cell_type": "code",
   "execution_count": 2480,
   "metadata": {},
   "outputs": [
    {
     "data": {
      "text/html": [
       "<i>Table length=1</i>\n",
       "<table id=\"table121724874592\" class=\"table-striped table-bordered table-condensed\">\n",
       "<thead><tr><th>ra</th><th>dec</th><th>source_id</th><th>l</th><th>b</th><th>parallax</th><th>parallax_error</th><th>pmra</th><th>pmra_error</th><th>pmdec</th><th>pmdec_error</th><th>ra_dec_corr</th><th>ra_parallax_corr</th><th>ra_pmra_corr</th><th>ra_pmdec_corr</th><th>dec_parallax_corr</th><th>dec_pmra_corr</th><th>dec_pmdec_corr</th><th>parallax_pmra_corr</th><th>parallax_pmdec_corr</th><th>pmra_pmdec_corr</th><th>phot_g_n_obs</th><th>phot_g_mean_mag</th><th>bp_rp</th><th>proba</th><th>cluster</th><th>Cluster</th><th>Object</th><th>Icmag</th><th>Jmag</th><th>Hmag</th><th>Kmag</th><th>S/N</th><th>RV</th><th>vsini</th><th>logTeff</th><th>Nsp</th><th>pRV</th><th>pvsini</th><th>gaia_r</th><th>parallax_err</th><th>period</th><th>period_unc</th><th>classification</th></tr></thead>\n",
       "<thead><tr><th>float64</th><th>float64</th><th>int64</th><th>float64</th><th>float64</th><th>float64</th><th>float64</th><th>float64</th><th>float64</th><th>float64</th><th>float64</th><th>float64</th><th>float64</th><th>float64</th><th>float64</th><th>float64</th><th>float64</th><th>float64</th><th>float64</th><th>float64</th><th>float64</th><th>int64</th><th>float64</th><th>float64</th><th>float64</th><th>str8</th><th>str7</th><th>str16</th><th>float64</th><th>float64</th><th>float64</th><th>float64</th><th>float64</th><th>float64</th><th>float64</th><th>float64</th><th>int64</th><th>float64</th><th>float64</th><th>float64</th><th>float64</th><th>float64</th><th>float64</th><th>str1</th></tr></thead>\n",
       "<tr><td>119.23937225765353</td><td>-60.298828098950274</td><td>5291030448862535808</td><td>273.33131325218216</td><td>-15.76677004886915</td><td>2.4079950181013783</td><td>0.020841360597761233</td><td>-4.144574634387727</td><td>0.04176853324190522</td><td>11.068823679953411</td><td>0.037963544036613096</td><td>0.014360002</td><td>0.09923121</td><td>-0.24298535</td><td>0.05994794</td><td>0.4132529</td><td>0.07343005</td><td>-0.31524846</td><td>0.027584342</td><td>0.02949818</td><td>-0.07384287</td><td>400</td><td>12.354486</td><td>0.7990818</td><td>0.699999988079071</td><td>NGC_2516</td><td>NGC2516</td><td>07565746-6017559</td><td>0.0</td><td>11.33</td><td>11.13</td><td>11.03</td><td>123.73</td><td>25.77</td><td>27.9</td><td>3.787</td><td>2</td><td>0.31</td><td>0.05</td><td>1.1655031442642212</td><td>0.020841360597761233</td><td>1.9893227634293644</td><td>0.005103198672761402</td><td>C</td></tr>\n",
       "</table>"
      ],
      "text/plain": [
       "<Table length=1>\n",
       "        ra                 dec         ...      period_unc      classification\n",
       "     float64             float64       ...       float64             str1     \n",
       "------------------ ------------------- ... -------------------- --------------\n",
       "119.23937225765353 -60.298828098950274 ... 0.005103198672761402              C"
      ]
     },
     "execution_count": 2480,
     "metadata": {},
     "output_type": "execute_result"
    }
   ],
   "source": [
    "mems_periods[tgtindx][oneindx]"
   ]
  },
  {
   "cell_type": "code",
   "execution_count": 2479,
   "metadata": {},
   "outputs": [
    {
     "data": {
      "text/plain": [
       "(18.5, 5)"
      ]
     },
     "execution_count": 2479,
     "metadata": {},
     "output_type": "execute_result"
    },
    {
     "data": {
      "image/png": "[encoded data removed]",
      "text/plain": [
       "<matplotlib.figure.Figure at 0x1c58b2ad68>"
      ]
     },
     "metadata": {
      "needs_background": "light"
     },
     "output_type": "display_data"
    }
   ],
   "source": [
    "plt.figure(figsize=(10,10))\n",
    "plt.scatter(allmems[allmems['proba']>=.5]['bp_rp'],allmems[allmems['proba']>=.5]['phot_g_mean_mag'],color='navy')\n",
    "plt.scatter(mems_periods[tgtindx]['bp_rp'],mems_periods[tgtindx]['phot_g_mean_mag'],color='cyan')\n",
    "plt.scatter(mems_periods[tgtindx][oneindx]['bp_rp'],mems_periods[tgtindx][oneindx]['phot_g_mean_mag'],color='orange')\n",
    "\n",
    "plt.ylim(18.5,5)"
   ]
  },
  {
   "cell_type": "code",
   "execution_count": 25,
   "metadata": {},
   "outputs": [
    {
     "data": {
      "text/plain": [
       "(array([71., 56., 66., 39., 28., 29., 21., 24.,  9.,  3.]),\n",
       " array([0.16666652, 0.81980483, 1.47294314, 2.12608144, 2.77921975,\n",
       "        3.43235805, 4.08549636, 4.73863467, 5.39177297, 6.04491128,\n",
       "        6.69804959]),\n",
       " <a list of 10 Patch objects>)"
      ]
     },
     "execution_count": 25,
     "metadata": {},
     "output_type": "execute_result"
    },
    {
     "data": {
      "image/png": "[encoded data removed]",
      "text/plain": [
       "<matplotlib.figure.Figure at 0x1c240304e0>"
      ]
     },
     "metadata": {
      "needs_background": "light"
     },
     "output_type": "display_data"
    }
   ],
   "source": [
    "plt.hist(vetperiods[goodindx]['period'])\n",
    "#plt.hist(mems_periods[tgtindx]['period'])"
   ]
  },
  {
   "cell_type": "code",
   "execution_count": 2498,
   "metadata": {},
   "outputs": [
    {
     "data": {
      "text/html": [
       "<i>Row index=1072</i>\n",
       "<table id=\"table121599785336\">\n",
       "<thead><tr><th>objname</th><th>ra</th><th>dec</th><th>cutout_size</th><th>E_B_V_SandF</th><th>mean_E_B_V_SandF</th><th>stdev_E_B_V_SandF</th><th>max_E_B_V_SandF</th><th>min_E_B_V_SandF</th><th>AV_SandF</th><th>E_B_V_SFD</th><th>mean_E_B_V_SFD</th><th>stdev_E_B_V_SFD</th><th>max_E_B_V_SFD</th><th>min_E_B_V_SFD</th><th>AV_SFD</th><th>errmsg</th></tr></thead>\n",
       "<thead><tr><th></th><th>deg</th><th>deg</th><th>deg</th><th>mags</th><th>mags</th><th>mags</th><th>mags</th><th>mags</th><th>mags</th><th>mags</th><th>mags</th><th>mags</th><th>mags</th><th>mags</th><th>mags</th><th></th></tr></thead>\n",
       "<thead><tr><th>str1</th><th>float64</th><th>float64</th><th>float64</th><th>float64</th><th>float64</th><th>float64</th><th>float64</th><th>float64</th><th>float64</th><th>float64</th><th>float64</th><th>float64</th><th>float64</th><th>float64</th><th>float64</th><th>str1</th></tr></thead>\n",
       "<tr><td>--</td><td>119.23937</td><td>-60.29883</td><td>5.0</td><td>0.1503</td><td>0.1503</td><td>0.0041</td><td>0.1593</td><td>0.1433</td><td>0.4661</td><td>0.1748</td><td>0.1747</td><td>0.0048</td><td>0.1853</td><td>0.1667</td><td>0.5419</td><td>--</td></tr>\n",
       "</table>"
      ],
      "text/plain": [
       "<Row index=1072>\n",
       "objname     ra       dec    cutout_size E_B_V_SandF mean_E_B_V_SandF stdev_E_B_V_SandF max_E_B_V_SandF min_E_B_V_SandF AV_SandF E_B_V_SFD mean_E_B_V_SFD stdev_E_B_V_SFD max_E_B_V_SFD min_E_B_V_SFD  AV_SFD errmsg\n",
       "           deg       deg        deg         mags          mags              mags             mags            mags        mags      mags        mags            mags           mags          mags       mags        \n",
       "  str1   float64   float64    float64     float64       float64           float64          float64         float64     float64   float64     float64         float64        float64       float64    float64  str1 \n",
       "------- --------- --------- ----------- ----------- ---------------- ----------------- --------------- --------------- -------- --------- -------------- --------------- ------------- ------------- ------- ------\n",
       "     -- 119.23937 -60.29883         5.0      0.1503           0.1503            0.0041          0.1593          0.1433   0.4661    0.1748         0.1747          0.0048        0.1853        0.1667  0.5419     --"
      ]
     },
     "execution_count": 2498,
     "metadata": {},
     "output_type": "execute_result"
    }
   ],
   "source": [
    "extinctbl = ascii.read('/Users/bhealy/Documents/PhD_Thesis/NGC_2516/extinction.dat')\n",
    "extinctbl[one_num]"
   ]
  },
  {
   "cell_type": "code",
   "execution_count": 2500,
   "metadata": {},
   "outputs": [],
   "source": [
    "e1min = extinctbl[one_num]['min_E_B_V_SandF']*3.1\n",
    "e2min = extinctbl[one_num]['min_E_B_V_SFD']*3.1\n",
    "e1max = extinctbl[one_num]['max_E_B_V_SandF']*3.1\n",
    "e2max = extinctbl[one_num]['max_E_B_V_SFD']*3.1"
   ]
  },
  {
   "cell_type": "code",
   "execution_count": 2508,
   "metadata": {},
   "outputs": [
    {
     "data": {
      "text/plain": [
       "(0.5093300000000001, 0.06509999999999996)"
      ]
     },
     "execution_count": 2508,
     "metadata": {},
     "output_type": "execute_result"
    }
   ],
   "source": [
    "np.mean((np.min((e1min,e2min)),np.max((e1max,e2max)))), np.std((np.min((e1min,e2min)),np.max((e1max,e2max))))"
   ]
  },
  {
   "cell_type": "code",
   "execution_count": 2519,
   "metadata": {},
   "outputs": [
    {
     "data": {
      "text/plain": [
       "(0.44423000000000007, 0.4661, 0.49383)"
      ]
     },
     "execution_count": 2519,
     "metadata": {},
     "output_type": "execute_result"
    }
   ],
   "source": [
    "#np.mean((.4661,.5419)), np.std((.4661,.5419))\n",
    "extinctbl[one_num]['min_E_B_V_SandF']*3.1,extinctbl[one_num]['AV_SandF'], extinctbl[one_num]['max_E_B_V_SandF']*3.1"
   ]
  },
  {
   "cell_type": "code",
   "execution_count": 271,
   "metadata": {},
   "outputs": [
    {
     "data": {
      "text/plain": [
       "(311, 209, 575, 11, 0)"
      ]
     },
     "execution_count": 271,
     "metadata": {},
     "output_type": "execute_result"
    }
   ],
   "source": [
    "(np.sum(vindx), np.sum(cindx), np.sum(xindx), np.sum(zindx), np.sum(uindx))"
   ]
  },
  {
   "cell_type": "code",
   "execution_count": 690,
   "metadata": {},
   "outputs": [
    {
     "data": {
      "text/plain": [
       "(253, 231, 611, 11, 0)"
      ]
     },
     "execution_count": 690,
     "metadata": {},
     "output_type": "execute_result"
    }
   ],
   "source": [
    "(np.sum(vindx), np.sum(cindx), np.sum(xindx), np.sum(zindx), np.sum(uindx))"
   ]
  },
  {
   "cell_type": "code",
   "execution_count": 1033,
   "metadata": {},
   "outputs": [
    {
     "data": {
      "text/plain": [
       "(202, 248, 645, 11, 0)"
      ]
     },
     "execution_count": 1033,
     "metadata": {},
     "output_type": "execute_result"
    }
   ],
   "source": [
    "(np.sum(vindx), np.sum(cindx), np.sum(xindx), np.sum(zindx), np.sum(uindx))"
   ]
  },
  {
   "cell_type": "code",
   "execution_count": 1495,
   "metadata": {},
   "outputs": [
    {
     "data": {
      "text/plain": [
       "(142, 280, 673, 11, 0)"
      ]
     },
     "execution_count": 1495,
     "metadata": {},
     "output_type": "execute_result"
    }
   ],
   "source": [
    "(np.sum(vindx), np.sum(cindx), np.sum(xindx), np.sum(zindx), np.sum(uindx))"
   ]
  },
  {
   "cell_type": "code",
   "execution_count": 1743,
   "metadata": {},
   "outputs": [
    {
     "data": {
      "text/plain": [
       "(114, 295, 686, 11, 0)"
      ]
     },
     "execution_count": 1743,
     "metadata": {},
     "output_type": "execute_result"
    }
   ],
   "source": [
    "(np.sum(vindx), np.sum(cindx), np.sum(xindx), np.sum(zindx), np.sum(uindx))"
   ]
  },
  {
   "cell_type": "code",
   "execution_count": 2398,
   "metadata": {},
   "outputs": [
    {
     "data": {
      "text/plain": [
       "(0, 346, 749, 11, 0)"
      ]
     },
     "execution_count": 2398,
     "metadata": {},
     "output_type": "execute_result"
    }
   ],
   "source": [
    "(np.sum(vindx), np.sum(cindx), np.sum(xindx), np.sum(zindx), np.sum(uindx))"
   ]
  },
  {
   "cell_type": "code",
   "execution_count": 42,
   "metadata": {},
   "outputs": [],
   "source": [
    "zeroindx = vetperiods[goodindx]['period_unc'] == 0"
   ]
  },
  {
   "cell_type": "code",
   "execution_count": 126,
   "metadata": {},
   "outputs": [
    {
     "name": "stdout",
     "output_type": "stream",
     "text": [
      "0\n",
      "1\n",
      "2\n",
      "3\n",
      "4\n",
      "5\n",
      "6\n",
      "7\n",
      "8\n",
      "9\n",
      "10\n",
      "11\n",
      "12\n",
      "13\n",
      "14\n",
      "15\n",
      "16\n",
      "17\n",
      "18\n",
      "19\n",
      "20\n",
      "21\n",
      "22\n",
      "23\n",
      "24\n",
      "25\n",
      "26\n",
      "27\n",
      "28\n",
      "29\n",
      "30\n",
      "31\n",
      "32\n",
      "33\n",
      "34\n",
      "35\n",
      "36\n",
      "37\n",
      "38\n",
      "39\n",
      "40\n",
      "41\n",
      "42\n",
      "43\n",
      "44\n",
      "45\n",
      "46\n",
      "47\n",
      "48\n",
      "49\n",
      "50\n",
      "51\n",
      "52\n",
      "53\n",
      "54\n",
      "55\n",
      "56\n",
      "57\n",
      "58\n",
      "59\n",
      "60\n",
      "61\n",
      "62\n",
      "63\n",
      "64\n",
      "65\n",
      "66\n",
      "67\n",
      "68\n",
      "69\n",
      "70\n",
      "71\n",
      "72\n",
      "73\n",
      "74\n",
      "75\n",
      "76\n",
      "77\n",
      "78\n",
      "79\n",
      "80\n",
      "81\n",
      "82\n",
      "83\n",
      "84\n",
      "85\n",
      "86\n",
      "87\n",
      "88\n",
      "89\n",
      "90\n",
      "91\n",
      "92\n",
      "93\n",
      "94\n",
      "95\n",
      "96\n",
      "97\n",
      "98\n",
      "99\n",
      "100\n",
      "101\n",
      "102\n",
      "103\n",
      "104\n",
      "105\n",
      "106\n",
      "107\n",
      "108\n",
      "109\n",
      "110\n",
      "111\n",
      "112\n",
      "113\n",
      "114\n",
      "115\n",
      "116\n",
      "117\n",
      "118\n",
      "119\n",
      "120\n",
      "121\n",
      "122\n",
      "123\n",
      "124\n",
      "125\n",
      "126\n",
      "127\n",
      "128\n",
      "129\n",
      "130\n",
      "131\n",
      "132\n",
      "133\n",
      "134\n",
      "135\n",
      "136\n",
      "137\n",
      "138\n",
      "139\n",
      "140\n",
      "141\n",
      "142\n",
      "143\n",
      "144\n",
      "145\n",
      "146\n",
      "147\n",
      "148\n",
      "149\n",
      "150\n",
      "151\n",
      "152\n",
      "153\n",
      "154\n",
      "155\n",
      "156\n",
      "157\n",
      "158\n",
      "159\n",
      "160\n",
      "161\n",
      "162\n",
      "163\n",
      "164\n",
      "165\n",
      "166\n",
      "167\n",
      "168\n",
      "169\n",
      "170\n",
      "171\n",
      "172\n",
      "173\n",
      "174\n",
      "175\n",
      "176\n",
      "177\n",
      "178\n",
      "179\n",
      "180\n",
      "181\n",
      "182\n",
      "183\n",
      "184\n",
      "185\n",
      "186\n",
      "187\n",
      "188\n",
      "189\n",
      "190\n",
      "191\n",
      "192\n",
      "193\n",
      "194\n",
      "195\n",
      "196\n",
      "197\n",
      "198\n",
      "199\n",
      "200\n",
      "201\n",
      "202\n",
      "203\n",
      "204\n",
      "205\n",
      "206\n",
      "207\n",
      "208\n",
      "209\n",
      "210\n",
      "211\n",
      "212\n",
      "213\n",
      "214\n",
      "215\n",
      "216\n",
      "217\n",
      "218\n",
      "219\n",
      "220\n",
      "221\n",
      "222\n",
      "223\n",
      "224\n",
      "225\n",
      "226\n",
      "227\n",
      "228\n",
      "229\n",
      "230\n",
      "231\n",
      "232\n",
      "233\n",
      "234\n",
      "235\n",
      "236\n",
      "237\n",
      "238\n",
      "239\n",
      "240\n",
      "241\n",
      "242\n",
      "243\n",
      "244\n",
      "245\n",
      "246\n",
      "247\n",
      "248\n",
      "249\n",
      "250\n",
      "251\n",
      "252\n",
      "253\n",
      "254\n",
      "255\n",
      "256\n",
      "257\n",
      "258\n",
      "259\n",
      "260\n",
      "261\n",
      "262\n",
      "263\n",
      "264\n",
      "265\n",
      "266\n",
      "267\n",
      "268\n",
      "269\n",
      "270\n",
      "271\n",
      "272\n",
      "273\n",
      "274\n",
      "275\n",
      "276\n",
      "277\n",
      "278\n",
      "279\n",
      "280\n",
      "281\n",
      "282\n",
      "283\n",
      "284\n",
      "285\n",
      "286\n",
      "287\n",
      "288\n",
      "289\n",
      "290\n",
      "291\n",
      "292\n",
      "293\n",
      "294\n",
      "295\n",
      "296\n",
      "297\n",
      "298\n",
      "299\n",
      "300\n",
      "301\n",
      "302\n",
      "303\n",
      "304\n",
      "305\n",
      "306\n",
      "307\n",
      "308\n",
      "309\n",
      "310\n",
      "311\n",
      "312\n",
      "313\n",
      "314\n",
      "315\n",
      "316\n",
      "317\n",
      "318\n",
      "319\n",
      "320\n",
      "321\n",
      "322\n",
      "323\n",
      "324\n",
      "325\n",
      "326\n",
      "327\n",
      "328\n",
      "329\n",
      "330\n",
      "331\n",
      "332\n",
      "333\n",
      "334\n",
      "335\n",
      "336\n",
      "337\n",
      "338\n",
      "339\n",
      "340\n",
      "341\n",
      "342\n",
      "343\n",
      "344\n",
      "345\n",
      "346\n",
      "347\n",
      "348\n",
      "349\n",
      "350\n",
      "351\n",
      "352\n",
      "353\n",
      "354\n",
      "355\n",
      "356\n",
      "357\n",
      "358\n",
      "359\n",
      "360\n",
      "361\n",
      "362\n",
      "363\n",
      "364\n",
      "365\n",
      "366\n",
      "367\n",
      "368\n",
      "369\n",
      "370\n",
      "371\n",
      "372\n",
      "373\n",
      "374\n",
      "375\n",
      "376\n",
      "377\n",
      "378\n",
      "379\n",
      "380\n",
      "381\n",
      "382\n",
      "383\n",
      "384\n",
      "385\n",
      "386\n",
      "387\n",
      "388\n",
      "389\n",
      "390\n",
      "391\n",
      "392\n",
      "393\n",
      "394\n",
      "395\n",
      "396\n",
      "397\n",
      "398\n",
      "399\n",
      "400\n",
      "401\n",
      "402\n",
      "403\n",
      "404\n",
      "405\n",
      "406\n",
      "407\n",
      "408\n",
      "409\n",
      "410\n",
      "411\n",
      "412\n",
      "413\n",
      "414\n",
      "415\n",
      "416\n",
      "417\n",
      "418\n",
      "419\n",
      "420\n",
      "421\n",
      "422\n",
      "423\n",
      "424\n",
      "425\n",
      "426\n",
      "427\n",
      "428\n",
      "429\n",
      "430\n",
      "431\n",
      "432\n",
      "433\n",
      "434\n",
      "435\n",
      "436\n",
      "437\n",
      "438\n",
      "439\n",
      "440\n",
      "441\n",
      "442\n",
      "443\n",
      "444\n",
      "445\n",
      "446\n",
      "447\n",
      "448\n",
      "449\n",
      "450\n",
      "451\n",
      "452\n",
      "453\n",
      "454\n",
      "455\n",
      "456\n",
      "457\n",
      "458\n",
      "459\n",
      "460\n",
      "461\n",
      "462\n",
      "463\n",
      "464\n",
      "465\n",
      "466\n",
      "467\n",
      "468\n",
      "469\n",
      "470\n",
      "471\n",
      "472\n",
      "473\n",
      "474\n",
      "475\n",
      "476\n",
      "477\n",
      "478\n",
      "479\n",
      "480\n",
      "481\n",
      "482\n",
      "483\n",
      "484\n",
      "485\n",
      "486\n",
      "487\n",
      "488\n",
      "489\n",
      "490\n",
      "491\n",
      "492\n",
      "493\n",
      "494\n",
      "495\n",
      "496\n",
      "497\n",
      "498\n",
      "499\n",
      "500\n",
      "501\n",
      "502\n",
      "503\n",
      "504\n",
      "505\n",
      "506\n",
      "507\n",
      "508\n",
      "509\n",
      "510\n",
      "511\n",
      "512\n",
      "513\n",
      "514\n",
      "515\n",
      "516\n",
      "517\n",
      "518\n",
      "519\n",
      "520\n",
      "521\n",
      "522\n",
      "523\n",
      "524\n",
      "525\n",
      "526\n",
      "527\n",
      "528\n",
      "529\n",
      "530\n",
      "531\n",
      "532\n",
      "533\n",
      "534\n",
      "535\n",
      "536\n",
      "537\n",
      "538\n",
      "539\n",
      "540\n",
      "541\n",
      "542\n",
      "543\n",
      "544\n",
      "545\n",
      "546\n",
      "547\n",
      "548\n",
      "549\n",
      "550\n",
      "551\n",
      "552\n",
      "553\n",
      "554\n",
      "555\n",
      "556\n",
      "557\n",
      "558\n",
      "559\n",
      "560\n",
      "561\n",
      "562\n",
      "563\n",
      "564\n",
      "565\n",
      "566\n",
      "567\n",
      "568\n",
      "569\n",
      "570\n",
      "571\n",
      "572\n",
      "573\n",
      "574\n",
      "575\n",
      "576\n",
      "577\n",
      "578\n",
      "579\n",
      "580\n",
      "581\n",
      "582\n",
      "583\n",
      "584\n",
      "585\n",
      "586\n",
      "587\n",
      "588\n",
      "589\n",
      "590\n",
      "591\n",
      "592\n",
      "593\n",
      "594\n",
      "595\n",
      "596\n",
      "597\n",
      "598\n",
      "599\n",
      "600\n",
      "601\n",
      "602\n",
      "603\n",
      "604\n",
      "605\n",
      "606\n",
      "607\n",
      "608\n",
      "609\n",
      "610\n",
      "611\n",
      "612\n",
      "613\n",
      "614\n",
      "615\n",
      "616\n",
      "617\n",
      "618\n",
      "619\n",
      "620\n",
      "621\n",
      "622\n",
      "623\n",
      "624\n",
      "625\n",
      "626\n",
      "627\n",
      "628\n",
      "629\n",
      "630\n",
      "631\n",
      "632\n",
      "633\n",
      "634\n",
      "635\n",
      "636\n",
      "637\n",
      "638\n",
      "639\n",
      "640\n",
      "641\n",
      "642\n",
      "643\n",
      "644\n",
      "645\n",
      "646\n",
      "647\n",
      "648\n",
      "649\n",
      "650\n",
      "651\n",
      "652\n",
      "653\n",
      "654\n",
      "655\n",
      "656\n",
      "657\n",
      "658\n",
      "659\n",
      "660\n",
      "661\n",
      "662\n",
      "663\n",
      "664\n",
      "665\n",
      "666\n",
      "667\n",
      "668\n",
      "669\n",
      "670\n",
      "671\n",
      "672\n",
      "673\n",
      "674\n",
      "675\n",
      "676\n",
      "677\n",
      "678\n",
      "679\n",
      "680\n",
      "681\n",
      "682\n",
      "683\n",
      "684\n",
      "685\n",
      "686\n",
      "687\n",
      "688\n",
      "689\n",
      "690\n",
      "691\n",
      "692\n",
      "693\n",
      "694\n",
      "695\n",
      "696\n",
      "697\n",
      "698\n",
      "699\n",
      "700\n",
      "701\n",
      "702\n",
      "703\n",
      "704\n",
      "705\n",
      "706\n",
      "707\n",
      "708\n",
      "709\n",
      "710\n",
      "711\n",
      "712\n",
      "713\n",
      "714\n",
      "715\n",
      "716\n",
      "717\n",
      "718\n",
      "719\n",
      "720\n",
      "721\n",
      "722\n",
      "723\n",
      "724\n",
      "725\n",
      "726\n",
      "727\n",
      "728\n",
      "729\n",
      "730\n",
      "731\n",
      "732\n",
      "733\n",
      "734\n",
      "735\n",
      "736\n",
      "737\n",
      "738\n",
      "739\n",
      "740\n",
      "741\n",
      "742\n",
      "743\n",
      "744\n",
      "745\n",
      "746\n",
      "747\n",
      "748\n",
      "749\n",
      "750\n",
      "751\n",
      "752\n",
      "753\n",
      "754\n",
      "755\n",
      "756\n",
      "757\n",
      "758\n",
      "759\n",
      "760\n",
      "761\n",
      "762\n",
      "763\n",
      "764\n",
      "765\n",
      "766\n",
      "767\n",
      "768\n",
      "769\n",
      "770\n",
      "771\n",
      "772\n",
      "773\n",
      "774\n",
      "775\n",
      "776\n",
      "777\n",
      "778\n",
      "779\n",
      "780\n",
      "781\n",
      "782\n",
      "783\n",
      "784\n",
      "785\n",
      "786\n",
      "787\n",
      "788\n",
      "789\n",
      "790\n",
      "791\n",
      "792\n",
      "793\n"
     ]
    }
   ],
   "source": [
    "from astropy.coordinates import SkyCoord\n",
    "import pandas as pd\n",
    "ngc2516mems = ascii.read('/Users/bhealy/Documents/PhD_Thesis/NGC_2516/NGC_2516_allCGmems.dat')\n",
    "ngc2516mems = ngc2516mems[(ngc2516mems['proba'] > 0.5) & (~np.isnan(ngc2516mems['bp_rp']))]\n",
    "gaia_ids = ngc2516mems['source_id']\n",
    "gmags = ngc2516mems['phot_g_mean_mag']\n",
    "ra = ngc2516mems['ra']*u.deg\n",
    "dec = ngc2516mems['dec']*u.deg\n",
    "\n",
    "SC = SkyCoord(ra,dec)\n",
    "\n",
    "#close = np.zeros(len(SC),dtype=bool)\n",
    "count = np.zeros(len(SC))\n",
    "#inds = np.zeros(len(SC),dtype=int)\n",
    "closeids = []\n",
    "closemags = []\n",
    "closeseps = []\n",
    "n_stars = np.copy(count)\n",
    "n_sim_mag = np.copy(count)\n",
    "\n",
    "for i in range(len(SC)):\n",
    "    print(i)\n",
    "#for i in range(496,len(SC)):\n",
    "#for i in range(93,94):\n",
    "#####\n",
    "    df = pd.read_csv('/Users/bhealy/Documents/PhD_Thesis/NGC_2516/close_stars/'+np.str(gaia_ids[i])+'.csv')\n",
    "    closeids += [df['closeids'].values.tolist()]\n",
    "    closemags += [df['closemags'].values.tolist()]\n",
    "    closeseps += [df['closeseps'].values.tolist()]\n",
    "    \n",
    "    if -1 not in closeids[i]:\n",
    "        n_stars[i] = len(closeids[i])\n",
    "        for j in range(len(closemags[i])):\n",
    "            if (np.abs(gmags[i]-closemags[i][j]) < 1) & (closeseps[i][j] < 1):\n",
    "                n_sim_mag[i] += 1\n",
    "    else:\n",
    "        n_stars[i] = 0\n",
    "        n_sim_mag[i] = -1"
   ]
  },
  {
   "cell_type": "code",
   "execution_count": 127,
   "metadata": {},
   "outputs": [
    {
     "data": {
      "text/plain": [
       "(array([127., 223., 188., 143.,   0.,  71.,  26.,   9.,   6.,   1.]),\n",
       " array([0. , 0.8, 1.6, 2.4, 3.2, 4. , 4.8, 5.6, 6.4, 7.2, 8. ]),\n",
       " <a list of 10 Patch objects>)"
      ]
     },
     "execution_count": 127,
     "metadata": {},
     "output_type": "execute_result"
    },
    {
     "data": {
      "image/png": "[encoded data removed]",
      "text/plain": [
       "<matplotlib.figure.Figure at 0x1c249e7ac8>"
      ]
     },
     "metadata": {
      "needs_background": "light"
     },
     "output_type": "display_data"
    }
   ],
   "source": [
    "plt.hist(n_stars)"
   ]
  },
  {
   "cell_type": "code",
   "execution_count": 128,
   "metadata": {},
   "outputs": [
    {
     "data": {
      "text/plain": [
       "(array([127.,   0., 571.,   0.,   0.,  88.,   0.,   7.,   0.,   1.]),\n",
       " array([-1. , -0.6, -0.2,  0.2,  0.6,  1. ,  1.4,  1.8,  2.2,  2.6,  3. ]),\n",
       " <a list of 10 Patch objects>)"
      ]
     },
     "execution_count": 128,
     "metadata": {},
     "output_type": "execute_result"
    },
    {
     "data": {
      "image/png": "[encoded data removed]",
      "text/plain": [
       "<matplotlib.figure.Figure at 0x1c249e71d0>"
      ]
     },
     "metadata": {
      "needs_background": "light"
     },
     "output_type": "display_data"
    }
   ],
   "source": [
    "plt.hist(n_sim_mag)"
   ]
  },
  {
   "cell_type": "code",
   "execution_count": null,
   "metadata": {},
   "outputs": [],
   "source": []
  },
  {
   "cell_type": "code",
   "execution_count": 221,
   "metadata": {},
   "outputs": [
    {
     "data": {
      "text/html": [
       "<i>Table length=27</i>\n",
       "<table id=\"table121002748560\" class=\"table-striped table-bordered table-condensed\">\n",
       "<thead><tr><th>source_id</th><th>period</th><th>period_unc</th><th>e_period_hwhm</th><th>e_period_mad</th><th>e_period_std</th><th>CDIPS</th></tr></thead>\n",
       "<thead><tr><th>int64</th><th>float64</th><th>float64</th><th>float64</th><th>float64</th><th>float64</th><th>int64</th></tr></thead>\n",
       "<tr><td>5289930181318610432</td><td>4.0834148675203314</td><td>0.05311584717240069</td><td>0.5104268584400415</td><td>0.06611682078975804</td><td>0.05311584717240069</td><td>1</td></tr>\n",
       "<tr><td>5290000309547500800</td><td>2.458284338004887</td><td>0.020832918118685484</td><td>0.3437431489583105</td><td>0.04580524956929768</td><td>0.020832918118685484</td><td>1</td></tr>\n",
       "<tr><td>5290029103008123520</td><td>2.2130699771855555</td><td>0.008333238214254381</td><td>0.22916405089199543</td><td>0.0</td><td>0.008333238214254381</td><td>1</td></tr>\n",
       "<tr><td>5289992990923208704</td><td>0.4547706396452017</td><td>0.015590538562584631</td><td>0.1041686674579978</td><td>0.022903521163149643</td><td>0.015590538562584631</td><td>1</td></tr>\n",
       "<tr><td>5290667678747043584</td><td>4.225079357810318</td><td>0.017274411907461262</td><td>0.5416768407449126</td><td>0.013223348493307667</td><td>0.017274411907461262</td><td>1</td></tr>\n",
       "<tr><td>5290648093696480640</td><td>4.5103296963498</td><td>0.11158266760605139</td><td>0.6041550170630217</td><td>0.07933707093471763</td><td>0.11158266760605139</td><td>1</td></tr>\n",
       "<tr><td>5290664929967787264</td><td>2.9354707525577393</td><td>0.05387641159076604</td><td>0.37500690948218107</td><td>0.0264466875287171</td><td>0.05387641159076604</td><td>1</td></tr>\n",
       "<tr><td>5290655549759621888</td><td>2.916721450164914</td><td>1.3125246525742114</td><td>1.3125246525742114</td><td>-1.0</td><td>-1.0</td><td>1</td></tr>\n",
       "<tr><td>5290704306227620992</td><td>0.9041827805340287</td><td>0.022703003265192673</td><td>0.10416852310299873</td><td>0.013223335784256919</td><td>0.022703003265192673</td><td>1</td></tr>\n",
       "<tr><td>5290740830629369344</td><td>2.5625254497863352</td><td>0.27083602314814925</td><td>0.27083602314814925</td><td>-1.0</td><td>-1.0</td><td>1</td></tr>\n",
       "<tr><td>...</td><td>...</td><td>...</td><td>...</td><td>...</td><td>...</td><td>...</td></tr>\n",
       "<tr><td>5290703584673116032</td><td>7.385548618156462</td><td>0.11458538053557277</td><td>0.9270998970605433</td><td>0.2519383949249656</td><td>0.11458538053557277</td><td>1</td></tr>\n",
       "<tr><td>5290740658830679168</td><td>1.1202492460608477</td><td>0.015590394296419011</td><td>0.07291739247739315</td><td>0.0229033092267137</td><td>0.015590394296419011</td><td>1</td></tr>\n",
       "<tr><td>5290726262100476032</td><td>5.987378927506508</td><td>0.11947432389572675</td><td>0.8541493946686387</td><td>0.1943351590367327</td><td>0.11947432389572675</td><td>1</td></tr>\n",
       "<tr><td>5290821438576074752</td><td>0.650607443627502</td><td>0.008333489671349526</td><td>0.10416862089186907</td><td>0.0</td><td>0.008333489671349526</td><td>1</td></tr>\n",
       "<tr><td>5290819445711387648</td><td>1.3124986309558153</td><td>0.3854162646457553</td><td>0.3854162646457553</td><td>-1.0</td><td>-1.0</td><td>1</td></tr>\n",
       "<tr><td>5290816009737675392</td><td>2.583281096071005</td><td>0.10416456032544374</td><td>0.3645759611390531</td><td>0.2290261812963998</td><td>0.10416456032544374</td><td>1</td></tr>\n",
       "<tr><td>5290821060618951296</td><td>1.3437638862524182</td><td>0.01041677431203425</td><td>0.3958374238573015</td><td>0.022903317929417594</td><td>0.01041677431203425</td><td>1</td></tr>\n",
       "<tr><td>5290923212119724672</td><td>0.44791601924225677</td><td>0.010416651610285044</td><td>0.041666606441140175</td><td>0.013223081012123368</td><td>0.010416651610285044</td><td>1</td></tr>\n",
       "<tr><td>5290940941744376064</td><td>0.45060325843681176</td><td>0.010206388926340206</td><td>0.06250111246481538</td><td>0.0</td><td>0.010206388926340206</td><td>1</td></tr>\n",
       "<tr><td>5291032613526130048</td><td>1.1041870606131852</td><td>0.1562528859358281</td><td>0.1562528859358281</td><td>-1.0</td><td>-1.0</td><td>1</td></tr>\n",
       "</table>"
      ],
      "text/plain": [
       "<Table length=27>\n",
       "     source_id             period       ...     e_period_std     CDIPS\n",
       "       int64              float64       ...       float64        int64\n",
       "------------------- ------------------- ... -------------------- -----\n",
       "5289930181318610432  4.0834148675203314 ...  0.05311584717240069     1\n",
       "5290000309547500800   2.458284338004887 ... 0.020832918118685484     1\n",
       "5290029103008123520  2.2130699771855555 ... 0.008333238214254381     1\n",
       "5289992990923208704  0.4547706396452017 ... 0.015590538562584631     1\n",
       "5290667678747043584   4.225079357810318 ... 0.017274411907461262     1\n",
       "5290648093696480640     4.5103296963498 ...  0.11158266760605139     1\n",
       "5290664929967787264  2.9354707525577393 ...  0.05387641159076604     1\n",
       "5290655549759621888   2.916721450164914 ...                 -1.0     1\n",
       "5290704306227620992  0.9041827805340287 ... 0.022703003265192673     1\n",
       "5290740830629369344  2.5625254497863352 ...                 -1.0     1\n",
       "                ...                 ... ...                  ...   ...\n",
       "5290703584673116032   7.385548618156462 ...  0.11458538053557277     1\n",
       "5290740658830679168  1.1202492460608477 ... 0.015590394296419011     1\n",
       "5290726262100476032   5.987378927506508 ...  0.11947432389572675     1\n",
       "5290821438576074752   0.650607443627502 ... 0.008333489671349526     1\n",
       "5290819445711387648  1.3124986309558153 ...                 -1.0     1\n",
       "5290816009737675392   2.583281096071005 ...  0.10416456032544374     1\n",
       "5290821060618951296  1.3437638862524182 ...  0.01041677431203425     1\n",
       "5290923212119724672 0.44791601924225677 ... 0.010416651610285044     1\n",
       "5290940941744376064 0.45060325843681176 ... 0.010206388926340206     1\n",
       "5291032613526130048  1.1041870606131852 ...                 -1.0     1"
      ]
     },
     "execution_count": 221,
     "metadata": {},
     "output_type": "execute_result"
    }
   ],
   "source": [
    "data[vindx]"
   ]
  },
  {
   "cell_type": "code",
   "execution_count": 283,
   "metadata": {},
   "outputs": [
    {
     "data": {
      "text/html": [
       "<i>Table length=27</i>\n",
       "<table id=\"table121006184656\" class=\"table-striped table-bordered table-condensed\">\n",
       "<thead><tr><th>source_id</th><th>classification</th></tr></thead>\n",
       "<thead><tr><th>int64</th><th>str1</th></tr></thead>\n",
       "<tr><td>5289930181318610432</td><td>V</td></tr>\n",
       "<tr><td>5290000309547500800</td><td>V</td></tr>\n",
       "<tr><td>5290029103008123520</td><td>V</td></tr>\n",
       "<tr><td>5289992990923208704</td><td>V</td></tr>\n",
       "<tr><td>5290667678747043584</td><td>V</td></tr>\n",
       "<tr><td>5290648093696480640</td><td>V</td></tr>\n",
       "<tr><td>5290664929967787264</td><td>V</td></tr>\n",
       "<tr><td>5290655549759621888</td><td>V</td></tr>\n",
       "<tr><td>5290704306227620992</td><td>V</td></tr>\n",
       "<tr><td>5290740830629369344</td><td>V</td></tr>\n",
       "<tr><td>...</td><td>...</td></tr>\n",
       "<tr><td>5290703584673116032</td><td>V</td></tr>\n",
       "<tr><td>5290740658830679168</td><td>V</td></tr>\n",
       "<tr><td>5290726262100476032</td><td>V</td></tr>\n",
       "<tr><td>5290821438576074752</td><td>V</td></tr>\n",
       "<tr><td>5290819445711387648</td><td>V</td></tr>\n",
       "<tr><td>5290816009737675392</td><td>V</td></tr>\n",
       "<tr><td>5290821060618951296</td><td>V</td></tr>\n",
       "<tr><td>5290923212119724672</td><td>V</td></tr>\n",
       "<tr><td>5290940941744376064</td><td>V</td></tr>\n",
       "<tr><td>5291032613526130048</td><td>V</td></tr>\n",
       "</table>"
      ],
      "text/plain": [
       "<Table length=27>\n",
       "     source_id      classification\n",
       "       int64             str1     \n",
       "------------------- --------------\n",
       "5289930181318610432              V\n",
       "5290000309547500800              V\n",
       "5290029103008123520              V\n",
       "5289992990923208704              V\n",
       "5290667678747043584              V\n",
       "5290648093696480640              V\n",
       "5290664929967787264              V\n",
       "5290655549759621888              V\n",
       "5290704306227620992              V\n",
       "5290740830629369344              V\n",
       "                ...            ...\n",
       "5290703584673116032              V\n",
       "5290740658830679168              V\n",
       "5290726262100476032              V\n",
       "5290821438576074752              V\n",
       "5290819445711387648              V\n",
       "5290816009737675392              V\n",
       "5290821060618951296              V\n",
       "5290923212119724672              V\n",
       "5290940941744376064              V\n",
       "5291032613526130048              V"
      ]
     },
     "execution_count": 283,
     "metadata": {},
     "output_type": "execute_result"
    }
   ],
   "source": [
    "classifications[cindx]"
   ]
  },
  {
   "cell_type": "code",
   "execution_count": 129,
   "metadata": {},
   "outputs": [],
   "source": [
    "#classifications.write('/Users/bhealy/Documents/PhD_Thesis/NGC_2516/NGC_2516_lc_classifications_vetted.dat',format='ascii')"
   ]
  },
  {
   "cell_type": "code",
   "execution_count": 602,
   "metadata": {},
   "outputs": [],
   "source": [
    "############## START HERE ##############"
   ]
  },
  {
   "cell_type": "code",
   "execution_count": 544,
   "metadata": {},
   "outputs": [
    {
     "ename": "IndexError",
     "evalue": "index 0 out of range for table with length 0",
     "output_type": "error",
     "traceback": [
      "\u001b[0;31m---------------------------------------------------------------------------\u001b[0m",
      "\u001b[0;31mIndexError\u001b[0m                                Traceback (most recent call last)",
      "\u001b[0;32m<ipython-input-544-7bfba2200a49>\u001b[0m in \u001b[0;36m<module>\u001b[0;34m\u001b[0m\n\u001b[1;32m     10\u001b[0m \u001b[0mx\u001b[0m\u001b[0;34m=\u001b[0m\u001b[0;36m0\u001b[0m\u001b[0;34m\u001b[0m\u001b[0;34m\u001b[0m\u001b[0m\n\u001b[1;32m     11\u001b[0m \u001b[0;31m#print(data[vindx][x]['source_id'])#,data[vindx][x]['phot_g_mean_mag'])\u001b[0m\u001b[0;34m\u001b[0m\u001b[0;34m\u001b[0m\u001b[0;34m\u001b[0m\u001b[0m\n\u001b[0;32m---> 12\u001b[0;31m \u001b[0mprint\u001b[0m\u001b[0;34m(\u001b[0m\u001b[0mvetperiods\u001b[0m\u001b[0;34m[\u001b[0m\u001b[0mvindx\u001b[0m\u001b[0;34m]\u001b[0m\u001b[0;34m[\u001b[0m\u001b[0mx\u001b[0m\u001b[0;34m]\u001b[0m\u001b[0;34m[\u001b[0m\u001b[0;34m'source_id'\u001b[0m\u001b[0;34m]\u001b[0m\u001b[0;34m)\u001b[0m\u001b[0;34m\u001b[0m\u001b[0;34m\u001b[0m\u001b[0m\n\u001b[0m\u001b[1;32m     13\u001b[0m \u001b[0;34m\u001b[0m\u001b[0m\n\u001b[1;32m     14\u001b[0m \u001b[0;31m#currentindx = [nums][0][x]\u001b[0m\u001b[0;34m\u001b[0m\u001b[0;34m\u001b[0m\u001b[0;34m\u001b[0m\u001b[0m\n",
      "\u001b[0;32m/anaconda3/envs/astroconda/lib/python3.6/site-packages/astropy/table/table.py\u001b[0m in \u001b[0;36m__getitem__\u001b[0;34m(self, item)\u001b[0m\n\u001b[1;32m   1602\u001b[0m             \u001b[0;32mreturn\u001b[0m \u001b[0mself\u001b[0m\u001b[0;34m.\u001b[0m\u001b[0mcolumns\u001b[0m\u001b[0;34m[\u001b[0m\u001b[0mitem\u001b[0m\u001b[0;34m]\u001b[0m\u001b[0;34m\u001b[0m\u001b[0;34m\u001b[0m\u001b[0m\n\u001b[1;32m   1603\u001b[0m         \u001b[0;32melif\u001b[0m \u001b[0misinstance\u001b[0m\u001b[0;34m(\u001b[0m\u001b[0mitem\u001b[0m\u001b[0;34m,\u001b[0m \u001b[0;34m(\u001b[0m\u001b[0mint\u001b[0m\u001b[0;34m,\u001b[0m \u001b[0mnp\u001b[0m\u001b[0;34m.\u001b[0m\u001b[0minteger\u001b[0m\u001b[0;34m)\u001b[0m\u001b[0;34m)\u001b[0m\u001b[0;34m:\u001b[0m\u001b[0;34m\u001b[0m\u001b[0;34m\u001b[0m\u001b[0m\n\u001b[0;32m-> 1604\u001b[0;31m             \u001b[0;32mreturn\u001b[0m \u001b[0mself\u001b[0m\u001b[0;34m.\u001b[0m\u001b[0mRow\u001b[0m\u001b[0;34m(\u001b[0m\u001b[0mself\u001b[0m\u001b[0;34m,\u001b[0m \u001b[0mitem\u001b[0m\u001b[0;34m)\u001b[0m\u001b[0;34m\u001b[0m\u001b[0;34m\u001b[0m\u001b[0m\n\u001b[0m\u001b[1;32m   1605\u001b[0m         \u001b[0;32melif\u001b[0m \u001b[0;34m(\u001b[0m\u001b[0misinstance\u001b[0m\u001b[0;34m(\u001b[0m\u001b[0mitem\u001b[0m\u001b[0;34m,\u001b[0m \u001b[0mnp\u001b[0m\u001b[0;34m.\u001b[0m\u001b[0mndarray\u001b[0m\u001b[0;34m)\u001b[0m \u001b[0;32mand\u001b[0m \u001b[0mitem\u001b[0m\u001b[0;34m.\u001b[0m\u001b[0mshape\u001b[0m \u001b[0;34m==\u001b[0m \u001b[0;34m(\u001b[0m\u001b[0;34m)\u001b[0m \u001b[0;32mand\u001b[0m \u001b[0mitem\u001b[0m\u001b[0;34m.\u001b[0m\u001b[0mdtype\u001b[0m\u001b[0;34m.\u001b[0m\u001b[0mkind\u001b[0m \u001b[0;34m==\u001b[0m \u001b[0;34m'i'\u001b[0m\u001b[0;34m)\u001b[0m\u001b[0;34m:\u001b[0m\u001b[0;34m\u001b[0m\u001b[0;34m\u001b[0m\u001b[0m\n\u001b[1;32m   1606\u001b[0m             \u001b[0;32mreturn\u001b[0m \u001b[0mself\u001b[0m\u001b[0;34m.\u001b[0m\u001b[0mRow\u001b[0m\u001b[0;34m(\u001b[0m\u001b[0mself\u001b[0m\u001b[0;34m,\u001b[0m \u001b[0mitem\u001b[0m\u001b[0;34m.\u001b[0m\u001b[0mitem\u001b[0m\u001b[0;34m(\u001b[0m\u001b[0;34m)\u001b[0m\u001b[0;34m)\u001b[0m\u001b[0;34m\u001b[0m\u001b[0;34m\u001b[0m\u001b[0m\n",
      "\u001b[0;32m/anaconda3/envs/astroconda/lib/python3.6/site-packages/astropy/table/row.py\u001b[0m in \u001b[0;36m__init__\u001b[0;34m(self, table, index)\u001b[0m\n\u001b[1;32m     38\u001b[0m         \u001b[0;32mif\u001b[0m \u001b[0mindex\u001b[0m \u001b[0;34m<\u001b[0m \u001b[0;34m-\u001b[0m\u001b[0mn\u001b[0m \u001b[0;32mor\u001b[0m \u001b[0mindex\u001b[0m \u001b[0;34m>=\u001b[0m \u001b[0mn\u001b[0m\u001b[0;34m:\u001b[0m\u001b[0;34m\u001b[0m\u001b[0;34m\u001b[0m\u001b[0m\n\u001b[1;32m     39\u001b[0m             raise IndexError('index {} out of range for table with length {}'\n\u001b[0;32m---> 40\u001b[0;31m                              .format(index, len(table)))\n\u001b[0m\u001b[1;32m     41\u001b[0m \u001b[0;34m\u001b[0m\u001b[0m\n\u001b[1;32m     42\u001b[0m         \u001b[0;31m# Finally, ensure the index is positive [#8422] and set Row attributes\u001b[0m\u001b[0;34m\u001b[0m\u001b[0;34m\u001b[0m\u001b[0;34m\u001b[0m\u001b[0m\n",
      "\u001b[0;31mIndexError\u001b[0m: index 0 out of range for table with length 0"
     ]
    }
   ],
   "source": [
    "#other = 1\n",
    "#lcindx2 = np.where(classifications['source_id'] == other)[0][0]\n",
    "\n",
    "\n",
    "classifications = ascii.read('/Users/bhealy/Documents/PhD_Thesis/NGC_2516/NGC_2516_lc_classifications_cdips.dat')\n",
    "cindx = np.where(classifications['classification'] == 'V')[0]\n",
    "vindx = vetperiods['classification'] == 'V'\n",
    "\n",
    "\n",
    "x=0\n",
    "#print(data[vindx][x]['source_id'])#,data[vindx][x]['phot_g_mean_mag'])\n",
    "print(vetperiods[vindx][x]['source_id'])\n",
    "\n",
    "#currentindx = [nums][0][x]\n",
    "#lcindx = np.where(classifications['source_id'] == classifications[vindx]['source_id'][x])[0]\n",
    "lcindx = np.where(vetperiods['source_id'] == vetperiods[vindx]['source_id'][x])[0]\n",
    "\n",
    "\n",
    "lcindx = lcindx[0]\n",
    "classindx = cindx[0]\n",
    "\n",
    "lcfile = glob.glob('/Users/bhealy/Documents/PhD_Thesis/NGC_2516/cdips_lcgen/Figs/Light_Curves/*'+np.str(vetperiods[vindx][x]['source_id'])+'*')\n",
    "#lctbl = ascii.read('/Users/bhealy/Documents/PhD_Thesis/NGC_2516/cdips_lcgen/Figs/Light_Curves/'+np.str(lcindx)+'_'+np.str(classifications['source_id'][lcindx])+'_lc.txt')\n",
    "lctbl = ascii.read(lcfile[0])\n",
    "\n",
    "lc = lk.LightCurve(time=lctbl['time'],flux=lctbl['flux'],flux_err=lctbl['flux_err'])\n",
    "lc.scatter(s=.5)\n",
    "\n",
    "timemasks = {\n",
    "    's1' : np.where((lc.time >= 1325.293) & (lc.time <= 1353.178))[0],\n",
    "    's2' : np.where((lc.time >= 1354.101) & (lc.time <= 1381.515))[0],\n",
    "    's3' : np.where((lc.time >= 1385.897) & (lc.time <= 1406.292))[0],\n",
    "    's4' : np.where((lc.time >= 1410.900) & (lc.time <= 1436.849))[0],\n",
    "    's5' : np.where((lc.time >= 1437.826) & (lc.time <= 1464.400))[0],\n",
    "    's6' : np.where((lc.time >= 1468.270) & (lc.time <= 1490.044))[0],\n",
    "    's7' : np.where((lc.time >= 1491.626) & (lc.time <= 1516.085))[0],\n",
    "    's8' : np.where((lc.time >= 1517.342) & (lc.time <= 1542.000))[0],\n",
    "    's9' : np.where((lc.time >= 1543.216) & (lc.time <= 1568.475))[0],\n",
    "    's10' : np.where((lc.time >= 1569.432) & (lc.time <= 1595.680))[0],\n",
    "    's11' : np.where((lc.time >= 1596.772) & (lc.time <= 1623.891))[0],\n",
    "    's12' : np.where((lc.time >= 1624.950) & (lc.time <= 1652.891))[0],\n",
    "    's13' : np.where((lc.time >= 1653.915) & (lc.time <= 1682.357))[0]}\n",
    "\n",
    "\n",
    "\n",
    "\n"
   ]
  },
  {
   "cell_type": "code",
   "execution_count": 539,
   "metadata": {},
   "outputs": [
    {
     "data": {
      "text/html": [
       "<i>Row index=775</i>\n",
       "<table id=\"table121010287560\">\n",
       "<thead><tr><th>source_id</th><th>period</th><th>period_unc</th><th>e_period_hwhm</th><th>e_period_mad</th><th>e_period_std</th><th>CDIPS</th><th>classification</th></tr></thead>\n",
       "<thead><tr><th>int64</th><th>float64</th><th>float64</th><th>float64</th><th>float64</th><th>float64</th><th>int64</th><th>str1</th></tr></thead>\n",
       "<tr><td>5291032613526130048</td><td>1.1041870606131852</td><td>0.1562528859358281</td><td>0.1562528859358281</td><td>-1.0</td><td>-1.0</td><td>1</td><td>V</td></tr>\n",
       "</table>"
      ],
      "text/plain": [
       "<Row index=775>\n",
       "     source_id            period           period_unc       e_period_hwhm    e_period_mad e_period_std CDIPS classification\n",
       "       int64             float64            float64            float64         float64      float64    int64      str1     \n",
       "------------------- ------------------ ------------------ ------------------ ------------ ------------ ----- --------------\n",
       "5291032613526130048 1.1041870606131852 0.1562528859358281 0.1562528859358281         -1.0         -1.0     1              V"
      ]
     },
     "execution_count": 539,
     "metadata": {},
     "output_type": "execute_result"
    }
   ],
   "source": [
    "vetperiods[lcindx]"
   ]
  },
  {
   "cell_type": "code",
   "execution_count": 540,
   "metadata": {},
   "outputs": [
    {
     "data": {
      "text/plain": [
       "1"
      ]
     },
     "execution_count": 540,
     "metadata": {},
     "output_type": "execute_result"
    }
   ],
   "source": [
    "np.sum(vindx)"
   ]
  },
  {
   "cell_type": "code",
   "execution_count": null,
   "metadata": {},
   "outputs": [],
   "source": []
  },
  {
   "cell_type": "code",
   "execution_count": 602,
   "metadata": {},
   "outputs": [
    {
     "name": "stdout",
     "output_type": "stream",
     "text": [
      "5290728834785867264 phot_g_mean_mag\n",
      "---------------\n",
      "      12.838233\n"
     ]
    },
    {
     "data": {
      "text/plain": [
       "<matplotlib.axes._subplots.AxesSubplot at 0x1c2c11a1d0>"
      ]
     },
     "execution_count": 602,
     "metadata": {},
     "output_type": "execute_result"
    },
    {
     "data": {
      "image/png": "[encoded data removed]",
      "text/plain": [
       "<matplotlib.figure.Figure at 0x1c2cbee860>"
      ]
     },
     "metadata": {},
     "output_type": "display_data"
    }
   ],
   "source": [
    "#5290728834785867264\n",
    "other = 5290728834785867264\n",
    "#5290653075858442752\n",
    "y=7\n",
    "#other = vetperiods[goodindx][zeroindx][y]['source_id']\n",
    "\n",
    "print(other, mems[mems['source_id']==other]['phot_g_mean_mag'])#,vetperiods[goodindx][zeroindx][y]['period'],vetperiods[goodindx][zeroindx][y]['period_unc'])\n",
    "\n",
    "#print(other, mems[mems['source_id']==other]['phot_g_mean_mag'],vetperiods[goodindx][zeroindx][y]['period'],vetperiods[goodindx][zeroindx][y]['period_unc'])\n",
    "\n",
    "lcindx2 = np.where(classifications['source_id'] == other)[0][0]\n",
    "lcindxfinal = np.where(vetperiods['source_id'] == other)[0][0]\n",
    "\n",
    "#lctbl2 = ascii.read('/Users/bhealy/Documents/PhD_Thesis/NGC_2516/Figs/Light_Curves/'+np.str(lcindx2)+'_'+np.str(classifications['source_id'][lcindx2])+'_lc.txt')\n",
    "lctbl2 = ascii.read('/Users/bhealy/Documents/PhD_Thesis/NGC_2516/cdips_lcgen/Figs/Light_Curves/'+np.str(lcindx2)+'_'+np.str(classifications['source_id'][lcindx2])+'_lc.txt')\n",
    "\n",
    "lc2 = lk.LightCurve(time=lctbl2['time'],flux=lctbl2['flux'],flux_err=lctbl2['flux_err'])\n",
    "lc = lc2\n",
    "timemasks = {\n",
    "    's1' : np.where((lc.time >= 1325.293) & (lc.time <= 1353.178))[0],\n",
    "    's2' : np.where((lc.time >= 1354.101) & (lc.time <= 1381.515))[0],\n",
    "    's3' : np.where((lc.time >= 1385.897) & (lc.time <= 1406.292))[0],\n",
    "    's4' : np.where((lc.time >= 1410.900) & (lc.time <= 1436.849))[0],\n",
    "    's5' : np.where((lc.time >= 1437.826) & (lc.time <= 1464.400))[0],\n",
    "    's6' : np.where((lc.time >= 1468.270) & (lc.time <= 1490.044))[0],\n",
    "    's7' : np.where((lc.time >= 1491.626) & (lc.time <= 1516.085))[0],\n",
    "    's8' : np.where((lc.time >= 1517.342) & (lc.time <= 1542.000))[0],\n",
    "    's9' : np.where((lc.time >= 1543.216) & (lc.time <= 1568.475))[0],\n",
    "    's10' : np.where((lc.time >= 1569.432) & (lc.time <= 1595.680))[0],\n",
    "    's11' : np.where((lc.time >= 1596.772) & (lc.time <= 1623.891))[0],\n",
    "    's12' : np.where((lc.time >= 1624.950) & (lc.time <= 1652.891))[0],\n",
    "    's13' : np.where((lc.time >= 1653.915) & (lc.time <= 1682.357))[0]}\n",
    "\n",
    "\n",
    "lc2.scatter(s=.5)"
   ]
  },
  {
   "cell_type": "code",
   "execution_count": null,
   "metadata": {},
   "outputs": [],
   "source": []
  },
  {
   "cell_type": "code",
   "execution_count": null,
   "metadata": {},
   "outputs": [],
   "source": []
  },
  {
   "cell_type": "code",
   "execution_count": 604,
   "metadata": {
    "scrolled": false
   },
   "outputs": [
    {
     "data": {
      "image/png": "[encoded data removed]",
      "text/plain": [
       "<matplotlib.figure.Figure at 0x1c2c81a208>"
      ]
     },
     "metadata": {
      "needs_background": "light"
     },
     "output_type": "display_data"
    },
    {
     "data": {
      "image/png": "[encoded data removed]",
      "text/plain": [
       "<matplotlib.figure.Figure at 0x1c2c4e10b8>"
      ]
     },
     "metadata": {},
     "output_type": "display_data"
    },
    {
     "data": {
      "image/png": "[encoded data removed]",
      "text/plain": [
       "<matplotlib.figure.Figure at 0x1a2072e5f8>"
      ]
     },
     "metadata": {},
     "output_type": "display_data"
    },
    {
     "data": {
      "image/png": "[encoded data removed]",
      "text/plain": [
       "<matplotlib.figure.Figure at 0x1c2c863cc0>"
      ]
     },
     "metadata": {},
     "output_type": "display_data"
    },
    {
     "name": "stdout",
     "output_type": "stream",
     "text": [
      "2.961362696784947 0.04370115335317291\n"
     ]
    },
    {
     "data": {
      "image/png": "[encoded data removed]",
      "text/plain": [
       "<matplotlib.figure.Figure at 0x1c2e921ef0>"
      ]
     },
     "metadata": {
      "needs_background": "light"
     },
     "output_type": "display_data"
    }
   ],
   "source": [
    "s = 's7'\n",
    "smth=350\n",
    "#'s4, s7, s8, s9, s10, s11'\n",
    "M = timemasks[s]\n",
    "\n",
    "lcM = lc[M] #.remove_nans().remove_outliers()\n",
    "#lcM = lcM[0:201]\n",
    "#lcM = lcM[-200:]\n",
    "#lcM = lc2[M]\n",
    "\n",
    "#middletime = (lcM.time[0] + lcM.time[-1])/2\n",
    "#goodindx = (lcM.time < (middletime - 1.)) | (lcM.time > (middletime + 2.))\n",
    "#lcM = lk.LightCurve(time = lcM.time[goodindx], flux = lcM.flux[goodindx], flux_err = lcM.flux_err[goodindx])\n",
    "\n",
    "#finalperiod, period_unc, tau, emp_acorr_smooth, peakinds, valinds, maxheight, periodmults = get_acf_period(lcM,smth)\n",
    "#finalperiod, period_unc, tau, emp_acorr_smooth, peakinds, valinds, maxheight, periodmults = get_acf_period(lcM.flatten().remove_outliers(),smth)\n",
    "finalperiod, period_unc, e_period_hwhm, e_period_mad, e_period_std, tau, emp_acorr_smooth, peakinds, valinds, maxheight, periodmults = get_acf_period(lcM,smth)\n",
    "#finalperiod, period_unc, e_period_hwhm, e_period_mad, e_period_std, tau, emp_acorr_smooth, peakinds, valinds, maxheight, periodmults = get_acf_period(lcM.flatten().remove_outliers(),smth)\n",
    "\n",
    "#lc = lk.LightCurve(time=lctbl['time'],flux=lctbl['flux'],flux_err=lctbl['flux_err'])\n",
    "plt.figure(figsize=(10,5))\n",
    "ax3=plt.subplot()\n",
    "\n",
    "#lc.scatter(ax=ax3,s=.3,c='black')\n",
    "#lc2.scatter(ax=ax3,s=.3,c='black')\n",
    "\n",
    "ax3.axvline(lcM.time[0],color='k',ls='dashed',alpha=.5)\n",
    "ax3.axvline(lcM.time[-1],color='k',ls='dashed',alpha=.5)\n",
    "plt.show()\n",
    "\n",
    "lcM.scatter()\n",
    "#plt.xlim(1546.5,1547)\n",
    "#lcM.bin().scatter()\n",
    "lcM.flatten().remove_outliers().scatter()\n",
    "lcM.to_periodogram().plot(view='period')\n",
    "plt.xlim(0,1)\n",
    "plt.show()\n",
    "\n",
    "plt.rcParams['font.size']=18\n",
    "plt.figure(figsize=(12,6))\n",
    "ax2=plt.subplot()\n",
    "ax2.plot(tau, emp_acorr_smooth,color='blue',zorder=0)\n",
    "ax2.scatter(tau[peakinds],emp_acorr_smooth[peakinds],color='blue',s=50)\n",
    "ax2.scatter(tau[valinds],emp_acorr_smooth[valinds],color='orange',s=50)\n",
    "ax2.axvline(finalperiod, color=\"green\", alpha=0.9)\n",
    "#for xx in range(1,6):\n",
    "for xx in range(1,2):\n",
    "    ax2.axvline(periodmults[1]*xx,color='k',alpha=.75)#,ls='dashed')\n",
    "for yy in range(len(periodmults)):\n",
    "    ax2.axvline(periodmults[yy],color='k',alpha=.5,ls='dashed')\n",
    "ax2.axvline(periodmults[1]*.8, color=\"k\", alpha=0.5,ls=\"dashed\")\n",
    "ax2.axvline(periodmults[1]*1.2, color=\"k\", alpha=0.5,ls=\"dashed\")\n",
    "ax2.set_xlim(0,25)\n",
    "ax2.set_xlabel('Period [d]')\n",
    "ax2.set_ylabel('Autocorrelation')\n",
    "\n",
    "print(finalperiod, period_unc)"
   ]
  },
  {
   "cell_type": "code",
   "execution_count": null,
   "metadata": {},
   "outputs": [],
   "source": []
  },
  {
   "cell_type": "code",
   "execution_count": 606,
   "metadata": {},
   "outputs": [
    {
     "data": {
      "image/png": "[encoded data removed]",
      "text/plain": [
       "<matplotlib.figure.Figure at 0x1c2cf1c5f8>"
      ]
     },
     "metadata": {
      "needs_background": "light"
     },
     "output_type": "display_data"
    }
   ],
   "source": [
    "#plt.figure(figsize=(12,12))\n",
    "#fig,ax = plt.subplots(2,1,figsize=(10,16))\n",
    "fig,ax = plt.subplots(2,1,figsize=(10,10))\n",
    "\n",
    "plt.subplots_adjust(hspace=0.25)\n",
    "ax1 = ax[0]\n",
    "ax2 = ax[1]\n",
    "#ax3 = ax[2]\n",
    "\n",
    "lcM2 = lcM.copy()\n",
    "lcM2.flux = (lcM2.flux - 1)\n",
    "lcM2.scatter(ax=ax1,color='black',normalize=False)\n",
    "ax1.set_xlabel('Time [d]')\n",
    "ax1.set_ylabel('$\\Delta$Flux')\n",
    "#ax1.set_ylim(.975,1.025)\n",
    "#ax1.text(1491,.02,'Gaia DR2 ' + np.str(5290728834785867264))\n",
    "#ax1.text(1510,.02,'$T$ mag. = ' + np.str(12.37))\n",
    "\n",
    "\n",
    "#ax2=plt.subplot()\n",
    "ax2.plot(tau, emp_acorr_smooth,color='blue',zorder=0)\n",
    "ax2.scatter(tau[peakinds],emp_acorr_smooth[peakinds],color='blue',s=50)\n",
    "ax2.scatter(tau[valinds],emp_acorr_smooth[valinds],color='orange',s=50)\n",
    "#ax2.axvline(finalperiod, color=\"green\", alpha=0.9)\n",
    "ax2.axvline(finalperiod, color=\"black\", alpha=1)\n",
    "\n",
    "#for xx in range(1,6):\n",
    "#for xx in range(1,2):\n",
    "#    ax2.axvline(periodmults[1]*xx,color='k',alpha=.75)#,ls='dashed')\n",
    "for yy in range(2,len(periodmults)):\n",
    "    ax2.axvline(periodmults[yy],color='k',alpha=.5,ls='dashed')\n",
    "#ax2.axvline(periodmults[1]*.8, color=\"k\", alpha=0.75,ls=\"dotted\")\n",
    "#ax2.axvline(periodmults[1]*1.2, color=\"k\", alpha=0.75,ls=\"dotted\")\n",
    "ax2.set_xlim(0,20)\n",
    "ax2.set_xlabel('Period [d]')\n",
    "ax2.set_ylabel('Autocorrelation')\n",
    "\n",
    "#lcM.to_periodogram().plot(view='period',ax=ax3,color='black',linewidth=1)\n",
    "#ax3.axvline(vetperiods[lcindxfinal]['period'], color=\"k\", alpha=0.5,ls=\"dashed\")\n",
    "#ax3.set_xlim(0,20)\n",
    "#ax2.text(11,.8,'Period = '+np.str(np.round(vetperiods[lcindxfinal]['period'],3))+' $\\pm$ '+np.str(np.round(vetperiods[lcindxfinal]['period_unc'],3))+' d',backgroundcolor='white')\n",
    "#11, .0058\n",
    "fig.savefig('/Users/bhealy/Documents/PhD_Thesis/NGC_2516/paperfigs/lc_acf_notext.pdf',bbox_inches='tight')\n"
   ]
  },
  {
   "cell_type": "code",
   "execution_count": 95,
   "metadata": {},
   "outputs": [],
   "source": [
    "lcM.to_table().write('/Users/bhealy/Documents/PhD_Thesis/NGC_2516/paperdata/fig2/fig2_lightcurve.txt',format='ascii')\n",
    "\n",
    "\n"
   ]
  },
  {
   "cell_type": "code",
   "execution_count": 98,
   "metadata": {},
   "outputs": [],
   "source": [
    "acftbl=Table(data=[tau,emp_acorr_smooth],names=['period','acf'])"
   ]
  },
  {
   "cell_type": "code",
   "execution_count": 99,
   "metadata": {},
   "outputs": [],
   "source": [
    "acftbl.write('/Users/bhealy/Documents/PhD_Thesis/NGC_2516/paperdata/fig2/fig2_acf.txt',format='ascii')"
   ]
  },
  {
   "cell_type": "code",
   "execution_count": null,
   "metadata": {},
   "outputs": [],
   "source": []
  },
  {
   "cell_type": "code",
   "execution_count": 60,
   "metadata": {},
   "outputs": [
    {
     "data": {
      "text/html": [
       "<i>Row index=485</i>\n",
       "<table id=\"table4485925240\">\n",
       "<thead><tr><th>source_id</th><th>period</th><th>period_unc</th><th>classification</th></tr></thead>\n",
       "<thead><tr><th>int64</th><th>float64</th><th>float64</th><th>str1</th></tr></thead>\n",
       "<tr><td>5290728834785867264</td><td>2.9321962631054177</td><td>0.00833348511641816</td><td>C</td></tr>\n",
       "</table>"
      ],
      "text/plain": [
       "<Row index=485>\n",
       "     source_id            period            period_unc     classification\n",
       "       int64             float64             float64            str1     \n",
       "------------------- ------------------ ------------------- --------------\n",
       "5290728834785867264 2.9321962631054177 0.00833348511641816              C"
      ]
     },
     "execution_count": 60,
     "metadata": {},
     "output_type": "execute_result"
    }
   ],
   "source": [
    "vetperiods[lcindxfinal]"
   ]
  },
  {
   "cell_type": "code",
   "execution_count": null,
   "metadata": {},
   "outputs": [],
   "source": []
  },
  {
   "cell_type": "code",
   "execution_count": 110,
   "metadata": {},
   "outputs": [
    {
     "data": {
      "text/html": [
       "<i>Row index=987</i>\n",
       "<table id=\"table4492597568\">\n",
       "<thead><tr><th>source_id</th><th>period</th><th>period_unc</th><th>classification</th></tr></thead>\n",
       "<thead><tr><th>int64</th><th>float64</th><th>float64</th><th>str1</th></tr></thead>\n",
       "<tr><td>5290937505770739456</td><td>0.6437514552577454</td><td>0.013223130017027527</td><td>C</td></tr>\n",
       "</table>"
      ],
      "text/plain": [
       "<Row index=987>\n",
       "     source_id            period            period_unc      classification\n",
       "       int64             float64             float64             str1     \n",
       "------------------- ------------------ -------------------- --------------\n",
       "5290937505770739456 0.6437514552577454 0.013223130017027527              C"
      ]
     },
     "execution_count": 110,
     "metadata": {},
     "output_type": "execute_result"
    }
   ],
   "source": [
    "#CORRECTING UNCERTAINTIES OF ZERO\n",
    "vetperiods[lcindxfinal]['period','period_unc'] = finalperiod, period_unc\n",
    "\n",
    "#classifications[lcindx2]['classification'] = 'C'\n",
    "\n",
    "\n",
    "vetperiods[lcindxfinal]"
   ]
  },
  {
   "cell_type": "code",
   "execution_count": null,
   "metadata": {},
   "outputs": [],
   "source": []
  },
  {
   "cell_type": "code",
   "execution_count": 536,
   "metadata": {},
   "outputs": [
    {
     "data": {
      "text/html": [
       "<i>Row index=735</i>\n",
       "<table id=\"table121010287560\">\n",
       "<thead><tr><th>source_id</th><th>period</th><th>period_unc</th><th>e_period_hwhm</th><th>e_period_mad</th><th>e_period_std</th><th>CDIPS</th><th>classification</th></tr></thead>\n",
       "<thead><tr><th>int64</th><th>float64</th><th>float64</th><th>float64</th><th>float64</th><th>float64</th><th>int64</th><th>str1</th></tr></thead>\n",
       "<tr><td>5290940941744376064</td><td>0.45060325843681176</td><td>0.010206388926340206</td><td>0.06250111246481538</td><td>0.0</td><td>0.010206388926340206</td><td>1</td><td>C</td></tr>\n",
       "</table>"
      ],
      "text/plain": [
       "<Row index=735>\n",
       "     source_id             period            period_unc         e_period_hwhm    e_period_mad     e_period_std     CDIPS classification\n",
       "       int64              float64             float64              float64         float64          float64        int64      str1     \n",
       "------------------- ------------------- -------------------- ------------------- ------------ -------------------- ----- --------------\n",
       "5290940941744376064 0.45060325843681176 0.010206388926340206 0.06250111246481538          0.0 0.010206388926340206     1              C"
      ]
     },
     "execution_count": 536,
     "metadata": {},
     "output_type": "execute_result"
    }
   ],
   "source": [
    "vetperiods[lcindx]['period','period_unc'] = finalperiod, period_unc\n",
    "vetperiods[lcindx]['classification'] = 'C'\n",
    "classifications[classindx]['classification'] = 'C'\n",
    "\n",
    "\n",
    "vetperiods[lcindx]\n",
    "\n"
   ]
  },
  {
   "cell_type": "code",
   "execution_count": null,
   "metadata": {},
   "outputs": [],
   "source": []
  },
  {
   "cell_type": "code",
   "execution_count": 2363,
   "metadata": {
    "scrolled": false
   },
   "outputs": [
    {
     "data": {
      "text/html": [
       "<i>Row index=927</i>\n",
       "<table id=\"table120989935712\">\n",
       "<thead><tr><th>source_id</th><th>period</th><th>period_unc</th></tr></thead>\n",
       "<thead><tr><th>int64</th><th>float64</th><th>float64</th></tr></thead>\n",
       "<tr><td>5290954994877585920</td><td>1.3101167550124109</td><td>0.0065880669300582145</td></tr>\n",
       "</table>"
      ],
      "text/plain": [
       "<Row index=927>\n",
       "     source_id            period             period_unc     \n",
       "       int64             float64              float64       \n",
       "------------------- ------------------ ---------------------\n",
       "5290954994877585920 1.3101167550124109 0.0065880669300582145"
      ]
     },
     "execution_count": 2363,
     "metadata": {},
     "output_type": "execute_result"
    }
   ],
   "source": [
    "data[lcindx2]['period','period_unc'] = finalperiod, period_unc\n",
    "\n",
    "classifications[lcindx2]['classification'] = 'C'\n",
    "\n",
    "\n",
    "data[lcindx2]"
   ]
  },
  {
   "cell_type": "code",
   "execution_count": null,
   "metadata": {},
   "outputs": [],
   "source": []
  },
  {
   "cell_type": "code",
   "execution_count": 2378,
   "metadata": {},
   "outputs": [
    {
     "data": {
      "text/html": [
       "<i>Row index=1067</i>\n",
       "<table id=\"table120989935712\">\n",
       "<thead><tr><th>source_id</th><th>period</th><th>period_unc</th></tr></thead>\n",
       "<thead><tr><th>int64</th><th>float64</th><th>float64</th></tr></thead>\n",
       "<tr><td>5291031101697576064</td><td>4.2916615198437285</td><td>0.9731800624000382</td></tr>\n",
       "</table>"
      ],
      "text/plain": [
       "<Row index=1067>\n",
       "     source_id            period           period_unc    \n",
       "       int64             float64            float64      \n",
       "------------------- ------------------ ------------------\n",
       "5291031101697576064 4.2916615198437285 0.9731800624000382"
      ]
     },
     "execution_count": 2378,
     "metadata": {},
     "output_type": "execute_result"
    }
   ],
   "source": [
    "# ORANGE STAR CLASSIFIC.\n",
    "classifications[lcindx2]['classification'] = 'X'\n",
    "data[lcindx2]"
   ]
  },
  {
   "cell_type": "code",
   "execution_count": null,
   "metadata": {},
   "outputs": [],
   "source": []
  },
  {
   "cell_type": "code",
   "execution_count": 542,
   "metadata": {},
   "outputs": [
    {
     "data": {
      "text/html": [
       "<i>Row index=775</i>\n",
       "<table id=\"table121010287560\">\n",
       "<thead><tr><th>source_id</th><th>period</th><th>period_unc</th><th>e_period_hwhm</th><th>e_period_mad</th><th>e_period_std</th><th>CDIPS</th><th>classification</th></tr></thead>\n",
       "<thead><tr><th>int64</th><th>float64</th><th>float64</th><th>float64</th><th>float64</th><th>float64</th><th>int64</th><th>str1</th></tr></thead>\n",
       "<tr><td>5291032613526130048</td><td>1.1041870606131852</td><td>0.1562528859358281</td><td>0.1562528859358281</td><td>-1.0</td><td>-1.0</td><td>1</td><td>X</td></tr>\n",
       "</table>"
      ],
      "text/plain": [
       "<Row index=775>\n",
       "     source_id            period           period_unc       e_period_hwhm    e_period_mad e_period_std CDIPS classification\n",
       "       int64             float64            float64            float64         float64      float64    int64      str1     \n",
       "------------------- ------------------ ------------------ ------------------ ------------ ------------ ----- --------------\n",
       "5291032613526130048 1.1041870606131852 0.1562528859358281 0.1562528859358281         -1.0         -1.0     1              X"
      ]
     },
     "execution_count": 542,
     "metadata": {},
     "output_type": "execute_result"
    }
   ],
   "source": [
    "classifications[classindx]['classification'] = 'X'\n",
    "vetperiods[lcindx]['classification'] = 'X'\n",
    "vetperiods[lcindx]"
   ]
  },
  {
   "cell_type": "code",
   "execution_count": 568,
   "metadata": {},
   "outputs": [],
   "source": [
    "vetperiods.write('/Users/bhealy/Documents/PhD_Thesis/NGC_2516/NGC_2516_ptbl_cdips_vetted.dat',format='ascii',overwrite=True)\n",
    "classifications.write('/Users/bhealy/Documents/PhD_Thesis/NGC_2516/NGC_2516_lc_classifications_cdips_vetted.dat',format='ascii',overwrite=True)\n"
   ]
  },
  {
   "cell_type": "code",
   "execution_count": 567,
   "metadata": {},
   "outputs": [],
   "source": [
    "classifications[4]['classification']='X'"
   ]
  },
  {
   "cell_type": "code",
   "execution_count": 566,
   "metadata": {},
   "outputs": [],
   "source": [
    "vetperiods[0]['classification']='X'"
   ]
  },
  {
   "cell_type": "code",
   "execution_count": null,
   "metadata": {},
   "outputs": [],
   "source": []
  },
  {
   "cell_type": "code",
   "execution_count": null,
   "metadata": {},
   "outputs": [],
   "source": []
  },
  {
   "cell_type": "code",
   "execution_count": 417,
   "metadata": {},
   "outputs": [],
   "source": [
    "files = glob.glob('/Users/bhealy/Documents/PhD_Thesis/NGC_2516/NewF_ACF_DVRs/*.pdf')\n",
    "index = np.zeros(len(files),dtype=int)\n",
    "for i in range(len(files)):\n",
    "    index[i] = np.int(files[i].split('/')[-1].split('_')[0])"
   ]
  },
  {
   "cell_type": "code",
   "execution_count": 418,
   "metadata": {},
   "outputs": [],
   "source": [
    "Tbl = Table(data=[files,index],names=['files','index'])\n",
    "Tbl.sort(keys='index')"
   ]
  },
  {
   "cell_type": "code",
   "execution_count": 419,
   "metadata": {
    "scrolled": false
   },
   "outputs": [
    {
     "data": {
      "text/html": [
       "<i>Table length=311</i>\n",
       "<table id=\"table121124496944\" class=\"table-striped table-bordered table-condensed\">\n",
       "<thead><tr><th>files</th><th>index</th></tr></thead>\n",
       "<thead><tr><th>str90</th><th>int64</th></tr></thead>\n",
       "<tr><td>/Users/bhealy/Documents/PhD_Thesis/NGC_2516/NewF_ACF_DVRs/1_5289864726018908544_dvr.pdf</td><td>1</td></tr>\n",
       "<tr><td>/Users/bhealy/Documents/PhD_Thesis/NGC_2516/NewF_ACF_DVRs/3_5289894515912156544_dvr.pdf</td><td>3</td></tr>\n",
       "<tr><td>/Users/bhealy/Documents/PhD_Thesis/NGC_2516/NewF_ACF_DVRs/4_5289881768449288576_dvr.pdf</td><td>4</td></tr>\n",
       "<tr><td>/Users/bhealy/Documents/PhD_Thesis/NGC_2516/NewF_ACF_DVRs/35_5289864515563819008_dvr.pdf</td><td>35</td></tr>\n",
       "<tr><td>/Users/bhealy/Documents/PhD_Thesis/NGC_2516/NewF_ACF_DVRs/44_5289990894979321344_dvr.pdf</td><td>44</td></tr>\n",
       "<tr><td>/Users/bhealy/Documents/PhD_Thesis/NGC_2516/NewF_ACF_DVRs/46_5289978010077507328_dvr.pdf</td><td>46</td></tr>\n",
       "<tr><td>/Users/bhealy/Documents/PhD_Thesis/NGC_2516/NewF_ACF_DVRs/47_5289996633055417728_dvr.pdf</td><td>47</td></tr>\n",
       "<tr><td>/Users/bhealy/Documents/PhD_Thesis/NGC_2516/NewF_ACF_DVRs/49_5290000069029332736_dvr.pdf</td><td>49</td></tr>\n",
       "<tr><td>/Users/bhealy/Documents/PhD_Thesis/NGC_2516/NewF_ACF_DVRs/50_5289982545563048832_dvr.pdf</td><td>50</td></tr>\n",
       "<tr><td>/Users/bhealy/Documents/PhD_Thesis/NGC_2516/NewF_ACF_DVRs/55_5289982713061723008_dvr.pdf</td><td>55</td></tr>\n",
       "<tr><td>...</td><td>...</td></tr>\n",
       "<tr><td>/Users/bhealy/Documents/PhD_Thesis/NGC_2516/NewF_ACF_DVRs/1034_5290951112226990336_dvr.pdf</td><td>1034</td></tr>\n",
       "<tr><td>/Users/bhealy/Documents/PhD_Thesis/NGC_2516/NewF_ACF_DVRs/1035_5290935341107132800_dvr.pdf</td><td>1035</td></tr>\n",
       "<tr><td>/Users/bhealy/Documents/PhD_Thesis/NGC_2516/NewF_ACF_DVRs/1036_5290968085934209152_dvr.pdf</td><td>1036</td></tr>\n",
       "<tr><td>/Users/bhealy/Documents/PhD_Thesis/NGC_2516/NewF_ACF_DVRs/1045_5290940941744376064_dvr.pdf</td><td>1045</td></tr>\n",
       "<tr><td>/Users/bhealy/Documents/PhD_Thesis/NGC_2516/NewF_ACF_DVRs/1046_5290954960517841408_dvr.pdf</td><td>1046</td></tr>\n",
       "<tr><td>/Users/bhealy/Documents/PhD_Thesis/NGC_2516/NewF_ACF_DVRs/1049_5291046701018945792_dvr.pdf</td><td>1049</td></tr>\n",
       "<tr><td>/Users/bhealy/Documents/PhD_Thesis/NGC_2516/NewF_ACF_DVRs/1063_5291041547058288896_dvr.pdf</td><td>1063</td></tr>\n",
       "<tr><td>/Users/bhealy/Documents/PhD_Thesis/NGC_2516/NewF_ACF_DVRs/1065_5291031101698322304_dvr.pdf</td><td>1065</td></tr>\n",
       "<tr><td>/Users/bhealy/Documents/PhD_Thesis/NGC_2516/NewF_ACF_DVRs/1069_5291061235188475520_dvr.pdf</td><td>1069</td></tr>\n",
       "<tr><td>/Users/bhealy/Documents/PhD_Thesis/NGC_2516/NewF_ACF_DVRs/1104_5291032613526130048_dvr.pdf</td><td>1104</td></tr>\n",
       "</table>"
      ],
      "text/plain": [
       "<Table length=311>\n",
       "                                          files                                            ...\n",
       "                                          str90                                            ...\n",
       "------------------------------------------------------------------------------------------ ...\n",
       "   /Users/bhealy/Documents/PhD_Thesis/NGC_2516/NewF_ACF_DVRs/1_5289864726018908544_dvr.pdf ...\n",
       "   /Users/bhealy/Documents/PhD_Thesis/NGC_2516/NewF_ACF_DVRs/3_5289894515912156544_dvr.pdf ...\n",
       "   /Users/bhealy/Documents/PhD_Thesis/NGC_2516/NewF_ACF_DVRs/4_5289881768449288576_dvr.pdf ...\n",
       "  /Users/bhealy/Documents/PhD_Thesis/NGC_2516/NewF_ACF_DVRs/35_5289864515563819008_dvr.pdf ...\n",
       "  /Users/bhealy/Documents/PhD_Thesis/NGC_2516/NewF_ACF_DVRs/44_5289990894979321344_dvr.pdf ...\n",
       "  /Users/bhealy/Documents/PhD_Thesis/NGC_2516/NewF_ACF_DVRs/46_5289978010077507328_dvr.pdf ...\n",
       "  /Users/bhealy/Documents/PhD_Thesis/NGC_2516/NewF_ACF_DVRs/47_5289996633055417728_dvr.pdf ...\n",
       "  /Users/bhealy/Documents/PhD_Thesis/NGC_2516/NewF_ACF_DVRs/49_5290000069029332736_dvr.pdf ...\n",
       "  /Users/bhealy/Documents/PhD_Thesis/NGC_2516/NewF_ACF_DVRs/50_5289982545563048832_dvr.pdf ...\n",
       "  /Users/bhealy/Documents/PhD_Thesis/NGC_2516/NewF_ACF_DVRs/55_5289982713061723008_dvr.pdf ...\n",
       "                                                                                       ... ...\n",
       "/Users/bhealy/Documents/PhD_Thesis/NGC_2516/NewF_ACF_DVRs/1034_5290951112226990336_dvr.pdf ...\n",
       "/Users/bhealy/Documents/PhD_Thesis/NGC_2516/NewF_ACF_DVRs/1035_5290935341107132800_dvr.pdf ...\n",
       "/Users/bhealy/Documents/PhD_Thesis/NGC_2516/NewF_ACF_DVRs/1036_5290968085934209152_dvr.pdf ...\n",
       "/Users/bhealy/Documents/PhD_Thesis/NGC_2516/NewF_ACF_DVRs/1045_5290940941744376064_dvr.pdf ...\n",
       "/Users/bhealy/Documents/PhD_Thesis/NGC_2516/NewF_ACF_DVRs/1046_5290954960517841408_dvr.pdf ...\n",
       "/Users/bhealy/Documents/PhD_Thesis/NGC_2516/NewF_ACF_DVRs/1049_5291046701018945792_dvr.pdf ...\n",
       "/Users/bhealy/Documents/PhD_Thesis/NGC_2516/NewF_ACF_DVRs/1063_5291041547058288896_dvr.pdf ...\n",
       "/Users/bhealy/Documents/PhD_Thesis/NGC_2516/NewF_ACF_DVRs/1065_5291031101698322304_dvr.pdf ...\n",
       "/Users/bhealy/Documents/PhD_Thesis/NGC_2516/NewF_ACF_DVRs/1069_5291061235188475520_dvr.pdf ...\n",
       "/Users/bhealy/Documents/PhD_Thesis/NGC_2516/NewF_ACF_DVRs/1104_5291032613526130048_dvr.pdf ..."
      ]
     },
     "execution_count": 419,
     "metadata": {},
     "output_type": "execute_result"
    }
   ],
   "source": [
    "Tbl[nums]"
   ]
  },
  {
   "cell_type": "code",
   "execution_count": 420,
   "metadata": {},
   "outputs": [],
   "source": [
    "merger = PdfFileMerger()\n",
    "for i in range(len(Tbl[nums])):\n",
    "    merger.append(PdfFileReader(Tbl['files'][nums[i]],'rb'))\n",
    "merger.write('/Users/bhealy/Documents/PhD_Thesis/NGC_2516/Validate_DVRs.pdf')\n",
    "\n",
    "    "
   ]
  },
  {
   "cell_type": "code",
   "execution_count": null,
   "metadata": {},
   "outputs": [],
   "source": []
  },
  {
   "cell_type": "code",
   "execution_count": null,
   "metadata": {},
   "outputs": [],
   "source": []
  },
  {
   "cell_type": "code",
   "execution_count": null,
   "metadata": {},
   "outputs": [],
   "source": []
  }
 ],
 "metadata": {
  "kernelspec": {
   "display_name": "Python 3",
   "language": "python",
   "name": "python3"
  },
  "language_info": {
   "codemirror_mode": {
    "name": "ipython",
    "version": 3
   },
   "file_extension": ".py",
   "mimetype": "text/x-python",
   "name": "python",
   "nbconvert_exporter": "python",
   "pygments_lexer": "ipython3",
   "version": "3.6.7"
  }
 },
 "nbformat": 4,
 "nbformat_minor": 2
}
